{
 "cells": [
  {
   "cell_type": "markdown",
   "metadata": {},
   "source": [
    "# Zadání:\n",
    "## Analýza plánovaných hodin na učitele (ve skupině – např. katedra/fakulta) v daném časovém období (gql_ug + gql_events)\n",
    "\n",
    "- Vytvořit GQL dotaz na základě existující federace,\n",
    "- Definovat transformaci GQL response -> table rows (vstup pro kontingenční tabulku)\n",
    "- Vytvořit kontingenční tabulku\n",
    "- Vytvořit koláčový / sloupcový graf\n",
    "- Vytvořit Sunburst / Chord graf\n",
    "\n",
    "Výsledek realizujte jako ipynb notebook (autentizace jménem a heslem, realizace aiohttp, transformace response, vytvoření tabulky, vytvoření grafu)."
   ]
  },
  {
   "cell_type": "markdown",
   "metadata": {},
   "source": [
    "### Instalace potřebných knihoven\n",
    "- **pandas** - Slouží k vytváření kontingenční tabulky\n",
    "- **aiohttp a asyncio** - Umožňuje asynchronní funkce \n",
    "- **plotly** - Knihovna sloužící k vytváření koláčového a Sunburst grafu\n",
    "- **aiofiles** - Umožňuje asynchronní manipulaci se soubory (Využívá se z důvodu práce s \"vlastními\" daty)"
   ]
  },
  {
   "cell_type": "code",
   "execution_count": 59,
   "metadata": {},
   "outputs": [
    {
     "name": "stdout",
     "output_type": "stream",
     "text": [
      "Requirement already satisfied: pandas in c:\\users\\bradl\\appdata\\local\\programs\\python\\python312\\lib\\site-packages (2.2.2)\n",
      "Requirement already satisfied: aiohttp in c:\\users\\bradl\\appdata\\local\\programs\\python\\python312\\lib\\site-packages (3.9.5)\n",
      "Requirement already satisfied: plotly.express in c:\\users\\bradl\\appdata\\local\\programs\\python\\python312\\lib\\site-packages (0.4.1)\n",
      "Requirement already satisfied: asyncio in c:\\users\\bradl\\appdata\\local\\programs\\python\\python312\\lib\\site-packages (3.4.3)\n",
      "Requirement already satisfied: nbformat in c:\\users\\bradl\\appdata\\local\\programs\\python\\python312\\lib\\site-packages (5.10.4)\n",
      "Requirement already satisfied: aiofiles in c:\\users\\bradl\\appdata\\local\\programs\\python\\python312\\lib\\site-packages (23.2.1)\n",
      "Requirement already satisfied: datetime in c:\\users\\bradl\\appdata\\local\\programs\\python\\python312\\lib\\site-packages (5.5)\n",
      "Requirement already satisfied: numpy>=1.26.0 in c:\\users\\bradl\\appdata\\local\\programs\\python\\python312\\lib\\site-packages (from pandas) (1.26.4)\n",
      "Requirement already satisfied: python-dateutil>=2.8.2 in c:\\users\\bradl\\appdata\\local\\programs\\python\\python312\\lib\\site-packages (from pandas) (2.9.0.post0)\n",
      "Requirement already satisfied: pytz>=2020.1 in c:\\users\\bradl\\appdata\\local\\programs\\python\\python312\\lib\\site-packages (from pandas) (2024.1)\n",
      "Requirement already satisfied: tzdata>=2022.7 in c:\\users\\bradl\\appdata\\local\\programs\\python\\python312\\lib\\site-packages (from pandas) (2024.1)\n",
      "Requirement already satisfied: aiosignal>=1.1.2 in c:\\users\\bradl\\appdata\\local\\programs\\python\\python312\\lib\\site-packages (from aiohttp) (1.3.1)\n",
      "Requirement already satisfied: attrs>=17.3.0 in c:\\users\\bradl\\appdata\\local\\programs\\python\\python312\\lib\\site-packages (from aiohttp) (23.2.0)\n",
      "Requirement already satisfied: frozenlist>=1.1.1 in c:\\users\\bradl\\appdata\\local\\programs\\python\\python312\\lib\\site-packages (from aiohttp) (1.4.1)\n",
      "Requirement already satisfied: multidict<7.0,>=4.5 in c:\\users\\bradl\\appdata\\local\\programs\\python\\python312\\lib\\site-packages (from aiohttp) (6.0.5)\n",
      "Requirement already satisfied: yarl<2.0,>=1.0 in c:\\users\\bradl\\appdata\\local\\programs\\python\\python312\\lib\\site-packages (from aiohttp) (1.9.4)\n",
      "Requirement already satisfied: plotly>=4.1.0 in c:\\users\\bradl\\appdata\\local\\programs\\python\\python312\\lib\\site-packages (from plotly.express) (5.22.0)\n",
      "Requirement already satisfied: statsmodels>=0.9.0 in c:\\users\\bradl\\appdata\\local\\programs\\python\\python312\\lib\\site-packages (from plotly.express) (0.14.2)\n",
      "Requirement already satisfied: scipy>=0.18 in c:\\users\\bradl\\appdata\\local\\programs\\python\\python312\\lib\\site-packages (from plotly.express) (1.13.1)\n",
      "Requirement already satisfied: patsy>=0.5 in c:\\users\\bradl\\appdata\\local\\programs\\python\\python312\\lib\\site-packages (from plotly.express) (0.5.6)\n",
      "Requirement already satisfied: fastjsonschema>=2.15 in c:\\users\\bradl\\appdata\\local\\programs\\python\\python312\\lib\\site-packages (from nbformat) (2.19.1)\n",
      "Requirement already satisfied: jsonschema>=2.6 in c:\\users\\bradl\\appdata\\local\\programs\\python\\python312\\lib\\site-packages (from nbformat) (4.22.0)\n",
      "Requirement already satisfied: jupyter-core!=5.0.*,>=4.12 in c:\\users\\bradl\\appdata\\roaming\\python\\python312\\site-packages (from nbformat) (5.7.2)\n",
      "Requirement already satisfied: traitlets>=5.1 in c:\\users\\bradl\\appdata\\roaming\\python\\python312\\site-packages (from nbformat) (5.14.3)\n",
      "Requirement already satisfied: zope.interface in c:\\users\\bradl\\appdata\\local\\programs\\python\\python312\\lib\\site-packages (from datetime) (6.4.post2)\n",
      "Requirement already satisfied: jsonschema-specifications>=2023.03.6 in c:\\users\\bradl\\appdata\\local\\programs\\python\\python312\\lib\\site-packages (from jsonschema>=2.6->nbformat) (2023.12.1)\n",
      "Requirement already satisfied: referencing>=0.28.4 in c:\\users\\bradl\\appdata\\local\\programs\\python\\python312\\lib\\site-packages (from jsonschema>=2.6->nbformat) (0.35.1)\n",
      "Requirement already satisfied: rpds-py>=0.7.1 in c:\\users\\bradl\\appdata\\local\\programs\\python\\python312\\lib\\site-packages (from jsonschema>=2.6->nbformat) (0.18.1)\n",
      "Requirement already satisfied: platformdirs>=2.5 in c:\\users\\bradl\\appdata\\roaming\\python\\python312\\site-packages (from jupyter-core!=5.0.*,>=4.12->nbformat) (4.2.2)\n",
      "Requirement already satisfied: pywin32>=300 in c:\\users\\bradl\\appdata\\roaming\\python\\python312\\site-packages (from jupyter-core!=5.0.*,>=4.12->nbformat) (306)\n",
      "Requirement already satisfied: six in c:\\users\\bradl\\appdata\\local\\programs\\python\\python312\\lib\\site-packages (from patsy>=0.5->plotly.express) (1.16.0)\n",
      "Requirement already satisfied: tenacity>=6.2.0 in c:\\users\\bradl\\appdata\\local\\programs\\python\\python312\\lib\\site-packages (from plotly>=4.1.0->plotly.express) (8.3.0)\n",
      "Requirement already satisfied: packaging in c:\\users\\bradl\\appdata\\roaming\\python\\python312\\site-packages (from plotly>=4.1.0->plotly.express) (24.0)\n",
      "Requirement already satisfied: idna>=2.0 in c:\\users\\bradl\\appdata\\local\\programs\\python\\python312\\lib\\site-packages (from yarl<2.0,>=1.0->aiohttp) (3.7)\n",
      "Requirement already satisfied: setuptools in c:\\users\\bradl\\appdata\\local\\programs\\python\\python312\\lib\\site-packages (from zope.interface->datetime) (69.5.1)\n",
      "Note: you may need to restart the kernel to use updated packages.\n"
     ]
    }
   ],
   "source": [
    "%pip install pandas aiohttp plotly.express asyncio nbformat aiofiles datetime"
   ]
  },
  {
   "cell_type": "markdown",
   "metadata": {},
   "source": [
    "### Import pořebných knihoven"
   ]
  },
  {
   "cell_type": "code",
   "execution_count": 74,
   "metadata": {},
   "outputs": [],
   "source": [
    "import aiohttp\n",
    "import asyncio\n",
    "import json\n",
    "import plotly.express as px\n",
    "import pandas as pd\n",
    "from itertools import product\n",
    "from functools import reduce\n",
    "import aiofiles\n",
    "from typing import List, Union, Dict\n",
    "import datetime\n",
    "from collections import defaultdict"
   ]
  },
  {
   "cell_type": "markdown",
   "metadata": {},
   "source": [
    "### Funkce pro získání tokenu\n"
   ]
  },
  {
   "cell_type": "code",
   "execution_count": 61,
   "metadata": {},
   "outputs": [],
   "source": [
    "async def getToken(username, password):\n",
    "    keyurl = \"http://localhost:33001/oauth/login3\"\n",
    "    async with aiohttp.ClientSession() as session:\n",
    "        async with session.get(keyurl) as resp:\n",
    "            keyJson = await resp.json()\n",
    "\n",
    "        payload = {\"key\": keyJson[\"key\"], \"username\": username, \"password\": password}\n",
    "        async with session.post(keyurl, json=payload) as resp:\n",
    "            tokenJson = await resp.json()\n",
    "    return tokenJson.get(\"token\", None)"
   ]
  },
  {
   "cell_type": "markdown",
   "metadata": {},
   "source": [
    "### Funkce pro definici GraphQL dotazu"
   ]
  },
  {
   "cell_type": "code",
   "execution_count": 62,
   "metadata": {},
   "outputs": [],
   "source": [
    "def query(q, token):\n",
    "    async def post(variables):\n",
    "        gqlurl = \"http://localhost:33001/api/gql\"\n",
    "        payload = {\"query\": q, \"variables\": variables}\n",
    "        cookies = {'authorization': token}\n",
    "        async with aiohttp.ClientSession() as session:\n",
    "            async with session.post(gqlurl, json=payload, cookies=cookies) as resp:\n",
    "                if resp.status != 200:\n",
    "                    text = await resp.text()\n",
    "                    print(text)\n",
    "                    return text\n",
    "                else:\n",
    "                    response = await resp.json()\n",
    "                    return response\n",
    "    return post"
   ]
  },
  {
   "cell_type": "markdown",
   "metadata": {},
   "source": [
    "### Funkce pro zpracování dat"
   ]
  },
  {
   "cell_type": "code",
   "execution_count": 63,
   "metadata": {},
   "outputs": [],
   "source": [
    "def enumerateAttrs(attrs):\n",
    "    for key, value in attrs.items():\n",
    "        names = value.split(\".\")\n",
    "        name = names[0]\n",
    "        yield key, name\n",
    "\n",
    "def flattenList(inList, outItem, attrs):\n",
    "    for item in inList:\n",
    "        assert isinstance(item, dict), f\"in list only dicts are expected\"\n",
    "        for row in flatten(item, outItem, attrs):\n",
    "            yield row\n",
    "\n",
    "def flattenDict(inDict, outItem, attrs):\n",
    "    result = {**outItem}\n",
    "    complexAttrs = []\n",
    "    for key, value in enumerateAttrs(attrs):\n",
    "        attributeValue = inDict.get(value, None)\n",
    "        if isinstance(attributeValue, list):\n",
    "            complexAttrs.append((key, value))\n",
    "        elif isinstance(attributeValue, dict):\n",
    "            complexAttrs.append((key, value))\n",
    "        else:\n",
    "            result[key] = attributeValue\n",
    "    lists = []\n",
    "    for key, value in complexAttrs:\n",
    "        attributeValue = inDict.get(value, None)\n",
    "        prefix = f\"{value}.\"\n",
    "        prefixlen = len(prefix)\n",
    "        subAttrs = {key: value[prefixlen:] for key, value in attrs.items() if value.startswith(prefix)}\n",
    "        items = list(flatten(attributeValue, result, subAttrs))\n",
    "        lists.append(items)\n",
    "                     \n",
    "    if len(lists) == 0:\n",
    "        yield result\n",
    "    else:\n",
    "        for element in product(*lists):\n",
    "            reduced = reduce(lambda a, b: {**a, **b}, element, {})\n",
    "            yield reduced\n",
    "\n",
    "def flatten(inData, outItem, attrs):\n",
    "    if isinstance(inData, dict):\n",
    "        for item in flattenDict(inData, outItem, attrs):\n",
    "            yield item\n",
    "    elif isinstance(inData, list):\n",
    "        for item in flattenList(inData, outItem, attrs):\n",
    "            yield item\n",
    "    else:\n",
    "        assert False, f\"Unexpected type on inData {inData}\""
   ]
  },
  {
   "cell_type": "markdown",
   "metadata": {},
   "source": [
    "### Přihlašovací údaje, GQL dotaz, Mappers\n",
    "\n",
    "**Přihlašovací údaje**\n",
    "Přihlašovací údaje jsou potřebné k získání tokenu, dostupná na frontend/graphiql\n",
    "**Dotaz**\n",
    "V dotazu využíváme groupPage, ze kterého extrahujeme membership a jeho group, user a jeho events\n",
    "\n",
    "1. group\n",
    "    - id - slouží k identifikaci do jaké skupiny uživatel patří (K-209, K-210, 23-5KB, ...)\n",
    "    - name - slouží k následnému zobrazení skupiny v Sunburst diagramu\n",
    "2. user\n",
    "    - id - slouží k identifikaci jednotlivých uživatelů\n",
    "    - fullname - slouží k zobrazení dat v grafech\n",
    "3. events *využit fiter **where** pro získání dat v učitém datovém úseku*\n",
    "    - id - pro identifikaci jednotlivých předmětů\n",
    "    - name - Využívá se při zobraování dat v grafech\n",
    "    - startdate - Nevyužito (Vloženo pro případ potřeby práce s časem)\n",
    "    - enddate - Nevyužito (Vloženo pro případ potřeby práce s časem)\n",
    "4. presences\n",
    "    - id - součtem získáme počet hodin, na kterých byl přítomen (následně vynásobíme 90 - vyučovací blok)\n",
    "5. InvitationType\n",
    "    - id - Určujeme, zda se jedná o organizátora (Vyučujícícho)"
   ]
  },
  {
   "cell_type": "code",
   "execution_count": 70,
   "metadata": {},
   "outputs": [],
   "source": [
    "username = \"john.newbie@world.com\"\n",
    "password = \"john.newbie@world.com\"\n",
    "\n",
    "queryStr = \"\"\"\n",
    "{\n",
    "  groupPage {\n",
    "    memberships {\n",
    "      group {\n",
    "        id\n",
    "        name\n",
    "      }\n",
    "      user {\n",
    "        id\n",
    "        fullname\n",
    "        events(\n",
    "          where: {_and: [{startdate: {_ge: \"2023-03-19T08:00:00\"}}, {enddate: {_le: \"2023-05-19T08:00:00\"}}]}\n",
    "        ) {\n",
    "          id\n",
    "          name\n",
    "          startdate\n",
    "          enddate\n",
    "          presences {\n",
    "            id\n",
    "            invitationType {\n",
    "              id\n",
    "            }\n",
    "          }\n",
    "        }\n",
    "      }\n",
    "    }\n",
    "  }\n",
    "}\n",
    "\"\"\"\n",
    "\n",
    "mappers = {\n",
    "    \"groupID\": \"memberships.group.id\",\n",
    "    \"groupName\": \"memberships.group.name\",\n",
    "    \"userID\": \"memberships.user.id\",\n",
    "    \"userFullname\": \"memberships.user.fullname\",\n",
    "    \"eventID\": \"memberships.user.events.id\",\n",
    "    \"eventName\": \"memberships.user.events.name\",\n",
    "    \"startdate\": \"memberships.user.events.startdate\",\n",
    "    \"eventEndDate\": \"memberships.user.events.enddate\",\n",
    "    \"presenceID\": \"memberships.user.events.presences.id\",\n",
    "    \"invitationTypeID\": \"memberships.user.events.presences.invitationType.id\",\n",
    "}"
   ]
  },
  {
   "cell_type": "code",
   "execution_count": 71,
   "metadata": {},
   "outputs": [
    {
     "name": "stdout",
     "output_type": "stream",
     "text": [
      "{'data': {'groupPage': [{'memberships': [{'group': {'id': '2d9dcd22-a4a2-11ed-b9df-0242ac120003', 'name': 'Uni'}, 'user': {'id': '2d9dc5ca-a4a2-11ed-b9df-0242ac120003', 'fullname': 'John Newbie', 'events': []}}, {'group': {'id': '2d9dcd22-a4a2-11ed-b9df-0242ac120003', 'name': 'Uni'}, 'user': {'id': '2d9dc868-a4a2-11ed-b9df-0242ac120003', 'fullname': 'Julia Newbie', 'events': []}}, {'group': {'id': '2d9dcd22-a4a2-11ed-b9df-0242ac120003', 'name': 'Uni'}, 'user': {'id': '2d9dc9a8-a4a2-11ed-b9df-0242ac120003', 'fullname': 'Johnson Newbie', 'events': []}}, {'group': {'id': '2d9dcd22-a4a2-11ed-b9df-0242ac120003', 'name': 'Uni'}, 'user': {'id': '2d9dcbec-a4a2-11ed-b9df-0242ac120003', 'fullname': 'Jepeto Newbie', 'events': []}}, {'group': {'id': '2d9dcd22-a4a2-11ed-b9df-0242ac120003', 'name': 'Uni'}, 'user': {'id': '89d1e724-ae0f-11ed-9bd8-0242ac110002', 'fullname': 'Jana Newbie', 'events': [{'id': '45b2df80-ae0f-11ed-9bd8-0242ac110002', 'name': 'Zkouška', 'startdate': '2023-04-19T08:00:00', 'enddate': '2023-04-19T09:00:00', 'presences': [{'id': '89d1e684-ae0f-11ed-9bd8-0242ac110002', 'invitationType': {'id': 'e871403c-a79c-11ed-b76e-0242ac110002'}}, {'id': '89d1f2d2-ae0f-11ed-9bd8-0242ac110002', 'invitationType': {'id': 'e871403c-a79c-11ed-b76e-0242ac110002'}}, {'id': '89d1f3ae-ae0f-11ed-9bd8-0242ac110002', 'invitationType': {'id': 'e871403c-a79c-11ed-b76e-0242ac110002'}}, {'id': '89d1f412-ae0f-11ed-9bd8-0242ac110002', 'invitationType': {'id': 'e871403c-a79c-11ed-b76e-0242ac110002'}}, {'id': '89d1f46c-ae0f-11ed-9bd8-0242ac110002', 'invitationType': {'id': 'e871403c-a79c-11ed-b76e-0242ac110002'}}, {'id': '89d1f4c6-ae0f-11ed-9bd8-0242ac110002', 'invitationType': {'id': 'e871403c-a79c-11ed-b76e-0242ac110002'}}, {'id': '89d1f520-ae0f-11ed-9bd8-0242ac110002', 'invitationType': {'id': 'e871403c-a79c-11ed-b76e-0242ac110002'}}, {'id': '89d1f570-ae0f-11ed-9bd8-0242ac110002', 'invitationType': {'id': 'e871403c-a79c-11ed-b76e-0242ac110002'}}, {'id': '89d1f5ca-ae0f-11ed-9bd8-0242ac110002', 'invitationType': {'id': 'e871403c-a79c-11ed-b76e-0242ac110002'}}, {'id': '89d1f624-ae0f-11ed-9bd8-0242ac110002', 'invitationType': {'id': 'e871403c-a79c-11ed-b76e-0242ac110002'}}]}]}}, {'group': {'id': '2d9dcd22-a4a2-11ed-b9df-0242ac120003', 'name': 'Uni'}, 'user': {'id': '89d1f34a-ae0f-11ed-9bd8-0242ac110002', 'fullname': 'Jolana Newbie', 'events': [{'id': '45b2df80-ae0f-11ed-9bd8-0242ac110002', 'name': 'Zkouška', 'startdate': '2023-04-19T08:00:00', 'enddate': '2023-04-19T09:00:00', 'presences': [{'id': '89d1e684-ae0f-11ed-9bd8-0242ac110002', 'invitationType': {'id': 'e871403c-a79c-11ed-b76e-0242ac110002'}}, {'id': '89d1f2d2-ae0f-11ed-9bd8-0242ac110002', 'invitationType': {'id': 'e871403c-a79c-11ed-b76e-0242ac110002'}}, {'id': '89d1f3ae-ae0f-11ed-9bd8-0242ac110002', 'invitationType': {'id': 'e871403c-a79c-11ed-b76e-0242ac110002'}}, {'id': '89d1f412-ae0f-11ed-9bd8-0242ac110002', 'invitationType': {'id': 'e871403c-a79c-11ed-b76e-0242ac110002'}}, {'id': '89d1f46c-ae0f-11ed-9bd8-0242ac110002', 'invitationType': {'id': 'e871403c-a79c-11ed-b76e-0242ac110002'}}, {'id': '89d1f4c6-ae0f-11ed-9bd8-0242ac110002', 'invitationType': {'id': 'e871403c-a79c-11ed-b76e-0242ac110002'}}, {'id': '89d1f520-ae0f-11ed-9bd8-0242ac110002', 'invitationType': {'id': 'e871403c-a79c-11ed-b76e-0242ac110002'}}, {'id': '89d1f570-ae0f-11ed-9bd8-0242ac110002', 'invitationType': {'id': 'e871403c-a79c-11ed-b76e-0242ac110002'}}, {'id': '89d1f5ca-ae0f-11ed-9bd8-0242ac110002', 'invitationType': {'id': 'e871403c-a79c-11ed-b76e-0242ac110002'}}, {'id': '89d1f624-ae0f-11ed-9bd8-0242ac110002', 'invitationType': {'id': 'e871403c-a79c-11ed-b76e-0242ac110002'}}]}]}}, {'group': {'id': '2d9dcd22-a4a2-11ed-b9df-0242ac120003', 'name': 'Uni'}, 'user': {'id': '89d1f3cc-ae0f-11ed-9bd8-0242ac110002', 'fullname': 'Jitka Newbie', 'events': [{'id': '45b2df80-ae0f-11ed-9bd8-0242ac110002', 'name': 'Zkouška', 'startdate': '2023-04-19T08:00:00', 'enddate': '2023-04-19T09:00:00', 'presences': [{'id': '89d1e684-ae0f-11ed-9bd8-0242ac110002', 'invitationType': {'id': 'e871403c-a79c-11ed-b76e-0242ac110002'}}, {'id': '89d1f2d2-ae0f-11ed-9bd8-0242ac110002', 'invitationType': {'id': 'e871403c-a79c-11ed-b76e-0242ac110002'}}, {'id': '89d1f3ae-ae0f-11ed-9bd8-0242ac110002', 'invitationType': {'id': 'e871403c-a79c-11ed-b76e-0242ac110002'}}, {'id': '89d1f412-ae0f-11ed-9bd8-0242ac110002', 'invitationType': {'id': 'e871403c-a79c-11ed-b76e-0242ac110002'}}, {'id': '89d1f46c-ae0f-11ed-9bd8-0242ac110002', 'invitationType': {'id': 'e871403c-a79c-11ed-b76e-0242ac110002'}}, {'id': '89d1f4c6-ae0f-11ed-9bd8-0242ac110002', 'invitationType': {'id': 'e871403c-a79c-11ed-b76e-0242ac110002'}}, {'id': '89d1f520-ae0f-11ed-9bd8-0242ac110002', 'invitationType': {'id': 'e871403c-a79c-11ed-b76e-0242ac110002'}}, {'id': '89d1f570-ae0f-11ed-9bd8-0242ac110002', 'invitationType': {'id': 'e871403c-a79c-11ed-b76e-0242ac110002'}}, {'id': '89d1f5ca-ae0f-11ed-9bd8-0242ac110002', 'invitationType': {'id': 'e871403c-a79c-11ed-b76e-0242ac110002'}}, {'id': '89d1f624-ae0f-11ed-9bd8-0242ac110002', 'invitationType': {'id': 'e871403c-a79c-11ed-b76e-0242ac110002'}}]}]}}, {'group': {'id': '2d9dcd22-a4a2-11ed-b9df-0242ac120003', 'name': 'Uni'}, 'user': {'id': '89d1f430-ae0f-11ed-9bd8-0242ac110002', 'fullname': 'Jaroslava Newbie', 'events': [{'id': '45b2df80-ae0f-11ed-9bd8-0242ac110002', 'name': 'Zkouška', 'startdate': '2023-04-19T08:00:00', 'enddate': '2023-04-19T09:00:00', 'presences': [{'id': '89d1e684-ae0f-11ed-9bd8-0242ac110002', 'invitationType': {'id': 'e871403c-a79c-11ed-b76e-0242ac110002'}}, {'id': '89d1f2d2-ae0f-11ed-9bd8-0242ac110002', 'invitationType': {'id': 'e871403c-a79c-11ed-b76e-0242ac110002'}}, {'id': '89d1f3ae-ae0f-11ed-9bd8-0242ac110002', 'invitationType': {'id': 'e871403c-a79c-11ed-b76e-0242ac110002'}}, {'id': '89d1f412-ae0f-11ed-9bd8-0242ac110002', 'invitationType': {'id': 'e871403c-a79c-11ed-b76e-0242ac110002'}}, {'id': '89d1f46c-ae0f-11ed-9bd8-0242ac110002', 'invitationType': {'id': 'e871403c-a79c-11ed-b76e-0242ac110002'}}, {'id': '89d1f4c6-ae0f-11ed-9bd8-0242ac110002', 'invitationType': {'id': 'e871403c-a79c-11ed-b76e-0242ac110002'}}, {'id': '89d1f520-ae0f-11ed-9bd8-0242ac110002', 'invitationType': {'id': 'e871403c-a79c-11ed-b76e-0242ac110002'}}, {'id': '89d1f570-ae0f-11ed-9bd8-0242ac110002', 'invitationType': {'id': 'e871403c-a79c-11ed-b76e-0242ac110002'}}, {'id': '89d1f5ca-ae0f-11ed-9bd8-0242ac110002', 'invitationType': {'id': 'e871403c-a79c-11ed-b76e-0242ac110002'}}, {'id': '89d1f624-ae0f-11ed-9bd8-0242ac110002', 'invitationType': {'id': 'e871403c-a79c-11ed-b76e-0242ac110002'}}]}]}}, {'group': {'id': '2d9dcd22-a4a2-11ed-b9df-0242ac120003', 'name': 'Uni'}, 'user': {'id': '89d1f48a-ae0f-11ed-9bd8-0242ac110002', 'fullname': 'Lada Newbie', 'events': [{'id': '45b2df80-ae0f-11ed-9bd8-0242ac110002', 'name': 'Zkouška', 'startdate': '2023-04-19T08:00:00', 'enddate': '2023-04-19T09:00:00', 'presences': [{'id': '89d1e684-ae0f-11ed-9bd8-0242ac110002', 'invitationType': {'id': 'e871403c-a79c-11ed-b76e-0242ac110002'}}, {'id': '89d1f2d2-ae0f-11ed-9bd8-0242ac110002', 'invitationType': {'id': 'e871403c-a79c-11ed-b76e-0242ac110002'}}, {'id': '89d1f3ae-ae0f-11ed-9bd8-0242ac110002', 'invitationType': {'id': 'e871403c-a79c-11ed-b76e-0242ac110002'}}, {'id': '89d1f412-ae0f-11ed-9bd8-0242ac110002', 'invitationType': {'id': 'e871403c-a79c-11ed-b76e-0242ac110002'}}, {'id': '89d1f46c-ae0f-11ed-9bd8-0242ac110002', 'invitationType': {'id': 'e871403c-a79c-11ed-b76e-0242ac110002'}}, {'id': '89d1f4c6-ae0f-11ed-9bd8-0242ac110002', 'invitationType': {'id': 'e871403c-a79c-11ed-b76e-0242ac110002'}}, {'id': '89d1f520-ae0f-11ed-9bd8-0242ac110002', 'invitationType': {'id': 'e871403c-a79c-11ed-b76e-0242ac110002'}}, {'id': '89d1f570-ae0f-11ed-9bd8-0242ac110002', 'invitationType': {'id': 'e871403c-a79c-11ed-b76e-0242ac110002'}}, {'id': '89d1f5ca-ae0f-11ed-9bd8-0242ac110002', 'invitationType': {'id': 'e871403c-a79c-11ed-b76e-0242ac110002'}}, {'id': '89d1f624-ae0f-11ed-9bd8-0242ac110002', 'invitationType': {'id': 'e871403c-a79c-11ed-b76e-0242ac110002'}}]}]}}, {'group': {'id': '2d9dcd22-a4a2-11ed-b9df-0242ac120003', 'name': 'Uni'}, 'user': {'id': '89d1f4e4-ae0f-11ed-9bd8-0242ac110002', 'fullname': 'Ludmila Newbie', 'events': [{'id': '45b2df80-ae0f-11ed-9bd8-0242ac110002', 'name': 'Zkouška', 'startdate': '2023-04-19T08:00:00', 'enddate': '2023-04-19T09:00:00', 'presences': [{'id': '89d1e684-ae0f-11ed-9bd8-0242ac110002', 'invitationType': {'id': 'e871403c-a79c-11ed-b76e-0242ac110002'}}, {'id': '89d1f2d2-ae0f-11ed-9bd8-0242ac110002', 'invitationType': {'id': 'e871403c-a79c-11ed-b76e-0242ac110002'}}, {'id': '89d1f3ae-ae0f-11ed-9bd8-0242ac110002', 'invitationType': {'id': 'e871403c-a79c-11ed-b76e-0242ac110002'}}, {'id': '89d1f412-ae0f-11ed-9bd8-0242ac110002', 'invitationType': {'id': 'e871403c-a79c-11ed-b76e-0242ac110002'}}, {'id': '89d1f46c-ae0f-11ed-9bd8-0242ac110002', 'invitationType': {'id': 'e871403c-a79c-11ed-b76e-0242ac110002'}}, {'id': '89d1f4c6-ae0f-11ed-9bd8-0242ac110002', 'invitationType': {'id': 'e871403c-a79c-11ed-b76e-0242ac110002'}}, {'id': '89d1f520-ae0f-11ed-9bd8-0242ac110002', 'invitationType': {'id': 'e871403c-a79c-11ed-b76e-0242ac110002'}}, {'id': '89d1f570-ae0f-11ed-9bd8-0242ac110002', 'invitationType': {'id': 'e871403c-a79c-11ed-b76e-0242ac110002'}}, {'id': '89d1f5ca-ae0f-11ed-9bd8-0242ac110002', 'invitationType': {'id': 'e871403c-a79c-11ed-b76e-0242ac110002'}}, {'id': '89d1f624-ae0f-11ed-9bd8-0242ac110002', 'invitationType': {'id': 'e871403c-a79c-11ed-b76e-0242ac110002'}}]}]}}, {'group': {'id': '2d9dcd22-a4a2-11ed-b9df-0242ac120003', 'name': 'Uni'}, 'user': {'id': '89d1f534-ae0f-11ed-9bd8-0242ac110002', 'fullname': 'Lucie Newbie', 'events': [{'id': '45b2df80-ae0f-11ed-9bd8-0242ac110002', 'name': 'Zkouška', 'startdate': '2023-04-19T08:00:00', 'enddate': '2023-04-19T09:00:00', 'presences': [{'id': '89d1e684-ae0f-11ed-9bd8-0242ac110002', 'invitationType': {'id': 'e871403c-a79c-11ed-b76e-0242ac110002'}}, {'id': '89d1f2d2-ae0f-11ed-9bd8-0242ac110002', 'invitationType': {'id': 'e871403c-a79c-11ed-b76e-0242ac110002'}}, {'id': '89d1f3ae-ae0f-11ed-9bd8-0242ac110002', 'invitationType': {'id': 'e871403c-a79c-11ed-b76e-0242ac110002'}}, {'id': '89d1f412-ae0f-11ed-9bd8-0242ac110002', 'invitationType': {'id': 'e871403c-a79c-11ed-b76e-0242ac110002'}}, {'id': '89d1f46c-ae0f-11ed-9bd8-0242ac110002', 'invitationType': {'id': 'e871403c-a79c-11ed-b76e-0242ac110002'}}, {'id': '89d1f4c6-ae0f-11ed-9bd8-0242ac110002', 'invitationType': {'id': 'e871403c-a79c-11ed-b76e-0242ac110002'}}, {'id': '89d1f520-ae0f-11ed-9bd8-0242ac110002', 'invitationType': {'id': 'e871403c-a79c-11ed-b76e-0242ac110002'}}, {'id': '89d1f570-ae0f-11ed-9bd8-0242ac110002', 'invitationType': {'id': 'e871403c-a79c-11ed-b76e-0242ac110002'}}, {'id': '89d1f5ca-ae0f-11ed-9bd8-0242ac110002', 'invitationType': {'id': 'e871403c-a79c-11ed-b76e-0242ac110002'}}, {'id': '89d1f624-ae0f-11ed-9bd8-0242ac110002', 'invitationType': {'id': 'e871403c-a79c-11ed-b76e-0242ac110002'}}]}]}}, {'group': {'id': '2d9dcd22-a4a2-11ed-b9df-0242ac120003', 'name': 'Uni'}, 'user': {'id': '89d1f58e-ae0f-11ed-9bd8-0242ac110002', 'fullname': 'Nola Newbie', 'events': [{'id': '45b2df80-ae0f-11ed-9bd8-0242ac110002', 'name': 'Zkouška', 'startdate': '2023-04-19T08:00:00', 'enddate': '2023-04-19T09:00:00', 'presences': [{'id': '89d1e684-ae0f-11ed-9bd8-0242ac110002', 'invitationType': {'id': 'e871403c-a79c-11ed-b76e-0242ac110002'}}, {'id': '89d1f2d2-ae0f-11ed-9bd8-0242ac110002', 'invitationType': {'id': 'e871403c-a79c-11ed-b76e-0242ac110002'}}, {'id': '89d1f3ae-ae0f-11ed-9bd8-0242ac110002', 'invitationType': {'id': 'e871403c-a79c-11ed-b76e-0242ac110002'}}, {'id': '89d1f412-ae0f-11ed-9bd8-0242ac110002', 'invitationType': {'id': 'e871403c-a79c-11ed-b76e-0242ac110002'}}, {'id': '89d1f46c-ae0f-11ed-9bd8-0242ac110002', 'invitationType': {'id': 'e871403c-a79c-11ed-b76e-0242ac110002'}}, {'id': '89d1f4c6-ae0f-11ed-9bd8-0242ac110002', 'invitationType': {'id': 'e871403c-a79c-11ed-b76e-0242ac110002'}}, {'id': '89d1f520-ae0f-11ed-9bd8-0242ac110002', 'invitationType': {'id': 'e871403c-a79c-11ed-b76e-0242ac110002'}}, {'id': '89d1f570-ae0f-11ed-9bd8-0242ac110002', 'invitationType': {'id': 'e871403c-a79c-11ed-b76e-0242ac110002'}}, {'id': '89d1f5ca-ae0f-11ed-9bd8-0242ac110002', 'invitationType': {'id': 'e871403c-a79c-11ed-b76e-0242ac110002'}}, {'id': '89d1f624-ae0f-11ed-9bd8-0242ac110002', 'invitationType': {'id': 'e871403c-a79c-11ed-b76e-0242ac110002'}}]}]}}, {'group': {'id': '2d9dcd22-a4a2-11ed-b9df-0242ac120003', 'name': 'Uni'}, 'user': {'id': '89d1f5de-ae0f-11ed-9bd8-0242ac110002', 'fullname': 'Neva Newbie', 'events': [{'id': '45b2df80-ae0f-11ed-9bd8-0242ac110002', 'name': 'Zkouška', 'startdate': '2023-04-19T08:00:00', 'enddate': '2023-04-19T09:00:00', 'presences': [{'id': '89d1e684-ae0f-11ed-9bd8-0242ac110002', 'invitationType': {'id': 'e871403c-a79c-11ed-b76e-0242ac110002'}}, {'id': '89d1f2d2-ae0f-11ed-9bd8-0242ac110002', 'invitationType': {'id': 'e871403c-a79c-11ed-b76e-0242ac110002'}}, {'id': '89d1f3ae-ae0f-11ed-9bd8-0242ac110002', 'invitationType': {'id': 'e871403c-a79c-11ed-b76e-0242ac110002'}}, {'id': '89d1f412-ae0f-11ed-9bd8-0242ac110002', 'invitationType': {'id': 'e871403c-a79c-11ed-b76e-0242ac110002'}}, {'id': '89d1f46c-ae0f-11ed-9bd8-0242ac110002', 'invitationType': {'id': 'e871403c-a79c-11ed-b76e-0242ac110002'}}, {'id': '89d1f4c6-ae0f-11ed-9bd8-0242ac110002', 'invitationType': {'id': 'e871403c-a79c-11ed-b76e-0242ac110002'}}, {'id': '89d1f520-ae0f-11ed-9bd8-0242ac110002', 'invitationType': {'id': 'e871403c-a79c-11ed-b76e-0242ac110002'}}, {'id': '89d1f570-ae0f-11ed-9bd8-0242ac110002', 'invitationType': {'id': 'e871403c-a79c-11ed-b76e-0242ac110002'}}, {'id': '89d1f5ca-ae0f-11ed-9bd8-0242ac110002', 'invitationType': {'id': 'e871403c-a79c-11ed-b76e-0242ac110002'}}, {'id': '89d1f624-ae0f-11ed-9bd8-0242ac110002', 'invitationType': {'id': 'e871403c-a79c-11ed-b76e-0242ac110002'}}]}]}}, {'group': {'id': '2d9dcd22-a4a2-11ed-b9df-0242ac120003', 'name': 'Uni'}, 'user': {'id': '89d1f638-ae0f-11ed-9bd8-0242ac110002', 'fullname': 'Nora Newbie', 'events': [{'id': '45b2df80-ae0f-11ed-9bd8-0242ac110002', 'name': 'Zkouška', 'startdate': '2023-04-19T08:00:00', 'enddate': '2023-04-19T09:00:00', 'presences': [{'id': '89d1e684-ae0f-11ed-9bd8-0242ac110002', 'invitationType': {'id': 'e871403c-a79c-11ed-b76e-0242ac110002'}}, {'id': '89d1f2d2-ae0f-11ed-9bd8-0242ac110002', 'invitationType': {'id': 'e871403c-a79c-11ed-b76e-0242ac110002'}}, {'id': '89d1f3ae-ae0f-11ed-9bd8-0242ac110002', 'invitationType': {'id': 'e871403c-a79c-11ed-b76e-0242ac110002'}}, {'id': '89d1f412-ae0f-11ed-9bd8-0242ac110002', 'invitationType': {'id': 'e871403c-a79c-11ed-b76e-0242ac110002'}}, {'id': '89d1f46c-ae0f-11ed-9bd8-0242ac110002', 'invitationType': {'id': 'e871403c-a79c-11ed-b76e-0242ac110002'}}, {'id': '89d1f4c6-ae0f-11ed-9bd8-0242ac110002', 'invitationType': {'id': 'e871403c-a79c-11ed-b76e-0242ac110002'}}, {'id': '89d1f520-ae0f-11ed-9bd8-0242ac110002', 'invitationType': {'id': 'e871403c-a79c-11ed-b76e-0242ac110002'}}, {'id': '89d1f570-ae0f-11ed-9bd8-0242ac110002', 'invitationType': {'id': 'e871403c-a79c-11ed-b76e-0242ac110002'}}, {'id': '89d1f5ca-ae0f-11ed-9bd8-0242ac110002', 'invitationType': {'id': 'e871403c-a79c-11ed-b76e-0242ac110002'}}, {'id': '89d1f624-ae0f-11ed-9bd8-0242ac110002', 'invitationType': {'id': 'e871403c-a79c-11ed-b76e-0242ac110002'}}]}]}}]}, {'memberships': [{'group': {'id': '2d9dced0-a4a2-11ed-b9df-0242ac120003', 'name': 'Fac'}, 'user': {'id': '2d9dc5ca-a4a2-11ed-b9df-0242ac120003', 'fullname': 'John Newbie', 'events': []}}, {'group': {'id': '2d9dced0-a4a2-11ed-b9df-0242ac120003', 'name': 'Fac'}, 'user': {'id': '2d9dc868-a4a2-11ed-b9df-0242ac120003', 'fullname': 'Julia Newbie', 'events': []}}, {'group': {'id': '2d9dced0-a4a2-11ed-b9df-0242ac120003', 'name': 'Fac'}, 'user': {'id': '2d9dc9a8-a4a2-11ed-b9df-0242ac120003', 'fullname': 'Johnson Newbie', 'events': []}}, {'group': {'id': '2d9dced0-a4a2-11ed-b9df-0242ac120003', 'name': 'Fac'}, 'user': {'id': '2d9dcbec-a4a2-11ed-b9df-0242ac120003', 'fullname': 'Jepeto Newbie', 'events': []}}, {'group': {'id': '2d9dced0-a4a2-11ed-b9df-0242ac120003', 'name': 'Fac'}, 'user': {'id': '89d1e724-ae0f-11ed-9bd8-0242ac110002', 'fullname': 'Jana Newbie', 'events': [{'id': '45b2df80-ae0f-11ed-9bd8-0242ac110002', 'name': 'Zkouška', 'startdate': '2023-04-19T08:00:00', 'enddate': '2023-04-19T09:00:00', 'presences': [{'id': '89d1e684-ae0f-11ed-9bd8-0242ac110002', 'invitationType': {'id': 'e871403c-a79c-11ed-b76e-0242ac110002'}}, {'id': '89d1f2d2-ae0f-11ed-9bd8-0242ac110002', 'invitationType': {'id': 'e871403c-a79c-11ed-b76e-0242ac110002'}}, {'id': '89d1f3ae-ae0f-11ed-9bd8-0242ac110002', 'invitationType': {'id': 'e871403c-a79c-11ed-b76e-0242ac110002'}}, {'id': '89d1f412-ae0f-11ed-9bd8-0242ac110002', 'invitationType': {'id': 'e871403c-a79c-11ed-b76e-0242ac110002'}}, {'id': '89d1f46c-ae0f-11ed-9bd8-0242ac110002', 'invitationType': {'id': 'e871403c-a79c-11ed-b76e-0242ac110002'}}, {'id': '89d1f4c6-ae0f-11ed-9bd8-0242ac110002', 'invitationType': {'id': 'e871403c-a79c-11ed-b76e-0242ac110002'}}, {'id': '89d1f520-ae0f-11ed-9bd8-0242ac110002', 'invitationType': {'id': 'e871403c-a79c-11ed-b76e-0242ac110002'}}, {'id': '89d1f570-ae0f-11ed-9bd8-0242ac110002', 'invitationType': {'id': 'e871403c-a79c-11ed-b76e-0242ac110002'}}, {'id': '89d1f5ca-ae0f-11ed-9bd8-0242ac110002', 'invitationType': {'id': 'e871403c-a79c-11ed-b76e-0242ac110002'}}, {'id': '89d1f624-ae0f-11ed-9bd8-0242ac110002', 'invitationType': {'id': 'e871403c-a79c-11ed-b76e-0242ac110002'}}]}]}}, {'group': {'id': '2d9dced0-a4a2-11ed-b9df-0242ac120003', 'name': 'Fac'}, 'user': {'id': '89d1f34a-ae0f-11ed-9bd8-0242ac110002', 'fullname': 'Jolana Newbie', 'events': [{'id': '45b2df80-ae0f-11ed-9bd8-0242ac110002', 'name': 'Zkouška', 'startdate': '2023-04-19T08:00:00', 'enddate': '2023-04-19T09:00:00', 'presences': [{'id': '89d1e684-ae0f-11ed-9bd8-0242ac110002', 'invitationType': {'id': 'e871403c-a79c-11ed-b76e-0242ac110002'}}, {'id': '89d1f2d2-ae0f-11ed-9bd8-0242ac110002', 'invitationType': {'id': 'e871403c-a79c-11ed-b76e-0242ac110002'}}, {'id': '89d1f3ae-ae0f-11ed-9bd8-0242ac110002', 'invitationType': {'id': 'e871403c-a79c-11ed-b76e-0242ac110002'}}, {'id': '89d1f412-ae0f-11ed-9bd8-0242ac110002', 'invitationType': {'id': 'e871403c-a79c-11ed-b76e-0242ac110002'}}, {'id': '89d1f46c-ae0f-11ed-9bd8-0242ac110002', 'invitationType': {'id': 'e871403c-a79c-11ed-b76e-0242ac110002'}}, {'id': '89d1f4c6-ae0f-11ed-9bd8-0242ac110002', 'invitationType': {'id': 'e871403c-a79c-11ed-b76e-0242ac110002'}}, {'id': '89d1f520-ae0f-11ed-9bd8-0242ac110002', 'invitationType': {'id': 'e871403c-a79c-11ed-b76e-0242ac110002'}}, {'id': '89d1f570-ae0f-11ed-9bd8-0242ac110002', 'invitationType': {'id': 'e871403c-a79c-11ed-b76e-0242ac110002'}}, {'id': '89d1f5ca-ae0f-11ed-9bd8-0242ac110002', 'invitationType': {'id': 'e871403c-a79c-11ed-b76e-0242ac110002'}}, {'id': '89d1f624-ae0f-11ed-9bd8-0242ac110002', 'invitationType': {'id': 'e871403c-a79c-11ed-b76e-0242ac110002'}}]}]}}, {'group': {'id': '2d9dced0-a4a2-11ed-b9df-0242ac120003', 'name': 'Fac'}, 'user': {'id': '89d1f3cc-ae0f-11ed-9bd8-0242ac110002', 'fullname': 'Jitka Newbie', 'events': [{'id': '45b2df80-ae0f-11ed-9bd8-0242ac110002', 'name': 'Zkouška', 'startdate': '2023-04-19T08:00:00', 'enddate': '2023-04-19T09:00:00', 'presences': [{'id': '89d1e684-ae0f-11ed-9bd8-0242ac110002', 'invitationType': {'id': 'e871403c-a79c-11ed-b76e-0242ac110002'}}, {'id': '89d1f2d2-ae0f-11ed-9bd8-0242ac110002', 'invitationType': {'id': 'e871403c-a79c-11ed-b76e-0242ac110002'}}, {'id': '89d1f3ae-ae0f-11ed-9bd8-0242ac110002', 'invitationType': {'id': 'e871403c-a79c-11ed-b76e-0242ac110002'}}, {'id': '89d1f412-ae0f-11ed-9bd8-0242ac110002', 'invitationType': {'id': 'e871403c-a79c-11ed-b76e-0242ac110002'}}, {'id': '89d1f46c-ae0f-11ed-9bd8-0242ac110002', 'invitationType': {'id': 'e871403c-a79c-11ed-b76e-0242ac110002'}}, {'id': '89d1f4c6-ae0f-11ed-9bd8-0242ac110002', 'invitationType': {'id': 'e871403c-a79c-11ed-b76e-0242ac110002'}}, {'id': '89d1f520-ae0f-11ed-9bd8-0242ac110002', 'invitationType': {'id': 'e871403c-a79c-11ed-b76e-0242ac110002'}}, {'id': '89d1f570-ae0f-11ed-9bd8-0242ac110002', 'invitationType': {'id': 'e871403c-a79c-11ed-b76e-0242ac110002'}}, {'id': '89d1f5ca-ae0f-11ed-9bd8-0242ac110002', 'invitationType': {'id': 'e871403c-a79c-11ed-b76e-0242ac110002'}}, {'id': '89d1f624-ae0f-11ed-9bd8-0242ac110002', 'invitationType': {'id': 'e871403c-a79c-11ed-b76e-0242ac110002'}}]}]}}, {'group': {'id': '2d9dced0-a4a2-11ed-b9df-0242ac120003', 'name': 'Fac'}, 'user': {'id': '89d1f430-ae0f-11ed-9bd8-0242ac110002', 'fullname': 'Jaroslava Newbie', 'events': [{'id': '45b2df80-ae0f-11ed-9bd8-0242ac110002', 'name': 'Zkouška', 'startdate': '2023-04-19T08:00:00', 'enddate': '2023-04-19T09:00:00', 'presences': [{'id': '89d1e684-ae0f-11ed-9bd8-0242ac110002', 'invitationType': {'id': 'e871403c-a79c-11ed-b76e-0242ac110002'}}, {'id': '89d1f2d2-ae0f-11ed-9bd8-0242ac110002', 'invitationType': {'id': 'e871403c-a79c-11ed-b76e-0242ac110002'}}, {'id': '89d1f3ae-ae0f-11ed-9bd8-0242ac110002', 'invitationType': {'id': 'e871403c-a79c-11ed-b76e-0242ac110002'}}, {'id': '89d1f412-ae0f-11ed-9bd8-0242ac110002', 'invitationType': {'id': 'e871403c-a79c-11ed-b76e-0242ac110002'}}, {'id': '89d1f46c-ae0f-11ed-9bd8-0242ac110002', 'invitationType': {'id': 'e871403c-a79c-11ed-b76e-0242ac110002'}}, {'id': '89d1f4c6-ae0f-11ed-9bd8-0242ac110002', 'invitationType': {'id': 'e871403c-a79c-11ed-b76e-0242ac110002'}}, {'id': '89d1f520-ae0f-11ed-9bd8-0242ac110002', 'invitationType': {'id': 'e871403c-a79c-11ed-b76e-0242ac110002'}}, {'id': '89d1f570-ae0f-11ed-9bd8-0242ac110002', 'invitationType': {'id': 'e871403c-a79c-11ed-b76e-0242ac110002'}}, {'id': '89d1f5ca-ae0f-11ed-9bd8-0242ac110002', 'invitationType': {'id': 'e871403c-a79c-11ed-b76e-0242ac110002'}}, {'id': '89d1f624-ae0f-11ed-9bd8-0242ac110002', 'invitationType': {'id': 'e871403c-a79c-11ed-b76e-0242ac110002'}}]}]}}, {'group': {'id': '2d9dced0-a4a2-11ed-b9df-0242ac120003', 'name': 'Fac'}, 'user': {'id': '89d1f48a-ae0f-11ed-9bd8-0242ac110002', 'fullname': 'Lada Newbie', 'events': [{'id': '45b2df80-ae0f-11ed-9bd8-0242ac110002', 'name': 'Zkouška', 'startdate': '2023-04-19T08:00:00', 'enddate': '2023-04-19T09:00:00', 'presences': [{'id': '89d1e684-ae0f-11ed-9bd8-0242ac110002', 'invitationType': {'id': 'e871403c-a79c-11ed-b76e-0242ac110002'}}, {'id': '89d1f2d2-ae0f-11ed-9bd8-0242ac110002', 'invitationType': {'id': 'e871403c-a79c-11ed-b76e-0242ac110002'}}, {'id': '89d1f3ae-ae0f-11ed-9bd8-0242ac110002', 'invitationType': {'id': 'e871403c-a79c-11ed-b76e-0242ac110002'}}, {'id': '89d1f412-ae0f-11ed-9bd8-0242ac110002', 'invitationType': {'id': 'e871403c-a79c-11ed-b76e-0242ac110002'}}, {'id': '89d1f46c-ae0f-11ed-9bd8-0242ac110002', 'invitationType': {'id': 'e871403c-a79c-11ed-b76e-0242ac110002'}}, {'id': '89d1f4c6-ae0f-11ed-9bd8-0242ac110002', 'invitationType': {'id': 'e871403c-a79c-11ed-b76e-0242ac110002'}}, {'id': '89d1f520-ae0f-11ed-9bd8-0242ac110002', 'invitationType': {'id': 'e871403c-a79c-11ed-b76e-0242ac110002'}}, {'id': '89d1f570-ae0f-11ed-9bd8-0242ac110002', 'invitationType': {'id': 'e871403c-a79c-11ed-b76e-0242ac110002'}}, {'id': '89d1f5ca-ae0f-11ed-9bd8-0242ac110002', 'invitationType': {'id': 'e871403c-a79c-11ed-b76e-0242ac110002'}}, {'id': '89d1f624-ae0f-11ed-9bd8-0242ac110002', 'invitationType': {'id': 'e871403c-a79c-11ed-b76e-0242ac110002'}}]}]}}, {'group': {'id': '2d9dced0-a4a2-11ed-b9df-0242ac120003', 'name': 'Fac'}, 'user': {'id': '89d1f4e4-ae0f-11ed-9bd8-0242ac110002', 'fullname': 'Ludmila Newbie', 'events': [{'id': '45b2df80-ae0f-11ed-9bd8-0242ac110002', 'name': 'Zkouška', 'startdate': '2023-04-19T08:00:00', 'enddate': '2023-04-19T09:00:00', 'presences': [{'id': '89d1e684-ae0f-11ed-9bd8-0242ac110002', 'invitationType': {'id': 'e871403c-a79c-11ed-b76e-0242ac110002'}}, {'id': '89d1f2d2-ae0f-11ed-9bd8-0242ac110002', 'invitationType': {'id': 'e871403c-a79c-11ed-b76e-0242ac110002'}}, {'id': '89d1f3ae-ae0f-11ed-9bd8-0242ac110002', 'invitationType': {'id': 'e871403c-a79c-11ed-b76e-0242ac110002'}}, {'id': '89d1f412-ae0f-11ed-9bd8-0242ac110002', 'invitationType': {'id': 'e871403c-a79c-11ed-b76e-0242ac110002'}}, {'id': '89d1f46c-ae0f-11ed-9bd8-0242ac110002', 'invitationType': {'id': 'e871403c-a79c-11ed-b76e-0242ac110002'}}, {'id': '89d1f4c6-ae0f-11ed-9bd8-0242ac110002', 'invitationType': {'id': 'e871403c-a79c-11ed-b76e-0242ac110002'}}, {'id': '89d1f520-ae0f-11ed-9bd8-0242ac110002', 'invitationType': {'id': 'e871403c-a79c-11ed-b76e-0242ac110002'}}, {'id': '89d1f570-ae0f-11ed-9bd8-0242ac110002', 'invitationType': {'id': 'e871403c-a79c-11ed-b76e-0242ac110002'}}, {'id': '89d1f5ca-ae0f-11ed-9bd8-0242ac110002', 'invitationType': {'id': 'e871403c-a79c-11ed-b76e-0242ac110002'}}, {'id': '89d1f624-ae0f-11ed-9bd8-0242ac110002', 'invitationType': {'id': 'e871403c-a79c-11ed-b76e-0242ac110002'}}]}]}}, {'group': {'id': '2d9dced0-a4a2-11ed-b9df-0242ac120003', 'name': 'Fac'}, 'user': {'id': '89d1f534-ae0f-11ed-9bd8-0242ac110002', 'fullname': 'Lucie Newbie', 'events': [{'id': '45b2df80-ae0f-11ed-9bd8-0242ac110002', 'name': 'Zkouška', 'startdate': '2023-04-19T08:00:00', 'enddate': '2023-04-19T09:00:00', 'presences': [{'id': '89d1e684-ae0f-11ed-9bd8-0242ac110002', 'invitationType': {'id': 'e871403c-a79c-11ed-b76e-0242ac110002'}}, {'id': '89d1f2d2-ae0f-11ed-9bd8-0242ac110002', 'invitationType': {'id': 'e871403c-a79c-11ed-b76e-0242ac110002'}}, {'id': '89d1f3ae-ae0f-11ed-9bd8-0242ac110002', 'invitationType': {'id': 'e871403c-a79c-11ed-b76e-0242ac110002'}}, {'id': '89d1f412-ae0f-11ed-9bd8-0242ac110002', 'invitationType': {'id': 'e871403c-a79c-11ed-b76e-0242ac110002'}}, {'id': '89d1f46c-ae0f-11ed-9bd8-0242ac110002', 'invitationType': {'id': 'e871403c-a79c-11ed-b76e-0242ac110002'}}, {'id': '89d1f4c6-ae0f-11ed-9bd8-0242ac110002', 'invitationType': {'id': 'e871403c-a79c-11ed-b76e-0242ac110002'}}, {'id': '89d1f520-ae0f-11ed-9bd8-0242ac110002', 'invitationType': {'id': 'e871403c-a79c-11ed-b76e-0242ac110002'}}, {'id': '89d1f570-ae0f-11ed-9bd8-0242ac110002', 'invitationType': {'id': 'e871403c-a79c-11ed-b76e-0242ac110002'}}, {'id': '89d1f5ca-ae0f-11ed-9bd8-0242ac110002', 'invitationType': {'id': 'e871403c-a79c-11ed-b76e-0242ac110002'}}, {'id': '89d1f624-ae0f-11ed-9bd8-0242ac110002', 'invitationType': {'id': 'e871403c-a79c-11ed-b76e-0242ac110002'}}]}]}}, {'group': {'id': '2d9dced0-a4a2-11ed-b9df-0242ac120003', 'name': 'Fac'}, 'user': {'id': '89d1f58e-ae0f-11ed-9bd8-0242ac110002', 'fullname': 'Nola Newbie', 'events': [{'id': '45b2df80-ae0f-11ed-9bd8-0242ac110002', 'name': 'Zkouška', 'startdate': '2023-04-19T08:00:00', 'enddate': '2023-04-19T09:00:00', 'presences': [{'id': '89d1e684-ae0f-11ed-9bd8-0242ac110002', 'invitationType': {'id': 'e871403c-a79c-11ed-b76e-0242ac110002'}}, {'id': '89d1f2d2-ae0f-11ed-9bd8-0242ac110002', 'invitationType': {'id': 'e871403c-a79c-11ed-b76e-0242ac110002'}}, {'id': '89d1f3ae-ae0f-11ed-9bd8-0242ac110002', 'invitationType': {'id': 'e871403c-a79c-11ed-b76e-0242ac110002'}}, {'id': '89d1f412-ae0f-11ed-9bd8-0242ac110002', 'invitationType': {'id': 'e871403c-a79c-11ed-b76e-0242ac110002'}}, {'id': '89d1f46c-ae0f-11ed-9bd8-0242ac110002', 'invitationType': {'id': 'e871403c-a79c-11ed-b76e-0242ac110002'}}, {'id': '89d1f4c6-ae0f-11ed-9bd8-0242ac110002', 'invitationType': {'id': 'e871403c-a79c-11ed-b76e-0242ac110002'}}, {'id': '89d1f520-ae0f-11ed-9bd8-0242ac110002', 'invitationType': {'id': 'e871403c-a79c-11ed-b76e-0242ac110002'}}, {'id': '89d1f570-ae0f-11ed-9bd8-0242ac110002', 'invitationType': {'id': 'e871403c-a79c-11ed-b76e-0242ac110002'}}, {'id': '89d1f5ca-ae0f-11ed-9bd8-0242ac110002', 'invitationType': {'id': 'e871403c-a79c-11ed-b76e-0242ac110002'}}, {'id': '89d1f624-ae0f-11ed-9bd8-0242ac110002', 'invitationType': {'id': 'e871403c-a79c-11ed-b76e-0242ac110002'}}]}]}}, {'group': {'id': '2d9dced0-a4a2-11ed-b9df-0242ac120003', 'name': 'Fac'}, 'user': {'id': '89d1f5de-ae0f-11ed-9bd8-0242ac110002', 'fullname': 'Neva Newbie', 'events': [{'id': '45b2df80-ae0f-11ed-9bd8-0242ac110002', 'name': 'Zkouška', 'startdate': '2023-04-19T08:00:00', 'enddate': '2023-04-19T09:00:00', 'presences': [{'id': '89d1e684-ae0f-11ed-9bd8-0242ac110002', 'invitationType': {'id': 'e871403c-a79c-11ed-b76e-0242ac110002'}}, {'id': '89d1f2d2-ae0f-11ed-9bd8-0242ac110002', 'invitationType': {'id': 'e871403c-a79c-11ed-b76e-0242ac110002'}}, {'id': '89d1f3ae-ae0f-11ed-9bd8-0242ac110002', 'invitationType': {'id': 'e871403c-a79c-11ed-b76e-0242ac110002'}}, {'id': '89d1f412-ae0f-11ed-9bd8-0242ac110002', 'invitationType': {'id': 'e871403c-a79c-11ed-b76e-0242ac110002'}}, {'id': '89d1f46c-ae0f-11ed-9bd8-0242ac110002', 'invitationType': {'id': 'e871403c-a79c-11ed-b76e-0242ac110002'}}, {'id': '89d1f4c6-ae0f-11ed-9bd8-0242ac110002', 'invitationType': {'id': 'e871403c-a79c-11ed-b76e-0242ac110002'}}, {'id': '89d1f520-ae0f-11ed-9bd8-0242ac110002', 'invitationType': {'id': 'e871403c-a79c-11ed-b76e-0242ac110002'}}, {'id': '89d1f570-ae0f-11ed-9bd8-0242ac110002', 'invitationType': {'id': 'e871403c-a79c-11ed-b76e-0242ac110002'}}, {'id': '89d1f5ca-ae0f-11ed-9bd8-0242ac110002', 'invitationType': {'id': 'e871403c-a79c-11ed-b76e-0242ac110002'}}, {'id': '89d1f624-ae0f-11ed-9bd8-0242ac110002', 'invitationType': {'id': 'e871403c-a79c-11ed-b76e-0242ac110002'}}]}]}}, {'group': {'id': '2d9dced0-a4a2-11ed-b9df-0242ac120003', 'name': 'Fac'}, 'user': {'id': '89d1f638-ae0f-11ed-9bd8-0242ac110002', 'fullname': 'Nora Newbie', 'events': [{'id': '45b2df80-ae0f-11ed-9bd8-0242ac110002', 'name': 'Zkouška', 'startdate': '2023-04-19T08:00:00', 'enddate': '2023-04-19T09:00:00', 'presences': [{'id': '89d1e684-ae0f-11ed-9bd8-0242ac110002', 'invitationType': {'id': 'e871403c-a79c-11ed-b76e-0242ac110002'}}, {'id': '89d1f2d2-ae0f-11ed-9bd8-0242ac110002', 'invitationType': {'id': 'e871403c-a79c-11ed-b76e-0242ac110002'}}, {'id': '89d1f3ae-ae0f-11ed-9bd8-0242ac110002', 'invitationType': {'id': 'e871403c-a79c-11ed-b76e-0242ac110002'}}, {'id': '89d1f412-ae0f-11ed-9bd8-0242ac110002', 'invitationType': {'id': 'e871403c-a79c-11ed-b76e-0242ac110002'}}, {'id': '89d1f46c-ae0f-11ed-9bd8-0242ac110002', 'invitationType': {'id': 'e871403c-a79c-11ed-b76e-0242ac110002'}}, {'id': '89d1f4c6-ae0f-11ed-9bd8-0242ac110002', 'invitationType': {'id': 'e871403c-a79c-11ed-b76e-0242ac110002'}}, {'id': '89d1f520-ae0f-11ed-9bd8-0242ac110002', 'invitationType': {'id': 'e871403c-a79c-11ed-b76e-0242ac110002'}}, {'id': '89d1f570-ae0f-11ed-9bd8-0242ac110002', 'invitationType': {'id': 'e871403c-a79c-11ed-b76e-0242ac110002'}}, {'id': '89d1f5ca-ae0f-11ed-9bd8-0242ac110002', 'invitationType': {'id': 'e871403c-a79c-11ed-b76e-0242ac110002'}}, {'id': '89d1f624-ae0f-11ed-9bd8-0242ac110002', 'invitationType': {'id': 'e871403c-a79c-11ed-b76e-0242ac110002'}}]}]}}]}, {'memberships': [{'group': {'id': '2d9dd1c8-a4a2-11ed-b9df-0242ac120003', 'name': 'Dep'}, 'user': {'id': '2d9dc5ca-a4a2-11ed-b9df-0242ac120003', 'fullname': 'John Newbie', 'events': []}}, {'group': {'id': '2d9dd1c8-a4a2-11ed-b9df-0242ac120003', 'name': 'Dep'}, 'user': {'id': '2d9dc868-a4a2-11ed-b9df-0242ac120003', 'fullname': 'Julia Newbie', 'events': []}}, {'group': {'id': '2d9dd1c8-a4a2-11ed-b9df-0242ac120003', 'name': 'Dep'}, 'user': {'id': '2d9dc9a8-a4a2-11ed-b9df-0242ac120003', 'fullname': 'Johnson Newbie', 'events': []}}, {'group': {'id': '2d9dd1c8-a4a2-11ed-b9df-0242ac120003', 'name': 'Dep'}, 'user': {'id': '2d9dcbec-a4a2-11ed-b9df-0242ac120003', 'fullname': 'Jepeto Newbie', 'events': []}}, {'group': {'id': '2d9dd1c8-a4a2-11ed-b9df-0242ac120003', 'name': 'Dep'}, 'user': {'id': '89d1e724-ae0f-11ed-9bd8-0242ac110002', 'fullname': 'Jana Newbie', 'events': [{'id': '45b2df80-ae0f-11ed-9bd8-0242ac110002', 'name': 'Zkouška', 'startdate': '2023-04-19T08:00:00', 'enddate': '2023-04-19T09:00:00', 'presences': [{'id': '89d1e684-ae0f-11ed-9bd8-0242ac110002', 'invitationType': {'id': 'e871403c-a79c-11ed-b76e-0242ac110002'}}, {'id': '89d1f2d2-ae0f-11ed-9bd8-0242ac110002', 'invitationType': {'id': 'e871403c-a79c-11ed-b76e-0242ac110002'}}, {'id': '89d1f3ae-ae0f-11ed-9bd8-0242ac110002', 'invitationType': {'id': 'e871403c-a79c-11ed-b76e-0242ac110002'}}, {'id': '89d1f412-ae0f-11ed-9bd8-0242ac110002', 'invitationType': {'id': 'e871403c-a79c-11ed-b76e-0242ac110002'}}, {'id': '89d1f46c-ae0f-11ed-9bd8-0242ac110002', 'invitationType': {'id': 'e871403c-a79c-11ed-b76e-0242ac110002'}}, {'id': '89d1f4c6-ae0f-11ed-9bd8-0242ac110002', 'invitationType': {'id': 'e871403c-a79c-11ed-b76e-0242ac110002'}}, {'id': '89d1f520-ae0f-11ed-9bd8-0242ac110002', 'invitationType': {'id': 'e871403c-a79c-11ed-b76e-0242ac110002'}}, {'id': '89d1f570-ae0f-11ed-9bd8-0242ac110002', 'invitationType': {'id': 'e871403c-a79c-11ed-b76e-0242ac110002'}}, {'id': '89d1f5ca-ae0f-11ed-9bd8-0242ac110002', 'invitationType': {'id': 'e871403c-a79c-11ed-b76e-0242ac110002'}}, {'id': '89d1f624-ae0f-11ed-9bd8-0242ac110002', 'invitationType': {'id': 'e871403c-a79c-11ed-b76e-0242ac110002'}}]}]}}, {'group': {'id': '2d9dd1c8-a4a2-11ed-b9df-0242ac120003', 'name': 'Dep'}, 'user': {'id': '89d1f34a-ae0f-11ed-9bd8-0242ac110002', 'fullname': 'Jolana Newbie', 'events': [{'id': '45b2df80-ae0f-11ed-9bd8-0242ac110002', 'name': 'Zkouška', 'startdate': '2023-04-19T08:00:00', 'enddate': '2023-04-19T09:00:00', 'presences': [{'id': '89d1e684-ae0f-11ed-9bd8-0242ac110002', 'invitationType': {'id': 'e871403c-a79c-11ed-b76e-0242ac110002'}}, {'id': '89d1f2d2-ae0f-11ed-9bd8-0242ac110002', 'invitationType': {'id': 'e871403c-a79c-11ed-b76e-0242ac110002'}}, {'id': '89d1f3ae-ae0f-11ed-9bd8-0242ac110002', 'invitationType': {'id': 'e871403c-a79c-11ed-b76e-0242ac110002'}}, {'id': '89d1f412-ae0f-11ed-9bd8-0242ac110002', 'invitationType': {'id': 'e871403c-a79c-11ed-b76e-0242ac110002'}}, {'id': '89d1f46c-ae0f-11ed-9bd8-0242ac110002', 'invitationType': {'id': 'e871403c-a79c-11ed-b76e-0242ac110002'}}, {'id': '89d1f4c6-ae0f-11ed-9bd8-0242ac110002', 'invitationType': {'id': 'e871403c-a79c-11ed-b76e-0242ac110002'}}, {'id': '89d1f520-ae0f-11ed-9bd8-0242ac110002', 'invitationType': {'id': 'e871403c-a79c-11ed-b76e-0242ac110002'}}, {'id': '89d1f570-ae0f-11ed-9bd8-0242ac110002', 'invitationType': {'id': 'e871403c-a79c-11ed-b76e-0242ac110002'}}, {'id': '89d1f5ca-ae0f-11ed-9bd8-0242ac110002', 'invitationType': {'id': 'e871403c-a79c-11ed-b76e-0242ac110002'}}, {'id': '89d1f624-ae0f-11ed-9bd8-0242ac110002', 'invitationType': {'id': 'e871403c-a79c-11ed-b76e-0242ac110002'}}]}]}}, {'group': {'id': '2d9dd1c8-a4a2-11ed-b9df-0242ac120003', 'name': 'Dep'}, 'user': {'id': '89d1f3cc-ae0f-11ed-9bd8-0242ac110002', 'fullname': 'Jitka Newbie', 'events': [{'id': '45b2df80-ae0f-11ed-9bd8-0242ac110002', 'name': 'Zkouška', 'startdate': '2023-04-19T08:00:00', 'enddate': '2023-04-19T09:00:00', 'presences': [{'id': '89d1e684-ae0f-11ed-9bd8-0242ac110002', 'invitationType': {'id': 'e871403c-a79c-11ed-b76e-0242ac110002'}}, {'id': '89d1f2d2-ae0f-11ed-9bd8-0242ac110002', 'invitationType': {'id': 'e871403c-a79c-11ed-b76e-0242ac110002'}}, {'id': '89d1f3ae-ae0f-11ed-9bd8-0242ac110002', 'invitationType': {'id': 'e871403c-a79c-11ed-b76e-0242ac110002'}}, {'id': '89d1f412-ae0f-11ed-9bd8-0242ac110002', 'invitationType': {'id': 'e871403c-a79c-11ed-b76e-0242ac110002'}}, {'id': '89d1f46c-ae0f-11ed-9bd8-0242ac110002', 'invitationType': {'id': 'e871403c-a79c-11ed-b76e-0242ac110002'}}, {'id': '89d1f4c6-ae0f-11ed-9bd8-0242ac110002', 'invitationType': {'id': 'e871403c-a79c-11ed-b76e-0242ac110002'}}, {'id': '89d1f520-ae0f-11ed-9bd8-0242ac110002', 'invitationType': {'id': 'e871403c-a79c-11ed-b76e-0242ac110002'}}, {'id': '89d1f570-ae0f-11ed-9bd8-0242ac110002', 'invitationType': {'id': 'e871403c-a79c-11ed-b76e-0242ac110002'}}, {'id': '89d1f5ca-ae0f-11ed-9bd8-0242ac110002', 'invitationType': {'id': 'e871403c-a79c-11ed-b76e-0242ac110002'}}, {'id': '89d1f624-ae0f-11ed-9bd8-0242ac110002', 'invitationType': {'id': 'e871403c-a79c-11ed-b76e-0242ac110002'}}]}]}}, {'group': {'id': '2d9dd1c8-a4a2-11ed-b9df-0242ac120003', 'name': 'Dep'}, 'user': {'id': '89d1f430-ae0f-11ed-9bd8-0242ac110002', 'fullname': 'Jaroslava Newbie', 'events': [{'id': '45b2df80-ae0f-11ed-9bd8-0242ac110002', 'name': 'Zkouška', 'startdate': '2023-04-19T08:00:00', 'enddate': '2023-04-19T09:00:00', 'presences': [{'id': '89d1e684-ae0f-11ed-9bd8-0242ac110002', 'invitationType': {'id': 'e871403c-a79c-11ed-b76e-0242ac110002'}}, {'id': '89d1f2d2-ae0f-11ed-9bd8-0242ac110002', 'invitationType': {'id': 'e871403c-a79c-11ed-b76e-0242ac110002'}}, {'id': '89d1f3ae-ae0f-11ed-9bd8-0242ac110002', 'invitationType': {'id': 'e871403c-a79c-11ed-b76e-0242ac110002'}}, {'id': '89d1f412-ae0f-11ed-9bd8-0242ac110002', 'invitationType': {'id': 'e871403c-a79c-11ed-b76e-0242ac110002'}}, {'id': '89d1f46c-ae0f-11ed-9bd8-0242ac110002', 'invitationType': {'id': 'e871403c-a79c-11ed-b76e-0242ac110002'}}, {'id': '89d1f4c6-ae0f-11ed-9bd8-0242ac110002', 'invitationType': {'id': 'e871403c-a79c-11ed-b76e-0242ac110002'}}, {'id': '89d1f520-ae0f-11ed-9bd8-0242ac110002', 'invitationType': {'id': 'e871403c-a79c-11ed-b76e-0242ac110002'}}, {'id': '89d1f570-ae0f-11ed-9bd8-0242ac110002', 'invitationType': {'id': 'e871403c-a79c-11ed-b76e-0242ac110002'}}, {'id': '89d1f5ca-ae0f-11ed-9bd8-0242ac110002', 'invitationType': {'id': 'e871403c-a79c-11ed-b76e-0242ac110002'}}, {'id': '89d1f624-ae0f-11ed-9bd8-0242ac110002', 'invitationType': {'id': 'e871403c-a79c-11ed-b76e-0242ac110002'}}]}]}}, {'group': {'id': '2d9dd1c8-a4a2-11ed-b9df-0242ac120003', 'name': 'Dep'}, 'user': {'id': '89d1f48a-ae0f-11ed-9bd8-0242ac110002', 'fullname': 'Lada Newbie', 'events': [{'id': '45b2df80-ae0f-11ed-9bd8-0242ac110002', 'name': 'Zkouška', 'startdate': '2023-04-19T08:00:00', 'enddate': '2023-04-19T09:00:00', 'presences': [{'id': '89d1e684-ae0f-11ed-9bd8-0242ac110002', 'invitationType': {'id': 'e871403c-a79c-11ed-b76e-0242ac110002'}}, {'id': '89d1f2d2-ae0f-11ed-9bd8-0242ac110002', 'invitationType': {'id': 'e871403c-a79c-11ed-b76e-0242ac110002'}}, {'id': '89d1f3ae-ae0f-11ed-9bd8-0242ac110002', 'invitationType': {'id': 'e871403c-a79c-11ed-b76e-0242ac110002'}}, {'id': '89d1f412-ae0f-11ed-9bd8-0242ac110002', 'invitationType': {'id': 'e871403c-a79c-11ed-b76e-0242ac110002'}}, {'id': '89d1f46c-ae0f-11ed-9bd8-0242ac110002', 'invitationType': {'id': 'e871403c-a79c-11ed-b76e-0242ac110002'}}, {'id': '89d1f4c6-ae0f-11ed-9bd8-0242ac110002', 'invitationType': {'id': 'e871403c-a79c-11ed-b76e-0242ac110002'}}, {'id': '89d1f520-ae0f-11ed-9bd8-0242ac110002', 'invitationType': {'id': 'e871403c-a79c-11ed-b76e-0242ac110002'}}, {'id': '89d1f570-ae0f-11ed-9bd8-0242ac110002', 'invitationType': {'id': 'e871403c-a79c-11ed-b76e-0242ac110002'}}, {'id': '89d1f5ca-ae0f-11ed-9bd8-0242ac110002', 'invitationType': {'id': 'e871403c-a79c-11ed-b76e-0242ac110002'}}, {'id': '89d1f624-ae0f-11ed-9bd8-0242ac110002', 'invitationType': {'id': 'e871403c-a79c-11ed-b76e-0242ac110002'}}]}]}}, {'group': {'id': '2d9dd1c8-a4a2-11ed-b9df-0242ac120003', 'name': 'Dep'}, 'user': {'id': '89d1f4e4-ae0f-11ed-9bd8-0242ac110002', 'fullname': 'Ludmila Newbie', 'events': [{'id': '45b2df80-ae0f-11ed-9bd8-0242ac110002', 'name': 'Zkouška', 'startdate': '2023-04-19T08:00:00', 'enddate': '2023-04-19T09:00:00', 'presences': [{'id': '89d1e684-ae0f-11ed-9bd8-0242ac110002', 'invitationType': {'id': 'e871403c-a79c-11ed-b76e-0242ac110002'}}, {'id': '89d1f2d2-ae0f-11ed-9bd8-0242ac110002', 'invitationType': {'id': 'e871403c-a79c-11ed-b76e-0242ac110002'}}, {'id': '89d1f3ae-ae0f-11ed-9bd8-0242ac110002', 'invitationType': {'id': 'e871403c-a79c-11ed-b76e-0242ac110002'}}, {'id': '89d1f412-ae0f-11ed-9bd8-0242ac110002', 'invitationType': {'id': 'e871403c-a79c-11ed-b76e-0242ac110002'}}, {'id': '89d1f46c-ae0f-11ed-9bd8-0242ac110002', 'invitationType': {'id': 'e871403c-a79c-11ed-b76e-0242ac110002'}}, {'id': '89d1f4c6-ae0f-11ed-9bd8-0242ac110002', 'invitationType': {'id': 'e871403c-a79c-11ed-b76e-0242ac110002'}}, {'id': '89d1f520-ae0f-11ed-9bd8-0242ac110002', 'invitationType': {'id': 'e871403c-a79c-11ed-b76e-0242ac110002'}}, {'id': '89d1f570-ae0f-11ed-9bd8-0242ac110002', 'invitationType': {'id': 'e871403c-a79c-11ed-b76e-0242ac110002'}}, {'id': '89d1f5ca-ae0f-11ed-9bd8-0242ac110002', 'invitationType': {'id': 'e871403c-a79c-11ed-b76e-0242ac110002'}}, {'id': '89d1f624-ae0f-11ed-9bd8-0242ac110002', 'invitationType': {'id': 'e871403c-a79c-11ed-b76e-0242ac110002'}}]}]}}, {'group': {'id': '2d9dd1c8-a4a2-11ed-b9df-0242ac120003', 'name': 'Dep'}, 'user': {'id': '89d1f534-ae0f-11ed-9bd8-0242ac110002', 'fullname': 'Lucie Newbie', 'events': [{'id': '45b2df80-ae0f-11ed-9bd8-0242ac110002', 'name': 'Zkouška', 'startdate': '2023-04-19T08:00:00', 'enddate': '2023-04-19T09:00:00', 'presences': [{'id': '89d1e684-ae0f-11ed-9bd8-0242ac110002', 'invitationType': {'id': 'e871403c-a79c-11ed-b76e-0242ac110002'}}, {'id': '89d1f2d2-ae0f-11ed-9bd8-0242ac110002', 'invitationType': {'id': 'e871403c-a79c-11ed-b76e-0242ac110002'}}, {'id': '89d1f3ae-ae0f-11ed-9bd8-0242ac110002', 'invitationType': {'id': 'e871403c-a79c-11ed-b76e-0242ac110002'}}, {'id': '89d1f412-ae0f-11ed-9bd8-0242ac110002', 'invitationType': {'id': 'e871403c-a79c-11ed-b76e-0242ac110002'}}, {'id': '89d1f46c-ae0f-11ed-9bd8-0242ac110002', 'invitationType': {'id': 'e871403c-a79c-11ed-b76e-0242ac110002'}}, {'id': '89d1f4c6-ae0f-11ed-9bd8-0242ac110002', 'invitationType': {'id': 'e871403c-a79c-11ed-b76e-0242ac110002'}}, {'id': '89d1f520-ae0f-11ed-9bd8-0242ac110002', 'invitationType': {'id': 'e871403c-a79c-11ed-b76e-0242ac110002'}}, {'id': '89d1f570-ae0f-11ed-9bd8-0242ac110002', 'invitationType': {'id': 'e871403c-a79c-11ed-b76e-0242ac110002'}}, {'id': '89d1f5ca-ae0f-11ed-9bd8-0242ac110002', 'invitationType': {'id': 'e871403c-a79c-11ed-b76e-0242ac110002'}}, {'id': '89d1f624-ae0f-11ed-9bd8-0242ac110002', 'invitationType': {'id': 'e871403c-a79c-11ed-b76e-0242ac110002'}}]}]}}, {'group': {'id': '2d9dd1c8-a4a2-11ed-b9df-0242ac120003', 'name': 'Dep'}, 'user': {'id': '89d1f58e-ae0f-11ed-9bd8-0242ac110002', 'fullname': 'Nola Newbie', 'events': [{'id': '45b2df80-ae0f-11ed-9bd8-0242ac110002', 'name': 'Zkouška', 'startdate': '2023-04-19T08:00:00', 'enddate': '2023-04-19T09:00:00', 'presences': [{'id': '89d1e684-ae0f-11ed-9bd8-0242ac110002', 'invitationType': {'id': 'e871403c-a79c-11ed-b76e-0242ac110002'}}, {'id': '89d1f2d2-ae0f-11ed-9bd8-0242ac110002', 'invitationType': {'id': 'e871403c-a79c-11ed-b76e-0242ac110002'}}, {'id': '89d1f3ae-ae0f-11ed-9bd8-0242ac110002', 'invitationType': {'id': 'e871403c-a79c-11ed-b76e-0242ac110002'}}, {'id': '89d1f412-ae0f-11ed-9bd8-0242ac110002', 'invitationType': {'id': 'e871403c-a79c-11ed-b76e-0242ac110002'}}, {'id': '89d1f46c-ae0f-11ed-9bd8-0242ac110002', 'invitationType': {'id': 'e871403c-a79c-11ed-b76e-0242ac110002'}}, {'id': '89d1f4c6-ae0f-11ed-9bd8-0242ac110002', 'invitationType': {'id': 'e871403c-a79c-11ed-b76e-0242ac110002'}}, {'id': '89d1f520-ae0f-11ed-9bd8-0242ac110002', 'invitationType': {'id': 'e871403c-a79c-11ed-b76e-0242ac110002'}}, {'id': '89d1f570-ae0f-11ed-9bd8-0242ac110002', 'invitationType': {'id': 'e871403c-a79c-11ed-b76e-0242ac110002'}}, {'id': '89d1f5ca-ae0f-11ed-9bd8-0242ac110002', 'invitationType': {'id': 'e871403c-a79c-11ed-b76e-0242ac110002'}}, {'id': '89d1f624-ae0f-11ed-9bd8-0242ac110002', 'invitationType': {'id': 'e871403c-a79c-11ed-b76e-0242ac110002'}}]}]}}, {'group': {'id': '2d9dd1c8-a4a2-11ed-b9df-0242ac120003', 'name': 'Dep'}, 'user': {'id': '89d1f5de-ae0f-11ed-9bd8-0242ac110002', 'fullname': 'Neva Newbie', 'events': [{'id': '45b2df80-ae0f-11ed-9bd8-0242ac110002', 'name': 'Zkouška', 'startdate': '2023-04-19T08:00:00', 'enddate': '2023-04-19T09:00:00', 'presences': [{'id': '89d1e684-ae0f-11ed-9bd8-0242ac110002', 'invitationType': {'id': 'e871403c-a79c-11ed-b76e-0242ac110002'}}, {'id': '89d1f2d2-ae0f-11ed-9bd8-0242ac110002', 'invitationType': {'id': 'e871403c-a79c-11ed-b76e-0242ac110002'}}, {'id': '89d1f3ae-ae0f-11ed-9bd8-0242ac110002', 'invitationType': {'id': 'e871403c-a79c-11ed-b76e-0242ac110002'}}, {'id': '89d1f412-ae0f-11ed-9bd8-0242ac110002', 'invitationType': {'id': 'e871403c-a79c-11ed-b76e-0242ac110002'}}, {'id': '89d1f46c-ae0f-11ed-9bd8-0242ac110002', 'invitationType': {'id': 'e871403c-a79c-11ed-b76e-0242ac110002'}}, {'id': '89d1f4c6-ae0f-11ed-9bd8-0242ac110002', 'invitationType': {'id': 'e871403c-a79c-11ed-b76e-0242ac110002'}}, {'id': '89d1f520-ae0f-11ed-9bd8-0242ac110002', 'invitationType': {'id': 'e871403c-a79c-11ed-b76e-0242ac110002'}}, {'id': '89d1f570-ae0f-11ed-9bd8-0242ac110002', 'invitationType': {'id': 'e871403c-a79c-11ed-b76e-0242ac110002'}}, {'id': '89d1f5ca-ae0f-11ed-9bd8-0242ac110002', 'invitationType': {'id': 'e871403c-a79c-11ed-b76e-0242ac110002'}}, {'id': '89d1f624-ae0f-11ed-9bd8-0242ac110002', 'invitationType': {'id': 'e871403c-a79c-11ed-b76e-0242ac110002'}}]}]}}, {'group': {'id': '2d9dd1c8-a4a2-11ed-b9df-0242ac120003', 'name': 'Dep'}, 'user': {'id': '89d1f638-ae0f-11ed-9bd8-0242ac110002', 'fullname': 'Nora Newbie', 'events': [{'id': '45b2df80-ae0f-11ed-9bd8-0242ac110002', 'name': 'Zkouška', 'startdate': '2023-04-19T08:00:00', 'enddate': '2023-04-19T09:00:00', 'presences': [{'id': '89d1e684-ae0f-11ed-9bd8-0242ac110002', 'invitationType': {'id': 'e871403c-a79c-11ed-b76e-0242ac110002'}}, {'id': '89d1f2d2-ae0f-11ed-9bd8-0242ac110002', 'invitationType': {'id': 'e871403c-a79c-11ed-b76e-0242ac110002'}}, {'id': '89d1f3ae-ae0f-11ed-9bd8-0242ac110002', 'invitationType': {'id': 'e871403c-a79c-11ed-b76e-0242ac110002'}}, {'id': '89d1f412-ae0f-11ed-9bd8-0242ac110002', 'invitationType': {'id': 'e871403c-a79c-11ed-b76e-0242ac110002'}}, {'id': '89d1f46c-ae0f-11ed-9bd8-0242ac110002', 'invitationType': {'id': 'e871403c-a79c-11ed-b76e-0242ac110002'}}, {'id': '89d1f4c6-ae0f-11ed-9bd8-0242ac110002', 'invitationType': {'id': 'e871403c-a79c-11ed-b76e-0242ac110002'}}, {'id': '89d1f520-ae0f-11ed-9bd8-0242ac110002', 'invitationType': {'id': 'e871403c-a79c-11ed-b76e-0242ac110002'}}, {'id': '89d1f570-ae0f-11ed-9bd8-0242ac110002', 'invitationType': {'id': 'e871403c-a79c-11ed-b76e-0242ac110002'}}, {'id': '89d1f5ca-ae0f-11ed-9bd8-0242ac110002', 'invitationType': {'id': 'e871403c-a79c-11ed-b76e-0242ac110002'}}, {'id': '89d1f624-ae0f-11ed-9bd8-0242ac110002', 'invitationType': {'id': 'e871403c-a79c-11ed-b76e-0242ac110002'}}]}]}}]}, {'memberships': []}, {'memberships': []}, {'memberships': []}, {'memberships': []}, {'memberships': []}, {'memberships': []}, {'memberships': []}]}}\n",
      "Data: {'groupPage': [{'memberships': [{'group': {'id': '2d9dcd22-a4a2-11ed-b9df-0242ac120003', 'name': 'Uni'}, 'user': {'id': '2d9dc5ca-a4a2-11ed-b9df-0242ac120003', 'fullname': 'John Newbie', 'events': []}}, {'group': {'id': '2d9dcd22-a4a2-11ed-b9df-0242ac120003', 'name': 'Uni'}, 'user': {'id': '2d9dc868-a4a2-11ed-b9df-0242ac120003', 'fullname': 'Julia Newbie', 'events': []}}, {'group': {'id': '2d9dcd22-a4a2-11ed-b9df-0242ac120003', 'name': 'Uni'}, 'user': {'id': '2d9dc9a8-a4a2-11ed-b9df-0242ac120003', 'fullname': 'Johnson Newbie', 'events': []}}, {'group': {'id': '2d9dcd22-a4a2-11ed-b9df-0242ac120003', 'name': 'Uni'}, 'user': {'id': '2d9dcbec-a4a2-11ed-b9df-0242ac120003', 'fullname': 'Jepeto Newbie', 'events': []}}, {'group': {'id': '2d9dcd22-a4a2-11ed-b9df-0242ac120003', 'name': 'Uni'}, 'user': {'id': '89d1e724-ae0f-11ed-9bd8-0242ac110002', 'fullname': 'Jana Newbie', 'events': [{'id': '45b2df80-ae0f-11ed-9bd8-0242ac110002', 'name': 'Zkouška', 'startdate': '2023-04-19T08:00:00', 'enddate': '2023-04-19T09:00:00', 'presences': [{'id': '89d1e684-ae0f-11ed-9bd8-0242ac110002', 'invitationType': {'id': 'e871403c-a79c-11ed-b76e-0242ac110002'}}, {'id': '89d1f2d2-ae0f-11ed-9bd8-0242ac110002', 'invitationType': {'id': 'e871403c-a79c-11ed-b76e-0242ac110002'}}, {'id': '89d1f3ae-ae0f-11ed-9bd8-0242ac110002', 'invitationType': {'id': 'e871403c-a79c-11ed-b76e-0242ac110002'}}, {'id': '89d1f412-ae0f-11ed-9bd8-0242ac110002', 'invitationType': {'id': 'e871403c-a79c-11ed-b76e-0242ac110002'}}, {'id': '89d1f46c-ae0f-11ed-9bd8-0242ac110002', 'invitationType': {'id': 'e871403c-a79c-11ed-b76e-0242ac110002'}}, {'id': '89d1f4c6-ae0f-11ed-9bd8-0242ac110002', 'invitationType': {'id': 'e871403c-a79c-11ed-b76e-0242ac110002'}}, {'id': '89d1f520-ae0f-11ed-9bd8-0242ac110002', 'invitationType': {'id': 'e871403c-a79c-11ed-b76e-0242ac110002'}}, {'id': '89d1f570-ae0f-11ed-9bd8-0242ac110002', 'invitationType': {'id': 'e871403c-a79c-11ed-b76e-0242ac110002'}}, {'id': '89d1f5ca-ae0f-11ed-9bd8-0242ac110002', 'invitationType': {'id': 'e871403c-a79c-11ed-b76e-0242ac110002'}}, {'id': '89d1f624-ae0f-11ed-9bd8-0242ac110002', 'invitationType': {'id': 'e871403c-a79c-11ed-b76e-0242ac110002'}}]}]}}, {'group': {'id': '2d9dcd22-a4a2-11ed-b9df-0242ac120003', 'name': 'Uni'}, 'user': {'id': '89d1f34a-ae0f-11ed-9bd8-0242ac110002', 'fullname': 'Jolana Newbie', 'events': [{'id': '45b2df80-ae0f-11ed-9bd8-0242ac110002', 'name': 'Zkouška', 'startdate': '2023-04-19T08:00:00', 'enddate': '2023-04-19T09:00:00', 'presences': [{'id': '89d1e684-ae0f-11ed-9bd8-0242ac110002', 'invitationType': {'id': 'e871403c-a79c-11ed-b76e-0242ac110002'}}, {'id': '89d1f2d2-ae0f-11ed-9bd8-0242ac110002', 'invitationType': {'id': 'e871403c-a79c-11ed-b76e-0242ac110002'}}, {'id': '89d1f3ae-ae0f-11ed-9bd8-0242ac110002', 'invitationType': {'id': 'e871403c-a79c-11ed-b76e-0242ac110002'}}, {'id': '89d1f412-ae0f-11ed-9bd8-0242ac110002', 'invitationType': {'id': 'e871403c-a79c-11ed-b76e-0242ac110002'}}, {'id': '89d1f46c-ae0f-11ed-9bd8-0242ac110002', 'invitationType': {'id': 'e871403c-a79c-11ed-b76e-0242ac110002'}}, {'id': '89d1f4c6-ae0f-11ed-9bd8-0242ac110002', 'invitationType': {'id': 'e871403c-a79c-11ed-b76e-0242ac110002'}}, {'id': '89d1f520-ae0f-11ed-9bd8-0242ac110002', 'invitationType': {'id': 'e871403c-a79c-11ed-b76e-0242ac110002'}}, {'id': '89d1f570-ae0f-11ed-9bd8-0242ac110002', 'invitationType': {'id': 'e871403c-a79c-11ed-b76e-0242ac110002'}}, {'id': '89d1f5ca-ae0f-11ed-9bd8-0242ac110002', 'invitationType': {'id': 'e871403c-a79c-11ed-b76e-0242ac110002'}}, {'id': '89d1f624-ae0f-11ed-9bd8-0242ac110002', 'invitationType': {'id': 'e871403c-a79c-11ed-b76e-0242ac110002'}}]}]}}, {'group': {'id': '2d9dcd22-a4a2-11ed-b9df-0242ac120003', 'name': 'Uni'}, 'user': {'id': '89d1f3cc-ae0f-11ed-9bd8-0242ac110002', 'fullname': 'Jitka Newbie', 'events': [{'id': '45b2df80-ae0f-11ed-9bd8-0242ac110002', 'name': 'Zkouška', 'startdate': '2023-04-19T08:00:00', 'enddate': '2023-04-19T09:00:00', 'presences': [{'id': '89d1e684-ae0f-11ed-9bd8-0242ac110002', 'invitationType': {'id': 'e871403c-a79c-11ed-b76e-0242ac110002'}}, {'id': '89d1f2d2-ae0f-11ed-9bd8-0242ac110002', 'invitationType': {'id': 'e871403c-a79c-11ed-b76e-0242ac110002'}}, {'id': '89d1f3ae-ae0f-11ed-9bd8-0242ac110002', 'invitationType': {'id': 'e871403c-a79c-11ed-b76e-0242ac110002'}}, {'id': '89d1f412-ae0f-11ed-9bd8-0242ac110002', 'invitationType': {'id': 'e871403c-a79c-11ed-b76e-0242ac110002'}}, {'id': '89d1f46c-ae0f-11ed-9bd8-0242ac110002', 'invitationType': {'id': 'e871403c-a79c-11ed-b76e-0242ac110002'}}, {'id': '89d1f4c6-ae0f-11ed-9bd8-0242ac110002', 'invitationType': {'id': 'e871403c-a79c-11ed-b76e-0242ac110002'}}, {'id': '89d1f520-ae0f-11ed-9bd8-0242ac110002', 'invitationType': {'id': 'e871403c-a79c-11ed-b76e-0242ac110002'}}, {'id': '89d1f570-ae0f-11ed-9bd8-0242ac110002', 'invitationType': {'id': 'e871403c-a79c-11ed-b76e-0242ac110002'}}, {'id': '89d1f5ca-ae0f-11ed-9bd8-0242ac110002', 'invitationType': {'id': 'e871403c-a79c-11ed-b76e-0242ac110002'}}, {'id': '89d1f624-ae0f-11ed-9bd8-0242ac110002', 'invitationType': {'id': 'e871403c-a79c-11ed-b76e-0242ac110002'}}]}]}}, {'group': {'id': '2d9dcd22-a4a2-11ed-b9df-0242ac120003', 'name': 'Uni'}, 'user': {'id': '89d1f430-ae0f-11ed-9bd8-0242ac110002', 'fullname': 'Jaroslava Newbie', 'events': [{'id': '45b2df80-ae0f-11ed-9bd8-0242ac110002', 'name': 'Zkouška', 'startdate': '2023-04-19T08:00:00', 'enddate': '2023-04-19T09:00:00', 'presences': [{'id': '89d1e684-ae0f-11ed-9bd8-0242ac110002', 'invitationType': {'id': 'e871403c-a79c-11ed-b76e-0242ac110002'}}, {'id': '89d1f2d2-ae0f-11ed-9bd8-0242ac110002', 'invitationType': {'id': 'e871403c-a79c-11ed-b76e-0242ac110002'}}, {'id': '89d1f3ae-ae0f-11ed-9bd8-0242ac110002', 'invitationType': {'id': 'e871403c-a79c-11ed-b76e-0242ac110002'}}, {'id': '89d1f412-ae0f-11ed-9bd8-0242ac110002', 'invitationType': {'id': 'e871403c-a79c-11ed-b76e-0242ac110002'}}, {'id': '89d1f46c-ae0f-11ed-9bd8-0242ac110002', 'invitationType': {'id': 'e871403c-a79c-11ed-b76e-0242ac110002'}}, {'id': '89d1f4c6-ae0f-11ed-9bd8-0242ac110002', 'invitationType': {'id': 'e871403c-a79c-11ed-b76e-0242ac110002'}}, {'id': '89d1f520-ae0f-11ed-9bd8-0242ac110002', 'invitationType': {'id': 'e871403c-a79c-11ed-b76e-0242ac110002'}}, {'id': '89d1f570-ae0f-11ed-9bd8-0242ac110002', 'invitationType': {'id': 'e871403c-a79c-11ed-b76e-0242ac110002'}}, {'id': '89d1f5ca-ae0f-11ed-9bd8-0242ac110002', 'invitationType': {'id': 'e871403c-a79c-11ed-b76e-0242ac110002'}}, {'id': '89d1f624-ae0f-11ed-9bd8-0242ac110002', 'invitationType': {'id': 'e871403c-a79c-11ed-b76e-0242ac110002'}}]}]}}, {'group': {'id': '2d9dcd22-a4a2-11ed-b9df-0242ac120003', 'name': 'Uni'}, 'user': {'id': '89d1f48a-ae0f-11ed-9bd8-0242ac110002', 'fullname': 'Lada Newbie', 'events': [{'id': '45b2df80-ae0f-11ed-9bd8-0242ac110002', 'name': 'Zkouška', 'startdate': '2023-04-19T08:00:00', 'enddate': '2023-04-19T09:00:00', 'presences': [{'id': '89d1e684-ae0f-11ed-9bd8-0242ac110002', 'invitationType': {'id': 'e871403c-a79c-11ed-b76e-0242ac110002'}}, {'id': '89d1f2d2-ae0f-11ed-9bd8-0242ac110002', 'invitationType': {'id': 'e871403c-a79c-11ed-b76e-0242ac110002'}}, {'id': '89d1f3ae-ae0f-11ed-9bd8-0242ac110002', 'invitationType': {'id': 'e871403c-a79c-11ed-b76e-0242ac110002'}}, {'id': '89d1f412-ae0f-11ed-9bd8-0242ac110002', 'invitationType': {'id': 'e871403c-a79c-11ed-b76e-0242ac110002'}}, {'id': '89d1f46c-ae0f-11ed-9bd8-0242ac110002', 'invitationType': {'id': 'e871403c-a79c-11ed-b76e-0242ac110002'}}, {'id': '89d1f4c6-ae0f-11ed-9bd8-0242ac110002', 'invitationType': {'id': 'e871403c-a79c-11ed-b76e-0242ac110002'}}, {'id': '89d1f520-ae0f-11ed-9bd8-0242ac110002', 'invitationType': {'id': 'e871403c-a79c-11ed-b76e-0242ac110002'}}, {'id': '89d1f570-ae0f-11ed-9bd8-0242ac110002', 'invitationType': {'id': 'e871403c-a79c-11ed-b76e-0242ac110002'}}, {'id': '89d1f5ca-ae0f-11ed-9bd8-0242ac110002', 'invitationType': {'id': 'e871403c-a79c-11ed-b76e-0242ac110002'}}, {'id': '89d1f624-ae0f-11ed-9bd8-0242ac110002', 'invitationType': {'id': 'e871403c-a79c-11ed-b76e-0242ac110002'}}]}]}}, {'group': {'id': '2d9dcd22-a4a2-11ed-b9df-0242ac120003', 'name': 'Uni'}, 'user': {'id': '89d1f4e4-ae0f-11ed-9bd8-0242ac110002', 'fullname': 'Ludmila Newbie', 'events': [{'id': '45b2df80-ae0f-11ed-9bd8-0242ac110002', 'name': 'Zkouška', 'startdate': '2023-04-19T08:00:00', 'enddate': '2023-04-19T09:00:00', 'presences': [{'id': '89d1e684-ae0f-11ed-9bd8-0242ac110002', 'invitationType': {'id': 'e871403c-a79c-11ed-b76e-0242ac110002'}}, {'id': '89d1f2d2-ae0f-11ed-9bd8-0242ac110002', 'invitationType': {'id': 'e871403c-a79c-11ed-b76e-0242ac110002'}}, {'id': '89d1f3ae-ae0f-11ed-9bd8-0242ac110002', 'invitationType': {'id': 'e871403c-a79c-11ed-b76e-0242ac110002'}}, {'id': '89d1f412-ae0f-11ed-9bd8-0242ac110002', 'invitationType': {'id': 'e871403c-a79c-11ed-b76e-0242ac110002'}}, {'id': '89d1f46c-ae0f-11ed-9bd8-0242ac110002', 'invitationType': {'id': 'e871403c-a79c-11ed-b76e-0242ac110002'}}, {'id': '89d1f4c6-ae0f-11ed-9bd8-0242ac110002', 'invitationType': {'id': 'e871403c-a79c-11ed-b76e-0242ac110002'}}, {'id': '89d1f520-ae0f-11ed-9bd8-0242ac110002', 'invitationType': {'id': 'e871403c-a79c-11ed-b76e-0242ac110002'}}, {'id': '89d1f570-ae0f-11ed-9bd8-0242ac110002', 'invitationType': {'id': 'e871403c-a79c-11ed-b76e-0242ac110002'}}, {'id': '89d1f5ca-ae0f-11ed-9bd8-0242ac110002', 'invitationType': {'id': 'e871403c-a79c-11ed-b76e-0242ac110002'}}, {'id': '89d1f624-ae0f-11ed-9bd8-0242ac110002', 'invitationType': {'id': 'e871403c-a79c-11ed-b76e-0242ac110002'}}]}]}}, {'group': {'id': '2d9dcd22-a4a2-11ed-b9df-0242ac120003', 'name': 'Uni'}, 'user': {'id': '89d1f534-ae0f-11ed-9bd8-0242ac110002', 'fullname': 'Lucie Newbie', 'events': [{'id': '45b2df80-ae0f-11ed-9bd8-0242ac110002', 'name': 'Zkouška', 'startdate': '2023-04-19T08:00:00', 'enddate': '2023-04-19T09:00:00', 'presences': [{'id': '89d1e684-ae0f-11ed-9bd8-0242ac110002', 'invitationType': {'id': 'e871403c-a79c-11ed-b76e-0242ac110002'}}, {'id': '89d1f2d2-ae0f-11ed-9bd8-0242ac110002', 'invitationType': {'id': 'e871403c-a79c-11ed-b76e-0242ac110002'}}, {'id': '89d1f3ae-ae0f-11ed-9bd8-0242ac110002', 'invitationType': {'id': 'e871403c-a79c-11ed-b76e-0242ac110002'}}, {'id': '89d1f412-ae0f-11ed-9bd8-0242ac110002', 'invitationType': {'id': 'e871403c-a79c-11ed-b76e-0242ac110002'}}, {'id': '89d1f46c-ae0f-11ed-9bd8-0242ac110002', 'invitationType': {'id': 'e871403c-a79c-11ed-b76e-0242ac110002'}}, {'id': '89d1f4c6-ae0f-11ed-9bd8-0242ac110002', 'invitationType': {'id': 'e871403c-a79c-11ed-b76e-0242ac110002'}}, {'id': '89d1f520-ae0f-11ed-9bd8-0242ac110002', 'invitationType': {'id': 'e871403c-a79c-11ed-b76e-0242ac110002'}}, {'id': '89d1f570-ae0f-11ed-9bd8-0242ac110002', 'invitationType': {'id': 'e871403c-a79c-11ed-b76e-0242ac110002'}}, {'id': '89d1f5ca-ae0f-11ed-9bd8-0242ac110002', 'invitationType': {'id': 'e871403c-a79c-11ed-b76e-0242ac110002'}}, {'id': '89d1f624-ae0f-11ed-9bd8-0242ac110002', 'invitationType': {'id': 'e871403c-a79c-11ed-b76e-0242ac110002'}}]}]}}, {'group': {'id': '2d9dcd22-a4a2-11ed-b9df-0242ac120003', 'name': 'Uni'}, 'user': {'id': '89d1f58e-ae0f-11ed-9bd8-0242ac110002', 'fullname': 'Nola Newbie', 'events': [{'id': '45b2df80-ae0f-11ed-9bd8-0242ac110002', 'name': 'Zkouška', 'startdate': '2023-04-19T08:00:00', 'enddate': '2023-04-19T09:00:00', 'presences': [{'id': '89d1e684-ae0f-11ed-9bd8-0242ac110002', 'invitationType': {'id': 'e871403c-a79c-11ed-b76e-0242ac110002'}}, {'id': '89d1f2d2-ae0f-11ed-9bd8-0242ac110002', 'invitationType': {'id': 'e871403c-a79c-11ed-b76e-0242ac110002'}}, {'id': '89d1f3ae-ae0f-11ed-9bd8-0242ac110002', 'invitationType': {'id': 'e871403c-a79c-11ed-b76e-0242ac110002'}}, {'id': '89d1f412-ae0f-11ed-9bd8-0242ac110002', 'invitationType': {'id': 'e871403c-a79c-11ed-b76e-0242ac110002'}}, {'id': '89d1f46c-ae0f-11ed-9bd8-0242ac110002', 'invitationType': {'id': 'e871403c-a79c-11ed-b76e-0242ac110002'}}, {'id': '89d1f4c6-ae0f-11ed-9bd8-0242ac110002', 'invitationType': {'id': 'e871403c-a79c-11ed-b76e-0242ac110002'}}, {'id': '89d1f520-ae0f-11ed-9bd8-0242ac110002', 'invitationType': {'id': 'e871403c-a79c-11ed-b76e-0242ac110002'}}, {'id': '89d1f570-ae0f-11ed-9bd8-0242ac110002', 'invitationType': {'id': 'e871403c-a79c-11ed-b76e-0242ac110002'}}, {'id': '89d1f5ca-ae0f-11ed-9bd8-0242ac110002', 'invitationType': {'id': 'e871403c-a79c-11ed-b76e-0242ac110002'}}, {'id': '89d1f624-ae0f-11ed-9bd8-0242ac110002', 'invitationType': {'id': 'e871403c-a79c-11ed-b76e-0242ac110002'}}]}]}}, {'group': {'id': '2d9dcd22-a4a2-11ed-b9df-0242ac120003', 'name': 'Uni'}, 'user': {'id': '89d1f5de-ae0f-11ed-9bd8-0242ac110002', 'fullname': 'Neva Newbie', 'events': [{'id': '45b2df80-ae0f-11ed-9bd8-0242ac110002', 'name': 'Zkouška', 'startdate': '2023-04-19T08:00:00', 'enddate': '2023-04-19T09:00:00', 'presences': [{'id': '89d1e684-ae0f-11ed-9bd8-0242ac110002', 'invitationType': {'id': 'e871403c-a79c-11ed-b76e-0242ac110002'}}, {'id': '89d1f2d2-ae0f-11ed-9bd8-0242ac110002', 'invitationType': {'id': 'e871403c-a79c-11ed-b76e-0242ac110002'}}, {'id': '89d1f3ae-ae0f-11ed-9bd8-0242ac110002', 'invitationType': {'id': 'e871403c-a79c-11ed-b76e-0242ac110002'}}, {'id': '89d1f412-ae0f-11ed-9bd8-0242ac110002', 'invitationType': {'id': 'e871403c-a79c-11ed-b76e-0242ac110002'}}, {'id': '89d1f46c-ae0f-11ed-9bd8-0242ac110002', 'invitationType': {'id': 'e871403c-a79c-11ed-b76e-0242ac110002'}}, {'id': '89d1f4c6-ae0f-11ed-9bd8-0242ac110002', 'invitationType': {'id': 'e871403c-a79c-11ed-b76e-0242ac110002'}}, {'id': '89d1f520-ae0f-11ed-9bd8-0242ac110002', 'invitationType': {'id': 'e871403c-a79c-11ed-b76e-0242ac110002'}}, {'id': '89d1f570-ae0f-11ed-9bd8-0242ac110002', 'invitationType': {'id': 'e871403c-a79c-11ed-b76e-0242ac110002'}}, {'id': '89d1f5ca-ae0f-11ed-9bd8-0242ac110002', 'invitationType': {'id': 'e871403c-a79c-11ed-b76e-0242ac110002'}}, {'id': '89d1f624-ae0f-11ed-9bd8-0242ac110002', 'invitationType': {'id': 'e871403c-a79c-11ed-b76e-0242ac110002'}}]}]}}, {'group': {'id': '2d9dcd22-a4a2-11ed-b9df-0242ac120003', 'name': 'Uni'}, 'user': {'id': '89d1f638-ae0f-11ed-9bd8-0242ac110002', 'fullname': 'Nora Newbie', 'events': [{'id': '45b2df80-ae0f-11ed-9bd8-0242ac110002', 'name': 'Zkouška', 'startdate': '2023-04-19T08:00:00', 'enddate': '2023-04-19T09:00:00', 'presences': [{'id': '89d1e684-ae0f-11ed-9bd8-0242ac110002', 'invitationType': {'id': 'e871403c-a79c-11ed-b76e-0242ac110002'}}, {'id': '89d1f2d2-ae0f-11ed-9bd8-0242ac110002', 'invitationType': {'id': 'e871403c-a79c-11ed-b76e-0242ac110002'}}, {'id': '89d1f3ae-ae0f-11ed-9bd8-0242ac110002', 'invitationType': {'id': 'e871403c-a79c-11ed-b76e-0242ac110002'}}, {'id': '89d1f412-ae0f-11ed-9bd8-0242ac110002', 'invitationType': {'id': 'e871403c-a79c-11ed-b76e-0242ac110002'}}, {'id': '89d1f46c-ae0f-11ed-9bd8-0242ac110002', 'invitationType': {'id': 'e871403c-a79c-11ed-b76e-0242ac110002'}}, {'id': '89d1f4c6-ae0f-11ed-9bd8-0242ac110002', 'invitationType': {'id': 'e871403c-a79c-11ed-b76e-0242ac110002'}}, {'id': '89d1f520-ae0f-11ed-9bd8-0242ac110002', 'invitationType': {'id': 'e871403c-a79c-11ed-b76e-0242ac110002'}}, {'id': '89d1f570-ae0f-11ed-9bd8-0242ac110002', 'invitationType': {'id': 'e871403c-a79c-11ed-b76e-0242ac110002'}}, {'id': '89d1f5ca-ae0f-11ed-9bd8-0242ac110002', 'invitationType': {'id': 'e871403c-a79c-11ed-b76e-0242ac110002'}}, {'id': '89d1f624-ae0f-11ed-9bd8-0242ac110002', 'invitationType': {'id': 'e871403c-a79c-11ed-b76e-0242ac110002'}}]}]}}]}, {'memberships': [{'group': {'id': '2d9dced0-a4a2-11ed-b9df-0242ac120003', 'name': 'Fac'}, 'user': {'id': '2d9dc5ca-a4a2-11ed-b9df-0242ac120003', 'fullname': 'John Newbie', 'events': []}}, {'group': {'id': '2d9dced0-a4a2-11ed-b9df-0242ac120003', 'name': 'Fac'}, 'user': {'id': '2d9dc868-a4a2-11ed-b9df-0242ac120003', 'fullname': 'Julia Newbie', 'events': []}}, {'group': {'id': '2d9dced0-a4a2-11ed-b9df-0242ac120003', 'name': 'Fac'}, 'user': {'id': '2d9dc9a8-a4a2-11ed-b9df-0242ac120003', 'fullname': 'Johnson Newbie', 'events': []}}, {'group': {'id': '2d9dced0-a4a2-11ed-b9df-0242ac120003', 'name': 'Fac'}, 'user': {'id': '2d9dcbec-a4a2-11ed-b9df-0242ac120003', 'fullname': 'Jepeto Newbie', 'events': []}}, {'group': {'id': '2d9dced0-a4a2-11ed-b9df-0242ac120003', 'name': 'Fac'}, 'user': {'id': '89d1e724-ae0f-11ed-9bd8-0242ac110002', 'fullname': 'Jana Newbie', 'events': [{'id': '45b2df80-ae0f-11ed-9bd8-0242ac110002', 'name': 'Zkouška', 'startdate': '2023-04-19T08:00:00', 'enddate': '2023-04-19T09:00:00', 'presences': [{'id': '89d1e684-ae0f-11ed-9bd8-0242ac110002', 'invitationType': {'id': 'e871403c-a79c-11ed-b76e-0242ac110002'}}, {'id': '89d1f2d2-ae0f-11ed-9bd8-0242ac110002', 'invitationType': {'id': 'e871403c-a79c-11ed-b76e-0242ac110002'}}, {'id': '89d1f3ae-ae0f-11ed-9bd8-0242ac110002', 'invitationType': {'id': 'e871403c-a79c-11ed-b76e-0242ac110002'}}, {'id': '89d1f412-ae0f-11ed-9bd8-0242ac110002', 'invitationType': {'id': 'e871403c-a79c-11ed-b76e-0242ac110002'}}, {'id': '89d1f46c-ae0f-11ed-9bd8-0242ac110002', 'invitationType': {'id': 'e871403c-a79c-11ed-b76e-0242ac110002'}}, {'id': '89d1f4c6-ae0f-11ed-9bd8-0242ac110002', 'invitationType': {'id': 'e871403c-a79c-11ed-b76e-0242ac110002'}}, {'id': '89d1f520-ae0f-11ed-9bd8-0242ac110002', 'invitationType': {'id': 'e871403c-a79c-11ed-b76e-0242ac110002'}}, {'id': '89d1f570-ae0f-11ed-9bd8-0242ac110002', 'invitationType': {'id': 'e871403c-a79c-11ed-b76e-0242ac110002'}}, {'id': '89d1f5ca-ae0f-11ed-9bd8-0242ac110002', 'invitationType': {'id': 'e871403c-a79c-11ed-b76e-0242ac110002'}}, {'id': '89d1f624-ae0f-11ed-9bd8-0242ac110002', 'invitationType': {'id': 'e871403c-a79c-11ed-b76e-0242ac110002'}}]}]}}, {'group': {'id': '2d9dced0-a4a2-11ed-b9df-0242ac120003', 'name': 'Fac'}, 'user': {'id': '89d1f34a-ae0f-11ed-9bd8-0242ac110002', 'fullname': 'Jolana Newbie', 'events': [{'id': '45b2df80-ae0f-11ed-9bd8-0242ac110002', 'name': 'Zkouška', 'startdate': '2023-04-19T08:00:00', 'enddate': '2023-04-19T09:00:00', 'presences': [{'id': '89d1e684-ae0f-11ed-9bd8-0242ac110002', 'invitationType': {'id': 'e871403c-a79c-11ed-b76e-0242ac110002'}}, {'id': '89d1f2d2-ae0f-11ed-9bd8-0242ac110002', 'invitationType': {'id': 'e871403c-a79c-11ed-b76e-0242ac110002'}}, {'id': '89d1f3ae-ae0f-11ed-9bd8-0242ac110002', 'invitationType': {'id': 'e871403c-a79c-11ed-b76e-0242ac110002'}}, {'id': '89d1f412-ae0f-11ed-9bd8-0242ac110002', 'invitationType': {'id': 'e871403c-a79c-11ed-b76e-0242ac110002'}}, {'id': '89d1f46c-ae0f-11ed-9bd8-0242ac110002', 'invitationType': {'id': 'e871403c-a79c-11ed-b76e-0242ac110002'}}, {'id': '89d1f4c6-ae0f-11ed-9bd8-0242ac110002', 'invitationType': {'id': 'e871403c-a79c-11ed-b76e-0242ac110002'}}, {'id': '89d1f520-ae0f-11ed-9bd8-0242ac110002', 'invitationType': {'id': 'e871403c-a79c-11ed-b76e-0242ac110002'}}, {'id': '89d1f570-ae0f-11ed-9bd8-0242ac110002', 'invitationType': {'id': 'e871403c-a79c-11ed-b76e-0242ac110002'}}, {'id': '89d1f5ca-ae0f-11ed-9bd8-0242ac110002', 'invitationType': {'id': 'e871403c-a79c-11ed-b76e-0242ac110002'}}, {'id': '89d1f624-ae0f-11ed-9bd8-0242ac110002', 'invitationType': {'id': 'e871403c-a79c-11ed-b76e-0242ac110002'}}]}]}}, {'group': {'id': '2d9dced0-a4a2-11ed-b9df-0242ac120003', 'name': 'Fac'}, 'user': {'id': '89d1f3cc-ae0f-11ed-9bd8-0242ac110002', 'fullname': 'Jitka Newbie', 'events': [{'id': '45b2df80-ae0f-11ed-9bd8-0242ac110002', 'name': 'Zkouška', 'startdate': '2023-04-19T08:00:00', 'enddate': '2023-04-19T09:00:00', 'presences': [{'id': '89d1e684-ae0f-11ed-9bd8-0242ac110002', 'invitationType': {'id': 'e871403c-a79c-11ed-b76e-0242ac110002'}}, {'id': '89d1f2d2-ae0f-11ed-9bd8-0242ac110002', 'invitationType': {'id': 'e871403c-a79c-11ed-b76e-0242ac110002'}}, {'id': '89d1f3ae-ae0f-11ed-9bd8-0242ac110002', 'invitationType': {'id': 'e871403c-a79c-11ed-b76e-0242ac110002'}}, {'id': '89d1f412-ae0f-11ed-9bd8-0242ac110002', 'invitationType': {'id': 'e871403c-a79c-11ed-b76e-0242ac110002'}}, {'id': '89d1f46c-ae0f-11ed-9bd8-0242ac110002', 'invitationType': {'id': 'e871403c-a79c-11ed-b76e-0242ac110002'}}, {'id': '89d1f4c6-ae0f-11ed-9bd8-0242ac110002', 'invitationType': {'id': 'e871403c-a79c-11ed-b76e-0242ac110002'}}, {'id': '89d1f520-ae0f-11ed-9bd8-0242ac110002', 'invitationType': {'id': 'e871403c-a79c-11ed-b76e-0242ac110002'}}, {'id': '89d1f570-ae0f-11ed-9bd8-0242ac110002', 'invitationType': {'id': 'e871403c-a79c-11ed-b76e-0242ac110002'}}, {'id': '89d1f5ca-ae0f-11ed-9bd8-0242ac110002', 'invitationType': {'id': 'e871403c-a79c-11ed-b76e-0242ac110002'}}, {'id': '89d1f624-ae0f-11ed-9bd8-0242ac110002', 'invitationType': {'id': 'e871403c-a79c-11ed-b76e-0242ac110002'}}]}]}}, {'group': {'id': '2d9dced0-a4a2-11ed-b9df-0242ac120003', 'name': 'Fac'}, 'user': {'id': '89d1f430-ae0f-11ed-9bd8-0242ac110002', 'fullname': 'Jaroslava Newbie', 'events': [{'id': '45b2df80-ae0f-11ed-9bd8-0242ac110002', 'name': 'Zkouška', 'startdate': '2023-04-19T08:00:00', 'enddate': '2023-04-19T09:00:00', 'presences': [{'id': '89d1e684-ae0f-11ed-9bd8-0242ac110002', 'invitationType': {'id': 'e871403c-a79c-11ed-b76e-0242ac110002'}}, {'id': '89d1f2d2-ae0f-11ed-9bd8-0242ac110002', 'invitationType': {'id': 'e871403c-a79c-11ed-b76e-0242ac110002'}}, {'id': '89d1f3ae-ae0f-11ed-9bd8-0242ac110002', 'invitationType': {'id': 'e871403c-a79c-11ed-b76e-0242ac110002'}}, {'id': '89d1f412-ae0f-11ed-9bd8-0242ac110002', 'invitationType': {'id': 'e871403c-a79c-11ed-b76e-0242ac110002'}}, {'id': '89d1f46c-ae0f-11ed-9bd8-0242ac110002', 'invitationType': {'id': 'e871403c-a79c-11ed-b76e-0242ac110002'}}, {'id': '89d1f4c6-ae0f-11ed-9bd8-0242ac110002', 'invitationType': {'id': 'e871403c-a79c-11ed-b76e-0242ac110002'}}, {'id': '89d1f520-ae0f-11ed-9bd8-0242ac110002', 'invitationType': {'id': 'e871403c-a79c-11ed-b76e-0242ac110002'}}, {'id': '89d1f570-ae0f-11ed-9bd8-0242ac110002', 'invitationType': {'id': 'e871403c-a79c-11ed-b76e-0242ac110002'}}, {'id': '89d1f5ca-ae0f-11ed-9bd8-0242ac110002', 'invitationType': {'id': 'e871403c-a79c-11ed-b76e-0242ac110002'}}, {'id': '89d1f624-ae0f-11ed-9bd8-0242ac110002', 'invitationType': {'id': 'e871403c-a79c-11ed-b76e-0242ac110002'}}]}]}}, {'group': {'id': '2d9dced0-a4a2-11ed-b9df-0242ac120003', 'name': 'Fac'}, 'user': {'id': '89d1f48a-ae0f-11ed-9bd8-0242ac110002', 'fullname': 'Lada Newbie', 'events': [{'id': '45b2df80-ae0f-11ed-9bd8-0242ac110002', 'name': 'Zkouška', 'startdate': '2023-04-19T08:00:00', 'enddate': '2023-04-19T09:00:00', 'presences': [{'id': '89d1e684-ae0f-11ed-9bd8-0242ac110002', 'invitationType': {'id': 'e871403c-a79c-11ed-b76e-0242ac110002'}}, {'id': '89d1f2d2-ae0f-11ed-9bd8-0242ac110002', 'invitationType': {'id': 'e871403c-a79c-11ed-b76e-0242ac110002'}}, {'id': '89d1f3ae-ae0f-11ed-9bd8-0242ac110002', 'invitationType': {'id': 'e871403c-a79c-11ed-b76e-0242ac110002'}}, {'id': '89d1f412-ae0f-11ed-9bd8-0242ac110002', 'invitationType': {'id': 'e871403c-a79c-11ed-b76e-0242ac110002'}}, {'id': '89d1f46c-ae0f-11ed-9bd8-0242ac110002', 'invitationType': {'id': 'e871403c-a79c-11ed-b76e-0242ac110002'}}, {'id': '89d1f4c6-ae0f-11ed-9bd8-0242ac110002', 'invitationType': {'id': 'e871403c-a79c-11ed-b76e-0242ac110002'}}, {'id': '89d1f520-ae0f-11ed-9bd8-0242ac110002', 'invitationType': {'id': 'e871403c-a79c-11ed-b76e-0242ac110002'}}, {'id': '89d1f570-ae0f-11ed-9bd8-0242ac110002', 'invitationType': {'id': 'e871403c-a79c-11ed-b76e-0242ac110002'}}, {'id': '89d1f5ca-ae0f-11ed-9bd8-0242ac110002', 'invitationType': {'id': 'e871403c-a79c-11ed-b76e-0242ac110002'}}, {'id': '89d1f624-ae0f-11ed-9bd8-0242ac110002', 'invitationType': {'id': 'e871403c-a79c-11ed-b76e-0242ac110002'}}]}]}}, {'group': {'id': '2d9dced0-a4a2-11ed-b9df-0242ac120003', 'name': 'Fac'}, 'user': {'id': '89d1f4e4-ae0f-11ed-9bd8-0242ac110002', 'fullname': 'Ludmila Newbie', 'events': [{'id': '45b2df80-ae0f-11ed-9bd8-0242ac110002', 'name': 'Zkouška', 'startdate': '2023-04-19T08:00:00', 'enddate': '2023-04-19T09:00:00', 'presences': [{'id': '89d1e684-ae0f-11ed-9bd8-0242ac110002', 'invitationType': {'id': 'e871403c-a79c-11ed-b76e-0242ac110002'}}, {'id': '89d1f2d2-ae0f-11ed-9bd8-0242ac110002', 'invitationType': {'id': 'e871403c-a79c-11ed-b76e-0242ac110002'}}, {'id': '89d1f3ae-ae0f-11ed-9bd8-0242ac110002', 'invitationType': {'id': 'e871403c-a79c-11ed-b76e-0242ac110002'}}, {'id': '89d1f412-ae0f-11ed-9bd8-0242ac110002', 'invitationType': {'id': 'e871403c-a79c-11ed-b76e-0242ac110002'}}, {'id': '89d1f46c-ae0f-11ed-9bd8-0242ac110002', 'invitationType': {'id': 'e871403c-a79c-11ed-b76e-0242ac110002'}}, {'id': '89d1f4c6-ae0f-11ed-9bd8-0242ac110002', 'invitationType': {'id': 'e871403c-a79c-11ed-b76e-0242ac110002'}}, {'id': '89d1f520-ae0f-11ed-9bd8-0242ac110002', 'invitationType': {'id': 'e871403c-a79c-11ed-b76e-0242ac110002'}}, {'id': '89d1f570-ae0f-11ed-9bd8-0242ac110002', 'invitationType': {'id': 'e871403c-a79c-11ed-b76e-0242ac110002'}}, {'id': '89d1f5ca-ae0f-11ed-9bd8-0242ac110002', 'invitationType': {'id': 'e871403c-a79c-11ed-b76e-0242ac110002'}}, {'id': '89d1f624-ae0f-11ed-9bd8-0242ac110002', 'invitationType': {'id': 'e871403c-a79c-11ed-b76e-0242ac110002'}}]}]}}, {'group': {'id': '2d9dced0-a4a2-11ed-b9df-0242ac120003', 'name': 'Fac'}, 'user': {'id': '89d1f534-ae0f-11ed-9bd8-0242ac110002', 'fullname': 'Lucie Newbie', 'events': [{'id': '45b2df80-ae0f-11ed-9bd8-0242ac110002', 'name': 'Zkouška', 'startdate': '2023-04-19T08:00:00', 'enddate': '2023-04-19T09:00:00', 'presences': [{'id': '89d1e684-ae0f-11ed-9bd8-0242ac110002', 'invitationType': {'id': 'e871403c-a79c-11ed-b76e-0242ac110002'}}, {'id': '89d1f2d2-ae0f-11ed-9bd8-0242ac110002', 'invitationType': {'id': 'e871403c-a79c-11ed-b76e-0242ac110002'}}, {'id': '89d1f3ae-ae0f-11ed-9bd8-0242ac110002', 'invitationType': {'id': 'e871403c-a79c-11ed-b76e-0242ac110002'}}, {'id': '89d1f412-ae0f-11ed-9bd8-0242ac110002', 'invitationType': {'id': 'e871403c-a79c-11ed-b76e-0242ac110002'}}, {'id': '89d1f46c-ae0f-11ed-9bd8-0242ac110002', 'invitationType': {'id': 'e871403c-a79c-11ed-b76e-0242ac110002'}}, {'id': '89d1f4c6-ae0f-11ed-9bd8-0242ac110002', 'invitationType': {'id': 'e871403c-a79c-11ed-b76e-0242ac110002'}}, {'id': '89d1f520-ae0f-11ed-9bd8-0242ac110002', 'invitationType': {'id': 'e871403c-a79c-11ed-b76e-0242ac110002'}}, {'id': '89d1f570-ae0f-11ed-9bd8-0242ac110002', 'invitationType': {'id': 'e871403c-a79c-11ed-b76e-0242ac110002'}}, {'id': '89d1f5ca-ae0f-11ed-9bd8-0242ac110002', 'invitationType': {'id': 'e871403c-a79c-11ed-b76e-0242ac110002'}}, {'id': '89d1f624-ae0f-11ed-9bd8-0242ac110002', 'invitationType': {'id': 'e871403c-a79c-11ed-b76e-0242ac110002'}}]}]}}, {'group': {'id': '2d9dced0-a4a2-11ed-b9df-0242ac120003', 'name': 'Fac'}, 'user': {'id': '89d1f58e-ae0f-11ed-9bd8-0242ac110002', 'fullname': 'Nola Newbie', 'events': [{'id': '45b2df80-ae0f-11ed-9bd8-0242ac110002', 'name': 'Zkouška', 'startdate': '2023-04-19T08:00:00', 'enddate': '2023-04-19T09:00:00', 'presences': [{'id': '89d1e684-ae0f-11ed-9bd8-0242ac110002', 'invitationType': {'id': 'e871403c-a79c-11ed-b76e-0242ac110002'}}, {'id': '89d1f2d2-ae0f-11ed-9bd8-0242ac110002', 'invitationType': {'id': 'e871403c-a79c-11ed-b76e-0242ac110002'}}, {'id': '89d1f3ae-ae0f-11ed-9bd8-0242ac110002', 'invitationType': {'id': 'e871403c-a79c-11ed-b76e-0242ac110002'}}, {'id': '89d1f412-ae0f-11ed-9bd8-0242ac110002', 'invitationType': {'id': 'e871403c-a79c-11ed-b76e-0242ac110002'}}, {'id': '89d1f46c-ae0f-11ed-9bd8-0242ac110002', 'invitationType': {'id': 'e871403c-a79c-11ed-b76e-0242ac110002'}}, {'id': '89d1f4c6-ae0f-11ed-9bd8-0242ac110002', 'invitationType': {'id': 'e871403c-a79c-11ed-b76e-0242ac110002'}}, {'id': '89d1f520-ae0f-11ed-9bd8-0242ac110002', 'invitationType': {'id': 'e871403c-a79c-11ed-b76e-0242ac110002'}}, {'id': '89d1f570-ae0f-11ed-9bd8-0242ac110002', 'invitationType': {'id': 'e871403c-a79c-11ed-b76e-0242ac110002'}}, {'id': '89d1f5ca-ae0f-11ed-9bd8-0242ac110002', 'invitationType': {'id': 'e871403c-a79c-11ed-b76e-0242ac110002'}}, {'id': '89d1f624-ae0f-11ed-9bd8-0242ac110002', 'invitationType': {'id': 'e871403c-a79c-11ed-b76e-0242ac110002'}}]}]}}, {'group': {'id': '2d9dced0-a4a2-11ed-b9df-0242ac120003', 'name': 'Fac'}, 'user': {'id': '89d1f5de-ae0f-11ed-9bd8-0242ac110002', 'fullname': 'Neva Newbie', 'events': [{'id': '45b2df80-ae0f-11ed-9bd8-0242ac110002', 'name': 'Zkouška', 'startdate': '2023-04-19T08:00:00', 'enddate': '2023-04-19T09:00:00', 'presences': [{'id': '89d1e684-ae0f-11ed-9bd8-0242ac110002', 'invitationType': {'id': 'e871403c-a79c-11ed-b76e-0242ac110002'}}, {'id': '89d1f2d2-ae0f-11ed-9bd8-0242ac110002', 'invitationType': {'id': 'e871403c-a79c-11ed-b76e-0242ac110002'}}, {'id': '89d1f3ae-ae0f-11ed-9bd8-0242ac110002', 'invitationType': {'id': 'e871403c-a79c-11ed-b76e-0242ac110002'}}, {'id': '89d1f412-ae0f-11ed-9bd8-0242ac110002', 'invitationType': {'id': 'e871403c-a79c-11ed-b76e-0242ac110002'}}, {'id': '89d1f46c-ae0f-11ed-9bd8-0242ac110002', 'invitationType': {'id': 'e871403c-a79c-11ed-b76e-0242ac110002'}}, {'id': '89d1f4c6-ae0f-11ed-9bd8-0242ac110002', 'invitationType': {'id': 'e871403c-a79c-11ed-b76e-0242ac110002'}}, {'id': '89d1f520-ae0f-11ed-9bd8-0242ac110002', 'invitationType': {'id': 'e871403c-a79c-11ed-b76e-0242ac110002'}}, {'id': '89d1f570-ae0f-11ed-9bd8-0242ac110002', 'invitationType': {'id': 'e871403c-a79c-11ed-b76e-0242ac110002'}}, {'id': '89d1f5ca-ae0f-11ed-9bd8-0242ac110002', 'invitationType': {'id': 'e871403c-a79c-11ed-b76e-0242ac110002'}}, {'id': '89d1f624-ae0f-11ed-9bd8-0242ac110002', 'invitationType': {'id': 'e871403c-a79c-11ed-b76e-0242ac110002'}}]}]}}, {'group': {'id': '2d9dced0-a4a2-11ed-b9df-0242ac120003', 'name': 'Fac'}, 'user': {'id': '89d1f638-ae0f-11ed-9bd8-0242ac110002', 'fullname': 'Nora Newbie', 'events': [{'id': '45b2df80-ae0f-11ed-9bd8-0242ac110002', 'name': 'Zkouška', 'startdate': '2023-04-19T08:00:00', 'enddate': '2023-04-19T09:00:00', 'presences': [{'id': '89d1e684-ae0f-11ed-9bd8-0242ac110002', 'invitationType': {'id': 'e871403c-a79c-11ed-b76e-0242ac110002'}}, {'id': '89d1f2d2-ae0f-11ed-9bd8-0242ac110002', 'invitationType': {'id': 'e871403c-a79c-11ed-b76e-0242ac110002'}}, {'id': '89d1f3ae-ae0f-11ed-9bd8-0242ac110002', 'invitationType': {'id': 'e871403c-a79c-11ed-b76e-0242ac110002'}}, {'id': '89d1f412-ae0f-11ed-9bd8-0242ac110002', 'invitationType': {'id': 'e871403c-a79c-11ed-b76e-0242ac110002'}}, {'id': '89d1f46c-ae0f-11ed-9bd8-0242ac110002', 'invitationType': {'id': 'e871403c-a79c-11ed-b76e-0242ac110002'}}, {'id': '89d1f4c6-ae0f-11ed-9bd8-0242ac110002', 'invitationType': {'id': 'e871403c-a79c-11ed-b76e-0242ac110002'}}, {'id': '89d1f520-ae0f-11ed-9bd8-0242ac110002', 'invitationType': {'id': 'e871403c-a79c-11ed-b76e-0242ac110002'}}, {'id': '89d1f570-ae0f-11ed-9bd8-0242ac110002', 'invitationType': {'id': 'e871403c-a79c-11ed-b76e-0242ac110002'}}, {'id': '89d1f5ca-ae0f-11ed-9bd8-0242ac110002', 'invitationType': {'id': 'e871403c-a79c-11ed-b76e-0242ac110002'}}, {'id': '89d1f624-ae0f-11ed-9bd8-0242ac110002', 'invitationType': {'id': 'e871403c-a79c-11ed-b76e-0242ac110002'}}]}]}}]}, {'memberships': [{'group': {'id': '2d9dd1c8-a4a2-11ed-b9df-0242ac120003', 'name': 'Dep'}, 'user': {'id': '2d9dc5ca-a4a2-11ed-b9df-0242ac120003', 'fullname': 'John Newbie', 'events': []}}, {'group': {'id': '2d9dd1c8-a4a2-11ed-b9df-0242ac120003', 'name': 'Dep'}, 'user': {'id': '2d9dc868-a4a2-11ed-b9df-0242ac120003', 'fullname': 'Julia Newbie', 'events': []}}, {'group': {'id': '2d9dd1c8-a4a2-11ed-b9df-0242ac120003', 'name': 'Dep'}, 'user': {'id': '2d9dc9a8-a4a2-11ed-b9df-0242ac120003', 'fullname': 'Johnson Newbie', 'events': []}}, {'group': {'id': '2d9dd1c8-a4a2-11ed-b9df-0242ac120003', 'name': 'Dep'}, 'user': {'id': '2d9dcbec-a4a2-11ed-b9df-0242ac120003', 'fullname': 'Jepeto Newbie', 'events': []}}, {'group': {'id': '2d9dd1c8-a4a2-11ed-b9df-0242ac120003', 'name': 'Dep'}, 'user': {'id': '89d1e724-ae0f-11ed-9bd8-0242ac110002', 'fullname': 'Jana Newbie', 'events': [{'id': '45b2df80-ae0f-11ed-9bd8-0242ac110002', 'name': 'Zkouška', 'startdate': '2023-04-19T08:00:00', 'enddate': '2023-04-19T09:00:00', 'presences': [{'id': '89d1e684-ae0f-11ed-9bd8-0242ac110002', 'invitationType': {'id': 'e871403c-a79c-11ed-b76e-0242ac110002'}}, {'id': '89d1f2d2-ae0f-11ed-9bd8-0242ac110002', 'invitationType': {'id': 'e871403c-a79c-11ed-b76e-0242ac110002'}}, {'id': '89d1f3ae-ae0f-11ed-9bd8-0242ac110002', 'invitationType': {'id': 'e871403c-a79c-11ed-b76e-0242ac110002'}}, {'id': '89d1f412-ae0f-11ed-9bd8-0242ac110002', 'invitationType': {'id': 'e871403c-a79c-11ed-b76e-0242ac110002'}}, {'id': '89d1f46c-ae0f-11ed-9bd8-0242ac110002', 'invitationType': {'id': 'e871403c-a79c-11ed-b76e-0242ac110002'}}, {'id': '89d1f4c6-ae0f-11ed-9bd8-0242ac110002', 'invitationType': {'id': 'e871403c-a79c-11ed-b76e-0242ac110002'}}, {'id': '89d1f520-ae0f-11ed-9bd8-0242ac110002', 'invitationType': {'id': 'e871403c-a79c-11ed-b76e-0242ac110002'}}, {'id': '89d1f570-ae0f-11ed-9bd8-0242ac110002', 'invitationType': {'id': 'e871403c-a79c-11ed-b76e-0242ac110002'}}, {'id': '89d1f5ca-ae0f-11ed-9bd8-0242ac110002', 'invitationType': {'id': 'e871403c-a79c-11ed-b76e-0242ac110002'}}, {'id': '89d1f624-ae0f-11ed-9bd8-0242ac110002', 'invitationType': {'id': 'e871403c-a79c-11ed-b76e-0242ac110002'}}]}]}}, {'group': {'id': '2d9dd1c8-a4a2-11ed-b9df-0242ac120003', 'name': 'Dep'}, 'user': {'id': '89d1f34a-ae0f-11ed-9bd8-0242ac110002', 'fullname': 'Jolana Newbie', 'events': [{'id': '45b2df80-ae0f-11ed-9bd8-0242ac110002', 'name': 'Zkouška', 'startdate': '2023-04-19T08:00:00', 'enddate': '2023-04-19T09:00:00', 'presences': [{'id': '89d1e684-ae0f-11ed-9bd8-0242ac110002', 'invitationType': {'id': 'e871403c-a79c-11ed-b76e-0242ac110002'}}, {'id': '89d1f2d2-ae0f-11ed-9bd8-0242ac110002', 'invitationType': {'id': 'e871403c-a79c-11ed-b76e-0242ac110002'}}, {'id': '89d1f3ae-ae0f-11ed-9bd8-0242ac110002', 'invitationType': {'id': 'e871403c-a79c-11ed-b76e-0242ac110002'}}, {'id': '89d1f412-ae0f-11ed-9bd8-0242ac110002', 'invitationType': {'id': 'e871403c-a79c-11ed-b76e-0242ac110002'}}, {'id': '89d1f46c-ae0f-11ed-9bd8-0242ac110002', 'invitationType': {'id': 'e871403c-a79c-11ed-b76e-0242ac110002'}}, {'id': '89d1f4c6-ae0f-11ed-9bd8-0242ac110002', 'invitationType': {'id': 'e871403c-a79c-11ed-b76e-0242ac110002'}}, {'id': '89d1f520-ae0f-11ed-9bd8-0242ac110002', 'invitationType': {'id': 'e871403c-a79c-11ed-b76e-0242ac110002'}}, {'id': '89d1f570-ae0f-11ed-9bd8-0242ac110002', 'invitationType': {'id': 'e871403c-a79c-11ed-b76e-0242ac110002'}}, {'id': '89d1f5ca-ae0f-11ed-9bd8-0242ac110002', 'invitationType': {'id': 'e871403c-a79c-11ed-b76e-0242ac110002'}}, {'id': '89d1f624-ae0f-11ed-9bd8-0242ac110002', 'invitationType': {'id': 'e871403c-a79c-11ed-b76e-0242ac110002'}}]}]}}, {'group': {'id': '2d9dd1c8-a4a2-11ed-b9df-0242ac120003', 'name': 'Dep'}, 'user': {'id': '89d1f3cc-ae0f-11ed-9bd8-0242ac110002', 'fullname': 'Jitka Newbie', 'events': [{'id': '45b2df80-ae0f-11ed-9bd8-0242ac110002', 'name': 'Zkouška', 'startdate': '2023-04-19T08:00:00', 'enddate': '2023-04-19T09:00:00', 'presences': [{'id': '89d1e684-ae0f-11ed-9bd8-0242ac110002', 'invitationType': {'id': 'e871403c-a79c-11ed-b76e-0242ac110002'}}, {'id': '89d1f2d2-ae0f-11ed-9bd8-0242ac110002', 'invitationType': {'id': 'e871403c-a79c-11ed-b76e-0242ac110002'}}, {'id': '89d1f3ae-ae0f-11ed-9bd8-0242ac110002', 'invitationType': {'id': 'e871403c-a79c-11ed-b76e-0242ac110002'}}, {'id': '89d1f412-ae0f-11ed-9bd8-0242ac110002', 'invitationType': {'id': 'e871403c-a79c-11ed-b76e-0242ac110002'}}, {'id': '89d1f46c-ae0f-11ed-9bd8-0242ac110002', 'invitationType': {'id': 'e871403c-a79c-11ed-b76e-0242ac110002'}}, {'id': '89d1f4c6-ae0f-11ed-9bd8-0242ac110002', 'invitationType': {'id': 'e871403c-a79c-11ed-b76e-0242ac110002'}}, {'id': '89d1f520-ae0f-11ed-9bd8-0242ac110002', 'invitationType': {'id': 'e871403c-a79c-11ed-b76e-0242ac110002'}}, {'id': '89d1f570-ae0f-11ed-9bd8-0242ac110002', 'invitationType': {'id': 'e871403c-a79c-11ed-b76e-0242ac110002'}}, {'id': '89d1f5ca-ae0f-11ed-9bd8-0242ac110002', 'invitationType': {'id': 'e871403c-a79c-11ed-b76e-0242ac110002'}}, {'id': '89d1f624-ae0f-11ed-9bd8-0242ac110002', 'invitationType': {'id': 'e871403c-a79c-11ed-b76e-0242ac110002'}}]}]}}, {'group': {'id': '2d9dd1c8-a4a2-11ed-b9df-0242ac120003', 'name': 'Dep'}, 'user': {'id': '89d1f430-ae0f-11ed-9bd8-0242ac110002', 'fullname': 'Jaroslava Newbie', 'events': [{'id': '45b2df80-ae0f-11ed-9bd8-0242ac110002', 'name': 'Zkouška', 'startdate': '2023-04-19T08:00:00', 'enddate': '2023-04-19T09:00:00', 'presences': [{'id': '89d1e684-ae0f-11ed-9bd8-0242ac110002', 'invitationType': {'id': 'e871403c-a79c-11ed-b76e-0242ac110002'}}, {'id': '89d1f2d2-ae0f-11ed-9bd8-0242ac110002', 'invitationType': {'id': 'e871403c-a79c-11ed-b76e-0242ac110002'}}, {'id': '89d1f3ae-ae0f-11ed-9bd8-0242ac110002', 'invitationType': {'id': 'e871403c-a79c-11ed-b76e-0242ac110002'}}, {'id': '89d1f412-ae0f-11ed-9bd8-0242ac110002', 'invitationType': {'id': 'e871403c-a79c-11ed-b76e-0242ac110002'}}, {'id': '89d1f46c-ae0f-11ed-9bd8-0242ac110002', 'invitationType': {'id': 'e871403c-a79c-11ed-b76e-0242ac110002'}}, {'id': '89d1f4c6-ae0f-11ed-9bd8-0242ac110002', 'invitationType': {'id': 'e871403c-a79c-11ed-b76e-0242ac110002'}}, {'id': '89d1f520-ae0f-11ed-9bd8-0242ac110002', 'invitationType': {'id': 'e871403c-a79c-11ed-b76e-0242ac110002'}}, {'id': '89d1f570-ae0f-11ed-9bd8-0242ac110002', 'invitationType': {'id': 'e871403c-a79c-11ed-b76e-0242ac110002'}}, {'id': '89d1f5ca-ae0f-11ed-9bd8-0242ac110002', 'invitationType': {'id': 'e871403c-a79c-11ed-b76e-0242ac110002'}}, {'id': '89d1f624-ae0f-11ed-9bd8-0242ac110002', 'invitationType': {'id': 'e871403c-a79c-11ed-b76e-0242ac110002'}}]}]}}, {'group': {'id': '2d9dd1c8-a4a2-11ed-b9df-0242ac120003', 'name': 'Dep'}, 'user': {'id': '89d1f48a-ae0f-11ed-9bd8-0242ac110002', 'fullname': 'Lada Newbie', 'events': [{'id': '45b2df80-ae0f-11ed-9bd8-0242ac110002', 'name': 'Zkouška', 'startdate': '2023-04-19T08:00:00', 'enddate': '2023-04-19T09:00:00', 'presences': [{'id': '89d1e684-ae0f-11ed-9bd8-0242ac110002', 'invitationType': {'id': 'e871403c-a79c-11ed-b76e-0242ac110002'}}, {'id': '89d1f2d2-ae0f-11ed-9bd8-0242ac110002', 'invitationType': {'id': 'e871403c-a79c-11ed-b76e-0242ac110002'}}, {'id': '89d1f3ae-ae0f-11ed-9bd8-0242ac110002', 'invitationType': {'id': 'e871403c-a79c-11ed-b76e-0242ac110002'}}, {'id': '89d1f412-ae0f-11ed-9bd8-0242ac110002', 'invitationType': {'id': 'e871403c-a79c-11ed-b76e-0242ac110002'}}, {'id': '89d1f46c-ae0f-11ed-9bd8-0242ac110002', 'invitationType': {'id': 'e871403c-a79c-11ed-b76e-0242ac110002'}}, {'id': '89d1f4c6-ae0f-11ed-9bd8-0242ac110002', 'invitationType': {'id': 'e871403c-a79c-11ed-b76e-0242ac110002'}}, {'id': '89d1f520-ae0f-11ed-9bd8-0242ac110002', 'invitationType': {'id': 'e871403c-a79c-11ed-b76e-0242ac110002'}}, {'id': '89d1f570-ae0f-11ed-9bd8-0242ac110002', 'invitationType': {'id': 'e871403c-a79c-11ed-b76e-0242ac110002'}}, {'id': '89d1f5ca-ae0f-11ed-9bd8-0242ac110002', 'invitationType': {'id': 'e871403c-a79c-11ed-b76e-0242ac110002'}}, {'id': '89d1f624-ae0f-11ed-9bd8-0242ac110002', 'invitationType': {'id': 'e871403c-a79c-11ed-b76e-0242ac110002'}}]}]}}, {'group': {'id': '2d9dd1c8-a4a2-11ed-b9df-0242ac120003', 'name': 'Dep'}, 'user': {'id': '89d1f4e4-ae0f-11ed-9bd8-0242ac110002', 'fullname': 'Ludmila Newbie', 'events': [{'id': '45b2df80-ae0f-11ed-9bd8-0242ac110002', 'name': 'Zkouška', 'startdate': '2023-04-19T08:00:00', 'enddate': '2023-04-19T09:00:00', 'presences': [{'id': '89d1e684-ae0f-11ed-9bd8-0242ac110002', 'invitationType': {'id': 'e871403c-a79c-11ed-b76e-0242ac110002'}}, {'id': '89d1f2d2-ae0f-11ed-9bd8-0242ac110002', 'invitationType': {'id': 'e871403c-a79c-11ed-b76e-0242ac110002'}}, {'id': '89d1f3ae-ae0f-11ed-9bd8-0242ac110002', 'invitationType': {'id': 'e871403c-a79c-11ed-b76e-0242ac110002'}}, {'id': '89d1f412-ae0f-11ed-9bd8-0242ac110002', 'invitationType': {'id': 'e871403c-a79c-11ed-b76e-0242ac110002'}}, {'id': '89d1f46c-ae0f-11ed-9bd8-0242ac110002', 'invitationType': {'id': 'e871403c-a79c-11ed-b76e-0242ac110002'}}, {'id': '89d1f4c6-ae0f-11ed-9bd8-0242ac110002', 'invitationType': {'id': 'e871403c-a79c-11ed-b76e-0242ac110002'}}, {'id': '89d1f520-ae0f-11ed-9bd8-0242ac110002', 'invitationType': {'id': 'e871403c-a79c-11ed-b76e-0242ac110002'}}, {'id': '89d1f570-ae0f-11ed-9bd8-0242ac110002', 'invitationType': {'id': 'e871403c-a79c-11ed-b76e-0242ac110002'}}, {'id': '89d1f5ca-ae0f-11ed-9bd8-0242ac110002', 'invitationType': {'id': 'e871403c-a79c-11ed-b76e-0242ac110002'}}, {'id': '89d1f624-ae0f-11ed-9bd8-0242ac110002', 'invitationType': {'id': 'e871403c-a79c-11ed-b76e-0242ac110002'}}]}]}}, {'group': {'id': '2d9dd1c8-a4a2-11ed-b9df-0242ac120003', 'name': 'Dep'}, 'user': {'id': '89d1f534-ae0f-11ed-9bd8-0242ac110002', 'fullname': 'Lucie Newbie', 'events': [{'id': '45b2df80-ae0f-11ed-9bd8-0242ac110002', 'name': 'Zkouška', 'startdate': '2023-04-19T08:00:00', 'enddate': '2023-04-19T09:00:00', 'presences': [{'id': '89d1e684-ae0f-11ed-9bd8-0242ac110002', 'invitationType': {'id': 'e871403c-a79c-11ed-b76e-0242ac110002'}}, {'id': '89d1f2d2-ae0f-11ed-9bd8-0242ac110002', 'invitationType': {'id': 'e871403c-a79c-11ed-b76e-0242ac110002'}}, {'id': '89d1f3ae-ae0f-11ed-9bd8-0242ac110002', 'invitationType': {'id': 'e871403c-a79c-11ed-b76e-0242ac110002'}}, {'id': '89d1f412-ae0f-11ed-9bd8-0242ac110002', 'invitationType': {'id': 'e871403c-a79c-11ed-b76e-0242ac110002'}}, {'id': '89d1f46c-ae0f-11ed-9bd8-0242ac110002', 'invitationType': {'id': 'e871403c-a79c-11ed-b76e-0242ac110002'}}, {'id': '89d1f4c6-ae0f-11ed-9bd8-0242ac110002', 'invitationType': {'id': 'e871403c-a79c-11ed-b76e-0242ac110002'}}, {'id': '89d1f520-ae0f-11ed-9bd8-0242ac110002', 'invitationType': {'id': 'e871403c-a79c-11ed-b76e-0242ac110002'}}, {'id': '89d1f570-ae0f-11ed-9bd8-0242ac110002', 'invitationType': {'id': 'e871403c-a79c-11ed-b76e-0242ac110002'}}, {'id': '89d1f5ca-ae0f-11ed-9bd8-0242ac110002', 'invitationType': {'id': 'e871403c-a79c-11ed-b76e-0242ac110002'}}, {'id': '89d1f624-ae0f-11ed-9bd8-0242ac110002', 'invitationType': {'id': 'e871403c-a79c-11ed-b76e-0242ac110002'}}]}]}}, {'group': {'id': '2d9dd1c8-a4a2-11ed-b9df-0242ac120003', 'name': 'Dep'}, 'user': {'id': '89d1f58e-ae0f-11ed-9bd8-0242ac110002', 'fullname': 'Nola Newbie', 'events': [{'id': '45b2df80-ae0f-11ed-9bd8-0242ac110002', 'name': 'Zkouška', 'startdate': '2023-04-19T08:00:00', 'enddate': '2023-04-19T09:00:00', 'presences': [{'id': '89d1e684-ae0f-11ed-9bd8-0242ac110002', 'invitationType': {'id': 'e871403c-a79c-11ed-b76e-0242ac110002'}}, {'id': '89d1f2d2-ae0f-11ed-9bd8-0242ac110002', 'invitationType': {'id': 'e871403c-a79c-11ed-b76e-0242ac110002'}}, {'id': '89d1f3ae-ae0f-11ed-9bd8-0242ac110002', 'invitationType': {'id': 'e871403c-a79c-11ed-b76e-0242ac110002'}}, {'id': '89d1f412-ae0f-11ed-9bd8-0242ac110002', 'invitationType': {'id': 'e871403c-a79c-11ed-b76e-0242ac110002'}}, {'id': '89d1f46c-ae0f-11ed-9bd8-0242ac110002', 'invitationType': {'id': 'e871403c-a79c-11ed-b76e-0242ac110002'}}, {'id': '89d1f4c6-ae0f-11ed-9bd8-0242ac110002', 'invitationType': {'id': 'e871403c-a79c-11ed-b76e-0242ac110002'}}, {'id': '89d1f520-ae0f-11ed-9bd8-0242ac110002', 'invitationType': {'id': 'e871403c-a79c-11ed-b76e-0242ac110002'}}, {'id': '89d1f570-ae0f-11ed-9bd8-0242ac110002', 'invitationType': {'id': 'e871403c-a79c-11ed-b76e-0242ac110002'}}, {'id': '89d1f5ca-ae0f-11ed-9bd8-0242ac110002', 'invitationType': {'id': 'e871403c-a79c-11ed-b76e-0242ac110002'}}, {'id': '89d1f624-ae0f-11ed-9bd8-0242ac110002', 'invitationType': {'id': 'e871403c-a79c-11ed-b76e-0242ac110002'}}]}]}}, {'group': {'id': '2d9dd1c8-a4a2-11ed-b9df-0242ac120003', 'name': 'Dep'}, 'user': {'id': '89d1f5de-ae0f-11ed-9bd8-0242ac110002', 'fullname': 'Neva Newbie', 'events': [{'id': '45b2df80-ae0f-11ed-9bd8-0242ac110002', 'name': 'Zkouška', 'startdate': '2023-04-19T08:00:00', 'enddate': '2023-04-19T09:00:00', 'presences': [{'id': '89d1e684-ae0f-11ed-9bd8-0242ac110002', 'invitationType': {'id': 'e871403c-a79c-11ed-b76e-0242ac110002'}}, {'id': '89d1f2d2-ae0f-11ed-9bd8-0242ac110002', 'invitationType': {'id': 'e871403c-a79c-11ed-b76e-0242ac110002'}}, {'id': '89d1f3ae-ae0f-11ed-9bd8-0242ac110002', 'invitationType': {'id': 'e871403c-a79c-11ed-b76e-0242ac110002'}}, {'id': '89d1f412-ae0f-11ed-9bd8-0242ac110002', 'invitationType': {'id': 'e871403c-a79c-11ed-b76e-0242ac110002'}}, {'id': '89d1f46c-ae0f-11ed-9bd8-0242ac110002', 'invitationType': {'id': 'e871403c-a79c-11ed-b76e-0242ac110002'}}, {'id': '89d1f4c6-ae0f-11ed-9bd8-0242ac110002', 'invitationType': {'id': 'e871403c-a79c-11ed-b76e-0242ac110002'}}, {'id': '89d1f520-ae0f-11ed-9bd8-0242ac110002', 'invitationType': {'id': 'e871403c-a79c-11ed-b76e-0242ac110002'}}, {'id': '89d1f570-ae0f-11ed-9bd8-0242ac110002', 'invitationType': {'id': 'e871403c-a79c-11ed-b76e-0242ac110002'}}, {'id': '89d1f5ca-ae0f-11ed-9bd8-0242ac110002', 'invitationType': {'id': 'e871403c-a79c-11ed-b76e-0242ac110002'}}, {'id': '89d1f624-ae0f-11ed-9bd8-0242ac110002', 'invitationType': {'id': 'e871403c-a79c-11ed-b76e-0242ac110002'}}]}]}}, {'group': {'id': '2d9dd1c8-a4a2-11ed-b9df-0242ac120003', 'name': 'Dep'}, 'user': {'id': '89d1f638-ae0f-11ed-9bd8-0242ac110002', 'fullname': 'Nora Newbie', 'events': [{'id': '45b2df80-ae0f-11ed-9bd8-0242ac110002', 'name': 'Zkouška', 'startdate': '2023-04-19T08:00:00', 'enddate': '2023-04-19T09:00:00', 'presences': [{'id': '89d1e684-ae0f-11ed-9bd8-0242ac110002', 'invitationType': {'id': 'e871403c-a79c-11ed-b76e-0242ac110002'}}, {'id': '89d1f2d2-ae0f-11ed-9bd8-0242ac110002', 'invitationType': {'id': 'e871403c-a79c-11ed-b76e-0242ac110002'}}, {'id': '89d1f3ae-ae0f-11ed-9bd8-0242ac110002', 'invitationType': {'id': 'e871403c-a79c-11ed-b76e-0242ac110002'}}, {'id': '89d1f412-ae0f-11ed-9bd8-0242ac110002', 'invitationType': {'id': 'e871403c-a79c-11ed-b76e-0242ac110002'}}, {'id': '89d1f46c-ae0f-11ed-9bd8-0242ac110002', 'invitationType': {'id': 'e871403c-a79c-11ed-b76e-0242ac110002'}}, {'id': '89d1f4c6-ae0f-11ed-9bd8-0242ac110002', 'invitationType': {'id': 'e871403c-a79c-11ed-b76e-0242ac110002'}}, {'id': '89d1f520-ae0f-11ed-9bd8-0242ac110002', 'invitationType': {'id': 'e871403c-a79c-11ed-b76e-0242ac110002'}}, {'id': '89d1f570-ae0f-11ed-9bd8-0242ac110002', 'invitationType': {'id': 'e871403c-a79c-11ed-b76e-0242ac110002'}}, {'id': '89d1f5ca-ae0f-11ed-9bd8-0242ac110002', 'invitationType': {'id': 'e871403c-a79c-11ed-b76e-0242ac110002'}}, {'id': '89d1f624-ae0f-11ed-9bd8-0242ac110002', 'invitationType': {'id': 'e871403c-a79c-11ed-b76e-0242ac110002'}}]}]}}]}, {'memberships': []}, {'memberships': []}, {'memberships': []}, {'memberships': []}, {'memberships': []}, {'memberships': []}, {'memberships': []}]}\n",
      "[{'groupID': '2d9dcd22-a4a2-11ed-b9df-0242ac120003', 'groupName': 'Uni', 'userID': '89d1e724-ae0f-11ed-9bd8-0242ac110002', 'userFullname': 'Jana Newbie', 'eventID': '45b2df80-ae0f-11ed-9bd8-0242ac110002', 'eventName': 'Zkouška', 'startdate': '2023-04-19T08:00:00', 'eventEndDate': '2023-04-19T09:00:00', 'invitationTypeID': 'e871403c-a79c-11ed-b76e-0242ac110002'}, {'groupID': '2d9dcd22-a4a2-11ed-b9df-0242ac120003', 'groupName': 'Uni', 'userID': '89d1e724-ae0f-11ed-9bd8-0242ac110002', 'userFullname': 'Jana Newbie', 'eventID': '45b2df80-ae0f-11ed-9bd8-0242ac110002', 'eventName': 'Zkouška', 'startdate': '2023-04-19T08:00:00', 'eventEndDate': '2023-04-19T09:00:00', 'invitationTypeID': 'e871403c-a79c-11ed-b76e-0242ac110002'}, {'groupID': '2d9dcd22-a4a2-11ed-b9df-0242ac120003', 'groupName': 'Uni', 'userID': '89d1e724-ae0f-11ed-9bd8-0242ac110002', 'userFullname': 'Jana Newbie', 'eventID': '45b2df80-ae0f-11ed-9bd8-0242ac110002', 'eventName': 'Zkouška', 'startdate': '2023-04-19T08:00:00', 'eventEndDate': '2023-04-19T09:00:00', 'invitationTypeID': 'e871403c-a79c-11ed-b76e-0242ac110002'}, {'groupID': '2d9dcd22-a4a2-11ed-b9df-0242ac120003', 'groupName': 'Uni', 'userID': '89d1e724-ae0f-11ed-9bd8-0242ac110002', 'userFullname': 'Jana Newbie', 'eventID': '45b2df80-ae0f-11ed-9bd8-0242ac110002', 'eventName': 'Zkouška', 'startdate': '2023-04-19T08:00:00', 'eventEndDate': '2023-04-19T09:00:00', 'invitationTypeID': 'e871403c-a79c-11ed-b76e-0242ac110002'}, {'groupID': '2d9dcd22-a4a2-11ed-b9df-0242ac120003', 'groupName': 'Uni', 'userID': '89d1e724-ae0f-11ed-9bd8-0242ac110002', 'userFullname': 'Jana Newbie', 'eventID': '45b2df80-ae0f-11ed-9bd8-0242ac110002', 'eventName': 'Zkouška', 'startdate': '2023-04-19T08:00:00', 'eventEndDate': '2023-04-19T09:00:00', 'invitationTypeID': 'e871403c-a79c-11ed-b76e-0242ac110002'}, {'groupID': '2d9dcd22-a4a2-11ed-b9df-0242ac120003', 'groupName': 'Uni', 'userID': '89d1e724-ae0f-11ed-9bd8-0242ac110002', 'userFullname': 'Jana Newbie', 'eventID': '45b2df80-ae0f-11ed-9bd8-0242ac110002', 'eventName': 'Zkouška', 'startdate': '2023-04-19T08:00:00', 'eventEndDate': '2023-04-19T09:00:00', 'invitationTypeID': 'e871403c-a79c-11ed-b76e-0242ac110002'}, {'groupID': '2d9dcd22-a4a2-11ed-b9df-0242ac120003', 'groupName': 'Uni', 'userID': '89d1e724-ae0f-11ed-9bd8-0242ac110002', 'userFullname': 'Jana Newbie', 'eventID': '45b2df80-ae0f-11ed-9bd8-0242ac110002', 'eventName': 'Zkouška', 'startdate': '2023-04-19T08:00:00', 'eventEndDate': '2023-04-19T09:00:00', 'invitationTypeID': 'e871403c-a79c-11ed-b76e-0242ac110002'}, {'groupID': '2d9dcd22-a4a2-11ed-b9df-0242ac120003', 'groupName': 'Uni', 'userID': '89d1e724-ae0f-11ed-9bd8-0242ac110002', 'userFullname': 'Jana Newbie', 'eventID': '45b2df80-ae0f-11ed-9bd8-0242ac110002', 'eventName': 'Zkouška', 'startdate': '2023-04-19T08:00:00', 'eventEndDate': '2023-04-19T09:00:00', 'invitationTypeID': 'e871403c-a79c-11ed-b76e-0242ac110002'}, {'groupID': '2d9dcd22-a4a2-11ed-b9df-0242ac120003', 'groupName': 'Uni', 'userID': '89d1e724-ae0f-11ed-9bd8-0242ac110002', 'userFullname': 'Jana Newbie', 'eventID': '45b2df80-ae0f-11ed-9bd8-0242ac110002', 'eventName': 'Zkouška', 'startdate': '2023-04-19T08:00:00', 'eventEndDate': '2023-04-19T09:00:00', 'invitationTypeID': 'e871403c-a79c-11ed-b76e-0242ac110002'}, {'groupID': '2d9dcd22-a4a2-11ed-b9df-0242ac120003', 'groupName': 'Uni', 'userID': '89d1e724-ae0f-11ed-9bd8-0242ac110002', 'userFullname': 'Jana Newbie', 'eventID': '45b2df80-ae0f-11ed-9bd8-0242ac110002', 'eventName': 'Zkouška', 'startdate': '2023-04-19T08:00:00', 'eventEndDate': '2023-04-19T09:00:00', 'invitationTypeID': 'e871403c-a79c-11ed-b76e-0242ac110002'}, {'groupID': '2d9dcd22-a4a2-11ed-b9df-0242ac120003', 'groupName': 'Uni', 'userID': '89d1f34a-ae0f-11ed-9bd8-0242ac110002', 'userFullname': 'Jolana Newbie', 'eventID': '45b2df80-ae0f-11ed-9bd8-0242ac110002', 'eventName': 'Zkouška', 'startdate': '2023-04-19T08:00:00', 'eventEndDate': '2023-04-19T09:00:00', 'invitationTypeID': 'e871403c-a79c-11ed-b76e-0242ac110002'}, {'groupID': '2d9dcd22-a4a2-11ed-b9df-0242ac120003', 'groupName': 'Uni', 'userID': '89d1f34a-ae0f-11ed-9bd8-0242ac110002', 'userFullname': 'Jolana Newbie', 'eventID': '45b2df80-ae0f-11ed-9bd8-0242ac110002', 'eventName': 'Zkouška', 'startdate': '2023-04-19T08:00:00', 'eventEndDate': '2023-04-19T09:00:00', 'invitationTypeID': 'e871403c-a79c-11ed-b76e-0242ac110002'}, {'groupID': '2d9dcd22-a4a2-11ed-b9df-0242ac120003', 'groupName': 'Uni', 'userID': '89d1f34a-ae0f-11ed-9bd8-0242ac110002', 'userFullname': 'Jolana Newbie', 'eventID': '45b2df80-ae0f-11ed-9bd8-0242ac110002', 'eventName': 'Zkouška', 'startdate': '2023-04-19T08:00:00', 'eventEndDate': '2023-04-19T09:00:00', 'invitationTypeID': 'e871403c-a79c-11ed-b76e-0242ac110002'}, {'groupID': '2d9dcd22-a4a2-11ed-b9df-0242ac120003', 'groupName': 'Uni', 'userID': '89d1f34a-ae0f-11ed-9bd8-0242ac110002', 'userFullname': 'Jolana Newbie', 'eventID': '45b2df80-ae0f-11ed-9bd8-0242ac110002', 'eventName': 'Zkouška', 'startdate': '2023-04-19T08:00:00', 'eventEndDate': '2023-04-19T09:00:00', 'invitationTypeID': 'e871403c-a79c-11ed-b76e-0242ac110002'}, {'groupID': '2d9dcd22-a4a2-11ed-b9df-0242ac120003', 'groupName': 'Uni', 'userID': '89d1f34a-ae0f-11ed-9bd8-0242ac110002', 'userFullname': 'Jolana Newbie', 'eventID': '45b2df80-ae0f-11ed-9bd8-0242ac110002', 'eventName': 'Zkouška', 'startdate': '2023-04-19T08:00:00', 'eventEndDate': '2023-04-19T09:00:00', 'invitationTypeID': 'e871403c-a79c-11ed-b76e-0242ac110002'}, {'groupID': '2d9dcd22-a4a2-11ed-b9df-0242ac120003', 'groupName': 'Uni', 'userID': '89d1f34a-ae0f-11ed-9bd8-0242ac110002', 'userFullname': 'Jolana Newbie', 'eventID': '45b2df80-ae0f-11ed-9bd8-0242ac110002', 'eventName': 'Zkouška', 'startdate': '2023-04-19T08:00:00', 'eventEndDate': '2023-04-19T09:00:00', 'invitationTypeID': 'e871403c-a79c-11ed-b76e-0242ac110002'}, {'groupID': '2d9dcd22-a4a2-11ed-b9df-0242ac120003', 'groupName': 'Uni', 'userID': '89d1f34a-ae0f-11ed-9bd8-0242ac110002', 'userFullname': 'Jolana Newbie', 'eventID': '45b2df80-ae0f-11ed-9bd8-0242ac110002', 'eventName': 'Zkouška', 'startdate': '2023-04-19T08:00:00', 'eventEndDate': '2023-04-19T09:00:00', 'invitationTypeID': 'e871403c-a79c-11ed-b76e-0242ac110002'}, {'groupID': '2d9dcd22-a4a2-11ed-b9df-0242ac120003', 'groupName': 'Uni', 'userID': '89d1f34a-ae0f-11ed-9bd8-0242ac110002', 'userFullname': 'Jolana Newbie', 'eventID': '45b2df80-ae0f-11ed-9bd8-0242ac110002', 'eventName': 'Zkouška', 'startdate': '2023-04-19T08:00:00', 'eventEndDate': '2023-04-19T09:00:00', 'invitationTypeID': 'e871403c-a79c-11ed-b76e-0242ac110002'}, {'groupID': '2d9dcd22-a4a2-11ed-b9df-0242ac120003', 'groupName': 'Uni', 'userID': '89d1f34a-ae0f-11ed-9bd8-0242ac110002', 'userFullname': 'Jolana Newbie', 'eventID': '45b2df80-ae0f-11ed-9bd8-0242ac110002', 'eventName': 'Zkouška', 'startdate': '2023-04-19T08:00:00', 'eventEndDate': '2023-04-19T09:00:00', 'invitationTypeID': 'e871403c-a79c-11ed-b76e-0242ac110002'}, {'groupID': '2d9dcd22-a4a2-11ed-b9df-0242ac120003', 'groupName': 'Uni', 'userID': '89d1f34a-ae0f-11ed-9bd8-0242ac110002', 'userFullname': 'Jolana Newbie', 'eventID': '45b2df80-ae0f-11ed-9bd8-0242ac110002', 'eventName': 'Zkouška', 'startdate': '2023-04-19T08:00:00', 'eventEndDate': '2023-04-19T09:00:00', 'invitationTypeID': 'e871403c-a79c-11ed-b76e-0242ac110002'}, {'groupID': '2d9dcd22-a4a2-11ed-b9df-0242ac120003', 'groupName': 'Uni', 'userID': '89d1f3cc-ae0f-11ed-9bd8-0242ac110002', 'userFullname': 'Jitka Newbie', 'eventID': '45b2df80-ae0f-11ed-9bd8-0242ac110002', 'eventName': 'Zkouška', 'startdate': '2023-04-19T08:00:00', 'eventEndDate': '2023-04-19T09:00:00', 'invitationTypeID': 'e871403c-a79c-11ed-b76e-0242ac110002'}, {'groupID': '2d9dcd22-a4a2-11ed-b9df-0242ac120003', 'groupName': 'Uni', 'userID': '89d1f3cc-ae0f-11ed-9bd8-0242ac110002', 'userFullname': 'Jitka Newbie', 'eventID': '45b2df80-ae0f-11ed-9bd8-0242ac110002', 'eventName': 'Zkouška', 'startdate': '2023-04-19T08:00:00', 'eventEndDate': '2023-04-19T09:00:00', 'invitationTypeID': 'e871403c-a79c-11ed-b76e-0242ac110002'}, {'groupID': '2d9dcd22-a4a2-11ed-b9df-0242ac120003', 'groupName': 'Uni', 'userID': '89d1f3cc-ae0f-11ed-9bd8-0242ac110002', 'userFullname': 'Jitka Newbie', 'eventID': '45b2df80-ae0f-11ed-9bd8-0242ac110002', 'eventName': 'Zkouška', 'startdate': '2023-04-19T08:00:00', 'eventEndDate': '2023-04-19T09:00:00', 'invitationTypeID': 'e871403c-a79c-11ed-b76e-0242ac110002'}, {'groupID': '2d9dcd22-a4a2-11ed-b9df-0242ac120003', 'groupName': 'Uni', 'userID': '89d1f3cc-ae0f-11ed-9bd8-0242ac110002', 'userFullname': 'Jitka Newbie', 'eventID': '45b2df80-ae0f-11ed-9bd8-0242ac110002', 'eventName': 'Zkouška', 'startdate': '2023-04-19T08:00:00', 'eventEndDate': '2023-04-19T09:00:00', 'invitationTypeID': 'e871403c-a79c-11ed-b76e-0242ac110002'}, {'groupID': '2d9dcd22-a4a2-11ed-b9df-0242ac120003', 'groupName': 'Uni', 'userID': '89d1f3cc-ae0f-11ed-9bd8-0242ac110002', 'userFullname': 'Jitka Newbie', 'eventID': '45b2df80-ae0f-11ed-9bd8-0242ac110002', 'eventName': 'Zkouška', 'startdate': '2023-04-19T08:00:00', 'eventEndDate': '2023-04-19T09:00:00', 'invitationTypeID': 'e871403c-a79c-11ed-b76e-0242ac110002'}, {'groupID': '2d9dcd22-a4a2-11ed-b9df-0242ac120003', 'groupName': 'Uni', 'userID': '89d1f3cc-ae0f-11ed-9bd8-0242ac110002', 'userFullname': 'Jitka Newbie', 'eventID': '45b2df80-ae0f-11ed-9bd8-0242ac110002', 'eventName': 'Zkouška', 'startdate': '2023-04-19T08:00:00', 'eventEndDate': '2023-04-19T09:00:00', 'invitationTypeID': 'e871403c-a79c-11ed-b76e-0242ac110002'}, {'groupID': '2d9dcd22-a4a2-11ed-b9df-0242ac120003', 'groupName': 'Uni', 'userID': '89d1f3cc-ae0f-11ed-9bd8-0242ac110002', 'userFullname': 'Jitka Newbie', 'eventID': '45b2df80-ae0f-11ed-9bd8-0242ac110002', 'eventName': 'Zkouška', 'startdate': '2023-04-19T08:00:00', 'eventEndDate': '2023-04-19T09:00:00', 'invitationTypeID': 'e871403c-a79c-11ed-b76e-0242ac110002'}, {'groupID': '2d9dcd22-a4a2-11ed-b9df-0242ac120003', 'groupName': 'Uni', 'userID': '89d1f3cc-ae0f-11ed-9bd8-0242ac110002', 'userFullname': 'Jitka Newbie', 'eventID': '45b2df80-ae0f-11ed-9bd8-0242ac110002', 'eventName': 'Zkouška', 'startdate': '2023-04-19T08:00:00', 'eventEndDate': '2023-04-19T09:00:00', 'invitationTypeID': 'e871403c-a79c-11ed-b76e-0242ac110002'}, {'groupID': '2d9dcd22-a4a2-11ed-b9df-0242ac120003', 'groupName': 'Uni', 'userID': '89d1f3cc-ae0f-11ed-9bd8-0242ac110002', 'userFullname': 'Jitka Newbie', 'eventID': '45b2df80-ae0f-11ed-9bd8-0242ac110002', 'eventName': 'Zkouška', 'startdate': '2023-04-19T08:00:00', 'eventEndDate': '2023-04-19T09:00:00', 'invitationTypeID': 'e871403c-a79c-11ed-b76e-0242ac110002'}, {'groupID': '2d9dcd22-a4a2-11ed-b9df-0242ac120003', 'groupName': 'Uni', 'userID': '89d1f3cc-ae0f-11ed-9bd8-0242ac110002', 'userFullname': 'Jitka Newbie', 'eventID': '45b2df80-ae0f-11ed-9bd8-0242ac110002', 'eventName': 'Zkouška', 'startdate': '2023-04-19T08:00:00', 'eventEndDate': '2023-04-19T09:00:00', 'invitationTypeID': 'e871403c-a79c-11ed-b76e-0242ac110002'}, {'groupID': '2d9dcd22-a4a2-11ed-b9df-0242ac120003', 'groupName': 'Uni', 'userID': '89d1f430-ae0f-11ed-9bd8-0242ac110002', 'userFullname': 'Jaroslava Newbie', 'eventID': '45b2df80-ae0f-11ed-9bd8-0242ac110002', 'eventName': 'Zkouška', 'startdate': '2023-04-19T08:00:00', 'eventEndDate': '2023-04-19T09:00:00', 'invitationTypeID': 'e871403c-a79c-11ed-b76e-0242ac110002'}, {'groupID': '2d9dcd22-a4a2-11ed-b9df-0242ac120003', 'groupName': 'Uni', 'userID': '89d1f430-ae0f-11ed-9bd8-0242ac110002', 'userFullname': 'Jaroslava Newbie', 'eventID': '45b2df80-ae0f-11ed-9bd8-0242ac110002', 'eventName': 'Zkouška', 'startdate': '2023-04-19T08:00:00', 'eventEndDate': '2023-04-19T09:00:00', 'invitationTypeID': 'e871403c-a79c-11ed-b76e-0242ac110002'}, {'groupID': '2d9dcd22-a4a2-11ed-b9df-0242ac120003', 'groupName': 'Uni', 'userID': '89d1f430-ae0f-11ed-9bd8-0242ac110002', 'userFullname': 'Jaroslava Newbie', 'eventID': '45b2df80-ae0f-11ed-9bd8-0242ac110002', 'eventName': 'Zkouška', 'startdate': '2023-04-19T08:00:00', 'eventEndDate': '2023-04-19T09:00:00', 'invitationTypeID': 'e871403c-a79c-11ed-b76e-0242ac110002'}, {'groupID': '2d9dcd22-a4a2-11ed-b9df-0242ac120003', 'groupName': 'Uni', 'userID': '89d1f430-ae0f-11ed-9bd8-0242ac110002', 'userFullname': 'Jaroslava Newbie', 'eventID': '45b2df80-ae0f-11ed-9bd8-0242ac110002', 'eventName': 'Zkouška', 'startdate': '2023-04-19T08:00:00', 'eventEndDate': '2023-04-19T09:00:00', 'invitationTypeID': 'e871403c-a79c-11ed-b76e-0242ac110002'}, {'groupID': '2d9dcd22-a4a2-11ed-b9df-0242ac120003', 'groupName': 'Uni', 'userID': '89d1f430-ae0f-11ed-9bd8-0242ac110002', 'userFullname': 'Jaroslava Newbie', 'eventID': '45b2df80-ae0f-11ed-9bd8-0242ac110002', 'eventName': 'Zkouška', 'startdate': '2023-04-19T08:00:00', 'eventEndDate': '2023-04-19T09:00:00', 'invitationTypeID': 'e871403c-a79c-11ed-b76e-0242ac110002'}, {'groupID': '2d9dcd22-a4a2-11ed-b9df-0242ac120003', 'groupName': 'Uni', 'userID': '89d1f430-ae0f-11ed-9bd8-0242ac110002', 'userFullname': 'Jaroslava Newbie', 'eventID': '45b2df80-ae0f-11ed-9bd8-0242ac110002', 'eventName': 'Zkouška', 'startdate': '2023-04-19T08:00:00', 'eventEndDate': '2023-04-19T09:00:00', 'invitationTypeID': 'e871403c-a79c-11ed-b76e-0242ac110002'}, {'groupID': '2d9dcd22-a4a2-11ed-b9df-0242ac120003', 'groupName': 'Uni', 'userID': '89d1f430-ae0f-11ed-9bd8-0242ac110002', 'userFullname': 'Jaroslava Newbie', 'eventID': '45b2df80-ae0f-11ed-9bd8-0242ac110002', 'eventName': 'Zkouška', 'startdate': '2023-04-19T08:00:00', 'eventEndDate': '2023-04-19T09:00:00', 'invitationTypeID': 'e871403c-a79c-11ed-b76e-0242ac110002'}, {'groupID': '2d9dcd22-a4a2-11ed-b9df-0242ac120003', 'groupName': 'Uni', 'userID': '89d1f430-ae0f-11ed-9bd8-0242ac110002', 'userFullname': 'Jaroslava Newbie', 'eventID': '45b2df80-ae0f-11ed-9bd8-0242ac110002', 'eventName': 'Zkouška', 'startdate': '2023-04-19T08:00:00', 'eventEndDate': '2023-04-19T09:00:00', 'invitationTypeID': 'e871403c-a79c-11ed-b76e-0242ac110002'}, {'groupID': '2d9dcd22-a4a2-11ed-b9df-0242ac120003', 'groupName': 'Uni', 'userID': '89d1f430-ae0f-11ed-9bd8-0242ac110002', 'userFullname': 'Jaroslava Newbie', 'eventID': '45b2df80-ae0f-11ed-9bd8-0242ac110002', 'eventName': 'Zkouška', 'startdate': '2023-04-19T08:00:00', 'eventEndDate': '2023-04-19T09:00:00', 'invitationTypeID': 'e871403c-a79c-11ed-b76e-0242ac110002'}, {'groupID': '2d9dcd22-a4a2-11ed-b9df-0242ac120003', 'groupName': 'Uni', 'userID': '89d1f430-ae0f-11ed-9bd8-0242ac110002', 'userFullname': 'Jaroslava Newbie', 'eventID': '45b2df80-ae0f-11ed-9bd8-0242ac110002', 'eventName': 'Zkouška', 'startdate': '2023-04-19T08:00:00', 'eventEndDate': '2023-04-19T09:00:00', 'invitationTypeID': 'e871403c-a79c-11ed-b76e-0242ac110002'}, {'groupID': '2d9dcd22-a4a2-11ed-b9df-0242ac120003', 'groupName': 'Uni', 'userID': '89d1f48a-ae0f-11ed-9bd8-0242ac110002', 'userFullname': 'Lada Newbie', 'eventID': '45b2df80-ae0f-11ed-9bd8-0242ac110002', 'eventName': 'Zkouška', 'startdate': '2023-04-19T08:00:00', 'eventEndDate': '2023-04-19T09:00:00', 'invitationTypeID': 'e871403c-a79c-11ed-b76e-0242ac110002'}, {'groupID': '2d9dcd22-a4a2-11ed-b9df-0242ac120003', 'groupName': 'Uni', 'userID': '89d1f48a-ae0f-11ed-9bd8-0242ac110002', 'userFullname': 'Lada Newbie', 'eventID': '45b2df80-ae0f-11ed-9bd8-0242ac110002', 'eventName': 'Zkouška', 'startdate': '2023-04-19T08:00:00', 'eventEndDate': '2023-04-19T09:00:00', 'invitationTypeID': 'e871403c-a79c-11ed-b76e-0242ac110002'}, {'groupID': '2d9dcd22-a4a2-11ed-b9df-0242ac120003', 'groupName': 'Uni', 'userID': '89d1f48a-ae0f-11ed-9bd8-0242ac110002', 'userFullname': 'Lada Newbie', 'eventID': '45b2df80-ae0f-11ed-9bd8-0242ac110002', 'eventName': 'Zkouška', 'startdate': '2023-04-19T08:00:00', 'eventEndDate': '2023-04-19T09:00:00', 'invitationTypeID': 'e871403c-a79c-11ed-b76e-0242ac110002'}, {'groupID': '2d9dcd22-a4a2-11ed-b9df-0242ac120003', 'groupName': 'Uni', 'userID': '89d1f48a-ae0f-11ed-9bd8-0242ac110002', 'userFullname': 'Lada Newbie', 'eventID': '45b2df80-ae0f-11ed-9bd8-0242ac110002', 'eventName': 'Zkouška', 'startdate': '2023-04-19T08:00:00', 'eventEndDate': '2023-04-19T09:00:00', 'invitationTypeID': 'e871403c-a79c-11ed-b76e-0242ac110002'}, {'groupID': '2d9dcd22-a4a2-11ed-b9df-0242ac120003', 'groupName': 'Uni', 'userID': '89d1f48a-ae0f-11ed-9bd8-0242ac110002', 'userFullname': 'Lada Newbie', 'eventID': '45b2df80-ae0f-11ed-9bd8-0242ac110002', 'eventName': 'Zkouška', 'startdate': '2023-04-19T08:00:00', 'eventEndDate': '2023-04-19T09:00:00', 'invitationTypeID': 'e871403c-a79c-11ed-b76e-0242ac110002'}, {'groupID': '2d9dcd22-a4a2-11ed-b9df-0242ac120003', 'groupName': 'Uni', 'userID': '89d1f48a-ae0f-11ed-9bd8-0242ac110002', 'userFullname': 'Lada Newbie', 'eventID': '45b2df80-ae0f-11ed-9bd8-0242ac110002', 'eventName': 'Zkouška', 'startdate': '2023-04-19T08:00:00', 'eventEndDate': '2023-04-19T09:00:00', 'invitationTypeID': 'e871403c-a79c-11ed-b76e-0242ac110002'}, {'groupID': '2d9dcd22-a4a2-11ed-b9df-0242ac120003', 'groupName': 'Uni', 'userID': '89d1f48a-ae0f-11ed-9bd8-0242ac110002', 'userFullname': 'Lada Newbie', 'eventID': '45b2df80-ae0f-11ed-9bd8-0242ac110002', 'eventName': 'Zkouška', 'startdate': '2023-04-19T08:00:00', 'eventEndDate': '2023-04-19T09:00:00', 'invitationTypeID': 'e871403c-a79c-11ed-b76e-0242ac110002'}, {'groupID': '2d9dcd22-a4a2-11ed-b9df-0242ac120003', 'groupName': 'Uni', 'userID': '89d1f48a-ae0f-11ed-9bd8-0242ac110002', 'userFullname': 'Lada Newbie', 'eventID': '45b2df80-ae0f-11ed-9bd8-0242ac110002', 'eventName': 'Zkouška', 'startdate': '2023-04-19T08:00:00', 'eventEndDate': '2023-04-19T09:00:00', 'invitationTypeID': 'e871403c-a79c-11ed-b76e-0242ac110002'}, {'groupID': '2d9dcd22-a4a2-11ed-b9df-0242ac120003', 'groupName': 'Uni', 'userID': '89d1f48a-ae0f-11ed-9bd8-0242ac110002', 'userFullname': 'Lada Newbie', 'eventID': '45b2df80-ae0f-11ed-9bd8-0242ac110002', 'eventName': 'Zkouška', 'startdate': '2023-04-19T08:00:00', 'eventEndDate': '2023-04-19T09:00:00', 'invitationTypeID': 'e871403c-a79c-11ed-b76e-0242ac110002'}, {'groupID': '2d9dcd22-a4a2-11ed-b9df-0242ac120003', 'groupName': 'Uni', 'userID': '89d1f48a-ae0f-11ed-9bd8-0242ac110002', 'userFullname': 'Lada Newbie', 'eventID': '45b2df80-ae0f-11ed-9bd8-0242ac110002', 'eventName': 'Zkouška', 'startdate': '2023-04-19T08:00:00', 'eventEndDate': '2023-04-19T09:00:00', 'invitationTypeID': 'e871403c-a79c-11ed-b76e-0242ac110002'}, {'groupID': '2d9dcd22-a4a2-11ed-b9df-0242ac120003', 'groupName': 'Uni', 'userID': '89d1f4e4-ae0f-11ed-9bd8-0242ac110002', 'userFullname': 'Ludmila Newbie', 'eventID': '45b2df80-ae0f-11ed-9bd8-0242ac110002', 'eventName': 'Zkouška', 'startdate': '2023-04-19T08:00:00', 'eventEndDate': '2023-04-19T09:00:00', 'invitationTypeID': 'e871403c-a79c-11ed-b76e-0242ac110002'}, {'groupID': '2d9dcd22-a4a2-11ed-b9df-0242ac120003', 'groupName': 'Uni', 'userID': '89d1f4e4-ae0f-11ed-9bd8-0242ac110002', 'userFullname': 'Ludmila Newbie', 'eventID': '45b2df80-ae0f-11ed-9bd8-0242ac110002', 'eventName': 'Zkouška', 'startdate': '2023-04-19T08:00:00', 'eventEndDate': '2023-04-19T09:00:00', 'invitationTypeID': 'e871403c-a79c-11ed-b76e-0242ac110002'}, {'groupID': '2d9dcd22-a4a2-11ed-b9df-0242ac120003', 'groupName': 'Uni', 'userID': '89d1f4e4-ae0f-11ed-9bd8-0242ac110002', 'userFullname': 'Ludmila Newbie', 'eventID': '45b2df80-ae0f-11ed-9bd8-0242ac110002', 'eventName': 'Zkouška', 'startdate': '2023-04-19T08:00:00', 'eventEndDate': '2023-04-19T09:00:00', 'invitationTypeID': 'e871403c-a79c-11ed-b76e-0242ac110002'}, {'groupID': '2d9dcd22-a4a2-11ed-b9df-0242ac120003', 'groupName': 'Uni', 'userID': '89d1f4e4-ae0f-11ed-9bd8-0242ac110002', 'userFullname': 'Ludmila Newbie', 'eventID': '45b2df80-ae0f-11ed-9bd8-0242ac110002', 'eventName': 'Zkouška', 'startdate': '2023-04-19T08:00:00', 'eventEndDate': '2023-04-19T09:00:00', 'invitationTypeID': 'e871403c-a79c-11ed-b76e-0242ac110002'}, {'groupID': '2d9dcd22-a4a2-11ed-b9df-0242ac120003', 'groupName': 'Uni', 'userID': '89d1f4e4-ae0f-11ed-9bd8-0242ac110002', 'userFullname': 'Ludmila Newbie', 'eventID': '45b2df80-ae0f-11ed-9bd8-0242ac110002', 'eventName': 'Zkouška', 'startdate': '2023-04-19T08:00:00', 'eventEndDate': '2023-04-19T09:00:00', 'invitationTypeID': 'e871403c-a79c-11ed-b76e-0242ac110002'}, {'groupID': '2d9dcd22-a4a2-11ed-b9df-0242ac120003', 'groupName': 'Uni', 'userID': '89d1f4e4-ae0f-11ed-9bd8-0242ac110002', 'userFullname': 'Ludmila Newbie', 'eventID': '45b2df80-ae0f-11ed-9bd8-0242ac110002', 'eventName': 'Zkouška', 'startdate': '2023-04-19T08:00:00', 'eventEndDate': '2023-04-19T09:00:00', 'invitationTypeID': 'e871403c-a79c-11ed-b76e-0242ac110002'}, {'groupID': '2d9dcd22-a4a2-11ed-b9df-0242ac120003', 'groupName': 'Uni', 'userID': '89d1f4e4-ae0f-11ed-9bd8-0242ac110002', 'userFullname': 'Ludmila Newbie', 'eventID': '45b2df80-ae0f-11ed-9bd8-0242ac110002', 'eventName': 'Zkouška', 'startdate': '2023-04-19T08:00:00', 'eventEndDate': '2023-04-19T09:00:00', 'invitationTypeID': 'e871403c-a79c-11ed-b76e-0242ac110002'}, {'groupID': '2d9dcd22-a4a2-11ed-b9df-0242ac120003', 'groupName': 'Uni', 'userID': '89d1f4e4-ae0f-11ed-9bd8-0242ac110002', 'userFullname': 'Ludmila Newbie', 'eventID': '45b2df80-ae0f-11ed-9bd8-0242ac110002', 'eventName': 'Zkouška', 'startdate': '2023-04-19T08:00:00', 'eventEndDate': '2023-04-19T09:00:00', 'invitationTypeID': 'e871403c-a79c-11ed-b76e-0242ac110002'}, {'groupID': '2d9dcd22-a4a2-11ed-b9df-0242ac120003', 'groupName': 'Uni', 'userID': '89d1f4e4-ae0f-11ed-9bd8-0242ac110002', 'userFullname': 'Ludmila Newbie', 'eventID': '45b2df80-ae0f-11ed-9bd8-0242ac110002', 'eventName': 'Zkouška', 'startdate': '2023-04-19T08:00:00', 'eventEndDate': '2023-04-19T09:00:00', 'invitationTypeID': 'e871403c-a79c-11ed-b76e-0242ac110002'}, {'groupID': '2d9dcd22-a4a2-11ed-b9df-0242ac120003', 'groupName': 'Uni', 'userID': '89d1f4e4-ae0f-11ed-9bd8-0242ac110002', 'userFullname': 'Ludmila Newbie', 'eventID': '45b2df80-ae0f-11ed-9bd8-0242ac110002', 'eventName': 'Zkouška', 'startdate': '2023-04-19T08:00:00', 'eventEndDate': '2023-04-19T09:00:00', 'invitationTypeID': 'e871403c-a79c-11ed-b76e-0242ac110002'}, {'groupID': '2d9dcd22-a4a2-11ed-b9df-0242ac120003', 'groupName': 'Uni', 'userID': '89d1f534-ae0f-11ed-9bd8-0242ac110002', 'userFullname': 'Lucie Newbie', 'eventID': '45b2df80-ae0f-11ed-9bd8-0242ac110002', 'eventName': 'Zkouška', 'startdate': '2023-04-19T08:00:00', 'eventEndDate': '2023-04-19T09:00:00', 'invitationTypeID': 'e871403c-a79c-11ed-b76e-0242ac110002'}, {'groupID': '2d9dcd22-a4a2-11ed-b9df-0242ac120003', 'groupName': 'Uni', 'userID': '89d1f534-ae0f-11ed-9bd8-0242ac110002', 'userFullname': 'Lucie Newbie', 'eventID': '45b2df80-ae0f-11ed-9bd8-0242ac110002', 'eventName': 'Zkouška', 'startdate': '2023-04-19T08:00:00', 'eventEndDate': '2023-04-19T09:00:00', 'invitationTypeID': 'e871403c-a79c-11ed-b76e-0242ac110002'}, {'groupID': '2d9dcd22-a4a2-11ed-b9df-0242ac120003', 'groupName': 'Uni', 'userID': '89d1f534-ae0f-11ed-9bd8-0242ac110002', 'userFullname': 'Lucie Newbie', 'eventID': '45b2df80-ae0f-11ed-9bd8-0242ac110002', 'eventName': 'Zkouška', 'startdate': '2023-04-19T08:00:00', 'eventEndDate': '2023-04-19T09:00:00', 'invitationTypeID': 'e871403c-a79c-11ed-b76e-0242ac110002'}, {'groupID': '2d9dcd22-a4a2-11ed-b9df-0242ac120003', 'groupName': 'Uni', 'userID': '89d1f534-ae0f-11ed-9bd8-0242ac110002', 'userFullname': 'Lucie Newbie', 'eventID': '45b2df80-ae0f-11ed-9bd8-0242ac110002', 'eventName': 'Zkouška', 'startdate': '2023-04-19T08:00:00', 'eventEndDate': '2023-04-19T09:00:00', 'invitationTypeID': 'e871403c-a79c-11ed-b76e-0242ac110002'}, {'groupID': '2d9dcd22-a4a2-11ed-b9df-0242ac120003', 'groupName': 'Uni', 'userID': '89d1f534-ae0f-11ed-9bd8-0242ac110002', 'userFullname': 'Lucie Newbie', 'eventID': '45b2df80-ae0f-11ed-9bd8-0242ac110002', 'eventName': 'Zkouška', 'startdate': '2023-04-19T08:00:00', 'eventEndDate': '2023-04-19T09:00:00', 'invitationTypeID': 'e871403c-a79c-11ed-b76e-0242ac110002'}, {'groupID': '2d9dcd22-a4a2-11ed-b9df-0242ac120003', 'groupName': 'Uni', 'userID': '89d1f534-ae0f-11ed-9bd8-0242ac110002', 'userFullname': 'Lucie Newbie', 'eventID': '45b2df80-ae0f-11ed-9bd8-0242ac110002', 'eventName': 'Zkouška', 'startdate': '2023-04-19T08:00:00', 'eventEndDate': '2023-04-19T09:00:00', 'invitationTypeID': 'e871403c-a79c-11ed-b76e-0242ac110002'}, {'groupID': '2d9dcd22-a4a2-11ed-b9df-0242ac120003', 'groupName': 'Uni', 'userID': '89d1f534-ae0f-11ed-9bd8-0242ac110002', 'userFullname': 'Lucie Newbie', 'eventID': '45b2df80-ae0f-11ed-9bd8-0242ac110002', 'eventName': 'Zkouška', 'startdate': '2023-04-19T08:00:00', 'eventEndDate': '2023-04-19T09:00:00', 'invitationTypeID': 'e871403c-a79c-11ed-b76e-0242ac110002'}, {'groupID': '2d9dcd22-a4a2-11ed-b9df-0242ac120003', 'groupName': 'Uni', 'userID': '89d1f534-ae0f-11ed-9bd8-0242ac110002', 'userFullname': 'Lucie Newbie', 'eventID': '45b2df80-ae0f-11ed-9bd8-0242ac110002', 'eventName': 'Zkouška', 'startdate': '2023-04-19T08:00:00', 'eventEndDate': '2023-04-19T09:00:00', 'invitationTypeID': 'e871403c-a79c-11ed-b76e-0242ac110002'}, {'groupID': '2d9dcd22-a4a2-11ed-b9df-0242ac120003', 'groupName': 'Uni', 'userID': '89d1f534-ae0f-11ed-9bd8-0242ac110002', 'userFullname': 'Lucie Newbie', 'eventID': '45b2df80-ae0f-11ed-9bd8-0242ac110002', 'eventName': 'Zkouška', 'startdate': '2023-04-19T08:00:00', 'eventEndDate': '2023-04-19T09:00:00', 'invitationTypeID': 'e871403c-a79c-11ed-b76e-0242ac110002'}, {'groupID': '2d9dcd22-a4a2-11ed-b9df-0242ac120003', 'groupName': 'Uni', 'userID': '89d1f534-ae0f-11ed-9bd8-0242ac110002', 'userFullname': 'Lucie Newbie', 'eventID': '45b2df80-ae0f-11ed-9bd8-0242ac110002', 'eventName': 'Zkouška', 'startdate': '2023-04-19T08:00:00', 'eventEndDate': '2023-04-19T09:00:00', 'invitationTypeID': 'e871403c-a79c-11ed-b76e-0242ac110002'}, {'groupID': '2d9dcd22-a4a2-11ed-b9df-0242ac120003', 'groupName': 'Uni', 'userID': '89d1f58e-ae0f-11ed-9bd8-0242ac110002', 'userFullname': 'Nola Newbie', 'eventID': '45b2df80-ae0f-11ed-9bd8-0242ac110002', 'eventName': 'Zkouška', 'startdate': '2023-04-19T08:00:00', 'eventEndDate': '2023-04-19T09:00:00', 'invitationTypeID': 'e871403c-a79c-11ed-b76e-0242ac110002'}, {'groupID': '2d9dcd22-a4a2-11ed-b9df-0242ac120003', 'groupName': 'Uni', 'userID': '89d1f58e-ae0f-11ed-9bd8-0242ac110002', 'userFullname': 'Nola Newbie', 'eventID': '45b2df80-ae0f-11ed-9bd8-0242ac110002', 'eventName': 'Zkouška', 'startdate': '2023-04-19T08:00:00', 'eventEndDate': '2023-04-19T09:00:00', 'invitationTypeID': 'e871403c-a79c-11ed-b76e-0242ac110002'}, {'groupID': '2d9dcd22-a4a2-11ed-b9df-0242ac120003', 'groupName': 'Uni', 'userID': '89d1f58e-ae0f-11ed-9bd8-0242ac110002', 'userFullname': 'Nola Newbie', 'eventID': '45b2df80-ae0f-11ed-9bd8-0242ac110002', 'eventName': 'Zkouška', 'startdate': '2023-04-19T08:00:00', 'eventEndDate': '2023-04-19T09:00:00', 'invitationTypeID': 'e871403c-a79c-11ed-b76e-0242ac110002'}, {'groupID': '2d9dcd22-a4a2-11ed-b9df-0242ac120003', 'groupName': 'Uni', 'userID': '89d1f58e-ae0f-11ed-9bd8-0242ac110002', 'userFullname': 'Nola Newbie', 'eventID': '45b2df80-ae0f-11ed-9bd8-0242ac110002', 'eventName': 'Zkouška', 'startdate': '2023-04-19T08:00:00', 'eventEndDate': '2023-04-19T09:00:00', 'invitationTypeID': 'e871403c-a79c-11ed-b76e-0242ac110002'}, {'groupID': '2d9dcd22-a4a2-11ed-b9df-0242ac120003', 'groupName': 'Uni', 'userID': '89d1f58e-ae0f-11ed-9bd8-0242ac110002', 'userFullname': 'Nola Newbie', 'eventID': '45b2df80-ae0f-11ed-9bd8-0242ac110002', 'eventName': 'Zkouška', 'startdate': '2023-04-19T08:00:00', 'eventEndDate': '2023-04-19T09:00:00', 'invitationTypeID': 'e871403c-a79c-11ed-b76e-0242ac110002'}, {'groupID': '2d9dcd22-a4a2-11ed-b9df-0242ac120003', 'groupName': 'Uni', 'userID': '89d1f58e-ae0f-11ed-9bd8-0242ac110002', 'userFullname': 'Nola Newbie', 'eventID': '45b2df80-ae0f-11ed-9bd8-0242ac110002', 'eventName': 'Zkouška', 'startdate': '2023-04-19T08:00:00', 'eventEndDate': '2023-04-19T09:00:00', 'invitationTypeID': 'e871403c-a79c-11ed-b76e-0242ac110002'}, {'groupID': '2d9dcd22-a4a2-11ed-b9df-0242ac120003', 'groupName': 'Uni', 'userID': '89d1f58e-ae0f-11ed-9bd8-0242ac110002', 'userFullname': 'Nola Newbie', 'eventID': '45b2df80-ae0f-11ed-9bd8-0242ac110002', 'eventName': 'Zkouška', 'startdate': '2023-04-19T08:00:00', 'eventEndDate': '2023-04-19T09:00:00', 'invitationTypeID': 'e871403c-a79c-11ed-b76e-0242ac110002'}, {'groupID': '2d9dcd22-a4a2-11ed-b9df-0242ac120003', 'groupName': 'Uni', 'userID': '89d1f58e-ae0f-11ed-9bd8-0242ac110002', 'userFullname': 'Nola Newbie', 'eventID': '45b2df80-ae0f-11ed-9bd8-0242ac110002', 'eventName': 'Zkouška', 'startdate': '2023-04-19T08:00:00', 'eventEndDate': '2023-04-19T09:00:00', 'invitationTypeID': 'e871403c-a79c-11ed-b76e-0242ac110002'}, {'groupID': '2d9dcd22-a4a2-11ed-b9df-0242ac120003', 'groupName': 'Uni', 'userID': '89d1f58e-ae0f-11ed-9bd8-0242ac110002', 'userFullname': 'Nola Newbie', 'eventID': '45b2df80-ae0f-11ed-9bd8-0242ac110002', 'eventName': 'Zkouška', 'startdate': '2023-04-19T08:00:00', 'eventEndDate': '2023-04-19T09:00:00', 'invitationTypeID': 'e871403c-a79c-11ed-b76e-0242ac110002'}, {'groupID': '2d9dcd22-a4a2-11ed-b9df-0242ac120003', 'groupName': 'Uni', 'userID': '89d1f58e-ae0f-11ed-9bd8-0242ac110002', 'userFullname': 'Nola Newbie', 'eventID': '45b2df80-ae0f-11ed-9bd8-0242ac110002', 'eventName': 'Zkouška', 'startdate': '2023-04-19T08:00:00', 'eventEndDate': '2023-04-19T09:00:00', 'invitationTypeID': 'e871403c-a79c-11ed-b76e-0242ac110002'}, {'groupID': '2d9dcd22-a4a2-11ed-b9df-0242ac120003', 'groupName': 'Uni', 'userID': '89d1f5de-ae0f-11ed-9bd8-0242ac110002', 'userFullname': 'Neva Newbie', 'eventID': '45b2df80-ae0f-11ed-9bd8-0242ac110002', 'eventName': 'Zkouška', 'startdate': '2023-04-19T08:00:00', 'eventEndDate': '2023-04-19T09:00:00', 'invitationTypeID': 'e871403c-a79c-11ed-b76e-0242ac110002'}, {'groupID': '2d9dcd22-a4a2-11ed-b9df-0242ac120003', 'groupName': 'Uni', 'userID': '89d1f5de-ae0f-11ed-9bd8-0242ac110002', 'userFullname': 'Neva Newbie', 'eventID': '45b2df80-ae0f-11ed-9bd8-0242ac110002', 'eventName': 'Zkouška', 'startdate': '2023-04-19T08:00:00', 'eventEndDate': '2023-04-19T09:00:00', 'invitationTypeID': 'e871403c-a79c-11ed-b76e-0242ac110002'}, {'groupID': '2d9dcd22-a4a2-11ed-b9df-0242ac120003', 'groupName': 'Uni', 'userID': '89d1f5de-ae0f-11ed-9bd8-0242ac110002', 'userFullname': 'Neva Newbie', 'eventID': '45b2df80-ae0f-11ed-9bd8-0242ac110002', 'eventName': 'Zkouška', 'startdate': '2023-04-19T08:00:00', 'eventEndDate': '2023-04-19T09:00:00', 'invitationTypeID': 'e871403c-a79c-11ed-b76e-0242ac110002'}, {'groupID': '2d9dcd22-a4a2-11ed-b9df-0242ac120003', 'groupName': 'Uni', 'userID': '89d1f5de-ae0f-11ed-9bd8-0242ac110002', 'userFullname': 'Neva Newbie', 'eventID': '45b2df80-ae0f-11ed-9bd8-0242ac110002', 'eventName': 'Zkouška', 'startdate': '2023-04-19T08:00:00', 'eventEndDate': '2023-04-19T09:00:00', 'invitationTypeID': 'e871403c-a79c-11ed-b76e-0242ac110002'}, {'groupID': '2d9dcd22-a4a2-11ed-b9df-0242ac120003', 'groupName': 'Uni', 'userID': '89d1f5de-ae0f-11ed-9bd8-0242ac110002', 'userFullname': 'Neva Newbie', 'eventID': '45b2df80-ae0f-11ed-9bd8-0242ac110002', 'eventName': 'Zkouška', 'startdate': '2023-04-19T08:00:00', 'eventEndDate': '2023-04-19T09:00:00', 'invitationTypeID': 'e871403c-a79c-11ed-b76e-0242ac110002'}, {'groupID': '2d9dcd22-a4a2-11ed-b9df-0242ac120003', 'groupName': 'Uni', 'userID': '89d1f5de-ae0f-11ed-9bd8-0242ac110002', 'userFullname': 'Neva Newbie', 'eventID': '45b2df80-ae0f-11ed-9bd8-0242ac110002', 'eventName': 'Zkouška', 'startdate': '2023-04-19T08:00:00', 'eventEndDate': '2023-04-19T09:00:00', 'invitationTypeID': 'e871403c-a79c-11ed-b76e-0242ac110002'}, {'groupID': '2d9dcd22-a4a2-11ed-b9df-0242ac120003', 'groupName': 'Uni', 'userID': '89d1f5de-ae0f-11ed-9bd8-0242ac110002', 'userFullname': 'Neva Newbie', 'eventID': '45b2df80-ae0f-11ed-9bd8-0242ac110002', 'eventName': 'Zkouška', 'startdate': '2023-04-19T08:00:00', 'eventEndDate': '2023-04-19T09:00:00', 'invitationTypeID': 'e871403c-a79c-11ed-b76e-0242ac110002'}, {'groupID': '2d9dcd22-a4a2-11ed-b9df-0242ac120003', 'groupName': 'Uni', 'userID': '89d1f5de-ae0f-11ed-9bd8-0242ac110002', 'userFullname': 'Neva Newbie', 'eventID': '45b2df80-ae0f-11ed-9bd8-0242ac110002', 'eventName': 'Zkouška', 'startdate': '2023-04-19T08:00:00', 'eventEndDate': '2023-04-19T09:00:00', 'invitationTypeID': 'e871403c-a79c-11ed-b76e-0242ac110002'}, {'groupID': '2d9dcd22-a4a2-11ed-b9df-0242ac120003', 'groupName': 'Uni', 'userID': '89d1f5de-ae0f-11ed-9bd8-0242ac110002', 'userFullname': 'Neva Newbie', 'eventID': '45b2df80-ae0f-11ed-9bd8-0242ac110002', 'eventName': 'Zkouška', 'startdate': '2023-04-19T08:00:00', 'eventEndDate': '2023-04-19T09:00:00', 'invitationTypeID': 'e871403c-a79c-11ed-b76e-0242ac110002'}, {'groupID': '2d9dcd22-a4a2-11ed-b9df-0242ac120003', 'groupName': 'Uni', 'userID': '89d1f5de-ae0f-11ed-9bd8-0242ac110002', 'userFullname': 'Neva Newbie', 'eventID': '45b2df80-ae0f-11ed-9bd8-0242ac110002', 'eventName': 'Zkouška', 'startdate': '2023-04-19T08:00:00', 'eventEndDate': '2023-04-19T09:00:00', 'invitationTypeID': 'e871403c-a79c-11ed-b76e-0242ac110002'}, {'groupID': '2d9dcd22-a4a2-11ed-b9df-0242ac120003', 'groupName': 'Uni', 'userID': '89d1f638-ae0f-11ed-9bd8-0242ac110002', 'userFullname': 'Nora Newbie', 'eventID': '45b2df80-ae0f-11ed-9bd8-0242ac110002', 'eventName': 'Zkouška', 'startdate': '2023-04-19T08:00:00', 'eventEndDate': '2023-04-19T09:00:00', 'invitationTypeID': 'e871403c-a79c-11ed-b76e-0242ac110002'}, {'groupID': '2d9dcd22-a4a2-11ed-b9df-0242ac120003', 'groupName': 'Uni', 'userID': '89d1f638-ae0f-11ed-9bd8-0242ac110002', 'userFullname': 'Nora Newbie', 'eventID': '45b2df80-ae0f-11ed-9bd8-0242ac110002', 'eventName': 'Zkouška', 'startdate': '2023-04-19T08:00:00', 'eventEndDate': '2023-04-19T09:00:00', 'invitationTypeID': 'e871403c-a79c-11ed-b76e-0242ac110002'}, {'groupID': '2d9dcd22-a4a2-11ed-b9df-0242ac120003', 'groupName': 'Uni', 'userID': '89d1f638-ae0f-11ed-9bd8-0242ac110002', 'userFullname': 'Nora Newbie', 'eventID': '45b2df80-ae0f-11ed-9bd8-0242ac110002', 'eventName': 'Zkouška', 'startdate': '2023-04-19T08:00:00', 'eventEndDate': '2023-04-19T09:00:00', 'invitationTypeID': 'e871403c-a79c-11ed-b76e-0242ac110002'}, {'groupID': '2d9dcd22-a4a2-11ed-b9df-0242ac120003', 'groupName': 'Uni', 'userID': '89d1f638-ae0f-11ed-9bd8-0242ac110002', 'userFullname': 'Nora Newbie', 'eventID': '45b2df80-ae0f-11ed-9bd8-0242ac110002', 'eventName': 'Zkouška', 'startdate': '2023-04-19T08:00:00', 'eventEndDate': '2023-04-19T09:00:00', 'invitationTypeID': 'e871403c-a79c-11ed-b76e-0242ac110002'}, {'groupID': '2d9dcd22-a4a2-11ed-b9df-0242ac120003', 'groupName': 'Uni', 'userID': '89d1f638-ae0f-11ed-9bd8-0242ac110002', 'userFullname': 'Nora Newbie', 'eventID': '45b2df80-ae0f-11ed-9bd8-0242ac110002', 'eventName': 'Zkouška', 'startdate': '2023-04-19T08:00:00', 'eventEndDate': '2023-04-19T09:00:00', 'invitationTypeID': 'e871403c-a79c-11ed-b76e-0242ac110002'}, {'groupID': '2d9dcd22-a4a2-11ed-b9df-0242ac120003', 'groupName': 'Uni', 'userID': '89d1f638-ae0f-11ed-9bd8-0242ac110002', 'userFullname': 'Nora Newbie', 'eventID': '45b2df80-ae0f-11ed-9bd8-0242ac110002', 'eventName': 'Zkouška', 'startdate': '2023-04-19T08:00:00', 'eventEndDate': '2023-04-19T09:00:00', 'invitationTypeID': 'e871403c-a79c-11ed-b76e-0242ac110002'}, {'groupID': '2d9dcd22-a4a2-11ed-b9df-0242ac120003', 'groupName': 'Uni', 'userID': '89d1f638-ae0f-11ed-9bd8-0242ac110002', 'userFullname': 'Nora Newbie', 'eventID': '45b2df80-ae0f-11ed-9bd8-0242ac110002', 'eventName': 'Zkouška', 'startdate': '2023-04-19T08:00:00', 'eventEndDate': '2023-04-19T09:00:00', 'invitationTypeID': 'e871403c-a79c-11ed-b76e-0242ac110002'}, {'groupID': '2d9dcd22-a4a2-11ed-b9df-0242ac120003', 'groupName': 'Uni', 'userID': '89d1f638-ae0f-11ed-9bd8-0242ac110002', 'userFullname': 'Nora Newbie', 'eventID': '45b2df80-ae0f-11ed-9bd8-0242ac110002', 'eventName': 'Zkouška', 'startdate': '2023-04-19T08:00:00', 'eventEndDate': '2023-04-19T09:00:00', 'invitationTypeID': 'e871403c-a79c-11ed-b76e-0242ac110002'}, {'groupID': '2d9dcd22-a4a2-11ed-b9df-0242ac120003', 'groupName': 'Uni', 'userID': '89d1f638-ae0f-11ed-9bd8-0242ac110002', 'userFullname': 'Nora Newbie', 'eventID': '45b2df80-ae0f-11ed-9bd8-0242ac110002', 'eventName': 'Zkouška', 'startdate': '2023-04-19T08:00:00', 'eventEndDate': '2023-04-19T09:00:00', 'invitationTypeID': 'e871403c-a79c-11ed-b76e-0242ac110002'}, {'groupID': '2d9dcd22-a4a2-11ed-b9df-0242ac120003', 'groupName': 'Uni', 'userID': '89d1f638-ae0f-11ed-9bd8-0242ac110002', 'userFullname': 'Nora Newbie', 'eventID': '45b2df80-ae0f-11ed-9bd8-0242ac110002', 'eventName': 'Zkouška', 'startdate': '2023-04-19T08:00:00', 'eventEndDate': '2023-04-19T09:00:00', 'invitationTypeID': 'e871403c-a79c-11ed-b76e-0242ac110002'}]\n",
      "json Dumped\n"
     ]
    }
   ],
   "source": [
    "async def fullPipe():\n",
    "    token = await getToken(username, password)\n",
    "    qfunc = query(queryStr, token)\n",
    "    response = await qfunc({})\n",
    "    print(response)\n",
    "    data = response.get(\"data\", None)\n",
    "    \n",
    "    # Debugging statement to inspect the structure\n",
    "    print(\"Data:\", data)\n",
    "    \n",
    "    # Check if data is not None and is a dictionary\n",
    "    if not data or not isinstance(data, dict):\n",
    "        raise ValueError(\"Invalid response data structure\")\n",
    "    \n",
    "    groupPage = data.get(\"groupPage\")\n",
    "    \n",
    "    # Ensure groupPage is a dictionary and extract memberships\n",
    "    memberships = []\n",
    "    if isinstance(groupPage, list) and len(groupPage) > 0:\n",
    "        memberships = groupPage[0].get(\"memberships\", [])\n",
    "    elif isinstance(groupPage, dict):\n",
    "        memberships = groupPage.get(\"memberships\", [])\n",
    "\n",
    "    # Flatten and map the data using list comprehensions\n",
    "    resultMapped = []\n",
    "    for membership in memberships:\n",
    "        group = membership.get(\"group\", {})\n",
    "        user = membership.get(\"user\", {})\n",
    "        events = user.get(\"events\", [])\n",
    "        for event in events:\n",
    "            presences = event.get(\"presences\", [])\n",
    "            for presence in presences:\n",
    "                resultMapped.append({\n",
    "                    \"groupID\": group.get(\"id\"),\n",
    "                    \"groupName\": group.get(\"name\"),\n",
    "                    \"userID\": user.get(\"id\"),\n",
    "                    \"userFullname\": user.get(\"fullname\"),\n",
    "                    \"eventID\": event.get(\"id\"),\n",
    "                    \"eventName\": event.get(\"name\"),\n",
    "                    \"startdate\": event.get(\"startdate\"),\n",
    "                    \"eventEndDate\": event.get(\"enddate\"),\n",
    "                    \"invitationTypeID\": presence.get(\"invitationType\", {}).get(\"id\")\n",
    "                })\n",
    "\n",
    "    return resultMapped\n",
    "\n",
    "async def main():\n",
    "    flatData = await fullPipe()\n",
    "    print(flatData)\n",
    "    with open('resultQuery.json', \"w\", encoding='utf-8') as outputFile:\n",
    "        json.dump(flatData, outputFile)\n",
    "        print(\"json Dumped\")\n",
    "\n",
    "await main()\n"
   ]
  },
  {
   "cell_type": "markdown",
   "metadata": {},
   "source": [
    "<h2>Tvorba tabulky</h2>"
   ]
  },
  {
   "cell_type": "code",
   "execution_count": 72,
   "metadata": {},
   "outputs": [
    {
     "name": "stdout",
     "output_type": "stream",
     "text": [
      "                                 groupID groupName                                userID userFullname                               eventID eventName            startdate         eventEndDate                      invitationTypeID\n",
      "0   2d9dcd22-a4a2-11ed-b9df-0242ac120003       Uni  89d1e724-ae0f-11ed-9bd8-0242ac110002  Jana Newbie  45b2df80-ae0f-11ed-9bd8-0242ac110002   Zkouška  2023-04-19T08:00:00  2023-04-19T09:00:00  e871403c-a79c-11ed-b76e-0242ac110002\n",
      "1   2d9dcd22-a4a2-11ed-b9df-0242ac120003       Uni  89d1e724-ae0f-11ed-9bd8-0242ac110002  Jana Newbie  45b2df80-ae0f-11ed-9bd8-0242ac110002   Zkouška  2023-04-19T08:00:00  2023-04-19T09:00:00  e871403c-a79c-11ed-b76e-0242ac110002\n",
      "2   2d9dcd22-a4a2-11ed-b9df-0242ac120003       Uni  89d1e724-ae0f-11ed-9bd8-0242ac110002  Jana Newbie  45b2df80-ae0f-11ed-9bd8-0242ac110002   Zkouška  2023-04-19T08:00:00  2023-04-19T09:00:00  e871403c-a79c-11ed-b76e-0242ac110002\n",
      "3   2d9dcd22-a4a2-11ed-b9df-0242ac120003       Uni  89d1e724-ae0f-11ed-9bd8-0242ac110002  Jana Newbie  45b2df80-ae0f-11ed-9bd8-0242ac110002   Zkouška  2023-04-19T08:00:00  2023-04-19T09:00:00  e871403c-a79c-11ed-b76e-0242ac110002\n",
      "4   2d9dcd22-a4a2-11ed-b9df-0242ac120003       Uni  89d1e724-ae0f-11ed-9bd8-0242ac110002  Jana Newbie  45b2df80-ae0f-11ed-9bd8-0242ac110002   Zkouška  2023-04-19T08:00:00  2023-04-19T09:00:00  e871403c-a79c-11ed-b76e-0242ac110002\n",
      "..                                   ...       ...                                   ...          ...                                   ...       ...                  ...                  ...                                   ...\n",
      "95  2d9dcd22-a4a2-11ed-b9df-0242ac120003       Uni  89d1f638-ae0f-11ed-9bd8-0242ac110002  Nora Newbie  45b2df80-ae0f-11ed-9bd8-0242ac110002   Zkouška  2023-04-19T08:00:00  2023-04-19T09:00:00  e871403c-a79c-11ed-b76e-0242ac110002\n",
      "96  2d9dcd22-a4a2-11ed-b9df-0242ac120003       Uni  89d1f638-ae0f-11ed-9bd8-0242ac110002  Nora Newbie  45b2df80-ae0f-11ed-9bd8-0242ac110002   Zkouška  2023-04-19T08:00:00  2023-04-19T09:00:00  e871403c-a79c-11ed-b76e-0242ac110002\n",
      "97  2d9dcd22-a4a2-11ed-b9df-0242ac120003       Uni  89d1f638-ae0f-11ed-9bd8-0242ac110002  Nora Newbie  45b2df80-ae0f-11ed-9bd8-0242ac110002   Zkouška  2023-04-19T08:00:00  2023-04-19T09:00:00  e871403c-a79c-11ed-b76e-0242ac110002\n",
      "98  2d9dcd22-a4a2-11ed-b9df-0242ac120003       Uni  89d1f638-ae0f-11ed-9bd8-0242ac110002  Nora Newbie  45b2df80-ae0f-11ed-9bd8-0242ac110002   Zkouška  2023-04-19T08:00:00  2023-04-19T09:00:00  e871403c-a79c-11ed-b76e-0242ac110002\n",
      "99  2d9dcd22-a4a2-11ed-b9df-0242ac120003       Uni  89d1f638-ae0f-11ed-9bd8-0242ac110002  Nora Newbie  45b2df80-ae0f-11ed-9bd8-0242ac110002   Zkouška  2023-04-19T08:00:00  2023-04-19T09:00:00  e871403c-a79c-11ed-b76e-0242ac110002\n",
      "\n",
      "[100 rows x 9 columns]\n"
     ]
    }
   ],
   "source": [
    "with open(\"resultQuery.json\", \"r\") as file: \n",
    "    data = json.load(file)\n",
    "\n",
    "pd.set_option('display.max_columns', None)\n",
    "pd.set_option('display.expand_frame_repr', False)\n",
    "df = pd.DataFrame(data)\n",
    "\n",
    "print(df)"
   ]
  },
  {
   "cell_type": "markdown",
   "metadata": {},
   "source": [
    "<h2>Tvorba grafů</h2>"
   ]
  },
  {
   "cell_type": "markdown",
   "metadata": {},
   "source": [
    "### Funkce pro filtrování dat pro speciální skupinu\n",
    "\n",
    "- Tuto funkci lze implementovat do kódu, který vykresluje koláčový graf (uvedena zvlášť pro větší přehlednost)\n",
    "- Dochází k nahrání souboru fakeData.json (slouží pro lepší visualizaci daného problému v grafu)\n",
    "- Zpracování json a filtrace na zakladě skupiny a organizatora\n"
   ]
  },
  {
   "cell_type": "code",
   "execution_count": 86,
   "metadata": {},
   "outputs": [
    {
     "name": "stdout",
     "output_type": "stream",
     "text": [
      "[{'userID': '89d1e724-ae0f-11ed-9bd8-0242ac110002', 'userFullname': 'Jana Newbie', 'eventID': '45b2df80-ae0f-11ed-9bd8-0242ac110002', 'eventName': 'ABT', 'invitationTypeID': 'e8713b6e-a79c-11ed-b76e-0242ac110002', 'lessonLength': 60.0}, {'userID': '89d1e724-ae0f-11ed-9bd8-0242ac110002', 'userFullname': 'Jana Newbie', 'eventID': '45b2df80-ae0f-11ed-9bd8-0242ac110002', 'eventName': 'AIZ', 'invitationTypeID': 'e8713b6e-a79c-11ed-b76e-0242ac110002', 'lessonLength': 60.0}, {'userID': '89d1e724-ae0f-11ed-9bd8-0242ac110002', 'userFullname': 'Jana Newbie', 'eventID': '45b2df80-ae0f-11ed-9bd8-0242ac110002', 'eventName': 'AIZ', 'invitationTypeID': 'e8713b6e-a79c-11ed-b76e-0242ac110002', 'lessonLength': 90.0}, {'userID': '89d1e724-ae0f-11ed-9bd8-0242ac110002', 'userFullname': 'Jana Newbie', 'eventID': '45b2df80-ae0f-11ed-9bd8-0242ac110002', 'eventName': 'AIZ', 'invitationTypeID': 'e8713b6e-a79c-11ed-b76e-0242ac110002', 'lessonLength': 90.0}, {'userID': '29d1e724-ae0f-11ed-9bd8-0242ac110002', 'userFullname': 'Karel Nekarel', 'eventID': '45b2df80-ae0f-11ed-9bd8-0242ac110002', 'eventName': 'INF', 'invitationTypeID': 'e8713b6e-a79c-11ed-b76e-0242ac110002', 'lessonLength': 60.0}, {'userID': '29d1e724-ae0f-11ed-9bd8-0242ac110002', 'userFullname': 'Ivan Pytel', 'eventID': '45b2df80-ae0f-11ed-9bd8-0242ac110002', 'eventName': 'ZaP', 'invitationTypeID': 'e8713b6e-a79c-11ed-b76e-0242ac110002', 'lessonLength': 60.0}]\n"
     ]
    }
   ],
   "source": [
    "import json\n",
    "import datetime\n",
    "\n",
    "def load_json_data(path: str):\n",
    "    with open(path, 'r', encoding='utf-8') as file:\n",
    "        data = json.load(file)\n",
    "        return data\n",
    "\n",
    "def user_attendance(data):\n",
    "    source_table = []\n",
    "    is_teacher = \"e8713b6e-a79c-11ed-b76e-0242ac110002\"  # Specifické ID po organizátora\n",
    "    is_specific_group = \"groupIdOfK209\" # Specifické ID pro určitou skupinu\n",
    "    \n",
    "    for item in data:\n",
    "        if item['invitationTypeID'] == is_teacher and item['groupID'] == is_specific_group:\n",
    "            event_start = datetime.datetime.fromisoformat(item['startdate'])\n",
    "            event_end = datetime.datetime.fromisoformat(item['eventEndDate'])\n",
    "\n",
    "            row = {\n",
    "                \"userID\": item['userID'],\n",
    "                \"userFullname\": item['userFullname'],\n",
    "                \"eventID\": item['eventID'],\n",
    "                \"eventName\": item['eventName'],\n",
    "                \"invitationTypeID\": item['invitationTypeID'],\n",
    "                \"lessonLength\": (event_end - event_start).total_seconds() / 60,  # in minutes\n",
    "            }\n",
    "            source_table.append(row)\n",
    "\n",
    "    print(source_table)\n",
    "\n",
    "    \n",
    "    with open('piechartData.json', \"w\", encoding='utf-8') as output_file:\n",
    "        json.dump(source_table, output_file, ensure_ascii=False, indent=4)\n",
    "\n",
    "def main():\n",
    "    data = load_json_data('fakeData.json') # Pro implementaci je potřeba vyměnit resultFake za opravdová data z query\n",
    "    if data:\n",
    "        user_attendance(data)\n",
    "\n",
    "if __name__ == \"__main__\":\n",
    "    main()\n"
   ]
  },
  {
   "cell_type": "markdown",
   "metadata": {},
   "source": [
    "### Koláčový graf\n",
    "\n",
    "- Koláčový graf využívá upravených dat pro lepší vizualizaci (resultFake)\n",
    "- Graf zobrazuje počet odučených hodin na jednotlivé učitele v určité skupině za stanovené období."
   ]
  },
  {
   "cell_type": "code",
   "execution_count": 87,
   "metadata": {},
   "outputs": [
    {
     "data": {
      "application/vnd.plotly.v1+json": {
       "config": {
        "plotlyServerURL": "https://plot.ly"
       },
       "data": [
        {
         "domain": {
          "x": [
           0,
           1
          ],
          "y": [
           0,
           1
          ]
         },
         "hovertemplate": "label=%{label}<br>value=%{value}<extra></extra>",
         "labels": [
          "Jana Newbie",
          "Karel Nekarel",
          "Ivan Pytel"
         ],
         "legendgroup": "",
         "name": "",
         "showlegend": true,
         "type": "pie",
         "values": [
          300,
          60,
          60
         ]
        }
       ],
       "layout": {
        "legend": {
         "tracegroupgap": 0
        },
        "template": {
         "data": {
          "bar": [
           {
            "error_x": {
             "color": "#2a3f5f"
            },
            "error_y": {
             "color": "#2a3f5f"
            },
            "marker": {
             "line": {
              "color": "#E5ECF6",
              "width": 0.5
             },
             "pattern": {
              "fillmode": "overlay",
              "size": 10,
              "solidity": 0.2
             }
            },
            "type": "bar"
           }
          ],
          "barpolar": [
           {
            "marker": {
             "line": {
              "color": "#E5ECF6",
              "width": 0.5
             },
             "pattern": {
              "fillmode": "overlay",
              "size": 10,
              "solidity": 0.2
             }
            },
            "type": "barpolar"
           }
          ],
          "carpet": [
           {
            "aaxis": {
             "endlinecolor": "#2a3f5f",
             "gridcolor": "white",
             "linecolor": "white",
             "minorgridcolor": "white",
             "startlinecolor": "#2a3f5f"
            },
            "baxis": {
             "endlinecolor": "#2a3f5f",
             "gridcolor": "white",
             "linecolor": "white",
             "minorgridcolor": "white",
             "startlinecolor": "#2a3f5f"
            },
            "type": "carpet"
           }
          ],
          "choropleth": [
           {
            "colorbar": {
             "outlinewidth": 0,
             "ticks": ""
            },
            "type": "choropleth"
           }
          ],
          "contour": [
           {
            "colorbar": {
             "outlinewidth": 0,
             "ticks": ""
            },
            "colorscale": [
             [
              0,
              "#0d0887"
             ],
             [
              0.1111111111111111,
              "#46039f"
             ],
             [
              0.2222222222222222,
              "#7201a8"
             ],
             [
              0.3333333333333333,
              "#9c179e"
             ],
             [
              0.4444444444444444,
              "#bd3786"
             ],
             [
              0.5555555555555556,
              "#d8576b"
             ],
             [
              0.6666666666666666,
              "#ed7953"
             ],
             [
              0.7777777777777778,
              "#fb9f3a"
             ],
             [
              0.8888888888888888,
              "#fdca26"
             ],
             [
              1,
              "#f0f921"
             ]
            ],
            "type": "contour"
           }
          ],
          "contourcarpet": [
           {
            "colorbar": {
             "outlinewidth": 0,
             "ticks": ""
            },
            "type": "contourcarpet"
           }
          ],
          "heatmap": [
           {
            "colorbar": {
             "outlinewidth": 0,
             "ticks": ""
            },
            "colorscale": [
             [
              0,
              "#0d0887"
             ],
             [
              0.1111111111111111,
              "#46039f"
             ],
             [
              0.2222222222222222,
              "#7201a8"
             ],
             [
              0.3333333333333333,
              "#9c179e"
             ],
             [
              0.4444444444444444,
              "#bd3786"
             ],
             [
              0.5555555555555556,
              "#d8576b"
             ],
             [
              0.6666666666666666,
              "#ed7953"
             ],
             [
              0.7777777777777778,
              "#fb9f3a"
             ],
             [
              0.8888888888888888,
              "#fdca26"
             ],
             [
              1,
              "#f0f921"
             ]
            ],
            "type": "heatmap"
           }
          ],
          "heatmapgl": [
           {
            "colorbar": {
             "outlinewidth": 0,
             "ticks": ""
            },
            "colorscale": [
             [
              0,
              "#0d0887"
             ],
             [
              0.1111111111111111,
              "#46039f"
             ],
             [
              0.2222222222222222,
              "#7201a8"
             ],
             [
              0.3333333333333333,
              "#9c179e"
             ],
             [
              0.4444444444444444,
              "#bd3786"
             ],
             [
              0.5555555555555556,
              "#d8576b"
             ],
             [
              0.6666666666666666,
              "#ed7953"
             ],
             [
              0.7777777777777778,
              "#fb9f3a"
             ],
             [
              0.8888888888888888,
              "#fdca26"
             ],
             [
              1,
              "#f0f921"
             ]
            ],
            "type": "heatmapgl"
           }
          ],
          "histogram": [
           {
            "marker": {
             "pattern": {
              "fillmode": "overlay",
              "size": 10,
              "solidity": 0.2
             }
            },
            "type": "histogram"
           }
          ],
          "histogram2d": [
           {
            "colorbar": {
             "outlinewidth": 0,
             "ticks": ""
            },
            "colorscale": [
             [
              0,
              "#0d0887"
             ],
             [
              0.1111111111111111,
              "#46039f"
             ],
             [
              0.2222222222222222,
              "#7201a8"
             ],
             [
              0.3333333333333333,
              "#9c179e"
             ],
             [
              0.4444444444444444,
              "#bd3786"
             ],
             [
              0.5555555555555556,
              "#d8576b"
             ],
             [
              0.6666666666666666,
              "#ed7953"
             ],
             [
              0.7777777777777778,
              "#fb9f3a"
             ],
             [
              0.8888888888888888,
              "#fdca26"
             ],
             [
              1,
              "#f0f921"
             ]
            ],
            "type": "histogram2d"
           }
          ],
          "histogram2dcontour": [
           {
            "colorbar": {
             "outlinewidth": 0,
             "ticks": ""
            },
            "colorscale": [
             [
              0,
              "#0d0887"
             ],
             [
              0.1111111111111111,
              "#46039f"
             ],
             [
              0.2222222222222222,
              "#7201a8"
             ],
             [
              0.3333333333333333,
              "#9c179e"
             ],
             [
              0.4444444444444444,
              "#bd3786"
             ],
             [
              0.5555555555555556,
              "#d8576b"
             ],
             [
              0.6666666666666666,
              "#ed7953"
             ],
             [
              0.7777777777777778,
              "#fb9f3a"
             ],
             [
              0.8888888888888888,
              "#fdca26"
             ],
             [
              1,
              "#f0f921"
             ]
            ],
            "type": "histogram2dcontour"
           }
          ],
          "mesh3d": [
           {
            "colorbar": {
             "outlinewidth": 0,
             "ticks": ""
            },
            "type": "mesh3d"
           }
          ],
          "parcoords": [
           {
            "line": {
             "colorbar": {
              "outlinewidth": 0,
              "ticks": ""
             }
            },
            "type": "parcoords"
           }
          ],
          "pie": [
           {
            "automargin": true,
            "type": "pie"
           }
          ],
          "scatter": [
           {
            "fillpattern": {
             "fillmode": "overlay",
             "size": 10,
             "solidity": 0.2
            },
            "type": "scatter"
           }
          ],
          "scatter3d": [
           {
            "line": {
             "colorbar": {
              "outlinewidth": 0,
              "ticks": ""
             }
            },
            "marker": {
             "colorbar": {
              "outlinewidth": 0,
              "ticks": ""
             }
            },
            "type": "scatter3d"
           }
          ],
          "scattercarpet": [
           {
            "marker": {
             "colorbar": {
              "outlinewidth": 0,
              "ticks": ""
             }
            },
            "type": "scattercarpet"
           }
          ],
          "scattergeo": [
           {
            "marker": {
             "colorbar": {
              "outlinewidth": 0,
              "ticks": ""
             }
            },
            "type": "scattergeo"
           }
          ],
          "scattergl": [
           {
            "marker": {
             "colorbar": {
              "outlinewidth": 0,
              "ticks": ""
             }
            },
            "type": "scattergl"
           }
          ],
          "scattermapbox": [
           {
            "marker": {
             "colorbar": {
              "outlinewidth": 0,
              "ticks": ""
             }
            },
            "type": "scattermapbox"
           }
          ],
          "scatterpolar": [
           {
            "marker": {
             "colorbar": {
              "outlinewidth": 0,
              "ticks": ""
             }
            },
            "type": "scatterpolar"
           }
          ],
          "scatterpolargl": [
           {
            "marker": {
             "colorbar": {
              "outlinewidth": 0,
              "ticks": ""
             }
            },
            "type": "scatterpolargl"
           }
          ],
          "scatterternary": [
           {
            "marker": {
             "colorbar": {
              "outlinewidth": 0,
              "ticks": ""
             }
            },
            "type": "scatterternary"
           }
          ],
          "surface": [
           {
            "colorbar": {
             "outlinewidth": 0,
             "ticks": ""
            },
            "colorscale": [
             [
              0,
              "#0d0887"
             ],
             [
              0.1111111111111111,
              "#46039f"
             ],
             [
              0.2222222222222222,
              "#7201a8"
             ],
             [
              0.3333333333333333,
              "#9c179e"
             ],
             [
              0.4444444444444444,
              "#bd3786"
             ],
             [
              0.5555555555555556,
              "#d8576b"
             ],
             [
              0.6666666666666666,
              "#ed7953"
             ],
             [
              0.7777777777777778,
              "#fb9f3a"
             ],
             [
              0.8888888888888888,
              "#fdca26"
             ],
             [
              1,
              "#f0f921"
             ]
            ],
            "type": "surface"
           }
          ],
          "table": [
           {
            "cells": {
             "fill": {
              "color": "#EBF0F8"
             },
             "line": {
              "color": "white"
             }
            },
            "header": {
             "fill": {
              "color": "#C8D4E3"
             },
             "line": {
              "color": "white"
             }
            },
            "type": "table"
           }
          ]
         },
         "layout": {
          "annotationdefaults": {
           "arrowcolor": "#2a3f5f",
           "arrowhead": 0,
           "arrowwidth": 1
          },
          "autotypenumbers": "strict",
          "coloraxis": {
           "colorbar": {
            "outlinewidth": 0,
            "ticks": ""
           }
          },
          "colorscale": {
           "diverging": [
            [
             0,
             "#8e0152"
            ],
            [
             0.1,
             "#c51b7d"
            ],
            [
             0.2,
             "#de77ae"
            ],
            [
             0.3,
             "#f1b6da"
            ],
            [
             0.4,
             "#fde0ef"
            ],
            [
             0.5,
             "#f7f7f7"
            ],
            [
             0.6,
             "#e6f5d0"
            ],
            [
             0.7,
             "#b8e186"
            ],
            [
             0.8,
             "#7fbc41"
            ],
            [
             0.9,
             "#4d9221"
            ],
            [
             1,
             "#276419"
            ]
           ],
           "sequential": [
            [
             0,
             "#0d0887"
            ],
            [
             0.1111111111111111,
             "#46039f"
            ],
            [
             0.2222222222222222,
             "#7201a8"
            ],
            [
             0.3333333333333333,
             "#9c179e"
            ],
            [
             0.4444444444444444,
             "#bd3786"
            ],
            [
             0.5555555555555556,
             "#d8576b"
            ],
            [
             0.6666666666666666,
             "#ed7953"
            ],
            [
             0.7777777777777778,
             "#fb9f3a"
            ],
            [
             0.8888888888888888,
             "#fdca26"
            ],
            [
             1,
             "#f0f921"
            ]
           ],
           "sequentialminus": [
            [
             0,
             "#0d0887"
            ],
            [
             0.1111111111111111,
             "#46039f"
            ],
            [
             0.2222222222222222,
             "#7201a8"
            ],
            [
             0.3333333333333333,
             "#9c179e"
            ],
            [
             0.4444444444444444,
             "#bd3786"
            ],
            [
             0.5555555555555556,
             "#d8576b"
            ],
            [
             0.6666666666666666,
             "#ed7953"
            ],
            [
             0.7777777777777778,
             "#fb9f3a"
            ],
            [
             0.8888888888888888,
             "#fdca26"
            ],
            [
             1,
             "#f0f921"
            ]
           ]
          },
          "colorway": [
           "#636efa",
           "#EF553B",
           "#00cc96",
           "#ab63fa",
           "#FFA15A",
           "#19d3f3",
           "#FF6692",
           "#B6E880",
           "#FF97FF",
           "#FECB52"
          ],
          "font": {
           "color": "#2a3f5f"
          },
          "geo": {
           "bgcolor": "white",
           "lakecolor": "white",
           "landcolor": "#E5ECF6",
           "showlakes": true,
           "showland": true,
           "subunitcolor": "white"
          },
          "hoverlabel": {
           "align": "left"
          },
          "hovermode": "closest",
          "mapbox": {
           "style": "light"
          },
          "paper_bgcolor": "white",
          "plot_bgcolor": "#E5ECF6",
          "polar": {
           "angularaxis": {
            "gridcolor": "white",
            "linecolor": "white",
            "ticks": ""
           },
           "bgcolor": "#E5ECF6",
           "radialaxis": {
            "gridcolor": "white",
            "linecolor": "white",
            "ticks": ""
           }
          },
          "scene": {
           "xaxis": {
            "backgroundcolor": "#E5ECF6",
            "gridcolor": "white",
            "gridwidth": 2,
            "linecolor": "white",
            "showbackground": true,
            "ticks": "",
            "zerolinecolor": "white"
           },
           "yaxis": {
            "backgroundcolor": "#E5ECF6",
            "gridcolor": "white",
            "gridwidth": 2,
            "linecolor": "white",
            "showbackground": true,
            "ticks": "",
            "zerolinecolor": "white"
           },
           "zaxis": {
            "backgroundcolor": "#E5ECF6",
            "gridcolor": "white",
            "gridwidth": 2,
            "linecolor": "white",
            "showbackground": true,
            "ticks": "",
            "zerolinecolor": "white"
           }
          },
          "shapedefaults": {
           "line": {
            "color": "#2a3f5f"
           }
          },
          "ternary": {
           "aaxis": {
            "gridcolor": "white",
            "linecolor": "white",
            "ticks": ""
           },
           "baxis": {
            "gridcolor": "white",
            "linecolor": "white",
            "ticks": ""
           },
           "bgcolor": "#E5ECF6",
           "caxis": {
            "gridcolor": "white",
            "linecolor": "white",
            "ticks": ""
           }
          },
          "title": {
           "x": 0.05
          },
          "xaxis": {
           "automargin": true,
           "gridcolor": "white",
           "linecolor": "white",
           "ticks": "",
           "title": {
            "standoff": 15
           },
           "zerolinecolor": "white",
           "zerolinewidth": 2
          },
          "yaxis": {
           "automargin": true,
           "gridcolor": "white",
           "linecolor": "white",
           "ticks": "",
           "title": {
            "standoff": 15
           },
           "zerolinecolor": "white",
           "zerolinewidth": 2
          }
         }
        },
        "title": {
         "text": "Odučený počet hodin vyučujících na danné katedře"
        }
       }
      }
     },
     "metadata": {},
     "output_type": "display_data"
    }
   ],
   "source": [
    "with open('piechartData.json', 'r') as file:\n",
    "    data = json.load(file)\n",
    "\n",
    "def plot_lesson_lengths(data):\n",
    "    aggregation = defaultdict(float)\n",
    "\n",
    "    for entry in data:\n",
    "        userFullname = entry['userFullname']\n",
    "        lessonLength = entry['lessonLength']\n",
    "        aggregation[userFullname] += lessonLength\n",
    "\n",
    "    labels = list(aggregation.keys())\n",
    "    values = list(aggregation.values())\n",
    "    fig = px.pie(values=values, names=labels, title='Odučený počet hodin vyučujících na danné katedře')\n",
    "    fig.show()\n",
    "\n",
    "plot_lesson_lengths(data)"
   ]
  },
  {
   "cell_type": "code",
   "execution_count": 84,
   "metadata": {},
   "outputs": [
    {
     "name": "stdout",
     "output_type": "stream",
     "text": [
      "[{'groupID': 'groupIdOfK209', 'groupName': 'K209', 'userID': '89d1e724-ae0f-11ed-9bd8-0242ac110002', 'userFullname': 'Jana Newbie', 'eventID': '45b2df80-ae0f-11ed-9bd8-0242ac110002', 'eventName': 'ABT', 'invitationTypeID': 'e8713b6e-a79c-11ed-b76e-0242ac110002', 'lessonLength': 60.0}, {'groupID': 'groupIdOfK209', 'groupName': 'K209', 'userID': '19d1e724-ae0f-11ed-9bd8-0242ac110002', 'userFullname': 'Jana BUBU', 'eventID': '45b2df80-ae0f-11ed-9bd8-0242ac110002', 'eventName': 'KYB', 'invitationTypeID': 'e444444c-a79c-11ed-b76e-0242ac110002', 'lessonLength': 60.0}, {'groupID': 'groupIdOfK209', 'groupName': 'K209', 'userID': '89d1e724-ae0f-11ed-9bd8-0242ac110002', 'userFullname': 'Jana Newbie', 'eventID': '45b2df80-ae0f-11ed-9bd8-0242ac110002', 'eventName': 'AIZ', 'invitationTypeID': 'e8713b6e-a79c-11ed-b76e-0242ac110002', 'lessonLength': 60.0}, {'groupID': 'groupIdOfK209', 'groupName': 'K209', 'userID': '89d1e724-ae0f-11ed-9bd8-0242ac110002', 'userFullname': 'Jana Newbie', 'eventID': '45b2df80-ae0f-11ed-9bd8-0242ac110002', 'eventName': 'AIZ', 'invitationTypeID': 'e8713b6e-a79c-11ed-b76e-0242ac110002', 'lessonLength': 90.0}, {'groupID': 'groupIdOfK209', 'groupName': 'K209', 'userID': '89d1e724-ae0f-11ed-9bd8-0242ac110002', 'userFullname': 'Jana Newbie', 'eventID': '45b2df80-ae0f-11ed-9bd8-0242ac110002', 'eventName': 'AIZ', 'invitationTypeID': 'e8713b6e-a79c-11ed-b76e-0242ac110002', 'lessonLength': 90.0}, {'groupID': 'groupIdOfK209', 'groupName': 'K209', 'userID': '29d1e724-ae0f-11ed-9bd8-0242ac110002', 'userFullname': 'Karel Nekarel', 'eventID': '45b2df80-ae0f-11ed-9bd8-0242ac110002', 'eventName': 'INF', 'invitationTypeID': 'e8713b6e-a79c-11ed-b76e-0242ac110002', 'lessonLength': 60.0}, {'groupID': 'groupIdOfK209', 'groupName': 'K209', 'userID': '29d1e724-ae0f-11ed-9bd8-0242ac110002', 'userFullname': 'Ivan Pytel', 'eventID': '45b2df80-ae0f-11ed-9bd8-0242ac110002', 'eventName': 'ZaP', 'invitationTypeID': 'e8713b6e-a79c-11ed-b76e-0242ac110002', 'lessonLength': 60.0}, {'groupID': 'groupIdOfK201', 'groupName': 'K201', 'userID': '29d1e724-ae0f-11ed-9bd8-0242ac110002', 'userFullname': 'Karel Nekarel', 'eventID': '45b2df80-ae0f-11ed-9bd8-0242ac110002', 'eventName': 'INF', 'invitationTypeID': 'e8713b6e-a79c-11ed-b76e-0242ac110002', 'lessonLength': 60.0}, {'groupID': 'groupIdOfK201', 'groupName': 'K201', 'userID': '29d1e724-ae0f-11ed-9bd8-0242ac110002', 'userFullname': 'Ivan NePytel', 'eventID': '45b2df80-ae0f-11ed-9bd6-0242ac110002', 'eventName': 'ZaP', 'invitationTypeID': 'e8713b6e-a79c-11ed-b76e-0242ac110002', 'lessonLength': 60.0}, {'groupID': 'groupIdOfK205', 'groupName': 'K205', 'userID': '29d1e724-ae0f-11ed-9bd7-0242ac110002', 'userFullname': 'Jan Plul', 'eventID': '45b2df80-ae0f-11ed-9bd8-0242ac110002', 'eventName': 'ZaP', 'invitationTypeID': 'e8713b6e-a79c-11ed-b76e-0242ac110002', 'lessonLength': 60.0}, {'groupID': 'groupIdOfK205', 'groupName': 'K205', 'userID': '29d1e724-ae0f-11ed-9bd7-0242ac110002', 'userFullname': 'Jan Plul', 'eventID': '45b2df80-ae0f-11ed-9bd8-0242ac110002', 'eventName': 'ZaP', 'invitationTypeID': 'e8713b6e-a79c-11ed-b76e-0242ac110002', 'lessonLength': 90.0}]\n"
     ]
    }
   ],
   "source": [
    "import json\n",
    "import datetime\n",
    "\n",
    "def load_json_data(path: str):\n",
    "    with open(path, 'r', encoding='utf-8') as file:\n",
    "        data = json.load(file)\n",
    "        return data\n",
    "\n",
    "def user_attendance(data):\n",
    "    source_table = []\n",
    "    \n",
    "    for item in data:\n",
    "        event_start = datetime.datetime.fromisoformat(item['startdate'])\n",
    "        event_end = datetime.datetime.fromisoformat(item['eventEndDate'])\n",
    "\n",
    "        row = {\n",
    "            \"groupID\": item['groupID'],\n",
    "            \"groupName\": item['groupName'],\n",
    "            \"userID\": item['userID'],\n",
    "            \"userFullname\": item['userFullname'],\n",
    "            \"eventID\": item['eventID'],\n",
    "            \"eventName\": item['eventName'],\n",
    "            \"invitationTypeID\": item['invitationTypeID'],\n",
    "            \"lessonLength\": (event_end - event_start).total_seconds() / 60,  # in minutes\n",
    "        }\n",
    "        source_table.append(row)\n",
    "\n",
    "    print(source_table)\n",
    "\n",
    "    \n",
    "    with open('sunburstData.json', \"w\", encoding='utf-8') as output_file:\n",
    "        json.dump(source_table, output_file, ensure_ascii=False, indent=4)\n",
    "\n",
    "def main():\n",
    "    data = load_json_data('fakeData.json') # Pro implementaci je potřeba vyměnit resultFake za opravdová data z query\n",
    "    if data:\n",
    "        user_attendance(data)\n",
    "\n",
    "if __name__ == \"__main__\":\n",
    "    main()\n"
   ]
  },
  {
   "cell_type": "code",
   "execution_count": 85,
   "metadata": {},
   "outputs": [
    {
     "data": {
      "application/vnd.plotly.v1+json": {
       "config": {
        "plotlyServerURL": "https://plot.ly"
       },
       "data": [
        {
         "branchvalues": "total",
         "domain": {
          "x": [
           0,
           1
          ],
          "y": [
           0,
           1
          ]
         },
         "hovertemplate": "labels=%{label}<br>lessonLength=%{value}<br>parent=%{parent}<br>id=%{id}<extra></extra>",
         "ids": [
          "K201/Ivan NePytel/60.0",
          "K209/Ivan Pytel/60.0",
          "K209/Jana BUBU/60.0",
          "K201/Karel Nekarel/60.0",
          "K209/Karel Nekarel/60.0",
          "K205/Jan Plul/150.0",
          "K209/Jana Newbie/300.0",
          "K201/Ivan NePytel",
          "K209/Ivan Pytel",
          "K205/Jan Plul",
          "K209/Jana BUBU",
          "K209/Jana Newbie",
          "K201/Karel Nekarel",
          "K209/Karel Nekarel",
          "K201",
          "K205",
          "K209"
         ],
         "labels": [
          "60.0",
          "60.0",
          "60.0",
          "60.0",
          "60.0",
          "150.0",
          "300.0",
          "Ivan NePytel",
          "Ivan Pytel",
          "Jan Plul",
          "Jana BUBU",
          "Jana Newbie",
          "Karel Nekarel",
          "Karel Nekarel",
          "K201",
          "K205",
          "K209"
         ],
         "name": "",
         "parents": [
          "K201/Ivan NePytel",
          "K209/Ivan Pytel",
          "K209/Jana BUBU",
          "K201/Karel Nekarel",
          "K209/Karel Nekarel",
          "K205/Jan Plul",
          "K209/Jana Newbie",
          "K201",
          "K209",
          "K205",
          "K209",
          "K209",
          "K201",
          "K209",
          "",
          "",
          ""
         ],
         "type": "sunburst",
         "values": [
          60,
          60,
          60,
          60,
          60,
          150,
          300,
          60,
          60,
          150,
          60,
          300,
          60,
          60,
          120,
          150,
          480
         ]
        }
       ],
       "layout": {
        "height": 800,
        "legend": {
         "tracegroupgap": 0
        },
        "template": {
         "data": {
          "bar": [
           {
            "error_x": {
             "color": "#2a3f5f"
            },
            "error_y": {
             "color": "#2a3f5f"
            },
            "marker": {
             "line": {
              "color": "#E5ECF6",
              "width": 0.5
             },
             "pattern": {
              "fillmode": "overlay",
              "size": 10,
              "solidity": 0.2
             }
            },
            "type": "bar"
           }
          ],
          "barpolar": [
           {
            "marker": {
             "line": {
              "color": "#E5ECF6",
              "width": 0.5
             },
             "pattern": {
              "fillmode": "overlay",
              "size": 10,
              "solidity": 0.2
             }
            },
            "type": "barpolar"
           }
          ],
          "carpet": [
           {
            "aaxis": {
             "endlinecolor": "#2a3f5f",
             "gridcolor": "white",
             "linecolor": "white",
             "minorgridcolor": "white",
             "startlinecolor": "#2a3f5f"
            },
            "baxis": {
             "endlinecolor": "#2a3f5f",
             "gridcolor": "white",
             "linecolor": "white",
             "minorgridcolor": "white",
             "startlinecolor": "#2a3f5f"
            },
            "type": "carpet"
           }
          ],
          "choropleth": [
           {
            "colorbar": {
             "outlinewidth": 0,
             "ticks": ""
            },
            "type": "choropleth"
           }
          ],
          "contour": [
           {
            "colorbar": {
             "outlinewidth": 0,
             "ticks": ""
            },
            "colorscale": [
             [
              0,
              "#0d0887"
             ],
             [
              0.1111111111111111,
              "#46039f"
             ],
             [
              0.2222222222222222,
              "#7201a8"
             ],
             [
              0.3333333333333333,
              "#9c179e"
             ],
             [
              0.4444444444444444,
              "#bd3786"
             ],
             [
              0.5555555555555556,
              "#d8576b"
             ],
             [
              0.6666666666666666,
              "#ed7953"
             ],
             [
              0.7777777777777778,
              "#fb9f3a"
             ],
             [
              0.8888888888888888,
              "#fdca26"
             ],
             [
              1,
              "#f0f921"
             ]
            ],
            "type": "contour"
           }
          ],
          "contourcarpet": [
           {
            "colorbar": {
             "outlinewidth": 0,
             "ticks": ""
            },
            "type": "contourcarpet"
           }
          ],
          "heatmap": [
           {
            "colorbar": {
             "outlinewidth": 0,
             "ticks": ""
            },
            "colorscale": [
             [
              0,
              "#0d0887"
             ],
             [
              0.1111111111111111,
              "#46039f"
             ],
             [
              0.2222222222222222,
              "#7201a8"
             ],
             [
              0.3333333333333333,
              "#9c179e"
             ],
             [
              0.4444444444444444,
              "#bd3786"
             ],
             [
              0.5555555555555556,
              "#d8576b"
             ],
             [
              0.6666666666666666,
              "#ed7953"
             ],
             [
              0.7777777777777778,
              "#fb9f3a"
             ],
             [
              0.8888888888888888,
              "#fdca26"
             ],
             [
              1,
              "#f0f921"
             ]
            ],
            "type": "heatmap"
           }
          ],
          "heatmapgl": [
           {
            "colorbar": {
             "outlinewidth": 0,
             "ticks": ""
            },
            "colorscale": [
             [
              0,
              "#0d0887"
             ],
             [
              0.1111111111111111,
              "#46039f"
             ],
             [
              0.2222222222222222,
              "#7201a8"
             ],
             [
              0.3333333333333333,
              "#9c179e"
             ],
             [
              0.4444444444444444,
              "#bd3786"
             ],
             [
              0.5555555555555556,
              "#d8576b"
             ],
             [
              0.6666666666666666,
              "#ed7953"
             ],
             [
              0.7777777777777778,
              "#fb9f3a"
             ],
             [
              0.8888888888888888,
              "#fdca26"
             ],
             [
              1,
              "#f0f921"
             ]
            ],
            "type": "heatmapgl"
           }
          ],
          "histogram": [
           {
            "marker": {
             "pattern": {
              "fillmode": "overlay",
              "size": 10,
              "solidity": 0.2
             }
            },
            "type": "histogram"
           }
          ],
          "histogram2d": [
           {
            "colorbar": {
             "outlinewidth": 0,
             "ticks": ""
            },
            "colorscale": [
             [
              0,
              "#0d0887"
             ],
             [
              0.1111111111111111,
              "#46039f"
             ],
             [
              0.2222222222222222,
              "#7201a8"
             ],
             [
              0.3333333333333333,
              "#9c179e"
             ],
             [
              0.4444444444444444,
              "#bd3786"
             ],
             [
              0.5555555555555556,
              "#d8576b"
             ],
             [
              0.6666666666666666,
              "#ed7953"
             ],
             [
              0.7777777777777778,
              "#fb9f3a"
             ],
             [
              0.8888888888888888,
              "#fdca26"
             ],
             [
              1,
              "#f0f921"
             ]
            ],
            "type": "histogram2d"
           }
          ],
          "histogram2dcontour": [
           {
            "colorbar": {
             "outlinewidth": 0,
             "ticks": ""
            },
            "colorscale": [
             [
              0,
              "#0d0887"
             ],
             [
              0.1111111111111111,
              "#46039f"
             ],
             [
              0.2222222222222222,
              "#7201a8"
             ],
             [
              0.3333333333333333,
              "#9c179e"
             ],
             [
              0.4444444444444444,
              "#bd3786"
             ],
             [
              0.5555555555555556,
              "#d8576b"
             ],
             [
              0.6666666666666666,
              "#ed7953"
             ],
             [
              0.7777777777777778,
              "#fb9f3a"
             ],
             [
              0.8888888888888888,
              "#fdca26"
             ],
             [
              1,
              "#f0f921"
             ]
            ],
            "type": "histogram2dcontour"
           }
          ],
          "mesh3d": [
           {
            "colorbar": {
             "outlinewidth": 0,
             "ticks": ""
            },
            "type": "mesh3d"
           }
          ],
          "parcoords": [
           {
            "line": {
             "colorbar": {
              "outlinewidth": 0,
              "ticks": ""
             }
            },
            "type": "parcoords"
           }
          ],
          "pie": [
           {
            "automargin": true,
            "type": "pie"
           }
          ],
          "scatter": [
           {
            "fillpattern": {
             "fillmode": "overlay",
             "size": 10,
             "solidity": 0.2
            },
            "type": "scatter"
           }
          ],
          "scatter3d": [
           {
            "line": {
             "colorbar": {
              "outlinewidth": 0,
              "ticks": ""
             }
            },
            "marker": {
             "colorbar": {
              "outlinewidth": 0,
              "ticks": ""
             }
            },
            "type": "scatter3d"
           }
          ],
          "scattercarpet": [
           {
            "marker": {
             "colorbar": {
              "outlinewidth": 0,
              "ticks": ""
             }
            },
            "type": "scattercarpet"
           }
          ],
          "scattergeo": [
           {
            "marker": {
             "colorbar": {
              "outlinewidth": 0,
              "ticks": ""
             }
            },
            "type": "scattergeo"
           }
          ],
          "scattergl": [
           {
            "marker": {
             "colorbar": {
              "outlinewidth": 0,
              "ticks": ""
             }
            },
            "type": "scattergl"
           }
          ],
          "scattermapbox": [
           {
            "marker": {
             "colorbar": {
              "outlinewidth": 0,
              "ticks": ""
             }
            },
            "type": "scattermapbox"
           }
          ],
          "scatterpolar": [
           {
            "marker": {
             "colorbar": {
              "outlinewidth": 0,
              "ticks": ""
             }
            },
            "type": "scatterpolar"
           }
          ],
          "scatterpolargl": [
           {
            "marker": {
             "colorbar": {
              "outlinewidth": 0,
              "ticks": ""
             }
            },
            "type": "scatterpolargl"
           }
          ],
          "scatterternary": [
           {
            "marker": {
             "colorbar": {
              "outlinewidth": 0,
              "ticks": ""
             }
            },
            "type": "scatterternary"
           }
          ],
          "surface": [
           {
            "colorbar": {
             "outlinewidth": 0,
             "ticks": ""
            },
            "colorscale": [
             [
              0,
              "#0d0887"
             ],
             [
              0.1111111111111111,
              "#46039f"
             ],
             [
              0.2222222222222222,
              "#7201a8"
             ],
             [
              0.3333333333333333,
              "#9c179e"
             ],
             [
              0.4444444444444444,
              "#bd3786"
             ],
             [
              0.5555555555555556,
              "#d8576b"
             ],
             [
              0.6666666666666666,
              "#ed7953"
             ],
             [
              0.7777777777777778,
              "#fb9f3a"
             ],
             [
              0.8888888888888888,
              "#fdca26"
             ],
             [
              1,
              "#f0f921"
             ]
            ],
            "type": "surface"
           }
          ],
          "table": [
           {
            "cells": {
             "fill": {
              "color": "#EBF0F8"
             },
             "line": {
              "color": "white"
             }
            },
            "header": {
             "fill": {
              "color": "#C8D4E3"
             },
             "line": {
              "color": "white"
             }
            },
            "type": "table"
           }
          ]
         },
         "layout": {
          "annotationdefaults": {
           "arrowcolor": "#2a3f5f",
           "arrowhead": 0,
           "arrowwidth": 1
          },
          "autotypenumbers": "strict",
          "coloraxis": {
           "colorbar": {
            "outlinewidth": 0,
            "ticks": ""
           }
          },
          "colorscale": {
           "diverging": [
            [
             0,
             "#8e0152"
            ],
            [
             0.1,
             "#c51b7d"
            ],
            [
             0.2,
             "#de77ae"
            ],
            [
             0.3,
             "#f1b6da"
            ],
            [
             0.4,
             "#fde0ef"
            ],
            [
             0.5,
             "#f7f7f7"
            ],
            [
             0.6,
             "#e6f5d0"
            ],
            [
             0.7,
             "#b8e186"
            ],
            [
             0.8,
             "#7fbc41"
            ],
            [
             0.9,
             "#4d9221"
            ],
            [
             1,
             "#276419"
            ]
           ],
           "sequential": [
            [
             0,
             "#0d0887"
            ],
            [
             0.1111111111111111,
             "#46039f"
            ],
            [
             0.2222222222222222,
             "#7201a8"
            ],
            [
             0.3333333333333333,
             "#9c179e"
            ],
            [
             0.4444444444444444,
             "#bd3786"
            ],
            [
             0.5555555555555556,
             "#d8576b"
            ],
            [
             0.6666666666666666,
             "#ed7953"
            ],
            [
             0.7777777777777778,
             "#fb9f3a"
            ],
            [
             0.8888888888888888,
             "#fdca26"
            ],
            [
             1,
             "#f0f921"
            ]
           ],
           "sequentialminus": [
            [
             0,
             "#0d0887"
            ],
            [
             0.1111111111111111,
             "#46039f"
            ],
            [
             0.2222222222222222,
             "#7201a8"
            ],
            [
             0.3333333333333333,
             "#9c179e"
            ],
            [
             0.4444444444444444,
             "#bd3786"
            ],
            [
             0.5555555555555556,
             "#d8576b"
            ],
            [
             0.6666666666666666,
             "#ed7953"
            ],
            [
             0.7777777777777778,
             "#fb9f3a"
            ],
            [
             0.8888888888888888,
             "#fdca26"
            ],
            [
             1,
             "#f0f921"
            ]
           ]
          },
          "colorway": [
           "#636efa",
           "#EF553B",
           "#00cc96",
           "#ab63fa",
           "#FFA15A",
           "#19d3f3",
           "#FF6692",
           "#B6E880",
           "#FF97FF",
           "#FECB52"
          ],
          "font": {
           "color": "#2a3f5f"
          },
          "geo": {
           "bgcolor": "white",
           "lakecolor": "white",
           "landcolor": "#E5ECF6",
           "showlakes": true,
           "showland": true,
           "subunitcolor": "white"
          },
          "hoverlabel": {
           "align": "left"
          },
          "hovermode": "closest",
          "mapbox": {
           "style": "light"
          },
          "paper_bgcolor": "white",
          "plot_bgcolor": "#E5ECF6",
          "polar": {
           "angularaxis": {
            "gridcolor": "white",
            "linecolor": "white",
            "ticks": ""
           },
           "bgcolor": "#E5ECF6",
           "radialaxis": {
            "gridcolor": "white",
            "linecolor": "white",
            "ticks": ""
           }
          },
          "scene": {
           "xaxis": {
            "backgroundcolor": "#E5ECF6",
            "gridcolor": "white",
            "gridwidth": 2,
            "linecolor": "white",
            "showbackground": true,
            "ticks": "",
            "zerolinecolor": "white"
           },
           "yaxis": {
            "backgroundcolor": "#E5ECF6",
            "gridcolor": "white",
            "gridwidth": 2,
            "linecolor": "white",
            "showbackground": true,
            "ticks": "",
            "zerolinecolor": "white"
           },
           "zaxis": {
            "backgroundcolor": "#E5ECF6",
            "gridcolor": "white",
            "gridwidth": 2,
            "linecolor": "white",
            "showbackground": true,
            "ticks": "",
            "zerolinecolor": "white"
           }
          },
          "shapedefaults": {
           "line": {
            "color": "#2a3f5f"
           }
          },
          "ternary": {
           "aaxis": {
            "gridcolor": "white",
            "linecolor": "white",
            "ticks": ""
           },
           "baxis": {
            "gridcolor": "white",
            "linecolor": "white",
            "ticks": ""
           },
           "bgcolor": "#E5ECF6",
           "caxis": {
            "gridcolor": "white",
            "linecolor": "white",
            "ticks": ""
           }
          },
          "title": {
           "x": 0.05
          },
          "xaxis": {
           "automargin": true,
           "gridcolor": "white",
           "linecolor": "white",
           "ticks": "",
           "title": {
            "standoff": 15
           },
           "zerolinecolor": "white",
           "zerolinewidth": 2
          },
          "yaxis": {
           "automargin": true,
           "gridcolor": "white",
           "linecolor": "white",
           "ticks": "",
           "title": {
            "standoff": 15
           },
           "zerolinecolor": "white",
           "zerolinewidth": 2
          }
         }
        },
        "title": {
         "text": "Přehled přítomnosti podle skupin a uživatelů"
        },
        "width": 800
       }
      }
     },
     "metadata": {},
     "output_type": "display_data"
    }
   ],
   "source": [
    "# JSON data\n",
    "with open('sunburstData.json', 'r') as file:\n",
    "    data = json.load(file)\n",
    "\n",
    "# Převod dat do pandas DataFrame\n",
    "df = pd.DataFrame(data)\n",
    "\n",
    "# Agregace dat pro získání celkového počtu 'presencesCount' podle 'groupID' a 'userFullname'\n",
    "df_aggregated = df.groupby(['groupName', 'userFullname']).agg({'lessonLength': 'sum'}).reset_index()\n",
    "\n",
    "# Vytvoření sunburst grafu\n",
    "fig_sunburst = px.sunburst(\n",
    "    df_aggregated,\n",
    "    path=['groupName', 'userFullname', 'lessonLength'],\n",
    "    values='lessonLength', \n",
    "    title='Přehled přítomnosti podle skupin a uživatelů'\n",
    ")\n",
    "\n",
    "# Aktualizace layoutu grafu\n",
    "fig_sunburst.update_layout(\n",
    "    width=800,  \n",
    "    height=800 \n",
    ")\n",
    "\n",
    "fig_sunburst.show()"
   ]
  },
  {
   "cell_type": "code",
   "execution_count": null,
   "metadata": {},
   "outputs": [],
   "source": []
  }
 ],
 "metadata": {
  "kernelspec": {
   "display_name": "Python 3 (ipykernel)",
   "language": "python",
   "name": "python3"
  },
  "language_info": {
   "codemirror_mode": {
    "name": "ipython",
    "version": 3
   },
   "file_extension": ".py",
   "mimetype": "text/x-python",
   "name": "python",
   "nbconvert_exporter": "python",
   "pygments_lexer": "ipython3",
   "version": "3.12.1"
  }
 },
 "nbformat": 4,
 "nbformat_minor": 4
}

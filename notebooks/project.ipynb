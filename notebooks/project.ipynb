{
 "cells": [
  {
   "cell_type": "markdown",
   "metadata": {},
   "source": [
    "# Analýza plánovaných hodin na učitele (ve skupině – např. katedra/fakulta) v daném časovém období (gql_ug + gql_events)\n",
    "- Vytvořit GQL dotaz na základě existující federace,\n",
    "- Definovat transformaci GQL response -> table rows (vstup pro kontingenční tabulku)\n",
    "- Vytvořit kontingenční tabulku\n",
    "- Vytvořit koláčový / sloupcový graf\n",
    "- Vytvořit Sunburst / Chord graf\n",
    "\n",
    "Výsledek realizujte jako ipynb notebook (autentizace jménem a heslem, realizace aiohttp, transformace response, vytvoření tabulky, vytvoření grafu)."
   ]
  },
  {
   "cell_type": "markdown",
   "metadata": {},
   "source": [
    "<b>Instalace potřebných knihoven</b>"
   ]
  },
  {
   "cell_type": "code",
   "execution_count": 16,
   "metadata": {},
   "outputs": [
    {
     "name": "stdout",
     "output_type": "stream",
     "text": [
      "Requirement already satisfied: pandas in c:\\users\\freedom\\appdata\\local\\programs\\python\\python312\\lib\\site-packages (2.2.2)Note: you may need to restart the kernel to use updated packages.\n",
      "\n",
      "Requirement already satisfied: aiohttp in c:\\users\\freedom\\appdata\\local\\programs\\python\\python312\\lib\\site-packages (3.9.5)\n",
      "Requirement already satisfied: plotly.express in c:\\users\\freedom\\appdata\\local\\programs\\python\\python312\\lib\\site-packages (0.4.1)\n",
      "Requirement already satisfied: asyncio in c:\\users\\freedom\\appdata\\local\\programs\\python\\python312\\lib\\site-packages (3.4.3)\n",
      "Requirement already satisfied: nbformat in c:\\users\\freedom\\appdata\\local\\programs\\python\\python312\\lib\\site-packages (5.10.4)\n",
      "Requirement already satisfied: aiofiles in c:\\users\\freedom\\appdata\\local\\programs\\python\\python312\\lib\\site-packages (23.2.1)\n",
      "Requirement already satisfied: numpy>=1.26.0 in c:\\users\\freedom\\appdata\\local\\programs\\python\\python312\\lib\\site-packages (from pandas) (1.26.4)\n",
      "Requirement already satisfied: python-dateutil>=2.8.2 in c:\\users\\freedom\\appdata\\roaming\\python\\python312\\site-packages (from pandas) (2.9.0.post0)\n",
      "Requirement already satisfied: pytz>=2020.1 in c:\\users\\freedom\\appdata\\local\\programs\\python\\python312\\lib\\site-packages (from pandas) (2024.1)\n",
      "Requirement already satisfied: tzdata>=2022.7 in c:\\users\\freedom\\appdata\\local\\programs\\python\\python312\\lib\\site-packages (from pandas) (2024.1)\n",
      "Requirement already satisfied: aiosignal>=1.1.2 in c:\\users\\freedom\\appdata\\local\\programs\\python\\python312\\lib\\site-packages (from aiohttp) (1.3.1)\n",
      "Requirement already satisfied: attrs>=17.3.0 in c:\\users\\freedom\\appdata\\local\\programs\\python\\python312\\lib\\site-packages (from aiohttp) (23.2.0)\n",
      "Requirement already satisfied: frozenlist>=1.1.1 in c:\\users\\freedom\\appdata\\local\\programs\\python\\python312\\lib\\site-packages (from aiohttp) (1.4.1)\n",
      "Requirement already satisfied: multidict<7.0,>=4.5 in c:\\users\\freedom\\appdata\\local\\programs\\python\\python312\\lib\\site-packages (from aiohttp) (6.0.5)\n",
      "Requirement already satisfied: yarl<2.0,>=1.0 in c:\\users\\freedom\\appdata\\local\\programs\\python\\python312\\lib\\site-packages (from aiohttp) (1.9.4)\n",
      "Requirement already satisfied: plotly>=4.1.0 in c:\\users\\freedom\\appdata\\local\\programs\\python\\python312\\lib\\site-packages (from plotly.express) (5.22.0)\n",
      "Requirement already satisfied: statsmodels>=0.9.0 in c:\\users\\freedom\\appdata\\local\\programs\\python\\python312\\lib\\site-packages (from plotly.express) (0.14.2)\n",
      "Requirement already satisfied: scipy>=0.18 in c:\\users\\freedom\\appdata\\local\\programs\\python\\python312\\lib\\site-packages (from plotly.express) (1.13.1)\n",
      "Requirement already satisfied: patsy>=0.5 in c:\\users\\freedom\\appdata\\local\\programs\\python\\python312\\lib\\site-packages (from plotly.express) (0.5.6)\n",
      "Requirement already satisfied: fastjsonschema>=2.15 in c:\\users\\freedom\\appdata\\local\\programs\\python\\python312\\lib\\site-packages (from nbformat) (2.19.1)\n",
      "Requirement already satisfied: jsonschema>=2.6 in c:\\users\\freedom\\appdata\\local\\programs\\python\\python312\\lib\\site-packages (from nbformat) (4.22.0)\n",
      "Requirement already satisfied: jupyter-core!=5.0.*,>=4.12 in c:\\users\\freedom\\appdata\\roaming\\python\\python312\\site-packages (from nbformat) (5.7.2)\n",
      "Requirement already satisfied: traitlets>=5.1 in c:\\users\\freedom\\appdata\\roaming\\python\\python312\\site-packages (from nbformat) (5.14.2)\n",
      "Requirement already satisfied: jsonschema-specifications>=2023.03.6 in c:\\users\\freedom\\appdata\\local\\programs\\python\\python312\\lib\\site-packages (from jsonschema>=2.6->nbformat) (2023.12.1)\n",
      "Requirement already satisfied: referencing>=0.28.4 in c:\\users\\freedom\\appdata\\local\\programs\\python\\python312\\lib\\site-packages (from jsonschema>=2.6->nbformat) (0.35.1)\n",
      "Requirement already satisfied: rpds-py>=0.7.1 in c:\\users\\freedom\\appdata\\local\\programs\\python\\python312\\lib\\site-packages (from jsonschema>=2.6->nbformat) (0.18.1)\n",
      "Requirement already satisfied: platformdirs>=2.5 in c:\\users\\freedom\\appdata\\roaming\\python\\python312\\site-packages (from jupyter-core!=5.0.*,>=4.12->nbformat) (4.2.0)\n",
      "Requirement already satisfied: pywin32>=300 in c:\\users\\freedom\\appdata\\roaming\\python\\python312\\site-packages (from jupyter-core!=5.0.*,>=4.12->nbformat) (306)\n",
      "Requirement already satisfied: six in c:\\users\\freedom\\appdata\\roaming\\python\\python312\\site-packages (from patsy>=0.5->plotly.express) (1.16.0)\n",
      "Requirement already satisfied: tenacity>=6.2.0 in c:\\users\\freedom\\appdata\\local\\programs\\python\\python312\\lib\\site-packages (from plotly>=4.1.0->plotly.express) (8.3.0)\n",
      "Requirement already satisfied: packaging in c:\\users\\freedom\\appdata\\roaming\\python\\python312\\site-packages (from plotly>=4.1.0->plotly.express) (24.0)\n",
      "Requirement already satisfied: idna>=2.0 in c:\\users\\freedom\\appdata\\local\\programs\\python\\python312\\lib\\site-packages (from yarl<2.0,>=1.0->aiohttp) (3.7)\n"
     ]
    }
   ],
   "source": [
    "%pip install pandas aiohttp plotly.express asyncio nbformat aiofiles"
   ]
  },
  {
   "cell_type": "code",
   "execution_count": 21,
   "metadata": {},
   "outputs": [],
   "source": [
    "import aiohttp\n",
    "import asyncio\n",
    "import json\n",
    "import plotly.express as px\n",
    "import pandas as pd\n",
    "from itertools import product\n",
    "from functools import reduce"
   ]
  },
  {
   "cell_type": "markdown",
   "metadata": {},
   "source": [
    "<b>Funkce pro získání tokenu</b>\n"
   ]
  },
  {
   "cell_type": "code",
   "execution_count": 22,
   "metadata": {},
   "outputs": [],
   "source": [
    "async def getToken(username, password):\n",
    "    keyurl = \"http://localhost:33001/oauth/login3\"\n",
    "    async with aiohttp.ClientSession() as session:\n",
    "        async with session.get(keyurl) as resp:\n",
    "            keyJson = await resp.json()\n",
    "\n",
    "        payload = {\"key\": keyJson[\"key\"], \"username\": username, \"password\": password}\n",
    "        async with session.post(keyurl, json=payload) as resp:\n",
    "            tokenJson = await resp.json()\n",
    "    return tokenJson.get(\"token\", None)"
   ]
  },
  {
   "cell_type": "markdown",
   "metadata": {},
   "source": [
    "<b>Funkce pro definici GraphQL dotazu</b>"
   ]
  },
  {
   "cell_type": "code",
   "execution_count": 23,
   "metadata": {},
   "outputs": [],
   "source": [
    "def query(q, token):\n",
    "    async def post(variables):\n",
    "        gqlurl = \"http://localhost:33001/api/gql\"\n",
    "        payload = {\"query\": q, \"variables\": variables}\n",
    "        cookies = {'authorization': token}\n",
    "        async with aiohttp.ClientSession() as session:\n",
    "            async with session.post(gqlurl, json=payload, cookies=cookies) as resp:\n",
    "                if resp.status != 200:\n",
    "                    text = await resp.text()\n",
    "                    print(text)\n",
    "                    return text\n",
    "                else:\n",
    "                    response = await resp.json()\n",
    "                    return response\n",
    "    return post"
   ]
  },
  {
   "cell_type": "markdown",
   "metadata": {},
   "source": [
    "<b>Pomocné funkce pro zpracování dat</b>"
   ]
  },
  {
   "cell_type": "code",
   "execution_count": 24,
   "metadata": {},
   "outputs": [],
   "source": [
    "def enumerateAttrs(attrs):\n",
    "    for key, value in attrs.items():\n",
    "        names = value.split(\".\")\n",
    "        name = names[0]\n",
    "        yield key, name\n",
    "\n",
    "def flattenList(inList, outItem, attrs):\n",
    "    for item in inList:\n",
    "        assert isinstance(item, dict), f\"in list only dicts are expected\"\n",
    "        for row in flatten(item, outItem, attrs):\n",
    "            yield row\n",
    "\n",
    "def flattenDict(inDict, outItem, attrs):\n",
    "    result = {**outItem}\n",
    "    complexAttrs = []\n",
    "    for key, value in enumerateAttrs(attrs):\n",
    "        attributeValue = inDict.get(value, None)\n",
    "        if isinstance(attributeValue, list):\n",
    "            complexAttrs.append((key, value))\n",
    "        elif isinstance(attributeValue, dict):\n",
    "            complexAttrs.append((key, value))\n",
    "        else:\n",
    "            result[key] = attributeValue\n",
    "    lists = []\n",
    "    for key, value in complexAttrs:\n",
    "        attributeValue = inDict.get(value, None)\n",
    "        prefix = f\"{value}.\"\n",
    "        prefixlen = len(prefix)\n",
    "        subAttrs = {key: value[prefixlen:] for key, value in attrs.items() if value.startswith(prefix)}\n",
    "        items = list(flatten(attributeValue, result, subAttrs))\n",
    "        lists.append(items)\n",
    "                     \n",
    "    if len(lists) == 0:\n",
    "        yield result\n",
    "    else:\n",
    "        for element in product(*lists):\n",
    "            reduced = reduce(lambda a, b: {**a, **b}, element, {})\n",
    "            yield reduced\n",
    "\n",
    "def flatten(inData, outItem, attrs):\n",
    "    if isinstance(inData, dict):\n",
    "        for item in flattenDict(inData, outItem, attrs):\n",
    "            yield item\n",
    "    elif isinstance(inData, list):\n",
    "        for item in flattenList(inData, outItem, attrs):\n",
    "            yield item\n",
    "    else:\n",
    "        assert False, f\"Unexpected type on inData {inData}\""
   ]
  },
  {
   "cell_type": "markdown",
   "metadata": {},
   "source": [
    "<b>Přihlašovací údaje</b>"
   ]
  },
  {
   "cell_type": "code",
   "execution_count": 25,
   "metadata": {},
   "outputs": [],
   "source": [
    "username = \"john.newbie@world.com\"\n",
    "password = \"john.newbie@world.com\""
   ]
  },
  {
   "cell_type": "markdown",
   "metadata": {},
   "source": [
    "<b>GraphQL dotaz</b>"
   ]
  },
  {
   "cell_type": "code",
   "execution_count": 26,
   "metadata": {},
   "outputs": [],
   "source": [
    "queryStr = \"\"\"\n",
    "{\n",
    "  groupPage {\n",
    "    memberships {\n",
    "      group {\n",
    "        id\n",
    "        name\n",
    "      }\n",
    "      user {\n",
    "        id\n",
    "        fullname\n",
    "        events(\n",
    "          where: {_and: [{startdate: {_ge: \"2023-03-19T08:00:00\"}}, {enddate: {_le: \"2023-05-19T08:00:00\"}}]}\n",
    "        ) {\n",
    "          id\n",
    "          name\n",
    "          startdate\n",
    "          enddate\n",
    "          presences {\n",
    "            id\n",
    "            invitationType {\n",
    "              id\n",
    "              name\n",
    "            }\n",
    "          }\n",
    "        }\n",
    "      }\n",
    "    }\n",
    "  }\n",
    "}\n",
    "\"\"\""
   ]
  },
  {
   "cell_type": "markdown",
   "metadata": {},
   "source": [
    "Tyhle dva se musí upravit pro náš projekt...struktura je od Martina"
   ]
  },
  {
   "cell_type": "code",
   "execution_count": 27,
   "metadata": {},
   "outputs": [],
   "source": [
    "mappers = {\n",
    "    \"groupID\": \"memberships.group.id\",\n",
    "    \"groupName\": \"memberships.group.name\",\n",
    "    \"userID\": \"memberships.user.id\",\n",
    "    \"userFullname\": \"memberships.user.fullname\",\n",
    "    \"eventID\": \"memberships.user.events.id\",\n",
    "    \"eventName\": \"memberships.user.events.name\",\n",
    "    \"startdate\": \"memberships.user.events.startdate\",\n",
    "    \"eventEndDate\": \"memberships.user.events.enddate\",\n",
    "    \"presenceID\": \"memberships.user.events.presences.id\",\n",
    "    \"invitationTypeID\": \"memberships.user.events.presences.invitationType.id\",\n",
    "    \"invitationTypeName\": \"memberships.user.events.presences.invitationType.name\",\n",
    "    \"presencesCount\": \"presencesCount\",\n",
    "}"
   ]
  },
  {
   "cell_type": "code",
   "execution_count": 28,
   "metadata": {},
   "outputs": [
    {
     "name": "stdout",
     "output_type": "stream",
     "text": [
      "{'data': {'groupPage': [{'memberships': [{'group': {'id': '2d9dcd22-a4a2-11ed-b9df-0242ac120003', 'name': 'Uni'}, 'user': {'id': '2d9dc5ca-a4a2-11ed-b9df-0242ac120003', 'fullname': 'John Newbie', 'events': []}}, {'group': {'id': '2d9dcd22-a4a2-11ed-b9df-0242ac120003', 'name': 'Uni'}, 'user': {'id': '2d9dc868-a4a2-11ed-b9df-0242ac120003', 'fullname': 'Julia Newbie', 'events': []}}, {'group': {'id': '2d9dcd22-a4a2-11ed-b9df-0242ac120003', 'name': 'Uni'}, 'user': {'id': '2d9dc9a8-a4a2-11ed-b9df-0242ac120003', 'fullname': 'Johnson Newbie', 'events': []}}, {'group': {'id': '2d9dcd22-a4a2-11ed-b9df-0242ac120003', 'name': 'Uni'}, 'user': {'id': '2d9dcbec-a4a2-11ed-b9df-0242ac120003', 'fullname': 'Jepeto Newbie', 'events': []}}, {'group': {'id': '2d9dcd22-a4a2-11ed-b9df-0242ac120003', 'name': 'Uni'}, 'user': {'id': '89d1e724-ae0f-11ed-9bd8-0242ac110002', 'fullname': 'Jana Newbie', 'events': [{'id': '45b2df80-ae0f-11ed-9bd8-0242ac110002', 'name': 'Zkouška', 'startdate': '2023-04-19T08:00:00', 'enddate': '2023-04-19T09:00:00', 'presences': [{'id': '89d1e684-ae0f-11ed-9bd8-0242ac110002', 'invitationType': {'id': 'e871403c-a79c-11ed-b76e-0242ac110002', 'name': 'přijal'}}, {'id': '89d1f2d2-ae0f-11ed-9bd8-0242ac110002', 'invitationType': {'id': 'e871403c-a79c-11ed-b76e-0242ac110002', 'name': 'přijal'}}, {'id': '89d1f3ae-ae0f-11ed-9bd8-0242ac110002', 'invitationType': {'id': 'e871403c-a79c-11ed-b76e-0242ac110002', 'name': 'přijal'}}, {'id': '89d1f412-ae0f-11ed-9bd8-0242ac110002', 'invitationType': {'id': 'e871403c-a79c-11ed-b76e-0242ac110002', 'name': 'přijal'}}, {'id': '89d1f46c-ae0f-11ed-9bd8-0242ac110002', 'invitationType': {'id': 'e871403c-a79c-11ed-b76e-0242ac110002', 'name': 'přijal'}}, {'id': '89d1f4c6-ae0f-11ed-9bd8-0242ac110002', 'invitationType': {'id': 'e871403c-a79c-11ed-b76e-0242ac110002', 'name': 'přijal'}}, {'id': '89d1f520-ae0f-11ed-9bd8-0242ac110002', 'invitationType': {'id': 'e871403c-a79c-11ed-b76e-0242ac110002', 'name': 'přijal'}}, {'id': '89d1f570-ae0f-11ed-9bd8-0242ac110002', 'invitationType': {'id': 'e871403c-a79c-11ed-b76e-0242ac110002', 'name': 'přijal'}}, {'id': '89d1f5ca-ae0f-11ed-9bd8-0242ac110002', 'invitationType': {'id': 'e871403c-a79c-11ed-b76e-0242ac110002', 'name': 'přijal'}}, {'id': '89d1f624-ae0f-11ed-9bd8-0242ac110002', 'invitationType': {'id': 'e871403c-a79c-11ed-b76e-0242ac110002', 'name': 'přijal'}}]}]}}, {'group': {'id': '2d9dcd22-a4a2-11ed-b9df-0242ac120003', 'name': 'Uni'}, 'user': {'id': '89d1f34a-ae0f-11ed-9bd8-0242ac110002', 'fullname': 'Jolana Newbie', 'events': [{'id': '45b2df80-ae0f-11ed-9bd8-0242ac110002', 'name': 'Zkouška', 'startdate': '2023-04-19T08:00:00', 'enddate': '2023-04-19T09:00:00', 'presences': [{'id': '89d1e684-ae0f-11ed-9bd8-0242ac110002', 'invitationType': {'id': 'e871403c-a79c-11ed-b76e-0242ac110002', 'name': 'přijal'}}, {'id': '89d1f2d2-ae0f-11ed-9bd8-0242ac110002', 'invitationType': {'id': 'e871403c-a79c-11ed-b76e-0242ac110002', 'name': 'přijal'}}, {'id': '89d1f3ae-ae0f-11ed-9bd8-0242ac110002', 'invitationType': {'id': 'e871403c-a79c-11ed-b76e-0242ac110002', 'name': 'přijal'}}, {'id': '89d1f412-ae0f-11ed-9bd8-0242ac110002', 'invitationType': {'id': 'e871403c-a79c-11ed-b76e-0242ac110002', 'name': 'přijal'}}, {'id': '89d1f46c-ae0f-11ed-9bd8-0242ac110002', 'invitationType': {'id': 'e871403c-a79c-11ed-b76e-0242ac110002', 'name': 'přijal'}}, {'id': '89d1f4c6-ae0f-11ed-9bd8-0242ac110002', 'invitationType': {'id': 'e871403c-a79c-11ed-b76e-0242ac110002', 'name': 'přijal'}}, {'id': '89d1f520-ae0f-11ed-9bd8-0242ac110002', 'invitationType': {'id': 'e871403c-a79c-11ed-b76e-0242ac110002', 'name': 'přijal'}}, {'id': '89d1f570-ae0f-11ed-9bd8-0242ac110002', 'invitationType': {'id': 'e871403c-a79c-11ed-b76e-0242ac110002', 'name': 'přijal'}}, {'id': '89d1f5ca-ae0f-11ed-9bd8-0242ac110002', 'invitationType': {'id': 'e871403c-a79c-11ed-b76e-0242ac110002', 'name': 'přijal'}}, {'id': '89d1f624-ae0f-11ed-9bd8-0242ac110002', 'invitationType': {'id': 'e871403c-a79c-11ed-b76e-0242ac110002', 'name': 'přijal'}}]}]}}, {'group': {'id': '2d9dcd22-a4a2-11ed-b9df-0242ac120003', 'name': 'Uni'}, 'user': {'id': '89d1f3cc-ae0f-11ed-9bd8-0242ac110002', 'fullname': 'Jitka Newbie', 'events': [{'id': '45b2df80-ae0f-11ed-9bd8-0242ac110002', 'name': 'Zkouška', 'startdate': '2023-04-19T08:00:00', 'enddate': '2023-04-19T09:00:00', 'presences': [{'id': '89d1e684-ae0f-11ed-9bd8-0242ac110002', 'invitationType': {'id': 'e871403c-a79c-11ed-b76e-0242ac110002', 'name': 'přijal'}}, {'id': '89d1f2d2-ae0f-11ed-9bd8-0242ac110002', 'invitationType': {'id': 'e871403c-a79c-11ed-b76e-0242ac110002', 'name': 'přijal'}}, {'id': '89d1f3ae-ae0f-11ed-9bd8-0242ac110002', 'invitationType': {'id': 'e871403c-a79c-11ed-b76e-0242ac110002', 'name': 'přijal'}}, {'id': '89d1f412-ae0f-11ed-9bd8-0242ac110002', 'invitationType': {'id': 'e871403c-a79c-11ed-b76e-0242ac110002', 'name': 'přijal'}}, {'id': '89d1f46c-ae0f-11ed-9bd8-0242ac110002', 'invitationType': {'id': 'e871403c-a79c-11ed-b76e-0242ac110002', 'name': 'přijal'}}, {'id': '89d1f4c6-ae0f-11ed-9bd8-0242ac110002', 'invitationType': {'id': 'e871403c-a79c-11ed-b76e-0242ac110002', 'name': 'přijal'}}, {'id': '89d1f520-ae0f-11ed-9bd8-0242ac110002', 'invitationType': {'id': 'e871403c-a79c-11ed-b76e-0242ac110002', 'name': 'přijal'}}, {'id': '89d1f570-ae0f-11ed-9bd8-0242ac110002', 'invitationType': {'id': 'e871403c-a79c-11ed-b76e-0242ac110002', 'name': 'přijal'}}, {'id': '89d1f5ca-ae0f-11ed-9bd8-0242ac110002', 'invitationType': {'id': 'e871403c-a79c-11ed-b76e-0242ac110002', 'name': 'přijal'}}, {'id': '89d1f624-ae0f-11ed-9bd8-0242ac110002', 'invitationType': {'id': 'e871403c-a79c-11ed-b76e-0242ac110002', 'name': 'přijal'}}]}]}}, {'group': {'id': '2d9dcd22-a4a2-11ed-b9df-0242ac120003', 'name': 'Uni'}, 'user': {'id': '89d1f430-ae0f-11ed-9bd8-0242ac110002', 'fullname': 'Jaroslava Newbie', 'events': [{'id': '45b2df80-ae0f-11ed-9bd8-0242ac110002', 'name': 'Zkouška', 'startdate': '2023-04-19T08:00:00', 'enddate': '2023-04-19T09:00:00', 'presences': [{'id': '89d1e684-ae0f-11ed-9bd8-0242ac110002', 'invitationType': {'id': 'e871403c-a79c-11ed-b76e-0242ac110002', 'name': 'přijal'}}, {'id': '89d1f2d2-ae0f-11ed-9bd8-0242ac110002', 'invitationType': {'id': 'e871403c-a79c-11ed-b76e-0242ac110002', 'name': 'přijal'}}, {'id': '89d1f3ae-ae0f-11ed-9bd8-0242ac110002', 'invitationType': {'id': 'e871403c-a79c-11ed-b76e-0242ac110002', 'name': 'přijal'}}, {'id': '89d1f412-ae0f-11ed-9bd8-0242ac110002', 'invitationType': {'id': 'e871403c-a79c-11ed-b76e-0242ac110002', 'name': 'přijal'}}, {'id': '89d1f46c-ae0f-11ed-9bd8-0242ac110002', 'invitationType': {'id': 'e871403c-a79c-11ed-b76e-0242ac110002', 'name': 'přijal'}}, {'id': '89d1f4c6-ae0f-11ed-9bd8-0242ac110002', 'invitationType': {'id': 'e871403c-a79c-11ed-b76e-0242ac110002', 'name': 'přijal'}}, {'id': '89d1f520-ae0f-11ed-9bd8-0242ac110002', 'invitationType': {'id': 'e871403c-a79c-11ed-b76e-0242ac110002', 'name': 'přijal'}}, {'id': '89d1f570-ae0f-11ed-9bd8-0242ac110002', 'invitationType': {'id': 'e871403c-a79c-11ed-b76e-0242ac110002', 'name': 'přijal'}}, {'id': '89d1f5ca-ae0f-11ed-9bd8-0242ac110002', 'invitationType': {'id': 'e871403c-a79c-11ed-b76e-0242ac110002', 'name': 'přijal'}}, {'id': '89d1f624-ae0f-11ed-9bd8-0242ac110002', 'invitationType': {'id': 'e871403c-a79c-11ed-b76e-0242ac110002', 'name': 'přijal'}}]}]}}, {'group': {'id': '2d9dcd22-a4a2-11ed-b9df-0242ac120003', 'name': 'Uni'}, 'user': {'id': '89d1f48a-ae0f-11ed-9bd8-0242ac110002', 'fullname': 'Lada Newbie', 'events': [{'id': '45b2df80-ae0f-11ed-9bd8-0242ac110002', 'name': 'Zkouška', 'startdate': '2023-04-19T08:00:00', 'enddate': '2023-04-19T09:00:00', 'presences': [{'id': '89d1e684-ae0f-11ed-9bd8-0242ac110002', 'invitationType': {'id': 'e871403c-a79c-11ed-b76e-0242ac110002', 'name': 'přijal'}}, {'id': '89d1f2d2-ae0f-11ed-9bd8-0242ac110002', 'invitationType': {'id': 'e871403c-a79c-11ed-b76e-0242ac110002', 'name': 'přijal'}}, {'id': '89d1f3ae-ae0f-11ed-9bd8-0242ac110002', 'invitationType': {'id': 'e871403c-a79c-11ed-b76e-0242ac110002', 'name': 'přijal'}}, {'id': '89d1f412-ae0f-11ed-9bd8-0242ac110002', 'invitationType': {'id': 'e871403c-a79c-11ed-b76e-0242ac110002', 'name': 'přijal'}}, {'id': '89d1f46c-ae0f-11ed-9bd8-0242ac110002', 'invitationType': {'id': 'e871403c-a79c-11ed-b76e-0242ac110002', 'name': 'přijal'}}, {'id': '89d1f4c6-ae0f-11ed-9bd8-0242ac110002', 'invitationType': {'id': 'e871403c-a79c-11ed-b76e-0242ac110002', 'name': 'přijal'}}, {'id': '89d1f520-ae0f-11ed-9bd8-0242ac110002', 'invitationType': {'id': 'e871403c-a79c-11ed-b76e-0242ac110002', 'name': 'přijal'}}, {'id': '89d1f570-ae0f-11ed-9bd8-0242ac110002', 'invitationType': {'id': 'e871403c-a79c-11ed-b76e-0242ac110002', 'name': 'přijal'}}, {'id': '89d1f5ca-ae0f-11ed-9bd8-0242ac110002', 'invitationType': {'id': 'e871403c-a79c-11ed-b76e-0242ac110002', 'name': 'přijal'}}, {'id': '89d1f624-ae0f-11ed-9bd8-0242ac110002', 'invitationType': {'id': 'e871403c-a79c-11ed-b76e-0242ac110002', 'name': 'přijal'}}]}]}}, {'group': {'id': '2d9dcd22-a4a2-11ed-b9df-0242ac120003', 'name': 'Uni'}, 'user': {'id': '89d1f4e4-ae0f-11ed-9bd8-0242ac110002', 'fullname': 'Ludmila Newbie', 'events': [{'id': '45b2df80-ae0f-11ed-9bd8-0242ac110002', 'name': 'Zkouška', 'startdate': '2023-04-19T08:00:00', 'enddate': '2023-04-19T09:00:00', 'presences': [{'id': '89d1e684-ae0f-11ed-9bd8-0242ac110002', 'invitationType': {'id': 'e871403c-a79c-11ed-b76e-0242ac110002', 'name': 'přijal'}}, {'id': '89d1f2d2-ae0f-11ed-9bd8-0242ac110002', 'invitationType': {'id': 'e871403c-a79c-11ed-b76e-0242ac110002', 'name': 'přijal'}}, {'id': '89d1f3ae-ae0f-11ed-9bd8-0242ac110002', 'invitationType': {'id': 'e871403c-a79c-11ed-b76e-0242ac110002', 'name': 'přijal'}}, {'id': '89d1f412-ae0f-11ed-9bd8-0242ac110002', 'invitationType': {'id': 'e871403c-a79c-11ed-b76e-0242ac110002', 'name': 'přijal'}}, {'id': '89d1f46c-ae0f-11ed-9bd8-0242ac110002', 'invitationType': {'id': 'e871403c-a79c-11ed-b76e-0242ac110002', 'name': 'přijal'}}, {'id': '89d1f4c6-ae0f-11ed-9bd8-0242ac110002', 'invitationType': {'id': 'e871403c-a79c-11ed-b76e-0242ac110002', 'name': 'přijal'}}, {'id': '89d1f520-ae0f-11ed-9bd8-0242ac110002', 'invitationType': {'id': 'e871403c-a79c-11ed-b76e-0242ac110002', 'name': 'přijal'}}, {'id': '89d1f570-ae0f-11ed-9bd8-0242ac110002', 'invitationType': {'id': 'e871403c-a79c-11ed-b76e-0242ac110002', 'name': 'přijal'}}, {'id': '89d1f5ca-ae0f-11ed-9bd8-0242ac110002', 'invitationType': {'id': 'e871403c-a79c-11ed-b76e-0242ac110002', 'name': 'přijal'}}, {'id': '89d1f624-ae0f-11ed-9bd8-0242ac110002', 'invitationType': {'id': 'e871403c-a79c-11ed-b76e-0242ac110002', 'name': 'přijal'}}]}]}}, {'group': {'id': '2d9dcd22-a4a2-11ed-b9df-0242ac120003', 'name': 'Uni'}, 'user': {'id': '89d1f534-ae0f-11ed-9bd8-0242ac110002', 'fullname': 'Lucie Newbie', 'events': [{'id': '45b2df80-ae0f-11ed-9bd8-0242ac110002', 'name': 'Zkouška', 'startdate': '2023-04-19T08:00:00', 'enddate': '2023-04-19T09:00:00', 'presences': [{'id': '89d1e684-ae0f-11ed-9bd8-0242ac110002', 'invitationType': {'id': 'e871403c-a79c-11ed-b76e-0242ac110002', 'name': 'přijal'}}, {'id': '89d1f2d2-ae0f-11ed-9bd8-0242ac110002', 'invitationType': {'id': 'e871403c-a79c-11ed-b76e-0242ac110002', 'name': 'přijal'}}, {'id': '89d1f3ae-ae0f-11ed-9bd8-0242ac110002', 'invitationType': {'id': 'e871403c-a79c-11ed-b76e-0242ac110002', 'name': 'přijal'}}, {'id': '89d1f412-ae0f-11ed-9bd8-0242ac110002', 'invitationType': {'id': 'e871403c-a79c-11ed-b76e-0242ac110002', 'name': 'přijal'}}, {'id': '89d1f46c-ae0f-11ed-9bd8-0242ac110002', 'invitationType': {'id': 'e871403c-a79c-11ed-b76e-0242ac110002', 'name': 'přijal'}}, {'id': '89d1f4c6-ae0f-11ed-9bd8-0242ac110002', 'invitationType': {'id': 'e871403c-a79c-11ed-b76e-0242ac110002', 'name': 'přijal'}}, {'id': '89d1f520-ae0f-11ed-9bd8-0242ac110002', 'invitationType': {'id': 'e871403c-a79c-11ed-b76e-0242ac110002', 'name': 'přijal'}}, {'id': '89d1f570-ae0f-11ed-9bd8-0242ac110002', 'invitationType': {'id': 'e871403c-a79c-11ed-b76e-0242ac110002', 'name': 'přijal'}}, {'id': '89d1f5ca-ae0f-11ed-9bd8-0242ac110002', 'invitationType': {'id': 'e871403c-a79c-11ed-b76e-0242ac110002', 'name': 'přijal'}}, {'id': '89d1f624-ae0f-11ed-9bd8-0242ac110002', 'invitationType': {'id': 'e871403c-a79c-11ed-b76e-0242ac110002', 'name': 'přijal'}}]}]}}, {'group': {'id': '2d9dcd22-a4a2-11ed-b9df-0242ac120003', 'name': 'Uni'}, 'user': {'id': '89d1f58e-ae0f-11ed-9bd8-0242ac110002', 'fullname': 'Nola Newbie', 'events': [{'id': '45b2df80-ae0f-11ed-9bd8-0242ac110002', 'name': 'Zkouška', 'startdate': '2023-04-19T08:00:00', 'enddate': '2023-04-19T09:00:00', 'presences': [{'id': '89d1e684-ae0f-11ed-9bd8-0242ac110002', 'invitationType': {'id': 'e871403c-a79c-11ed-b76e-0242ac110002', 'name': 'přijal'}}, {'id': '89d1f2d2-ae0f-11ed-9bd8-0242ac110002', 'invitationType': {'id': 'e871403c-a79c-11ed-b76e-0242ac110002', 'name': 'přijal'}}, {'id': '89d1f3ae-ae0f-11ed-9bd8-0242ac110002', 'invitationType': {'id': 'e871403c-a79c-11ed-b76e-0242ac110002', 'name': 'přijal'}}, {'id': '89d1f412-ae0f-11ed-9bd8-0242ac110002', 'invitationType': {'id': 'e871403c-a79c-11ed-b76e-0242ac110002', 'name': 'přijal'}}, {'id': '89d1f46c-ae0f-11ed-9bd8-0242ac110002', 'invitationType': {'id': 'e871403c-a79c-11ed-b76e-0242ac110002', 'name': 'přijal'}}, {'id': '89d1f4c6-ae0f-11ed-9bd8-0242ac110002', 'invitationType': {'id': 'e871403c-a79c-11ed-b76e-0242ac110002', 'name': 'přijal'}}, {'id': '89d1f520-ae0f-11ed-9bd8-0242ac110002', 'invitationType': {'id': 'e871403c-a79c-11ed-b76e-0242ac110002', 'name': 'přijal'}}, {'id': '89d1f570-ae0f-11ed-9bd8-0242ac110002', 'invitationType': {'id': 'e871403c-a79c-11ed-b76e-0242ac110002', 'name': 'přijal'}}, {'id': '89d1f5ca-ae0f-11ed-9bd8-0242ac110002', 'invitationType': {'id': 'e871403c-a79c-11ed-b76e-0242ac110002', 'name': 'přijal'}}, {'id': '89d1f624-ae0f-11ed-9bd8-0242ac110002', 'invitationType': {'id': 'e871403c-a79c-11ed-b76e-0242ac110002', 'name': 'přijal'}}]}]}}, {'group': {'id': '2d9dcd22-a4a2-11ed-b9df-0242ac120003', 'name': 'Uni'}, 'user': {'id': '89d1f5de-ae0f-11ed-9bd8-0242ac110002', 'fullname': 'Neva Newbie', 'events': [{'id': '45b2df80-ae0f-11ed-9bd8-0242ac110002', 'name': 'Zkouška', 'startdate': '2023-04-19T08:00:00', 'enddate': '2023-04-19T09:00:00', 'presences': [{'id': '89d1e684-ae0f-11ed-9bd8-0242ac110002', 'invitationType': {'id': 'e871403c-a79c-11ed-b76e-0242ac110002', 'name': 'přijal'}}, {'id': '89d1f2d2-ae0f-11ed-9bd8-0242ac110002', 'invitationType': {'id': 'e871403c-a79c-11ed-b76e-0242ac110002', 'name': 'přijal'}}, {'id': '89d1f3ae-ae0f-11ed-9bd8-0242ac110002', 'invitationType': {'id': 'e871403c-a79c-11ed-b76e-0242ac110002', 'name': 'přijal'}}, {'id': '89d1f412-ae0f-11ed-9bd8-0242ac110002', 'invitationType': {'id': 'e871403c-a79c-11ed-b76e-0242ac110002', 'name': 'přijal'}}, {'id': '89d1f46c-ae0f-11ed-9bd8-0242ac110002', 'invitationType': {'id': 'e871403c-a79c-11ed-b76e-0242ac110002', 'name': 'přijal'}}, {'id': '89d1f4c6-ae0f-11ed-9bd8-0242ac110002', 'invitationType': {'id': 'e871403c-a79c-11ed-b76e-0242ac110002', 'name': 'přijal'}}, {'id': '89d1f520-ae0f-11ed-9bd8-0242ac110002', 'invitationType': {'id': 'e871403c-a79c-11ed-b76e-0242ac110002', 'name': 'přijal'}}, {'id': '89d1f570-ae0f-11ed-9bd8-0242ac110002', 'invitationType': {'id': 'e871403c-a79c-11ed-b76e-0242ac110002', 'name': 'přijal'}}, {'id': '89d1f5ca-ae0f-11ed-9bd8-0242ac110002', 'invitationType': {'id': 'e871403c-a79c-11ed-b76e-0242ac110002', 'name': 'přijal'}}, {'id': '89d1f624-ae0f-11ed-9bd8-0242ac110002', 'invitationType': {'id': 'e871403c-a79c-11ed-b76e-0242ac110002', 'name': 'přijal'}}]}]}}, {'group': {'id': '2d9dcd22-a4a2-11ed-b9df-0242ac120003', 'name': 'Uni'}, 'user': {'id': '89d1f638-ae0f-11ed-9bd8-0242ac110002', 'fullname': 'Nora Newbie', 'events': [{'id': '45b2df80-ae0f-11ed-9bd8-0242ac110002', 'name': 'Zkouška', 'startdate': '2023-04-19T08:00:00', 'enddate': '2023-04-19T09:00:00', 'presences': [{'id': '89d1e684-ae0f-11ed-9bd8-0242ac110002', 'invitationType': {'id': 'e871403c-a79c-11ed-b76e-0242ac110002', 'name': 'přijal'}}, {'id': '89d1f2d2-ae0f-11ed-9bd8-0242ac110002', 'invitationType': {'id': 'e871403c-a79c-11ed-b76e-0242ac110002', 'name': 'přijal'}}, {'id': '89d1f3ae-ae0f-11ed-9bd8-0242ac110002', 'invitationType': {'id': 'e871403c-a79c-11ed-b76e-0242ac110002', 'name': 'přijal'}}, {'id': '89d1f412-ae0f-11ed-9bd8-0242ac110002', 'invitationType': {'id': 'e871403c-a79c-11ed-b76e-0242ac110002', 'name': 'přijal'}}, {'id': '89d1f46c-ae0f-11ed-9bd8-0242ac110002', 'invitationType': {'id': 'e871403c-a79c-11ed-b76e-0242ac110002', 'name': 'přijal'}}, {'id': '89d1f4c6-ae0f-11ed-9bd8-0242ac110002', 'invitationType': {'id': 'e871403c-a79c-11ed-b76e-0242ac110002', 'name': 'přijal'}}, {'id': '89d1f520-ae0f-11ed-9bd8-0242ac110002', 'invitationType': {'id': 'e871403c-a79c-11ed-b76e-0242ac110002', 'name': 'přijal'}}, {'id': '89d1f570-ae0f-11ed-9bd8-0242ac110002', 'invitationType': {'id': 'e871403c-a79c-11ed-b76e-0242ac110002', 'name': 'přijal'}}, {'id': '89d1f5ca-ae0f-11ed-9bd8-0242ac110002', 'invitationType': {'id': 'e871403c-a79c-11ed-b76e-0242ac110002', 'name': 'přijal'}}, {'id': '89d1f624-ae0f-11ed-9bd8-0242ac110002', 'invitationType': {'id': 'e871403c-a79c-11ed-b76e-0242ac110002', 'name': 'přijal'}}]}]}}]}, {'memberships': [{'group': {'id': '2d9dced0-a4a2-11ed-b9df-0242ac120003', 'name': 'Fac'}, 'user': {'id': '2d9dc5ca-a4a2-11ed-b9df-0242ac120003', 'fullname': 'John Newbie', 'events': []}}, {'group': {'id': '2d9dced0-a4a2-11ed-b9df-0242ac120003', 'name': 'Fac'}, 'user': {'id': '2d9dc868-a4a2-11ed-b9df-0242ac120003', 'fullname': 'Julia Newbie', 'events': []}}, {'group': {'id': '2d9dced0-a4a2-11ed-b9df-0242ac120003', 'name': 'Fac'}, 'user': {'id': '2d9dc9a8-a4a2-11ed-b9df-0242ac120003', 'fullname': 'Johnson Newbie', 'events': []}}, {'group': {'id': '2d9dced0-a4a2-11ed-b9df-0242ac120003', 'name': 'Fac'}, 'user': {'id': '2d9dcbec-a4a2-11ed-b9df-0242ac120003', 'fullname': 'Jepeto Newbie', 'events': []}}, {'group': {'id': '2d9dced0-a4a2-11ed-b9df-0242ac120003', 'name': 'Fac'}, 'user': {'id': '89d1e724-ae0f-11ed-9bd8-0242ac110002', 'fullname': 'Jana Newbie', 'events': [{'id': '45b2df80-ae0f-11ed-9bd8-0242ac110002', 'name': 'Zkouška', 'startdate': '2023-04-19T08:00:00', 'enddate': '2023-04-19T09:00:00', 'presences': [{'id': '89d1e684-ae0f-11ed-9bd8-0242ac110002', 'invitationType': {'id': 'e871403c-a79c-11ed-b76e-0242ac110002', 'name': 'přijal'}}, {'id': '89d1f2d2-ae0f-11ed-9bd8-0242ac110002', 'invitationType': {'id': 'e871403c-a79c-11ed-b76e-0242ac110002', 'name': 'přijal'}}, {'id': '89d1f3ae-ae0f-11ed-9bd8-0242ac110002', 'invitationType': {'id': 'e871403c-a79c-11ed-b76e-0242ac110002', 'name': 'přijal'}}, {'id': '89d1f412-ae0f-11ed-9bd8-0242ac110002', 'invitationType': {'id': 'e871403c-a79c-11ed-b76e-0242ac110002', 'name': 'přijal'}}, {'id': '89d1f46c-ae0f-11ed-9bd8-0242ac110002', 'invitationType': {'id': 'e871403c-a79c-11ed-b76e-0242ac110002', 'name': 'přijal'}}, {'id': '89d1f4c6-ae0f-11ed-9bd8-0242ac110002', 'invitationType': {'id': 'e871403c-a79c-11ed-b76e-0242ac110002', 'name': 'přijal'}}, {'id': '89d1f520-ae0f-11ed-9bd8-0242ac110002', 'invitationType': {'id': 'e871403c-a79c-11ed-b76e-0242ac110002', 'name': 'přijal'}}, {'id': '89d1f570-ae0f-11ed-9bd8-0242ac110002', 'invitationType': {'id': 'e871403c-a79c-11ed-b76e-0242ac110002', 'name': 'přijal'}}, {'id': '89d1f5ca-ae0f-11ed-9bd8-0242ac110002', 'invitationType': {'id': 'e871403c-a79c-11ed-b76e-0242ac110002', 'name': 'přijal'}}, {'id': '89d1f624-ae0f-11ed-9bd8-0242ac110002', 'invitationType': {'id': 'e871403c-a79c-11ed-b76e-0242ac110002', 'name': 'přijal'}}]}]}}, {'group': {'id': '2d9dced0-a4a2-11ed-b9df-0242ac120003', 'name': 'Fac'}, 'user': {'id': '89d1f34a-ae0f-11ed-9bd8-0242ac110002', 'fullname': 'Jolana Newbie', 'events': [{'id': '45b2df80-ae0f-11ed-9bd8-0242ac110002', 'name': 'Zkouška', 'startdate': '2023-04-19T08:00:00', 'enddate': '2023-04-19T09:00:00', 'presences': [{'id': '89d1e684-ae0f-11ed-9bd8-0242ac110002', 'invitationType': {'id': 'e871403c-a79c-11ed-b76e-0242ac110002', 'name': 'přijal'}}, {'id': '89d1f2d2-ae0f-11ed-9bd8-0242ac110002', 'invitationType': {'id': 'e871403c-a79c-11ed-b76e-0242ac110002', 'name': 'přijal'}}, {'id': '89d1f3ae-ae0f-11ed-9bd8-0242ac110002', 'invitationType': {'id': 'e871403c-a79c-11ed-b76e-0242ac110002', 'name': 'přijal'}}, {'id': '89d1f412-ae0f-11ed-9bd8-0242ac110002', 'invitationType': {'id': 'e871403c-a79c-11ed-b76e-0242ac110002', 'name': 'přijal'}}, {'id': '89d1f46c-ae0f-11ed-9bd8-0242ac110002', 'invitationType': {'id': 'e871403c-a79c-11ed-b76e-0242ac110002', 'name': 'přijal'}}, {'id': '89d1f4c6-ae0f-11ed-9bd8-0242ac110002', 'invitationType': {'id': 'e871403c-a79c-11ed-b76e-0242ac110002', 'name': 'přijal'}}, {'id': '89d1f520-ae0f-11ed-9bd8-0242ac110002', 'invitationType': {'id': 'e871403c-a79c-11ed-b76e-0242ac110002', 'name': 'přijal'}}, {'id': '89d1f570-ae0f-11ed-9bd8-0242ac110002', 'invitationType': {'id': 'e871403c-a79c-11ed-b76e-0242ac110002', 'name': 'přijal'}}, {'id': '89d1f5ca-ae0f-11ed-9bd8-0242ac110002', 'invitationType': {'id': 'e871403c-a79c-11ed-b76e-0242ac110002', 'name': 'přijal'}}, {'id': '89d1f624-ae0f-11ed-9bd8-0242ac110002', 'invitationType': {'id': 'e871403c-a79c-11ed-b76e-0242ac110002', 'name': 'přijal'}}]}]}}, {'group': {'id': '2d9dced0-a4a2-11ed-b9df-0242ac120003', 'name': 'Fac'}, 'user': {'id': '89d1f3cc-ae0f-11ed-9bd8-0242ac110002', 'fullname': 'Jitka Newbie', 'events': [{'id': '45b2df80-ae0f-11ed-9bd8-0242ac110002', 'name': 'Zkouška', 'startdate': '2023-04-19T08:00:00', 'enddate': '2023-04-19T09:00:00', 'presences': [{'id': '89d1e684-ae0f-11ed-9bd8-0242ac110002', 'invitationType': {'id': 'e871403c-a79c-11ed-b76e-0242ac110002', 'name': 'přijal'}}, {'id': '89d1f2d2-ae0f-11ed-9bd8-0242ac110002', 'invitationType': {'id': 'e871403c-a79c-11ed-b76e-0242ac110002', 'name': 'přijal'}}, {'id': '89d1f3ae-ae0f-11ed-9bd8-0242ac110002', 'invitationType': {'id': 'e871403c-a79c-11ed-b76e-0242ac110002', 'name': 'přijal'}}, {'id': '89d1f412-ae0f-11ed-9bd8-0242ac110002', 'invitationType': {'id': 'e871403c-a79c-11ed-b76e-0242ac110002', 'name': 'přijal'}}, {'id': '89d1f46c-ae0f-11ed-9bd8-0242ac110002', 'invitationType': {'id': 'e871403c-a79c-11ed-b76e-0242ac110002', 'name': 'přijal'}}, {'id': '89d1f4c6-ae0f-11ed-9bd8-0242ac110002', 'invitationType': {'id': 'e871403c-a79c-11ed-b76e-0242ac110002', 'name': 'přijal'}}, {'id': '89d1f520-ae0f-11ed-9bd8-0242ac110002', 'invitationType': {'id': 'e871403c-a79c-11ed-b76e-0242ac110002', 'name': 'přijal'}}, {'id': '89d1f570-ae0f-11ed-9bd8-0242ac110002', 'invitationType': {'id': 'e871403c-a79c-11ed-b76e-0242ac110002', 'name': 'přijal'}}, {'id': '89d1f5ca-ae0f-11ed-9bd8-0242ac110002', 'invitationType': {'id': 'e871403c-a79c-11ed-b76e-0242ac110002', 'name': 'přijal'}}, {'id': '89d1f624-ae0f-11ed-9bd8-0242ac110002', 'invitationType': {'id': 'e871403c-a79c-11ed-b76e-0242ac110002', 'name': 'přijal'}}]}]}}, {'group': {'id': '2d9dced0-a4a2-11ed-b9df-0242ac120003', 'name': 'Fac'}, 'user': {'id': '89d1f430-ae0f-11ed-9bd8-0242ac110002', 'fullname': 'Jaroslava Newbie', 'events': [{'id': '45b2df80-ae0f-11ed-9bd8-0242ac110002', 'name': 'Zkouška', 'startdate': '2023-04-19T08:00:00', 'enddate': '2023-04-19T09:00:00', 'presences': [{'id': '89d1e684-ae0f-11ed-9bd8-0242ac110002', 'invitationType': {'id': 'e871403c-a79c-11ed-b76e-0242ac110002', 'name': 'přijal'}}, {'id': '89d1f2d2-ae0f-11ed-9bd8-0242ac110002', 'invitationType': {'id': 'e871403c-a79c-11ed-b76e-0242ac110002', 'name': 'přijal'}}, {'id': '89d1f3ae-ae0f-11ed-9bd8-0242ac110002', 'invitationType': {'id': 'e871403c-a79c-11ed-b76e-0242ac110002', 'name': 'přijal'}}, {'id': '89d1f412-ae0f-11ed-9bd8-0242ac110002', 'invitationType': {'id': 'e871403c-a79c-11ed-b76e-0242ac110002', 'name': 'přijal'}}, {'id': '89d1f46c-ae0f-11ed-9bd8-0242ac110002', 'invitationType': {'id': 'e871403c-a79c-11ed-b76e-0242ac110002', 'name': 'přijal'}}, {'id': '89d1f4c6-ae0f-11ed-9bd8-0242ac110002', 'invitationType': {'id': 'e871403c-a79c-11ed-b76e-0242ac110002', 'name': 'přijal'}}, {'id': '89d1f520-ae0f-11ed-9bd8-0242ac110002', 'invitationType': {'id': 'e871403c-a79c-11ed-b76e-0242ac110002', 'name': 'přijal'}}, {'id': '89d1f570-ae0f-11ed-9bd8-0242ac110002', 'invitationType': {'id': 'e871403c-a79c-11ed-b76e-0242ac110002', 'name': 'přijal'}}, {'id': '89d1f5ca-ae0f-11ed-9bd8-0242ac110002', 'invitationType': {'id': 'e871403c-a79c-11ed-b76e-0242ac110002', 'name': 'přijal'}}, {'id': '89d1f624-ae0f-11ed-9bd8-0242ac110002', 'invitationType': {'id': 'e871403c-a79c-11ed-b76e-0242ac110002', 'name': 'přijal'}}]}]}}, {'group': {'id': '2d9dced0-a4a2-11ed-b9df-0242ac120003', 'name': 'Fac'}, 'user': {'id': '89d1f48a-ae0f-11ed-9bd8-0242ac110002', 'fullname': 'Lada Newbie', 'events': [{'id': '45b2df80-ae0f-11ed-9bd8-0242ac110002', 'name': 'Zkouška', 'startdate': '2023-04-19T08:00:00', 'enddate': '2023-04-19T09:00:00', 'presences': [{'id': '89d1e684-ae0f-11ed-9bd8-0242ac110002', 'invitationType': {'id': 'e871403c-a79c-11ed-b76e-0242ac110002', 'name': 'přijal'}}, {'id': '89d1f2d2-ae0f-11ed-9bd8-0242ac110002', 'invitationType': {'id': 'e871403c-a79c-11ed-b76e-0242ac110002', 'name': 'přijal'}}, {'id': '89d1f3ae-ae0f-11ed-9bd8-0242ac110002', 'invitationType': {'id': 'e871403c-a79c-11ed-b76e-0242ac110002', 'name': 'přijal'}}, {'id': '89d1f412-ae0f-11ed-9bd8-0242ac110002', 'invitationType': {'id': 'e871403c-a79c-11ed-b76e-0242ac110002', 'name': 'přijal'}}, {'id': '89d1f46c-ae0f-11ed-9bd8-0242ac110002', 'invitationType': {'id': 'e871403c-a79c-11ed-b76e-0242ac110002', 'name': 'přijal'}}, {'id': '89d1f4c6-ae0f-11ed-9bd8-0242ac110002', 'invitationType': {'id': 'e871403c-a79c-11ed-b76e-0242ac110002', 'name': 'přijal'}}, {'id': '89d1f520-ae0f-11ed-9bd8-0242ac110002', 'invitationType': {'id': 'e871403c-a79c-11ed-b76e-0242ac110002', 'name': 'přijal'}}, {'id': '89d1f570-ae0f-11ed-9bd8-0242ac110002', 'invitationType': {'id': 'e871403c-a79c-11ed-b76e-0242ac110002', 'name': 'přijal'}}, {'id': '89d1f5ca-ae0f-11ed-9bd8-0242ac110002', 'invitationType': {'id': 'e871403c-a79c-11ed-b76e-0242ac110002', 'name': 'přijal'}}, {'id': '89d1f624-ae0f-11ed-9bd8-0242ac110002', 'invitationType': {'id': 'e871403c-a79c-11ed-b76e-0242ac110002', 'name': 'přijal'}}]}]}}, {'group': {'id': '2d9dced0-a4a2-11ed-b9df-0242ac120003', 'name': 'Fac'}, 'user': {'id': '89d1f4e4-ae0f-11ed-9bd8-0242ac110002', 'fullname': 'Ludmila Newbie', 'events': [{'id': '45b2df80-ae0f-11ed-9bd8-0242ac110002', 'name': 'Zkouška', 'startdate': '2023-04-19T08:00:00', 'enddate': '2023-04-19T09:00:00', 'presences': [{'id': '89d1e684-ae0f-11ed-9bd8-0242ac110002', 'invitationType': {'id': 'e871403c-a79c-11ed-b76e-0242ac110002', 'name': 'přijal'}}, {'id': '89d1f2d2-ae0f-11ed-9bd8-0242ac110002', 'invitationType': {'id': 'e871403c-a79c-11ed-b76e-0242ac110002', 'name': 'přijal'}}, {'id': '89d1f3ae-ae0f-11ed-9bd8-0242ac110002', 'invitationType': {'id': 'e871403c-a79c-11ed-b76e-0242ac110002', 'name': 'přijal'}}, {'id': '89d1f412-ae0f-11ed-9bd8-0242ac110002', 'invitationType': {'id': 'e871403c-a79c-11ed-b76e-0242ac110002', 'name': 'přijal'}}, {'id': '89d1f46c-ae0f-11ed-9bd8-0242ac110002', 'invitationType': {'id': 'e871403c-a79c-11ed-b76e-0242ac110002', 'name': 'přijal'}}, {'id': '89d1f4c6-ae0f-11ed-9bd8-0242ac110002', 'invitationType': {'id': 'e871403c-a79c-11ed-b76e-0242ac110002', 'name': 'přijal'}}, {'id': '89d1f520-ae0f-11ed-9bd8-0242ac110002', 'invitationType': {'id': 'e871403c-a79c-11ed-b76e-0242ac110002', 'name': 'přijal'}}, {'id': '89d1f570-ae0f-11ed-9bd8-0242ac110002', 'invitationType': {'id': 'e871403c-a79c-11ed-b76e-0242ac110002', 'name': 'přijal'}}, {'id': '89d1f5ca-ae0f-11ed-9bd8-0242ac110002', 'invitationType': {'id': 'e871403c-a79c-11ed-b76e-0242ac110002', 'name': 'přijal'}}, {'id': '89d1f624-ae0f-11ed-9bd8-0242ac110002', 'invitationType': {'id': 'e871403c-a79c-11ed-b76e-0242ac110002', 'name': 'přijal'}}]}]}}, {'group': {'id': '2d9dced0-a4a2-11ed-b9df-0242ac120003', 'name': 'Fac'}, 'user': {'id': '89d1f534-ae0f-11ed-9bd8-0242ac110002', 'fullname': 'Lucie Newbie', 'events': [{'id': '45b2df80-ae0f-11ed-9bd8-0242ac110002', 'name': 'Zkouška', 'startdate': '2023-04-19T08:00:00', 'enddate': '2023-04-19T09:00:00', 'presences': [{'id': '89d1e684-ae0f-11ed-9bd8-0242ac110002', 'invitationType': {'id': 'e871403c-a79c-11ed-b76e-0242ac110002', 'name': 'přijal'}}, {'id': '89d1f2d2-ae0f-11ed-9bd8-0242ac110002', 'invitationType': {'id': 'e871403c-a79c-11ed-b76e-0242ac110002', 'name': 'přijal'}}, {'id': '89d1f3ae-ae0f-11ed-9bd8-0242ac110002', 'invitationType': {'id': 'e871403c-a79c-11ed-b76e-0242ac110002', 'name': 'přijal'}}, {'id': '89d1f412-ae0f-11ed-9bd8-0242ac110002', 'invitationType': {'id': 'e871403c-a79c-11ed-b76e-0242ac110002', 'name': 'přijal'}}, {'id': '89d1f46c-ae0f-11ed-9bd8-0242ac110002', 'invitationType': {'id': 'e871403c-a79c-11ed-b76e-0242ac110002', 'name': 'přijal'}}, {'id': '89d1f4c6-ae0f-11ed-9bd8-0242ac110002', 'invitationType': {'id': 'e871403c-a79c-11ed-b76e-0242ac110002', 'name': 'přijal'}}, {'id': '89d1f520-ae0f-11ed-9bd8-0242ac110002', 'invitationType': {'id': 'e871403c-a79c-11ed-b76e-0242ac110002', 'name': 'přijal'}}, {'id': '89d1f570-ae0f-11ed-9bd8-0242ac110002', 'invitationType': {'id': 'e871403c-a79c-11ed-b76e-0242ac110002', 'name': 'přijal'}}, {'id': '89d1f5ca-ae0f-11ed-9bd8-0242ac110002', 'invitationType': {'id': 'e871403c-a79c-11ed-b76e-0242ac110002', 'name': 'přijal'}}, {'id': '89d1f624-ae0f-11ed-9bd8-0242ac110002', 'invitationType': {'id': 'e871403c-a79c-11ed-b76e-0242ac110002', 'name': 'přijal'}}]}]}}, {'group': {'id': '2d9dced0-a4a2-11ed-b9df-0242ac120003', 'name': 'Fac'}, 'user': {'id': '89d1f58e-ae0f-11ed-9bd8-0242ac110002', 'fullname': 'Nola Newbie', 'events': [{'id': '45b2df80-ae0f-11ed-9bd8-0242ac110002', 'name': 'Zkouška', 'startdate': '2023-04-19T08:00:00', 'enddate': '2023-04-19T09:00:00', 'presences': [{'id': '89d1e684-ae0f-11ed-9bd8-0242ac110002', 'invitationType': {'id': 'e871403c-a79c-11ed-b76e-0242ac110002', 'name': 'přijal'}}, {'id': '89d1f2d2-ae0f-11ed-9bd8-0242ac110002', 'invitationType': {'id': 'e871403c-a79c-11ed-b76e-0242ac110002', 'name': 'přijal'}}, {'id': '89d1f3ae-ae0f-11ed-9bd8-0242ac110002', 'invitationType': {'id': 'e871403c-a79c-11ed-b76e-0242ac110002', 'name': 'přijal'}}, {'id': '89d1f412-ae0f-11ed-9bd8-0242ac110002', 'invitationType': {'id': 'e871403c-a79c-11ed-b76e-0242ac110002', 'name': 'přijal'}}, {'id': '89d1f46c-ae0f-11ed-9bd8-0242ac110002', 'invitationType': {'id': 'e871403c-a79c-11ed-b76e-0242ac110002', 'name': 'přijal'}}, {'id': '89d1f4c6-ae0f-11ed-9bd8-0242ac110002', 'invitationType': {'id': 'e871403c-a79c-11ed-b76e-0242ac110002', 'name': 'přijal'}}, {'id': '89d1f520-ae0f-11ed-9bd8-0242ac110002', 'invitationType': {'id': 'e871403c-a79c-11ed-b76e-0242ac110002', 'name': 'přijal'}}, {'id': '89d1f570-ae0f-11ed-9bd8-0242ac110002', 'invitationType': {'id': 'e871403c-a79c-11ed-b76e-0242ac110002', 'name': 'přijal'}}, {'id': '89d1f5ca-ae0f-11ed-9bd8-0242ac110002', 'invitationType': {'id': 'e871403c-a79c-11ed-b76e-0242ac110002', 'name': 'přijal'}}, {'id': '89d1f624-ae0f-11ed-9bd8-0242ac110002', 'invitationType': {'id': 'e871403c-a79c-11ed-b76e-0242ac110002', 'name': 'přijal'}}]}]}}, {'group': {'id': '2d9dced0-a4a2-11ed-b9df-0242ac120003', 'name': 'Fac'}, 'user': {'id': '89d1f5de-ae0f-11ed-9bd8-0242ac110002', 'fullname': 'Neva Newbie', 'events': [{'id': '45b2df80-ae0f-11ed-9bd8-0242ac110002', 'name': 'Zkouška', 'startdate': '2023-04-19T08:00:00', 'enddate': '2023-04-19T09:00:00', 'presences': [{'id': '89d1e684-ae0f-11ed-9bd8-0242ac110002', 'invitationType': {'id': 'e871403c-a79c-11ed-b76e-0242ac110002', 'name': 'přijal'}}, {'id': '89d1f2d2-ae0f-11ed-9bd8-0242ac110002', 'invitationType': {'id': 'e871403c-a79c-11ed-b76e-0242ac110002', 'name': 'přijal'}}, {'id': '89d1f3ae-ae0f-11ed-9bd8-0242ac110002', 'invitationType': {'id': 'e871403c-a79c-11ed-b76e-0242ac110002', 'name': 'přijal'}}, {'id': '89d1f412-ae0f-11ed-9bd8-0242ac110002', 'invitationType': {'id': 'e871403c-a79c-11ed-b76e-0242ac110002', 'name': 'přijal'}}, {'id': '89d1f46c-ae0f-11ed-9bd8-0242ac110002', 'invitationType': {'id': 'e871403c-a79c-11ed-b76e-0242ac110002', 'name': 'přijal'}}, {'id': '89d1f4c6-ae0f-11ed-9bd8-0242ac110002', 'invitationType': {'id': 'e871403c-a79c-11ed-b76e-0242ac110002', 'name': 'přijal'}}, {'id': '89d1f520-ae0f-11ed-9bd8-0242ac110002', 'invitationType': {'id': 'e871403c-a79c-11ed-b76e-0242ac110002', 'name': 'přijal'}}, {'id': '89d1f570-ae0f-11ed-9bd8-0242ac110002', 'invitationType': {'id': 'e871403c-a79c-11ed-b76e-0242ac110002', 'name': 'přijal'}}, {'id': '89d1f5ca-ae0f-11ed-9bd8-0242ac110002', 'invitationType': {'id': 'e871403c-a79c-11ed-b76e-0242ac110002', 'name': 'přijal'}}, {'id': '89d1f624-ae0f-11ed-9bd8-0242ac110002', 'invitationType': {'id': 'e871403c-a79c-11ed-b76e-0242ac110002', 'name': 'přijal'}}]}]}}, {'group': {'id': '2d9dced0-a4a2-11ed-b9df-0242ac120003', 'name': 'Fac'}, 'user': {'id': '89d1f638-ae0f-11ed-9bd8-0242ac110002', 'fullname': 'Nora Newbie', 'events': [{'id': '45b2df80-ae0f-11ed-9bd8-0242ac110002', 'name': 'Zkouška', 'startdate': '2023-04-19T08:00:00', 'enddate': '2023-04-19T09:00:00', 'presences': [{'id': '89d1e684-ae0f-11ed-9bd8-0242ac110002', 'invitationType': {'id': 'e871403c-a79c-11ed-b76e-0242ac110002', 'name': 'přijal'}}, {'id': '89d1f2d2-ae0f-11ed-9bd8-0242ac110002', 'invitationType': {'id': 'e871403c-a79c-11ed-b76e-0242ac110002', 'name': 'přijal'}}, {'id': '89d1f3ae-ae0f-11ed-9bd8-0242ac110002', 'invitationType': {'id': 'e871403c-a79c-11ed-b76e-0242ac110002', 'name': 'přijal'}}, {'id': '89d1f412-ae0f-11ed-9bd8-0242ac110002', 'invitationType': {'id': 'e871403c-a79c-11ed-b76e-0242ac110002', 'name': 'přijal'}}, {'id': '89d1f46c-ae0f-11ed-9bd8-0242ac110002', 'invitationType': {'id': 'e871403c-a79c-11ed-b76e-0242ac110002', 'name': 'přijal'}}, {'id': '89d1f4c6-ae0f-11ed-9bd8-0242ac110002', 'invitationType': {'id': 'e871403c-a79c-11ed-b76e-0242ac110002', 'name': 'přijal'}}, {'id': '89d1f520-ae0f-11ed-9bd8-0242ac110002', 'invitationType': {'id': 'e871403c-a79c-11ed-b76e-0242ac110002', 'name': 'přijal'}}, {'id': '89d1f570-ae0f-11ed-9bd8-0242ac110002', 'invitationType': {'id': 'e871403c-a79c-11ed-b76e-0242ac110002', 'name': 'přijal'}}, {'id': '89d1f5ca-ae0f-11ed-9bd8-0242ac110002', 'invitationType': {'id': 'e871403c-a79c-11ed-b76e-0242ac110002', 'name': 'přijal'}}, {'id': '89d1f624-ae0f-11ed-9bd8-0242ac110002', 'invitationType': {'id': 'e871403c-a79c-11ed-b76e-0242ac110002', 'name': 'přijal'}}]}]}}]}, {'memberships': [{'group': {'id': '2d9dd1c8-a4a2-11ed-b9df-0242ac120003', 'name': 'Dep'}, 'user': {'id': '2d9dc5ca-a4a2-11ed-b9df-0242ac120003', 'fullname': 'John Newbie', 'events': []}}, {'group': {'id': '2d9dd1c8-a4a2-11ed-b9df-0242ac120003', 'name': 'Dep'}, 'user': {'id': '2d9dc868-a4a2-11ed-b9df-0242ac120003', 'fullname': 'Julia Newbie', 'events': []}}, {'group': {'id': '2d9dd1c8-a4a2-11ed-b9df-0242ac120003', 'name': 'Dep'}, 'user': {'id': '2d9dc9a8-a4a2-11ed-b9df-0242ac120003', 'fullname': 'Johnson Newbie', 'events': []}}, {'group': {'id': '2d9dd1c8-a4a2-11ed-b9df-0242ac120003', 'name': 'Dep'}, 'user': {'id': '2d9dcbec-a4a2-11ed-b9df-0242ac120003', 'fullname': 'Jepeto Newbie', 'events': []}}, {'group': {'id': '2d9dd1c8-a4a2-11ed-b9df-0242ac120003', 'name': 'Dep'}, 'user': {'id': '89d1e724-ae0f-11ed-9bd8-0242ac110002', 'fullname': 'Jana Newbie', 'events': [{'id': '45b2df80-ae0f-11ed-9bd8-0242ac110002', 'name': 'Zkouška', 'startdate': '2023-04-19T08:00:00', 'enddate': '2023-04-19T09:00:00', 'presences': [{'id': '89d1e684-ae0f-11ed-9bd8-0242ac110002', 'invitationType': {'id': 'e871403c-a79c-11ed-b76e-0242ac110002', 'name': 'přijal'}}, {'id': '89d1f2d2-ae0f-11ed-9bd8-0242ac110002', 'invitationType': {'id': 'e871403c-a79c-11ed-b76e-0242ac110002', 'name': 'přijal'}}, {'id': '89d1f3ae-ae0f-11ed-9bd8-0242ac110002', 'invitationType': {'id': 'e871403c-a79c-11ed-b76e-0242ac110002', 'name': 'přijal'}}, {'id': '89d1f412-ae0f-11ed-9bd8-0242ac110002', 'invitationType': {'id': 'e871403c-a79c-11ed-b76e-0242ac110002', 'name': 'přijal'}}, {'id': '89d1f46c-ae0f-11ed-9bd8-0242ac110002', 'invitationType': {'id': 'e871403c-a79c-11ed-b76e-0242ac110002', 'name': 'přijal'}}, {'id': '89d1f4c6-ae0f-11ed-9bd8-0242ac110002', 'invitationType': {'id': 'e871403c-a79c-11ed-b76e-0242ac110002', 'name': 'přijal'}}, {'id': '89d1f520-ae0f-11ed-9bd8-0242ac110002', 'invitationType': {'id': 'e871403c-a79c-11ed-b76e-0242ac110002', 'name': 'přijal'}}, {'id': '89d1f570-ae0f-11ed-9bd8-0242ac110002', 'invitationType': {'id': 'e871403c-a79c-11ed-b76e-0242ac110002', 'name': 'přijal'}}, {'id': '89d1f5ca-ae0f-11ed-9bd8-0242ac110002', 'invitationType': {'id': 'e871403c-a79c-11ed-b76e-0242ac110002', 'name': 'přijal'}}, {'id': '89d1f624-ae0f-11ed-9bd8-0242ac110002', 'invitationType': {'id': 'e871403c-a79c-11ed-b76e-0242ac110002', 'name': 'přijal'}}]}]}}, {'group': {'id': '2d9dd1c8-a4a2-11ed-b9df-0242ac120003', 'name': 'Dep'}, 'user': {'id': '89d1f34a-ae0f-11ed-9bd8-0242ac110002', 'fullname': 'Jolana Newbie', 'events': [{'id': '45b2df80-ae0f-11ed-9bd8-0242ac110002', 'name': 'Zkouška', 'startdate': '2023-04-19T08:00:00', 'enddate': '2023-04-19T09:00:00', 'presences': [{'id': '89d1e684-ae0f-11ed-9bd8-0242ac110002', 'invitationType': {'id': 'e871403c-a79c-11ed-b76e-0242ac110002', 'name': 'přijal'}}, {'id': '89d1f2d2-ae0f-11ed-9bd8-0242ac110002', 'invitationType': {'id': 'e871403c-a79c-11ed-b76e-0242ac110002', 'name': 'přijal'}}, {'id': '89d1f3ae-ae0f-11ed-9bd8-0242ac110002', 'invitationType': {'id': 'e871403c-a79c-11ed-b76e-0242ac110002', 'name': 'přijal'}}, {'id': '89d1f412-ae0f-11ed-9bd8-0242ac110002', 'invitationType': {'id': 'e871403c-a79c-11ed-b76e-0242ac110002', 'name': 'přijal'}}, {'id': '89d1f46c-ae0f-11ed-9bd8-0242ac110002', 'invitationType': {'id': 'e871403c-a79c-11ed-b76e-0242ac110002', 'name': 'přijal'}}, {'id': '89d1f4c6-ae0f-11ed-9bd8-0242ac110002', 'invitationType': {'id': 'e871403c-a79c-11ed-b76e-0242ac110002', 'name': 'přijal'}}, {'id': '89d1f520-ae0f-11ed-9bd8-0242ac110002', 'invitationType': {'id': 'e871403c-a79c-11ed-b76e-0242ac110002', 'name': 'přijal'}}, {'id': '89d1f570-ae0f-11ed-9bd8-0242ac110002', 'invitationType': {'id': 'e871403c-a79c-11ed-b76e-0242ac110002', 'name': 'přijal'}}, {'id': '89d1f5ca-ae0f-11ed-9bd8-0242ac110002', 'invitationType': {'id': 'e871403c-a79c-11ed-b76e-0242ac110002', 'name': 'přijal'}}, {'id': '89d1f624-ae0f-11ed-9bd8-0242ac110002', 'invitationType': {'id': 'e871403c-a79c-11ed-b76e-0242ac110002', 'name': 'přijal'}}]}]}}, {'group': {'id': '2d9dd1c8-a4a2-11ed-b9df-0242ac120003', 'name': 'Dep'}, 'user': {'id': '89d1f3cc-ae0f-11ed-9bd8-0242ac110002', 'fullname': 'Jitka Newbie', 'events': [{'id': '45b2df80-ae0f-11ed-9bd8-0242ac110002', 'name': 'Zkouška', 'startdate': '2023-04-19T08:00:00', 'enddate': '2023-04-19T09:00:00', 'presences': [{'id': '89d1e684-ae0f-11ed-9bd8-0242ac110002', 'invitationType': {'id': 'e871403c-a79c-11ed-b76e-0242ac110002', 'name': 'přijal'}}, {'id': '89d1f2d2-ae0f-11ed-9bd8-0242ac110002', 'invitationType': {'id': 'e871403c-a79c-11ed-b76e-0242ac110002', 'name': 'přijal'}}, {'id': '89d1f3ae-ae0f-11ed-9bd8-0242ac110002', 'invitationType': {'id': 'e871403c-a79c-11ed-b76e-0242ac110002', 'name': 'přijal'}}, {'id': '89d1f412-ae0f-11ed-9bd8-0242ac110002', 'invitationType': {'id': 'e871403c-a79c-11ed-b76e-0242ac110002', 'name': 'přijal'}}, {'id': '89d1f46c-ae0f-11ed-9bd8-0242ac110002', 'invitationType': {'id': 'e871403c-a79c-11ed-b76e-0242ac110002', 'name': 'přijal'}}, {'id': '89d1f4c6-ae0f-11ed-9bd8-0242ac110002', 'invitationType': {'id': 'e871403c-a79c-11ed-b76e-0242ac110002', 'name': 'přijal'}}, {'id': '89d1f520-ae0f-11ed-9bd8-0242ac110002', 'invitationType': {'id': 'e871403c-a79c-11ed-b76e-0242ac110002', 'name': 'přijal'}}, {'id': '89d1f570-ae0f-11ed-9bd8-0242ac110002', 'invitationType': {'id': 'e871403c-a79c-11ed-b76e-0242ac110002', 'name': 'přijal'}}, {'id': '89d1f5ca-ae0f-11ed-9bd8-0242ac110002', 'invitationType': {'id': 'e871403c-a79c-11ed-b76e-0242ac110002', 'name': 'přijal'}}, {'id': '89d1f624-ae0f-11ed-9bd8-0242ac110002', 'invitationType': {'id': 'e871403c-a79c-11ed-b76e-0242ac110002', 'name': 'přijal'}}]}]}}, {'group': {'id': '2d9dd1c8-a4a2-11ed-b9df-0242ac120003', 'name': 'Dep'}, 'user': {'id': '89d1f430-ae0f-11ed-9bd8-0242ac110002', 'fullname': 'Jaroslava Newbie', 'events': [{'id': '45b2df80-ae0f-11ed-9bd8-0242ac110002', 'name': 'Zkouška', 'startdate': '2023-04-19T08:00:00', 'enddate': '2023-04-19T09:00:00', 'presences': [{'id': '89d1e684-ae0f-11ed-9bd8-0242ac110002', 'invitationType': {'id': 'e871403c-a79c-11ed-b76e-0242ac110002', 'name': 'přijal'}}, {'id': '89d1f2d2-ae0f-11ed-9bd8-0242ac110002', 'invitationType': {'id': 'e871403c-a79c-11ed-b76e-0242ac110002', 'name': 'přijal'}}, {'id': '89d1f3ae-ae0f-11ed-9bd8-0242ac110002', 'invitationType': {'id': 'e871403c-a79c-11ed-b76e-0242ac110002', 'name': 'přijal'}}, {'id': '89d1f412-ae0f-11ed-9bd8-0242ac110002', 'invitationType': {'id': 'e871403c-a79c-11ed-b76e-0242ac110002', 'name': 'přijal'}}, {'id': '89d1f46c-ae0f-11ed-9bd8-0242ac110002', 'invitationType': {'id': 'e871403c-a79c-11ed-b76e-0242ac110002', 'name': 'přijal'}}, {'id': '89d1f4c6-ae0f-11ed-9bd8-0242ac110002', 'invitationType': {'id': 'e871403c-a79c-11ed-b76e-0242ac110002', 'name': 'přijal'}}, {'id': '89d1f520-ae0f-11ed-9bd8-0242ac110002', 'invitationType': {'id': 'e871403c-a79c-11ed-b76e-0242ac110002', 'name': 'přijal'}}, {'id': '89d1f570-ae0f-11ed-9bd8-0242ac110002', 'invitationType': {'id': 'e871403c-a79c-11ed-b76e-0242ac110002', 'name': 'přijal'}}, {'id': '89d1f5ca-ae0f-11ed-9bd8-0242ac110002', 'invitationType': {'id': 'e871403c-a79c-11ed-b76e-0242ac110002', 'name': 'přijal'}}, {'id': '89d1f624-ae0f-11ed-9bd8-0242ac110002', 'invitationType': {'id': 'e871403c-a79c-11ed-b76e-0242ac110002', 'name': 'přijal'}}]}]}}, {'group': {'id': '2d9dd1c8-a4a2-11ed-b9df-0242ac120003', 'name': 'Dep'}, 'user': {'id': '89d1f48a-ae0f-11ed-9bd8-0242ac110002', 'fullname': 'Lada Newbie', 'events': [{'id': '45b2df80-ae0f-11ed-9bd8-0242ac110002', 'name': 'Zkouška', 'startdate': '2023-04-19T08:00:00', 'enddate': '2023-04-19T09:00:00', 'presences': [{'id': '89d1e684-ae0f-11ed-9bd8-0242ac110002', 'invitationType': {'id': 'e871403c-a79c-11ed-b76e-0242ac110002', 'name': 'přijal'}}, {'id': '89d1f2d2-ae0f-11ed-9bd8-0242ac110002', 'invitationType': {'id': 'e871403c-a79c-11ed-b76e-0242ac110002', 'name': 'přijal'}}, {'id': '89d1f3ae-ae0f-11ed-9bd8-0242ac110002', 'invitationType': {'id': 'e871403c-a79c-11ed-b76e-0242ac110002', 'name': 'přijal'}}, {'id': '89d1f412-ae0f-11ed-9bd8-0242ac110002', 'invitationType': {'id': 'e871403c-a79c-11ed-b76e-0242ac110002', 'name': 'přijal'}}, {'id': '89d1f46c-ae0f-11ed-9bd8-0242ac110002', 'invitationType': {'id': 'e871403c-a79c-11ed-b76e-0242ac110002', 'name': 'přijal'}}, {'id': '89d1f4c6-ae0f-11ed-9bd8-0242ac110002', 'invitationType': {'id': 'e871403c-a79c-11ed-b76e-0242ac110002', 'name': 'přijal'}}, {'id': '89d1f520-ae0f-11ed-9bd8-0242ac110002', 'invitationType': {'id': 'e871403c-a79c-11ed-b76e-0242ac110002', 'name': 'přijal'}}, {'id': '89d1f570-ae0f-11ed-9bd8-0242ac110002', 'invitationType': {'id': 'e871403c-a79c-11ed-b76e-0242ac110002', 'name': 'přijal'}}, {'id': '89d1f5ca-ae0f-11ed-9bd8-0242ac110002', 'invitationType': {'id': 'e871403c-a79c-11ed-b76e-0242ac110002', 'name': 'přijal'}}, {'id': '89d1f624-ae0f-11ed-9bd8-0242ac110002', 'invitationType': {'id': 'e871403c-a79c-11ed-b76e-0242ac110002', 'name': 'přijal'}}]}]}}, {'group': {'id': '2d9dd1c8-a4a2-11ed-b9df-0242ac120003', 'name': 'Dep'}, 'user': {'id': '89d1f4e4-ae0f-11ed-9bd8-0242ac110002', 'fullname': 'Ludmila Newbie', 'events': [{'id': '45b2df80-ae0f-11ed-9bd8-0242ac110002', 'name': 'Zkouška', 'startdate': '2023-04-19T08:00:00', 'enddate': '2023-04-19T09:00:00', 'presences': [{'id': '89d1e684-ae0f-11ed-9bd8-0242ac110002', 'invitationType': {'id': 'e871403c-a79c-11ed-b76e-0242ac110002', 'name': 'přijal'}}, {'id': '89d1f2d2-ae0f-11ed-9bd8-0242ac110002', 'invitationType': {'id': 'e871403c-a79c-11ed-b76e-0242ac110002', 'name': 'přijal'}}, {'id': '89d1f3ae-ae0f-11ed-9bd8-0242ac110002', 'invitationType': {'id': 'e871403c-a79c-11ed-b76e-0242ac110002', 'name': 'přijal'}}, {'id': '89d1f412-ae0f-11ed-9bd8-0242ac110002', 'invitationType': {'id': 'e871403c-a79c-11ed-b76e-0242ac110002', 'name': 'přijal'}}, {'id': '89d1f46c-ae0f-11ed-9bd8-0242ac110002', 'invitationType': {'id': 'e871403c-a79c-11ed-b76e-0242ac110002', 'name': 'přijal'}}, {'id': '89d1f4c6-ae0f-11ed-9bd8-0242ac110002', 'invitationType': {'id': 'e871403c-a79c-11ed-b76e-0242ac110002', 'name': 'přijal'}}, {'id': '89d1f520-ae0f-11ed-9bd8-0242ac110002', 'invitationType': {'id': 'e871403c-a79c-11ed-b76e-0242ac110002', 'name': 'přijal'}}, {'id': '89d1f570-ae0f-11ed-9bd8-0242ac110002', 'invitationType': {'id': 'e871403c-a79c-11ed-b76e-0242ac110002', 'name': 'přijal'}}, {'id': '89d1f5ca-ae0f-11ed-9bd8-0242ac110002', 'invitationType': {'id': 'e871403c-a79c-11ed-b76e-0242ac110002', 'name': 'přijal'}}, {'id': '89d1f624-ae0f-11ed-9bd8-0242ac110002', 'invitationType': {'id': 'e871403c-a79c-11ed-b76e-0242ac110002', 'name': 'přijal'}}]}]}}, {'group': {'id': '2d9dd1c8-a4a2-11ed-b9df-0242ac120003', 'name': 'Dep'}, 'user': {'id': '89d1f534-ae0f-11ed-9bd8-0242ac110002', 'fullname': 'Lucie Newbie', 'events': [{'id': '45b2df80-ae0f-11ed-9bd8-0242ac110002', 'name': 'Zkouška', 'startdate': '2023-04-19T08:00:00', 'enddate': '2023-04-19T09:00:00', 'presences': [{'id': '89d1e684-ae0f-11ed-9bd8-0242ac110002', 'invitationType': {'id': 'e871403c-a79c-11ed-b76e-0242ac110002', 'name': 'přijal'}}, {'id': '89d1f2d2-ae0f-11ed-9bd8-0242ac110002', 'invitationType': {'id': 'e871403c-a79c-11ed-b76e-0242ac110002', 'name': 'přijal'}}, {'id': '89d1f3ae-ae0f-11ed-9bd8-0242ac110002', 'invitationType': {'id': 'e871403c-a79c-11ed-b76e-0242ac110002', 'name': 'přijal'}}, {'id': '89d1f412-ae0f-11ed-9bd8-0242ac110002', 'invitationType': {'id': 'e871403c-a79c-11ed-b76e-0242ac110002', 'name': 'přijal'}}, {'id': '89d1f46c-ae0f-11ed-9bd8-0242ac110002', 'invitationType': {'id': 'e871403c-a79c-11ed-b76e-0242ac110002', 'name': 'přijal'}}, {'id': '89d1f4c6-ae0f-11ed-9bd8-0242ac110002', 'invitationType': {'id': 'e871403c-a79c-11ed-b76e-0242ac110002', 'name': 'přijal'}}, {'id': '89d1f520-ae0f-11ed-9bd8-0242ac110002', 'invitationType': {'id': 'e871403c-a79c-11ed-b76e-0242ac110002', 'name': 'přijal'}}, {'id': '89d1f570-ae0f-11ed-9bd8-0242ac110002', 'invitationType': {'id': 'e871403c-a79c-11ed-b76e-0242ac110002', 'name': 'přijal'}}, {'id': '89d1f5ca-ae0f-11ed-9bd8-0242ac110002', 'invitationType': {'id': 'e871403c-a79c-11ed-b76e-0242ac110002', 'name': 'přijal'}}, {'id': '89d1f624-ae0f-11ed-9bd8-0242ac110002', 'invitationType': {'id': 'e871403c-a79c-11ed-b76e-0242ac110002', 'name': 'přijal'}}]}]}}, {'group': {'id': '2d9dd1c8-a4a2-11ed-b9df-0242ac120003', 'name': 'Dep'}, 'user': {'id': '89d1f58e-ae0f-11ed-9bd8-0242ac110002', 'fullname': 'Nola Newbie', 'events': [{'id': '45b2df80-ae0f-11ed-9bd8-0242ac110002', 'name': 'Zkouška', 'startdate': '2023-04-19T08:00:00', 'enddate': '2023-04-19T09:00:00', 'presences': [{'id': '89d1e684-ae0f-11ed-9bd8-0242ac110002', 'invitationType': {'id': 'e871403c-a79c-11ed-b76e-0242ac110002', 'name': 'přijal'}}, {'id': '89d1f2d2-ae0f-11ed-9bd8-0242ac110002', 'invitationType': {'id': 'e871403c-a79c-11ed-b76e-0242ac110002', 'name': 'přijal'}}, {'id': '89d1f3ae-ae0f-11ed-9bd8-0242ac110002', 'invitationType': {'id': 'e871403c-a79c-11ed-b76e-0242ac110002', 'name': 'přijal'}}, {'id': '89d1f412-ae0f-11ed-9bd8-0242ac110002', 'invitationType': {'id': 'e871403c-a79c-11ed-b76e-0242ac110002', 'name': 'přijal'}}, {'id': '89d1f46c-ae0f-11ed-9bd8-0242ac110002', 'invitationType': {'id': 'e871403c-a79c-11ed-b76e-0242ac110002', 'name': 'přijal'}}, {'id': '89d1f4c6-ae0f-11ed-9bd8-0242ac110002', 'invitationType': {'id': 'e871403c-a79c-11ed-b76e-0242ac110002', 'name': 'přijal'}}, {'id': '89d1f520-ae0f-11ed-9bd8-0242ac110002', 'invitationType': {'id': 'e871403c-a79c-11ed-b76e-0242ac110002', 'name': 'přijal'}}, {'id': '89d1f570-ae0f-11ed-9bd8-0242ac110002', 'invitationType': {'id': 'e871403c-a79c-11ed-b76e-0242ac110002', 'name': 'přijal'}}, {'id': '89d1f5ca-ae0f-11ed-9bd8-0242ac110002', 'invitationType': {'id': 'e871403c-a79c-11ed-b76e-0242ac110002', 'name': 'přijal'}}, {'id': '89d1f624-ae0f-11ed-9bd8-0242ac110002', 'invitationType': {'id': 'e871403c-a79c-11ed-b76e-0242ac110002', 'name': 'přijal'}}]}]}}, {'group': {'id': '2d9dd1c8-a4a2-11ed-b9df-0242ac120003', 'name': 'Dep'}, 'user': {'id': '89d1f5de-ae0f-11ed-9bd8-0242ac110002', 'fullname': 'Neva Newbie', 'events': [{'id': '45b2df80-ae0f-11ed-9bd8-0242ac110002', 'name': 'Zkouška', 'startdate': '2023-04-19T08:00:00', 'enddate': '2023-04-19T09:00:00', 'presences': [{'id': '89d1e684-ae0f-11ed-9bd8-0242ac110002', 'invitationType': {'id': 'e871403c-a79c-11ed-b76e-0242ac110002', 'name': 'přijal'}}, {'id': '89d1f2d2-ae0f-11ed-9bd8-0242ac110002', 'invitationType': {'id': 'e871403c-a79c-11ed-b76e-0242ac110002', 'name': 'přijal'}}, {'id': '89d1f3ae-ae0f-11ed-9bd8-0242ac110002', 'invitationType': {'id': 'e871403c-a79c-11ed-b76e-0242ac110002', 'name': 'přijal'}}, {'id': '89d1f412-ae0f-11ed-9bd8-0242ac110002', 'invitationType': {'id': 'e871403c-a79c-11ed-b76e-0242ac110002', 'name': 'přijal'}}, {'id': '89d1f46c-ae0f-11ed-9bd8-0242ac110002', 'invitationType': {'id': 'e871403c-a79c-11ed-b76e-0242ac110002', 'name': 'přijal'}}, {'id': '89d1f4c6-ae0f-11ed-9bd8-0242ac110002', 'invitationType': {'id': 'e871403c-a79c-11ed-b76e-0242ac110002', 'name': 'přijal'}}, {'id': '89d1f520-ae0f-11ed-9bd8-0242ac110002', 'invitationType': {'id': 'e871403c-a79c-11ed-b76e-0242ac110002', 'name': 'přijal'}}, {'id': '89d1f570-ae0f-11ed-9bd8-0242ac110002', 'invitationType': {'id': 'e871403c-a79c-11ed-b76e-0242ac110002', 'name': 'přijal'}}, {'id': '89d1f5ca-ae0f-11ed-9bd8-0242ac110002', 'invitationType': {'id': 'e871403c-a79c-11ed-b76e-0242ac110002', 'name': 'přijal'}}, {'id': '89d1f624-ae0f-11ed-9bd8-0242ac110002', 'invitationType': {'id': 'e871403c-a79c-11ed-b76e-0242ac110002', 'name': 'přijal'}}]}]}}, {'group': {'id': '2d9dd1c8-a4a2-11ed-b9df-0242ac120003', 'name': 'Dep'}, 'user': {'id': '89d1f638-ae0f-11ed-9bd8-0242ac110002', 'fullname': 'Nora Newbie', 'events': [{'id': '45b2df80-ae0f-11ed-9bd8-0242ac110002', 'name': 'Zkouška', 'startdate': '2023-04-19T08:00:00', 'enddate': '2023-04-19T09:00:00', 'presences': [{'id': '89d1e684-ae0f-11ed-9bd8-0242ac110002', 'invitationType': {'id': 'e871403c-a79c-11ed-b76e-0242ac110002', 'name': 'přijal'}}, {'id': '89d1f2d2-ae0f-11ed-9bd8-0242ac110002', 'invitationType': {'id': 'e871403c-a79c-11ed-b76e-0242ac110002', 'name': 'přijal'}}, {'id': '89d1f3ae-ae0f-11ed-9bd8-0242ac110002', 'invitationType': {'id': 'e871403c-a79c-11ed-b76e-0242ac110002', 'name': 'přijal'}}, {'id': '89d1f412-ae0f-11ed-9bd8-0242ac110002', 'invitationType': {'id': 'e871403c-a79c-11ed-b76e-0242ac110002', 'name': 'přijal'}}, {'id': '89d1f46c-ae0f-11ed-9bd8-0242ac110002', 'invitationType': {'id': 'e871403c-a79c-11ed-b76e-0242ac110002', 'name': 'přijal'}}, {'id': '89d1f4c6-ae0f-11ed-9bd8-0242ac110002', 'invitationType': {'id': 'e871403c-a79c-11ed-b76e-0242ac110002', 'name': 'přijal'}}, {'id': '89d1f520-ae0f-11ed-9bd8-0242ac110002', 'invitationType': {'id': 'e871403c-a79c-11ed-b76e-0242ac110002', 'name': 'přijal'}}, {'id': '89d1f570-ae0f-11ed-9bd8-0242ac110002', 'invitationType': {'id': 'e871403c-a79c-11ed-b76e-0242ac110002', 'name': 'přijal'}}, {'id': '89d1f5ca-ae0f-11ed-9bd8-0242ac110002', 'invitationType': {'id': 'e871403c-a79c-11ed-b76e-0242ac110002', 'name': 'přijal'}}, {'id': '89d1f624-ae0f-11ed-9bd8-0242ac110002', 'invitationType': {'id': 'e871403c-a79c-11ed-b76e-0242ac110002', 'name': 'přijal'}}]}]}}]}, {'memberships': []}, {'memberships': []}, {'memberships': []}, {'memberships': []}, {'memberships': []}, {'memberships': []}, {'memberships': []}]}}\n",
      "Data: {'groupPage': [{'memberships': [{'group': {'id': '2d9dcd22-a4a2-11ed-b9df-0242ac120003', 'name': 'Uni'}, 'user': {'id': '2d9dc5ca-a4a2-11ed-b9df-0242ac120003', 'fullname': 'John Newbie', 'events': []}}, {'group': {'id': '2d9dcd22-a4a2-11ed-b9df-0242ac120003', 'name': 'Uni'}, 'user': {'id': '2d9dc868-a4a2-11ed-b9df-0242ac120003', 'fullname': 'Julia Newbie', 'events': []}}, {'group': {'id': '2d9dcd22-a4a2-11ed-b9df-0242ac120003', 'name': 'Uni'}, 'user': {'id': '2d9dc9a8-a4a2-11ed-b9df-0242ac120003', 'fullname': 'Johnson Newbie', 'events': []}}, {'group': {'id': '2d9dcd22-a4a2-11ed-b9df-0242ac120003', 'name': 'Uni'}, 'user': {'id': '2d9dcbec-a4a2-11ed-b9df-0242ac120003', 'fullname': 'Jepeto Newbie', 'events': []}}, {'group': {'id': '2d9dcd22-a4a2-11ed-b9df-0242ac120003', 'name': 'Uni'}, 'user': {'id': '89d1e724-ae0f-11ed-9bd8-0242ac110002', 'fullname': 'Jana Newbie', 'events': [{'id': '45b2df80-ae0f-11ed-9bd8-0242ac110002', 'name': 'Zkouška', 'startdate': '2023-04-19T08:00:00', 'enddate': '2023-04-19T09:00:00', 'presences': [{'id': '89d1e684-ae0f-11ed-9bd8-0242ac110002', 'invitationType': {'id': 'e871403c-a79c-11ed-b76e-0242ac110002', 'name': 'přijal'}}, {'id': '89d1f2d2-ae0f-11ed-9bd8-0242ac110002', 'invitationType': {'id': 'e871403c-a79c-11ed-b76e-0242ac110002', 'name': 'přijal'}}, {'id': '89d1f3ae-ae0f-11ed-9bd8-0242ac110002', 'invitationType': {'id': 'e871403c-a79c-11ed-b76e-0242ac110002', 'name': 'přijal'}}, {'id': '89d1f412-ae0f-11ed-9bd8-0242ac110002', 'invitationType': {'id': 'e871403c-a79c-11ed-b76e-0242ac110002', 'name': 'přijal'}}, {'id': '89d1f46c-ae0f-11ed-9bd8-0242ac110002', 'invitationType': {'id': 'e871403c-a79c-11ed-b76e-0242ac110002', 'name': 'přijal'}}, {'id': '89d1f4c6-ae0f-11ed-9bd8-0242ac110002', 'invitationType': {'id': 'e871403c-a79c-11ed-b76e-0242ac110002', 'name': 'přijal'}}, {'id': '89d1f520-ae0f-11ed-9bd8-0242ac110002', 'invitationType': {'id': 'e871403c-a79c-11ed-b76e-0242ac110002', 'name': 'přijal'}}, {'id': '89d1f570-ae0f-11ed-9bd8-0242ac110002', 'invitationType': {'id': 'e871403c-a79c-11ed-b76e-0242ac110002', 'name': 'přijal'}}, {'id': '89d1f5ca-ae0f-11ed-9bd8-0242ac110002', 'invitationType': {'id': 'e871403c-a79c-11ed-b76e-0242ac110002', 'name': 'přijal'}}, {'id': '89d1f624-ae0f-11ed-9bd8-0242ac110002', 'invitationType': {'id': 'e871403c-a79c-11ed-b76e-0242ac110002', 'name': 'přijal'}}]}]}}, {'group': {'id': '2d9dcd22-a4a2-11ed-b9df-0242ac120003', 'name': 'Uni'}, 'user': {'id': '89d1f34a-ae0f-11ed-9bd8-0242ac110002', 'fullname': 'Jolana Newbie', 'events': [{'id': '45b2df80-ae0f-11ed-9bd8-0242ac110002', 'name': 'Zkouška', 'startdate': '2023-04-19T08:00:00', 'enddate': '2023-04-19T09:00:00', 'presences': [{'id': '89d1e684-ae0f-11ed-9bd8-0242ac110002', 'invitationType': {'id': 'e871403c-a79c-11ed-b76e-0242ac110002', 'name': 'přijal'}}, {'id': '89d1f2d2-ae0f-11ed-9bd8-0242ac110002', 'invitationType': {'id': 'e871403c-a79c-11ed-b76e-0242ac110002', 'name': 'přijal'}}, {'id': '89d1f3ae-ae0f-11ed-9bd8-0242ac110002', 'invitationType': {'id': 'e871403c-a79c-11ed-b76e-0242ac110002', 'name': 'přijal'}}, {'id': '89d1f412-ae0f-11ed-9bd8-0242ac110002', 'invitationType': {'id': 'e871403c-a79c-11ed-b76e-0242ac110002', 'name': 'přijal'}}, {'id': '89d1f46c-ae0f-11ed-9bd8-0242ac110002', 'invitationType': {'id': 'e871403c-a79c-11ed-b76e-0242ac110002', 'name': 'přijal'}}, {'id': '89d1f4c6-ae0f-11ed-9bd8-0242ac110002', 'invitationType': {'id': 'e871403c-a79c-11ed-b76e-0242ac110002', 'name': 'přijal'}}, {'id': '89d1f520-ae0f-11ed-9bd8-0242ac110002', 'invitationType': {'id': 'e871403c-a79c-11ed-b76e-0242ac110002', 'name': 'přijal'}}, {'id': '89d1f570-ae0f-11ed-9bd8-0242ac110002', 'invitationType': {'id': 'e871403c-a79c-11ed-b76e-0242ac110002', 'name': 'přijal'}}, {'id': '89d1f5ca-ae0f-11ed-9bd8-0242ac110002', 'invitationType': {'id': 'e871403c-a79c-11ed-b76e-0242ac110002', 'name': 'přijal'}}, {'id': '89d1f624-ae0f-11ed-9bd8-0242ac110002', 'invitationType': {'id': 'e871403c-a79c-11ed-b76e-0242ac110002', 'name': 'přijal'}}]}]}}, {'group': {'id': '2d9dcd22-a4a2-11ed-b9df-0242ac120003', 'name': 'Uni'}, 'user': {'id': '89d1f3cc-ae0f-11ed-9bd8-0242ac110002', 'fullname': 'Jitka Newbie', 'events': [{'id': '45b2df80-ae0f-11ed-9bd8-0242ac110002', 'name': 'Zkouška', 'startdate': '2023-04-19T08:00:00', 'enddate': '2023-04-19T09:00:00', 'presences': [{'id': '89d1e684-ae0f-11ed-9bd8-0242ac110002', 'invitationType': {'id': 'e871403c-a79c-11ed-b76e-0242ac110002', 'name': 'přijal'}}, {'id': '89d1f2d2-ae0f-11ed-9bd8-0242ac110002', 'invitationType': {'id': 'e871403c-a79c-11ed-b76e-0242ac110002', 'name': 'přijal'}}, {'id': '89d1f3ae-ae0f-11ed-9bd8-0242ac110002', 'invitationType': {'id': 'e871403c-a79c-11ed-b76e-0242ac110002', 'name': 'přijal'}}, {'id': '89d1f412-ae0f-11ed-9bd8-0242ac110002', 'invitationType': {'id': 'e871403c-a79c-11ed-b76e-0242ac110002', 'name': 'přijal'}}, {'id': '89d1f46c-ae0f-11ed-9bd8-0242ac110002', 'invitationType': {'id': 'e871403c-a79c-11ed-b76e-0242ac110002', 'name': 'přijal'}}, {'id': '89d1f4c6-ae0f-11ed-9bd8-0242ac110002', 'invitationType': {'id': 'e871403c-a79c-11ed-b76e-0242ac110002', 'name': 'přijal'}}, {'id': '89d1f520-ae0f-11ed-9bd8-0242ac110002', 'invitationType': {'id': 'e871403c-a79c-11ed-b76e-0242ac110002', 'name': 'přijal'}}, {'id': '89d1f570-ae0f-11ed-9bd8-0242ac110002', 'invitationType': {'id': 'e871403c-a79c-11ed-b76e-0242ac110002', 'name': 'přijal'}}, {'id': '89d1f5ca-ae0f-11ed-9bd8-0242ac110002', 'invitationType': {'id': 'e871403c-a79c-11ed-b76e-0242ac110002', 'name': 'přijal'}}, {'id': '89d1f624-ae0f-11ed-9bd8-0242ac110002', 'invitationType': {'id': 'e871403c-a79c-11ed-b76e-0242ac110002', 'name': 'přijal'}}]}]}}, {'group': {'id': '2d9dcd22-a4a2-11ed-b9df-0242ac120003', 'name': 'Uni'}, 'user': {'id': '89d1f430-ae0f-11ed-9bd8-0242ac110002', 'fullname': 'Jaroslava Newbie', 'events': [{'id': '45b2df80-ae0f-11ed-9bd8-0242ac110002', 'name': 'Zkouška', 'startdate': '2023-04-19T08:00:00', 'enddate': '2023-04-19T09:00:00', 'presences': [{'id': '89d1e684-ae0f-11ed-9bd8-0242ac110002', 'invitationType': {'id': 'e871403c-a79c-11ed-b76e-0242ac110002', 'name': 'přijal'}}, {'id': '89d1f2d2-ae0f-11ed-9bd8-0242ac110002', 'invitationType': {'id': 'e871403c-a79c-11ed-b76e-0242ac110002', 'name': 'přijal'}}, {'id': '89d1f3ae-ae0f-11ed-9bd8-0242ac110002', 'invitationType': {'id': 'e871403c-a79c-11ed-b76e-0242ac110002', 'name': 'přijal'}}, {'id': '89d1f412-ae0f-11ed-9bd8-0242ac110002', 'invitationType': {'id': 'e871403c-a79c-11ed-b76e-0242ac110002', 'name': 'přijal'}}, {'id': '89d1f46c-ae0f-11ed-9bd8-0242ac110002', 'invitationType': {'id': 'e871403c-a79c-11ed-b76e-0242ac110002', 'name': 'přijal'}}, {'id': '89d1f4c6-ae0f-11ed-9bd8-0242ac110002', 'invitationType': {'id': 'e871403c-a79c-11ed-b76e-0242ac110002', 'name': 'přijal'}}, {'id': '89d1f520-ae0f-11ed-9bd8-0242ac110002', 'invitationType': {'id': 'e871403c-a79c-11ed-b76e-0242ac110002', 'name': 'přijal'}}, {'id': '89d1f570-ae0f-11ed-9bd8-0242ac110002', 'invitationType': {'id': 'e871403c-a79c-11ed-b76e-0242ac110002', 'name': 'přijal'}}, {'id': '89d1f5ca-ae0f-11ed-9bd8-0242ac110002', 'invitationType': {'id': 'e871403c-a79c-11ed-b76e-0242ac110002', 'name': 'přijal'}}, {'id': '89d1f624-ae0f-11ed-9bd8-0242ac110002', 'invitationType': {'id': 'e871403c-a79c-11ed-b76e-0242ac110002', 'name': 'přijal'}}]}]}}, {'group': {'id': '2d9dcd22-a4a2-11ed-b9df-0242ac120003', 'name': 'Uni'}, 'user': {'id': '89d1f48a-ae0f-11ed-9bd8-0242ac110002', 'fullname': 'Lada Newbie', 'events': [{'id': '45b2df80-ae0f-11ed-9bd8-0242ac110002', 'name': 'Zkouška', 'startdate': '2023-04-19T08:00:00', 'enddate': '2023-04-19T09:00:00', 'presences': [{'id': '89d1e684-ae0f-11ed-9bd8-0242ac110002', 'invitationType': {'id': 'e871403c-a79c-11ed-b76e-0242ac110002', 'name': 'přijal'}}, {'id': '89d1f2d2-ae0f-11ed-9bd8-0242ac110002', 'invitationType': {'id': 'e871403c-a79c-11ed-b76e-0242ac110002', 'name': 'přijal'}}, {'id': '89d1f3ae-ae0f-11ed-9bd8-0242ac110002', 'invitationType': {'id': 'e871403c-a79c-11ed-b76e-0242ac110002', 'name': 'přijal'}}, {'id': '89d1f412-ae0f-11ed-9bd8-0242ac110002', 'invitationType': {'id': 'e871403c-a79c-11ed-b76e-0242ac110002', 'name': 'přijal'}}, {'id': '89d1f46c-ae0f-11ed-9bd8-0242ac110002', 'invitationType': {'id': 'e871403c-a79c-11ed-b76e-0242ac110002', 'name': 'přijal'}}, {'id': '89d1f4c6-ae0f-11ed-9bd8-0242ac110002', 'invitationType': {'id': 'e871403c-a79c-11ed-b76e-0242ac110002', 'name': 'přijal'}}, {'id': '89d1f520-ae0f-11ed-9bd8-0242ac110002', 'invitationType': {'id': 'e871403c-a79c-11ed-b76e-0242ac110002', 'name': 'přijal'}}, {'id': '89d1f570-ae0f-11ed-9bd8-0242ac110002', 'invitationType': {'id': 'e871403c-a79c-11ed-b76e-0242ac110002', 'name': 'přijal'}}, {'id': '89d1f5ca-ae0f-11ed-9bd8-0242ac110002', 'invitationType': {'id': 'e871403c-a79c-11ed-b76e-0242ac110002', 'name': 'přijal'}}, {'id': '89d1f624-ae0f-11ed-9bd8-0242ac110002', 'invitationType': {'id': 'e871403c-a79c-11ed-b76e-0242ac110002', 'name': 'přijal'}}]}]}}, {'group': {'id': '2d9dcd22-a4a2-11ed-b9df-0242ac120003', 'name': 'Uni'}, 'user': {'id': '89d1f4e4-ae0f-11ed-9bd8-0242ac110002', 'fullname': 'Ludmila Newbie', 'events': [{'id': '45b2df80-ae0f-11ed-9bd8-0242ac110002', 'name': 'Zkouška', 'startdate': '2023-04-19T08:00:00', 'enddate': '2023-04-19T09:00:00', 'presences': [{'id': '89d1e684-ae0f-11ed-9bd8-0242ac110002', 'invitationType': {'id': 'e871403c-a79c-11ed-b76e-0242ac110002', 'name': 'přijal'}}, {'id': '89d1f2d2-ae0f-11ed-9bd8-0242ac110002', 'invitationType': {'id': 'e871403c-a79c-11ed-b76e-0242ac110002', 'name': 'přijal'}}, {'id': '89d1f3ae-ae0f-11ed-9bd8-0242ac110002', 'invitationType': {'id': 'e871403c-a79c-11ed-b76e-0242ac110002', 'name': 'přijal'}}, {'id': '89d1f412-ae0f-11ed-9bd8-0242ac110002', 'invitationType': {'id': 'e871403c-a79c-11ed-b76e-0242ac110002', 'name': 'přijal'}}, {'id': '89d1f46c-ae0f-11ed-9bd8-0242ac110002', 'invitationType': {'id': 'e871403c-a79c-11ed-b76e-0242ac110002', 'name': 'přijal'}}, {'id': '89d1f4c6-ae0f-11ed-9bd8-0242ac110002', 'invitationType': {'id': 'e871403c-a79c-11ed-b76e-0242ac110002', 'name': 'přijal'}}, {'id': '89d1f520-ae0f-11ed-9bd8-0242ac110002', 'invitationType': {'id': 'e871403c-a79c-11ed-b76e-0242ac110002', 'name': 'přijal'}}, {'id': '89d1f570-ae0f-11ed-9bd8-0242ac110002', 'invitationType': {'id': 'e871403c-a79c-11ed-b76e-0242ac110002', 'name': 'přijal'}}, {'id': '89d1f5ca-ae0f-11ed-9bd8-0242ac110002', 'invitationType': {'id': 'e871403c-a79c-11ed-b76e-0242ac110002', 'name': 'přijal'}}, {'id': '89d1f624-ae0f-11ed-9bd8-0242ac110002', 'invitationType': {'id': 'e871403c-a79c-11ed-b76e-0242ac110002', 'name': 'přijal'}}]}]}}, {'group': {'id': '2d9dcd22-a4a2-11ed-b9df-0242ac120003', 'name': 'Uni'}, 'user': {'id': '89d1f534-ae0f-11ed-9bd8-0242ac110002', 'fullname': 'Lucie Newbie', 'events': [{'id': '45b2df80-ae0f-11ed-9bd8-0242ac110002', 'name': 'Zkouška', 'startdate': '2023-04-19T08:00:00', 'enddate': '2023-04-19T09:00:00', 'presences': [{'id': '89d1e684-ae0f-11ed-9bd8-0242ac110002', 'invitationType': {'id': 'e871403c-a79c-11ed-b76e-0242ac110002', 'name': 'přijal'}}, {'id': '89d1f2d2-ae0f-11ed-9bd8-0242ac110002', 'invitationType': {'id': 'e871403c-a79c-11ed-b76e-0242ac110002', 'name': 'přijal'}}, {'id': '89d1f3ae-ae0f-11ed-9bd8-0242ac110002', 'invitationType': {'id': 'e871403c-a79c-11ed-b76e-0242ac110002', 'name': 'přijal'}}, {'id': '89d1f412-ae0f-11ed-9bd8-0242ac110002', 'invitationType': {'id': 'e871403c-a79c-11ed-b76e-0242ac110002', 'name': 'přijal'}}, {'id': '89d1f46c-ae0f-11ed-9bd8-0242ac110002', 'invitationType': {'id': 'e871403c-a79c-11ed-b76e-0242ac110002', 'name': 'přijal'}}, {'id': '89d1f4c6-ae0f-11ed-9bd8-0242ac110002', 'invitationType': {'id': 'e871403c-a79c-11ed-b76e-0242ac110002', 'name': 'přijal'}}, {'id': '89d1f520-ae0f-11ed-9bd8-0242ac110002', 'invitationType': {'id': 'e871403c-a79c-11ed-b76e-0242ac110002', 'name': 'přijal'}}, {'id': '89d1f570-ae0f-11ed-9bd8-0242ac110002', 'invitationType': {'id': 'e871403c-a79c-11ed-b76e-0242ac110002', 'name': 'přijal'}}, {'id': '89d1f5ca-ae0f-11ed-9bd8-0242ac110002', 'invitationType': {'id': 'e871403c-a79c-11ed-b76e-0242ac110002', 'name': 'přijal'}}, {'id': '89d1f624-ae0f-11ed-9bd8-0242ac110002', 'invitationType': {'id': 'e871403c-a79c-11ed-b76e-0242ac110002', 'name': 'přijal'}}]}]}}, {'group': {'id': '2d9dcd22-a4a2-11ed-b9df-0242ac120003', 'name': 'Uni'}, 'user': {'id': '89d1f58e-ae0f-11ed-9bd8-0242ac110002', 'fullname': 'Nola Newbie', 'events': [{'id': '45b2df80-ae0f-11ed-9bd8-0242ac110002', 'name': 'Zkouška', 'startdate': '2023-04-19T08:00:00', 'enddate': '2023-04-19T09:00:00', 'presences': [{'id': '89d1e684-ae0f-11ed-9bd8-0242ac110002', 'invitationType': {'id': 'e871403c-a79c-11ed-b76e-0242ac110002', 'name': 'přijal'}}, {'id': '89d1f2d2-ae0f-11ed-9bd8-0242ac110002', 'invitationType': {'id': 'e871403c-a79c-11ed-b76e-0242ac110002', 'name': 'přijal'}}, {'id': '89d1f3ae-ae0f-11ed-9bd8-0242ac110002', 'invitationType': {'id': 'e871403c-a79c-11ed-b76e-0242ac110002', 'name': 'přijal'}}, {'id': '89d1f412-ae0f-11ed-9bd8-0242ac110002', 'invitationType': {'id': 'e871403c-a79c-11ed-b76e-0242ac110002', 'name': 'přijal'}}, {'id': '89d1f46c-ae0f-11ed-9bd8-0242ac110002', 'invitationType': {'id': 'e871403c-a79c-11ed-b76e-0242ac110002', 'name': 'přijal'}}, {'id': '89d1f4c6-ae0f-11ed-9bd8-0242ac110002', 'invitationType': {'id': 'e871403c-a79c-11ed-b76e-0242ac110002', 'name': 'přijal'}}, {'id': '89d1f520-ae0f-11ed-9bd8-0242ac110002', 'invitationType': {'id': 'e871403c-a79c-11ed-b76e-0242ac110002', 'name': 'přijal'}}, {'id': '89d1f570-ae0f-11ed-9bd8-0242ac110002', 'invitationType': {'id': 'e871403c-a79c-11ed-b76e-0242ac110002', 'name': 'přijal'}}, {'id': '89d1f5ca-ae0f-11ed-9bd8-0242ac110002', 'invitationType': {'id': 'e871403c-a79c-11ed-b76e-0242ac110002', 'name': 'přijal'}}, {'id': '89d1f624-ae0f-11ed-9bd8-0242ac110002', 'invitationType': {'id': 'e871403c-a79c-11ed-b76e-0242ac110002', 'name': 'přijal'}}]}]}}, {'group': {'id': '2d9dcd22-a4a2-11ed-b9df-0242ac120003', 'name': 'Uni'}, 'user': {'id': '89d1f5de-ae0f-11ed-9bd8-0242ac110002', 'fullname': 'Neva Newbie', 'events': [{'id': '45b2df80-ae0f-11ed-9bd8-0242ac110002', 'name': 'Zkouška', 'startdate': '2023-04-19T08:00:00', 'enddate': '2023-04-19T09:00:00', 'presences': [{'id': '89d1e684-ae0f-11ed-9bd8-0242ac110002', 'invitationType': {'id': 'e871403c-a79c-11ed-b76e-0242ac110002', 'name': 'přijal'}}, {'id': '89d1f2d2-ae0f-11ed-9bd8-0242ac110002', 'invitationType': {'id': 'e871403c-a79c-11ed-b76e-0242ac110002', 'name': 'přijal'}}, {'id': '89d1f3ae-ae0f-11ed-9bd8-0242ac110002', 'invitationType': {'id': 'e871403c-a79c-11ed-b76e-0242ac110002', 'name': 'přijal'}}, {'id': '89d1f412-ae0f-11ed-9bd8-0242ac110002', 'invitationType': {'id': 'e871403c-a79c-11ed-b76e-0242ac110002', 'name': 'přijal'}}, {'id': '89d1f46c-ae0f-11ed-9bd8-0242ac110002', 'invitationType': {'id': 'e871403c-a79c-11ed-b76e-0242ac110002', 'name': 'přijal'}}, {'id': '89d1f4c6-ae0f-11ed-9bd8-0242ac110002', 'invitationType': {'id': 'e871403c-a79c-11ed-b76e-0242ac110002', 'name': 'přijal'}}, {'id': '89d1f520-ae0f-11ed-9bd8-0242ac110002', 'invitationType': {'id': 'e871403c-a79c-11ed-b76e-0242ac110002', 'name': 'přijal'}}, {'id': '89d1f570-ae0f-11ed-9bd8-0242ac110002', 'invitationType': {'id': 'e871403c-a79c-11ed-b76e-0242ac110002', 'name': 'přijal'}}, {'id': '89d1f5ca-ae0f-11ed-9bd8-0242ac110002', 'invitationType': {'id': 'e871403c-a79c-11ed-b76e-0242ac110002', 'name': 'přijal'}}, {'id': '89d1f624-ae0f-11ed-9bd8-0242ac110002', 'invitationType': {'id': 'e871403c-a79c-11ed-b76e-0242ac110002', 'name': 'přijal'}}]}]}}, {'group': {'id': '2d9dcd22-a4a2-11ed-b9df-0242ac120003', 'name': 'Uni'}, 'user': {'id': '89d1f638-ae0f-11ed-9bd8-0242ac110002', 'fullname': 'Nora Newbie', 'events': [{'id': '45b2df80-ae0f-11ed-9bd8-0242ac110002', 'name': 'Zkouška', 'startdate': '2023-04-19T08:00:00', 'enddate': '2023-04-19T09:00:00', 'presences': [{'id': '89d1e684-ae0f-11ed-9bd8-0242ac110002', 'invitationType': {'id': 'e871403c-a79c-11ed-b76e-0242ac110002', 'name': 'přijal'}}, {'id': '89d1f2d2-ae0f-11ed-9bd8-0242ac110002', 'invitationType': {'id': 'e871403c-a79c-11ed-b76e-0242ac110002', 'name': 'přijal'}}, {'id': '89d1f3ae-ae0f-11ed-9bd8-0242ac110002', 'invitationType': {'id': 'e871403c-a79c-11ed-b76e-0242ac110002', 'name': 'přijal'}}, {'id': '89d1f412-ae0f-11ed-9bd8-0242ac110002', 'invitationType': {'id': 'e871403c-a79c-11ed-b76e-0242ac110002', 'name': 'přijal'}}, {'id': '89d1f46c-ae0f-11ed-9bd8-0242ac110002', 'invitationType': {'id': 'e871403c-a79c-11ed-b76e-0242ac110002', 'name': 'přijal'}}, {'id': '89d1f4c6-ae0f-11ed-9bd8-0242ac110002', 'invitationType': {'id': 'e871403c-a79c-11ed-b76e-0242ac110002', 'name': 'přijal'}}, {'id': '89d1f520-ae0f-11ed-9bd8-0242ac110002', 'invitationType': {'id': 'e871403c-a79c-11ed-b76e-0242ac110002', 'name': 'přijal'}}, {'id': '89d1f570-ae0f-11ed-9bd8-0242ac110002', 'invitationType': {'id': 'e871403c-a79c-11ed-b76e-0242ac110002', 'name': 'přijal'}}, {'id': '89d1f5ca-ae0f-11ed-9bd8-0242ac110002', 'invitationType': {'id': 'e871403c-a79c-11ed-b76e-0242ac110002', 'name': 'přijal'}}, {'id': '89d1f624-ae0f-11ed-9bd8-0242ac110002', 'invitationType': {'id': 'e871403c-a79c-11ed-b76e-0242ac110002', 'name': 'přijal'}}]}]}}]}, {'memberships': [{'group': {'id': '2d9dced0-a4a2-11ed-b9df-0242ac120003', 'name': 'Fac'}, 'user': {'id': '2d9dc5ca-a4a2-11ed-b9df-0242ac120003', 'fullname': 'John Newbie', 'events': []}}, {'group': {'id': '2d9dced0-a4a2-11ed-b9df-0242ac120003', 'name': 'Fac'}, 'user': {'id': '2d9dc868-a4a2-11ed-b9df-0242ac120003', 'fullname': 'Julia Newbie', 'events': []}}, {'group': {'id': '2d9dced0-a4a2-11ed-b9df-0242ac120003', 'name': 'Fac'}, 'user': {'id': '2d9dc9a8-a4a2-11ed-b9df-0242ac120003', 'fullname': 'Johnson Newbie', 'events': []}}, {'group': {'id': '2d9dced0-a4a2-11ed-b9df-0242ac120003', 'name': 'Fac'}, 'user': {'id': '2d9dcbec-a4a2-11ed-b9df-0242ac120003', 'fullname': 'Jepeto Newbie', 'events': []}}, {'group': {'id': '2d9dced0-a4a2-11ed-b9df-0242ac120003', 'name': 'Fac'}, 'user': {'id': '89d1e724-ae0f-11ed-9bd8-0242ac110002', 'fullname': 'Jana Newbie', 'events': [{'id': '45b2df80-ae0f-11ed-9bd8-0242ac110002', 'name': 'Zkouška', 'startdate': '2023-04-19T08:00:00', 'enddate': '2023-04-19T09:00:00', 'presences': [{'id': '89d1e684-ae0f-11ed-9bd8-0242ac110002', 'invitationType': {'id': 'e871403c-a79c-11ed-b76e-0242ac110002', 'name': 'přijal'}}, {'id': '89d1f2d2-ae0f-11ed-9bd8-0242ac110002', 'invitationType': {'id': 'e871403c-a79c-11ed-b76e-0242ac110002', 'name': 'přijal'}}, {'id': '89d1f3ae-ae0f-11ed-9bd8-0242ac110002', 'invitationType': {'id': 'e871403c-a79c-11ed-b76e-0242ac110002', 'name': 'přijal'}}, {'id': '89d1f412-ae0f-11ed-9bd8-0242ac110002', 'invitationType': {'id': 'e871403c-a79c-11ed-b76e-0242ac110002', 'name': 'přijal'}}, {'id': '89d1f46c-ae0f-11ed-9bd8-0242ac110002', 'invitationType': {'id': 'e871403c-a79c-11ed-b76e-0242ac110002', 'name': 'přijal'}}, {'id': '89d1f4c6-ae0f-11ed-9bd8-0242ac110002', 'invitationType': {'id': 'e871403c-a79c-11ed-b76e-0242ac110002', 'name': 'přijal'}}, {'id': '89d1f520-ae0f-11ed-9bd8-0242ac110002', 'invitationType': {'id': 'e871403c-a79c-11ed-b76e-0242ac110002', 'name': 'přijal'}}, {'id': '89d1f570-ae0f-11ed-9bd8-0242ac110002', 'invitationType': {'id': 'e871403c-a79c-11ed-b76e-0242ac110002', 'name': 'přijal'}}, {'id': '89d1f5ca-ae0f-11ed-9bd8-0242ac110002', 'invitationType': {'id': 'e871403c-a79c-11ed-b76e-0242ac110002', 'name': 'přijal'}}, {'id': '89d1f624-ae0f-11ed-9bd8-0242ac110002', 'invitationType': {'id': 'e871403c-a79c-11ed-b76e-0242ac110002', 'name': 'přijal'}}]}]}}, {'group': {'id': '2d9dced0-a4a2-11ed-b9df-0242ac120003', 'name': 'Fac'}, 'user': {'id': '89d1f34a-ae0f-11ed-9bd8-0242ac110002', 'fullname': 'Jolana Newbie', 'events': [{'id': '45b2df80-ae0f-11ed-9bd8-0242ac110002', 'name': 'Zkouška', 'startdate': '2023-04-19T08:00:00', 'enddate': '2023-04-19T09:00:00', 'presences': [{'id': '89d1e684-ae0f-11ed-9bd8-0242ac110002', 'invitationType': {'id': 'e871403c-a79c-11ed-b76e-0242ac110002', 'name': 'přijal'}}, {'id': '89d1f2d2-ae0f-11ed-9bd8-0242ac110002', 'invitationType': {'id': 'e871403c-a79c-11ed-b76e-0242ac110002', 'name': 'přijal'}}, {'id': '89d1f3ae-ae0f-11ed-9bd8-0242ac110002', 'invitationType': {'id': 'e871403c-a79c-11ed-b76e-0242ac110002', 'name': 'přijal'}}, {'id': '89d1f412-ae0f-11ed-9bd8-0242ac110002', 'invitationType': {'id': 'e871403c-a79c-11ed-b76e-0242ac110002', 'name': 'přijal'}}, {'id': '89d1f46c-ae0f-11ed-9bd8-0242ac110002', 'invitationType': {'id': 'e871403c-a79c-11ed-b76e-0242ac110002', 'name': 'přijal'}}, {'id': '89d1f4c6-ae0f-11ed-9bd8-0242ac110002', 'invitationType': {'id': 'e871403c-a79c-11ed-b76e-0242ac110002', 'name': 'přijal'}}, {'id': '89d1f520-ae0f-11ed-9bd8-0242ac110002', 'invitationType': {'id': 'e871403c-a79c-11ed-b76e-0242ac110002', 'name': 'přijal'}}, {'id': '89d1f570-ae0f-11ed-9bd8-0242ac110002', 'invitationType': {'id': 'e871403c-a79c-11ed-b76e-0242ac110002', 'name': 'přijal'}}, {'id': '89d1f5ca-ae0f-11ed-9bd8-0242ac110002', 'invitationType': {'id': 'e871403c-a79c-11ed-b76e-0242ac110002', 'name': 'přijal'}}, {'id': '89d1f624-ae0f-11ed-9bd8-0242ac110002', 'invitationType': {'id': 'e871403c-a79c-11ed-b76e-0242ac110002', 'name': 'přijal'}}]}]}}, {'group': {'id': '2d9dced0-a4a2-11ed-b9df-0242ac120003', 'name': 'Fac'}, 'user': {'id': '89d1f3cc-ae0f-11ed-9bd8-0242ac110002', 'fullname': 'Jitka Newbie', 'events': [{'id': '45b2df80-ae0f-11ed-9bd8-0242ac110002', 'name': 'Zkouška', 'startdate': '2023-04-19T08:00:00', 'enddate': '2023-04-19T09:00:00', 'presences': [{'id': '89d1e684-ae0f-11ed-9bd8-0242ac110002', 'invitationType': {'id': 'e871403c-a79c-11ed-b76e-0242ac110002', 'name': 'přijal'}}, {'id': '89d1f2d2-ae0f-11ed-9bd8-0242ac110002', 'invitationType': {'id': 'e871403c-a79c-11ed-b76e-0242ac110002', 'name': 'přijal'}}, {'id': '89d1f3ae-ae0f-11ed-9bd8-0242ac110002', 'invitationType': {'id': 'e871403c-a79c-11ed-b76e-0242ac110002', 'name': 'přijal'}}, {'id': '89d1f412-ae0f-11ed-9bd8-0242ac110002', 'invitationType': {'id': 'e871403c-a79c-11ed-b76e-0242ac110002', 'name': 'přijal'}}, {'id': '89d1f46c-ae0f-11ed-9bd8-0242ac110002', 'invitationType': {'id': 'e871403c-a79c-11ed-b76e-0242ac110002', 'name': 'přijal'}}, {'id': '89d1f4c6-ae0f-11ed-9bd8-0242ac110002', 'invitationType': {'id': 'e871403c-a79c-11ed-b76e-0242ac110002', 'name': 'přijal'}}, {'id': '89d1f520-ae0f-11ed-9bd8-0242ac110002', 'invitationType': {'id': 'e871403c-a79c-11ed-b76e-0242ac110002', 'name': 'přijal'}}, {'id': '89d1f570-ae0f-11ed-9bd8-0242ac110002', 'invitationType': {'id': 'e871403c-a79c-11ed-b76e-0242ac110002', 'name': 'přijal'}}, {'id': '89d1f5ca-ae0f-11ed-9bd8-0242ac110002', 'invitationType': {'id': 'e871403c-a79c-11ed-b76e-0242ac110002', 'name': 'přijal'}}, {'id': '89d1f624-ae0f-11ed-9bd8-0242ac110002', 'invitationType': {'id': 'e871403c-a79c-11ed-b76e-0242ac110002', 'name': 'přijal'}}]}]}}, {'group': {'id': '2d9dced0-a4a2-11ed-b9df-0242ac120003', 'name': 'Fac'}, 'user': {'id': '89d1f430-ae0f-11ed-9bd8-0242ac110002', 'fullname': 'Jaroslava Newbie', 'events': [{'id': '45b2df80-ae0f-11ed-9bd8-0242ac110002', 'name': 'Zkouška', 'startdate': '2023-04-19T08:00:00', 'enddate': '2023-04-19T09:00:00', 'presences': [{'id': '89d1e684-ae0f-11ed-9bd8-0242ac110002', 'invitationType': {'id': 'e871403c-a79c-11ed-b76e-0242ac110002', 'name': 'přijal'}}, {'id': '89d1f2d2-ae0f-11ed-9bd8-0242ac110002', 'invitationType': {'id': 'e871403c-a79c-11ed-b76e-0242ac110002', 'name': 'přijal'}}, {'id': '89d1f3ae-ae0f-11ed-9bd8-0242ac110002', 'invitationType': {'id': 'e871403c-a79c-11ed-b76e-0242ac110002', 'name': 'přijal'}}, {'id': '89d1f412-ae0f-11ed-9bd8-0242ac110002', 'invitationType': {'id': 'e871403c-a79c-11ed-b76e-0242ac110002', 'name': 'přijal'}}, {'id': '89d1f46c-ae0f-11ed-9bd8-0242ac110002', 'invitationType': {'id': 'e871403c-a79c-11ed-b76e-0242ac110002', 'name': 'přijal'}}, {'id': '89d1f4c6-ae0f-11ed-9bd8-0242ac110002', 'invitationType': {'id': 'e871403c-a79c-11ed-b76e-0242ac110002', 'name': 'přijal'}}, {'id': '89d1f520-ae0f-11ed-9bd8-0242ac110002', 'invitationType': {'id': 'e871403c-a79c-11ed-b76e-0242ac110002', 'name': 'přijal'}}, {'id': '89d1f570-ae0f-11ed-9bd8-0242ac110002', 'invitationType': {'id': 'e871403c-a79c-11ed-b76e-0242ac110002', 'name': 'přijal'}}, {'id': '89d1f5ca-ae0f-11ed-9bd8-0242ac110002', 'invitationType': {'id': 'e871403c-a79c-11ed-b76e-0242ac110002', 'name': 'přijal'}}, {'id': '89d1f624-ae0f-11ed-9bd8-0242ac110002', 'invitationType': {'id': 'e871403c-a79c-11ed-b76e-0242ac110002', 'name': 'přijal'}}]}]}}, {'group': {'id': '2d9dced0-a4a2-11ed-b9df-0242ac120003', 'name': 'Fac'}, 'user': {'id': '89d1f48a-ae0f-11ed-9bd8-0242ac110002', 'fullname': 'Lada Newbie', 'events': [{'id': '45b2df80-ae0f-11ed-9bd8-0242ac110002', 'name': 'Zkouška', 'startdate': '2023-04-19T08:00:00', 'enddate': '2023-04-19T09:00:00', 'presences': [{'id': '89d1e684-ae0f-11ed-9bd8-0242ac110002', 'invitationType': {'id': 'e871403c-a79c-11ed-b76e-0242ac110002', 'name': 'přijal'}}, {'id': '89d1f2d2-ae0f-11ed-9bd8-0242ac110002', 'invitationType': {'id': 'e871403c-a79c-11ed-b76e-0242ac110002', 'name': 'přijal'}}, {'id': '89d1f3ae-ae0f-11ed-9bd8-0242ac110002', 'invitationType': {'id': 'e871403c-a79c-11ed-b76e-0242ac110002', 'name': 'přijal'}}, {'id': '89d1f412-ae0f-11ed-9bd8-0242ac110002', 'invitationType': {'id': 'e871403c-a79c-11ed-b76e-0242ac110002', 'name': 'přijal'}}, {'id': '89d1f46c-ae0f-11ed-9bd8-0242ac110002', 'invitationType': {'id': 'e871403c-a79c-11ed-b76e-0242ac110002', 'name': 'přijal'}}, {'id': '89d1f4c6-ae0f-11ed-9bd8-0242ac110002', 'invitationType': {'id': 'e871403c-a79c-11ed-b76e-0242ac110002', 'name': 'přijal'}}, {'id': '89d1f520-ae0f-11ed-9bd8-0242ac110002', 'invitationType': {'id': 'e871403c-a79c-11ed-b76e-0242ac110002', 'name': 'přijal'}}, {'id': '89d1f570-ae0f-11ed-9bd8-0242ac110002', 'invitationType': {'id': 'e871403c-a79c-11ed-b76e-0242ac110002', 'name': 'přijal'}}, {'id': '89d1f5ca-ae0f-11ed-9bd8-0242ac110002', 'invitationType': {'id': 'e871403c-a79c-11ed-b76e-0242ac110002', 'name': 'přijal'}}, {'id': '89d1f624-ae0f-11ed-9bd8-0242ac110002', 'invitationType': {'id': 'e871403c-a79c-11ed-b76e-0242ac110002', 'name': 'přijal'}}]}]}}, {'group': {'id': '2d9dced0-a4a2-11ed-b9df-0242ac120003', 'name': 'Fac'}, 'user': {'id': '89d1f4e4-ae0f-11ed-9bd8-0242ac110002', 'fullname': 'Ludmila Newbie', 'events': [{'id': '45b2df80-ae0f-11ed-9bd8-0242ac110002', 'name': 'Zkouška', 'startdate': '2023-04-19T08:00:00', 'enddate': '2023-04-19T09:00:00', 'presences': [{'id': '89d1e684-ae0f-11ed-9bd8-0242ac110002', 'invitationType': {'id': 'e871403c-a79c-11ed-b76e-0242ac110002', 'name': 'přijal'}}, {'id': '89d1f2d2-ae0f-11ed-9bd8-0242ac110002', 'invitationType': {'id': 'e871403c-a79c-11ed-b76e-0242ac110002', 'name': 'přijal'}}, {'id': '89d1f3ae-ae0f-11ed-9bd8-0242ac110002', 'invitationType': {'id': 'e871403c-a79c-11ed-b76e-0242ac110002', 'name': 'přijal'}}, {'id': '89d1f412-ae0f-11ed-9bd8-0242ac110002', 'invitationType': {'id': 'e871403c-a79c-11ed-b76e-0242ac110002', 'name': 'přijal'}}, {'id': '89d1f46c-ae0f-11ed-9bd8-0242ac110002', 'invitationType': {'id': 'e871403c-a79c-11ed-b76e-0242ac110002', 'name': 'přijal'}}, {'id': '89d1f4c6-ae0f-11ed-9bd8-0242ac110002', 'invitationType': {'id': 'e871403c-a79c-11ed-b76e-0242ac110002', 'name': 'přijal'}}, {'id': '89d1f520-ae0f-11ed-9bd8-0242ac110002', 'invitationType': {'id': 'e871403c-a79c-11ed-b76e-0242ac110002', 'name': 'přijal'}}, {'id': '89d1f570-ae0f-11ed-9bd8-0242ac110002', 'invitationType': {'id': 'e871403c-a79c-11ed-b76e-0242ac110002', 'name': 'přijal'}}, {'id': '89d1f5ca-ae0f-11ed-9bd8-0242ac110002', 'invitationType': {'id': 'e871403c-a79c-11ed-b76e-0242ac110002', 'name': 'přijal'}}, {'id': '89d1f624-ae0f-11ed-9bd8-0242ac110002', 'invitationType': {'id': 'e871403c-a79c-11ed-b76e-0242ac110002', 'name': 'přijal'}}]}]}}, {'group': {'id': '2d9dced0-a4a2-11ed-b9df-0242ac120003', 'name': 'Fac'}, 'user': {'id': '89d1f534-ae0f-11ed-9bd8-0242ac110002', 'fullname': 'Lucie Newbie', 'events': [{'id': '45b2df80-ae0f-11ed-9bd8-0242ac110002', 'name': 'Zkouška', 'startdate': '2023-04-19T08:00:00', 'enddate': '2023-04-19T09:00:00', 'presences': [{'id': '89d1e684-ae0f-11ed-9bd8-0242ac110002', 'invitationType': {'id': 'e871403c-a79c-11ed-b76e-0242ac110002', 'name': 'přijal'}}, {'id': '89d1f2d2-ae0f-11ed-9bd8-0242ac110002', 'invitationType': {'id': 'e871403c-a79c-11ed-b76e-0242ac110002', 'name': 'přijal'}}, {'id': '89d1f3ae-ae0f-11ed-9bd8-0242ac110002', 'invitationType': {'id': 'e871403c-a79c-11ed-b76e-0242ac110002', 'name': 'přijal'}}, {'id': '89d1f412-ae0f-11ed-9bd8-0242ac110002', 'invitationType': {'id': 'e871403c-a79c-11ed-b76e-0242ac110002', 'name': 'přijal'}}, {'id': '89d1f46c-ae0f-11ed-9bd8-0242ac110002', 'invitationType': {'id': 'e871403c-a79c-11ed-b76e-0242ac110002', 'name': 'přijal'}}, {'id': '89d1f4c6-ae0f-11ed-9bd8-0242ac110002', 'invitationType': {'id': 'e871403c-a79c-11ed-b76e-0242ac110002', 'name': 'přijal'}}, {'id': '89d1f520-ae0f-11ed-9bd8-0242ac110002', 'invitationType': {'id': 'e871403c-a79c-11ed-b76e-0242ac110002', 'name': 'přijal'}}, {'id': '89d1f570-ae0f-11ed-9bd8-0242ac110002', 'invitationType': {'id': 'e871403c-a79c-11ed-b76e-0242ac110002', 'name': 'přijal'}}, {'id': '89d1f5ca-ae0f-11ed-9bd8-0242ac110002', 'invitationType': {'id': 'e871403c-a79c-11ed-b76e-0242ac110002', 'name': 'přijal'}}, {'id': '89d1f624-ae0f-11ed-9bd8-0242ac110002', 'invitationType': {'id': 'e871403c-a79c-11ed-b76e-0242ac110002', 'name': 'přijal'}}]}]}}, {'group': {'id': '2d9dced0-a4a2-11ed-b9df-0242ac120003', 'name': 'Fac'}, 'user': {'id': '89d1f58e-ae0f-11ed-9bd8-0242ac110002', 'fullname': 'Nola Newbie', 'events': [{'id': '45b2df80-ae0f-11ed-9bd8-0242ac110002', 'name': 'Zkouška', 'startdate': '2023-04-19T08:00:00', 'enddate': '2023-04-19T09:00:00', 'presences': [{'id': '89d1e684-ae0f-11ed-9bd8-0242ac110002', 'invitationType': {'id': 'e871403c-a79c-11ed-b76e-0242ac110002', 'name': 'přijal'}}, {'id': '89d1f2d2-ae0f-11ed-9bd8-0242ac110002', 'invitationType': {'id': 'e871403c-a79c-11ed-b76e-0242ac110002', 'name': 'přijal'}}, {'id': '89d1f3ae-ae0f-11ed-9bd8-0242ac110002', 'invitationType': {'id': 'e871403c-a79c-11ed-b76e-0242ac110002', 'name': 'přijal'}}, {'id': '89d1f412-ae0f-11ed-9bd8-0242ac110002', 'invitationType': {'id': 'e871403c-a79c-11ed-b76e-0242ac110002', 'name': 'přijal'}}, {'id': '89d1f46c-ae0f-11ed-9bd8-0242ac110002', 'invitationType': {'id': 'e871403c-a79c-11ed-b76e-0242ac110002', 'name': 'přijal'}}, {'id': '89d1f4c6-ae0f-11ed-9bd8-0242ac110002', 'invitationType': {'id': 'e871403c-a79c-11ed-b76e-0242ac110002', 'name': 'přijal'}}, {'id': '89d1f520-ae0f-11ed-9bd8-0242ac110002', 'invitationType': {'id': 'e871403c-a79c-11ed-b76e-0242ac110002', 'name': 'přijal'}}, {'id': '89d1f570-ae0f-11ed-9bd8-0242ac110002', 'invitationType': {'id': 'e871403c-a79c-11ed-b76e-0242ac110002', 'name': 'přijal'}}, {'id': '89d1f5ca-ae0f-11ed-9bd8-0242ac110002', 'invitationType': {'id': 'e871403c-a79c-11ed-b76e-0242ac110002', 'name': 'přijal'}}, {'id': '89d1f624-ae0f-11ed-9bd8-0242ac110002', 'invitationType': {'id': 'e871403c-a79c-11ed-b76e-0242ac110002', 'name': 'přijal'}}]}]}}, {'group': {'id': '2d9dced0-a4a2-11ed-b9df-0242ac120003', 'name': 'Fac'}, 'user': {'id': '89d1f5de-ae0f-11ed-9bd8-0242ac110002', 'fullname': 'Neva Newbie', 'events': [{'id': '45b2df80-ae0f-11ed-9bd8-0242ac110002', 'name': 'Zkouška', 'startdate': '2023-04-19T08:00:00', 'enddate': '2023-04-19T09:00:00', 'presences': [{'id': '89d1e684-ae0f-11ed-9bd8-0242ac110002', 'invitationType': {'id': 'e871403c-a79c-11ed-b76e-0242ac110002', 'name': 'přijal'}}, {'id': '89d1f2d2-ae0f-11ed-9bd8-0242ac110002', 'invitationType': {'id': 'e871403c-a79c-11ed-b76e-0242ac110002', 'name': 'přijal'}}, {'id': '89d1f3ae-ae0f-11ed-9bd8-0242ac110002', 'invitationType': {'id': 'e871403c-a79c-11ed-b76e-0242ac110002', 'name': 'přijal'}}, {'id': '89d1f412-ae0f-11ed-9bd8-0242ac110002', 'invitationType': {'id': 'e871403c-a79c-11ed-b76e-0242ac110002', 'name': 'přijal'}}, {'id': '89d1f46c-ae0f-11ed-9bd8-0242ac110002', 'invitationType': {'id': 'e871403c-a79c-11ed-b76e-0242ac110002', 'name': 'přijal'}}, {'id': '89d1f4c6-ae0f-11ed-9bd8-0242ac110002', 'invitationType': {'id': 'e871403c-a79c-11ed-b76e-0242ac110002', 'name': 'přijal'}}, {'id': '89d1f520-ae0f-11ed-9bd8-0242ac110002', 'invitationType': {'id': 'e871403c-a79c-11ed-b76e-0242ac110002', 'name': 'přijal'}}, {'id': '89d1f570-ae0f-11ed-9bd8-0242ac110002', 'invitationType': {'id': 'e871403c-a79c-11ed-b76e-0242ac110002', 'name': 'přijal'}}, {'id': '89d1f5ca-ae0f-11ed-9bd8-0242ac110002', 'invitationType': {'id': 'e871403c-a79c-11ed-b76e-0242ac110002', 'name': 'přijal'}}, {'id': '89d1f624-ae0f-11ed-9bd8-0242ac110002', 'invitationType': {'id': 'e871403c-a79c-11ed-b76e-0242ac110002', 'name': 'přijal'}}]}]}}, {'group': {'id': '2d9dced0-a4a2-11ed-b9df-0242ac120003', 'name': 'Fac'}, 'user': {'id': '89d1f638-ae0f-11ed-9bd8-0242ac110002', 'fullname': 'Nora Newbie', 'events': [{'id': '45b2df80-ae0f-11ed-9bd8-0242ac110002', 'name': 'Zkouška', 'startdate': '2023-04-19T08:00:00', 'enddate': '2023-04-19T09:00:00', 'presences': [{'id': '89d1e684-ae0f-11ed-9bd8-0242ac110002', 'invitationType': {'id': 'e871403c-a79c-11ed-b76e-0242ac110002', 'name': 'přijal'}}, {'id': '89d1f2d2-ae0f-11ed-9bd8-0242ac110002', 'invitationType': {'id': 'e871403c-a79c-11ed-b76e-0242ac110002', 'name': 'přijal'}}, {'id': '89d1f3ae-ae0f-11ed-9bd8-0242ac110002', 'invitationType': {'id': 'e871403c-a79c-11ed-b76e-0242ac110002', 'name': 'přijal'}}, {'id': '89d1f412-ae0f-11ed-9bd8-0242ac110002', 'invitationType': {'id': 'e871403c-a79c-11ed-b76e-0242ac110002', 'name': 'přijal'}}, {'id': '89d1f46c-ae0f-11ed-9bd8-0242ac110002', 'invitationType': {'id': 'e871403c-a79c-11ed-b76e-0242ac110002', 'name': 'přijal'}}, {'id': '89d1f4c6-ae0f-11ed-9bd8-0242ac110002', 'invitationType': {'id': 'e871403c-a79c-11ed-b76e-0242ac110002', 'name': 'přijal'}}, {'id': '89d1f520-ae0f-11ed-9bd8-0242ac110002', 'invitationType': {'id': 'e871403c-a79c-11ed-b76e-0242ac110002', 'name': 'přijal'}}, {'id': '89d1f570-ae0f-11ed-9bd8-0242ac110002', 'invitationType': {'id': 'e871403c-a79c-11ed-b76e-0242ac110002', 'name': 'přijal'}}, {'id': '89d1f5ca-ae0f-11ed-9bd8-0242ac110002', 'invitationType': {'id': 'e871403c-a79c-11ed-b76e-0242ac110002', 'name': 'přijal'}}, {'id': '89d1f624-ae0f-11ed-9bd8-0242ac110002', 'invitationType': {'id': 'e871403c-a79c-11ed-b76e-0242ac110002', 'name': 'přijal'}}]}]}}]}, {'memberships': [{'group': {'id': '2d9dd1c8-a4a2-11ed-b9df-0242ac120003', 'name': 'Dep'}, 'user': {'id': '2d9dc5ca-a4a2-11ed-b9df-0242ac120003', 'fullname': 'John Newbie', 'events': []}}, {'group': {'id': '2d9dd1c8-a4a2-11ed-b9df-0242ac120003', 'name': 'Dep'}, 'user': {'id': '2d9dc868-a4a2-11ed-b9df-0242ac120003', 'fullname': 'Julia Newbie', 'events': []}}, {'group': {'id': '2d9dd1c8-a4a2-11ed-b9df-0242ac120003', 'name': 'Dep'}, 'user': {'id': '2d9dc9a8-a4a2-11ed-b9df-0242ac120003', 'fullname': 'Johnson Newbie', 'events': []}}, {'group': {'id': '2d9dd1c8-a4a2-11ed-b9df-0242ac120003', 'name': 'Dep'}, 'user': {'id': '2d9dcbec-a4a2-11ed-b9df-0242ac120003', 'fullname': 'Jepeto Newbie', 'events': []}}, {'group': {'id': '2d9dd1c8-a4a2-11ed-b9df-0242ac120003', 'name': 'Dep'}, 'user': {'id': '89d1e724-ae0f-11ed-9bd8-0242ac110002', 'fullname': 'Jana Newbie', 'events': [{'id': '45b2df80-ae0f-11ed-9bd8-0242ac110002', 'name': 'Zkouška', 'startdate': '2023-04-19T08:00:00', 'enddate': '2023-04-19T09:00:00', 'presences': [{'id': '89d1e684-ae0f-11ed-9bd8-0242ac110002', 'invitationType': {'id': 'e871403c-a79c-11ed-b76e-0242ac110002', 'name': 'přijal'}}, {'id': '89d1f2d2-ae0f-11ed-9bd8-0242ac110002', 'invitationType': {'id': 'e871403c-a79c-11ed-b76e-0242ac110002', 'name': 'přijal'}}, {'id': '89d1f3ae-ae0f-11ed-9bd8-0242ac110002', 'invitationType': {'id': 'e871403c-a79c-11ed-b76e-0242ac110002', 'name': 'přijal'}}, {'id': '89d1f412-ae0f-11ed-9bd8-0242ac110002', 'invitationType': {'id': 'e871403c-a79c-11ed-b76e-0242ac110002', 'name': 'přijal'}}, {'id': '89d1f46c-ae0f-11ed-9bd8-0242ac110002', 'invitationType': {'id': 'e871403c-a79c-11ed-b76e-0242ac110002', 'name': 'přijal'}}, {'id': '89d1f4c6-ae0f-11ed-9bd8-0242ac110002', 'invitationType': {'id': 'e871403c-a79c-11ed-b76e-0242ac110002', 'name': 'přijal'}}, {'id': '89d1f520-ae0f-11ed-9bd8-0242ac110002', 'invitationType': {'id': 'e871403c-a79c-11ed-b76e-0242ac110002', 'name': 'přijal'}}, {'id': '89d1f570-ae0f-11ed-9bd8-0242ac110002', 'invitationType': {'id': 'e871403c-a79c-11ed-b76e-0242ac110002', 'name': 'přijal'}}, {'id': '89d1f5ca-ae0f-11ed-9bd8-0242ac110002', 'invitationType': {'id': 'e871403c-a79c-11ed-b76e-0242ac110002', 'name': 'přijal'}}, {'id': '89d1f624-ae0f-11ed-9bd8-0242ac110002', 'invitationType': {'id': 'e871403c-a79c-11ed-b76e-0242ac110002', 'name': 'přijal'}}]}]}}, {'group': {'id': '2d9dd1c8-a4a2-11ed-b9df-0242ac120003', 'name': 'Dep'}, 'user': {'id': '89d1f34a-ae0f-11ed-9bd8-0242ac110002', 'fullname': 'Jolana Newbie', 'events': [{'id': '45b2df80-ae0f-11ed-9bd8-0242ac110002', 'name': 'Zkouška', 'startdate': '2023-04-19T08:00:00', 'enddate': '2023-04-19T09:00:00', 'presences': [{'id': '89d1e684-ae0f-11ed-9bd8-0242ac110002', 'invitationType': {'id': 'e871403c-a79c-11ed-b76e-0242ac110002', 'name': 'přijal'}}, {'id': '89d1f2d2-ae0f-11ed-9bd8-0242ac110002', 'invitationType': {'id': 'e871403c-a79c-11ed-b76e-0242ac110002', 'name': 'přijal'}}, {'id': '89d1f3ae-ae0f-11ed-9bd8-0242ac110002', 'invitationType': {'id': 'e871403c-a79c-11ed-b76e-0242ac110002', 'name': 'přijal'}}, {'id': '89d1f412-ae0f-11ed-9bd8-0242ac110002', 'invitationType': {'id': 'e871403c-a79c-11ed-b76e-0242ac110002', 'name': 'přijal'}}, {'id': '89d1f46c-ae0f-11ed-9bd8-0242ac110002', 'invitationType': {'id': 'e871403c-a79c-11ed-b76e-0242ac110002', 'name': 'přijal'}}, {'id': '89d1f4c6-ae0f-11ed-9bd8-0242ac110002', 'invitationType': {'id': 'e871403c-a79c-11ed-b76e-0242ac110002', 'name': 'přijal'}}, {'id': '89d1f520-ae0f-11ed-9bd8-0242ac110002', 'invitationType': {'id': 'e871403c-a79c-11ed-b76e-0242ac110002', 'name': 'přijal'}}, {'id': '89d1f570-ae0f-11ed-9bd8-0242ac110002', 'invitationType': {'id': 'e871403c-a79c-11ed-b76e-0242ac110002', 'name': 'přijal'}}, {'id': '89d1f5ca-ae0f-11ed-9bd8-0242ac110002', 'invitationType': {'id': 'e871403c-a79c-11ed-b76e-0242ac110002', 'name': 'přijal'}}, {'id': '89d1f624-ae0f-11ed-9bd8-0242ac110002', 'invitationType': {'id': 'e871403c-a79c-11ed-b76e-0242ac110002', 'name': 'přijal'}}]}]}}, {'group': {'id': '2d9dd1c8-a4a2-11ed-b9df-0242ac120003', 'name': 'Dep'}, 'user': {'id': '89d1f3cc-ae0f-11ed-9bd8-0242ac110002', 'fullname': 'Jitka Newbie', 'events': [{'id': '45b2df80-ae0f-11ed-9bd8-0242ac110002', 'name': 'Zkouška', 'startdate': '2023-04-19T08:00:00', 'enddate': '2023-04-19T09:00:00', 'presences': [{'id': '89d1e684-ae0f-11ed-9bd8-0242ac110002', 'invitationType': {'id': 'e871403c-a79c-11ed-b76e-0242ac110002', 'name': 'přijal'}}, {'id': '89d1f2d2-ae0f-11ed-9bd8-0242ac110002', 'invitationType': {'id': 'e871403c-a79c-11ed-b76e-0242ac110002', 'name': 'přijal'}}, {'id': '89d1f3ae-ae0f-11ed-9bd8-0242ac110002', 'invitationType': {'id': 'e871403c-a79c-11ed-b76e-0242ac110002', 'name': 'přijal'}}, {'id': '89d1f412-ae0f-11ed-9bd8-0242ac110002', 'invitationType': {'id': 'e871403c-a79c-11ed-b76e-0242ac110002', 'name': 'přijal'}}, {'id': '89d1f46c-ae0f-11ed-9bd8-0242ac110002', 'invitationType': {'id': 'e871403c-a79c-11ed-b76e-0242ac110002', 'name': 'přijal'}}, {'id': '89d1f4c6-ae0f-11ed-9bd8-0242ac110002', 'invitationType': {'id': 'e871403c-a79c-11ed-b76e-0242ac110002', 'name': 'přijal'}}, {'id': '89d1f520-ae0f-11ed-9bd8-0242ac110002', 'invitationType': {'id': 'e871403c-a79c-11ed-b76e-0242ac110002', 'name': 'přijal'}}, {'id': '89d1f570-ae0f-11ed-9bd8-0242ac110002', 'invitationType': {'id': 'e871403c-a79c-11ed-b76e-0242ac110002', 'name': 'přijal'}}, {'id': '89d1f5ca-ae0f-11ed-9bd8-0242ac110002', 'invitationType': {'id': 'e871403c-a79c-11ed-b76e-0242ac110002', 'name': 'přijal'}}, {'id': '89d1f624-ae0f-11ed-9bd8-0242ac110002', 'invitationType': {'id': 'e871403c-a79c-11ed-b76e-0242ac110002', 'name': 'přijal'}}]}]}}, {'group': {'id': '2d9dd1c8-a4a2-11ed-b9df-0242ac120003', 'name': 'Dep'}, 'user': {'id': '89d1f430-ae0f-11ed-9bd8-0242ac110002', 'fullname': 'Jaroslava Newbie', 'events': [{'id': '45b2df80-ae0f-11ed-9bd8-0242ac110002', 'name': 'Zkouška', 'startdate': '2023-04-19T08:00:00', 'enddate': '2023-04-19T09:00:00', 'presences': [{'id': '89d1e684-ae0f-11ed-9bd8-0242ac110002', 'invitationType': {'id': 'e871403c-a79c-11ed-b76e-0242ac110002', 'name': 'přijal'}}, {'id': '89d1f2d2-ae0f-11ed-9bd8-0242ac110002', 'invitationType': {'id': 'e871403c-a79c-11ed-b76e-0242ac110002', 'name': 'přijal'}}, {'id': '89d1f3ae-ae0f-11ed-9bd8-0242ac110002', 'invitationType': {'id': 'e871403c-a79c-11ed-b76e-0242ac110002', 'name': 'přijal'}}, {'id': '89d1f412-ae0f-11ed-9bd8-0242ac110002', 'invitationType': {'id': 'e871403c-a79c-11ed-b76e-0242ac110002', 'name': 'přijal'}}, {'id': '89d1f46c-ae0f-11ed-9bd8-0242ac110002', 'invitationType': {'id': 'e871403c-a79c-11ed-b76e-0242ac110002', 'name': 'přijal'}}, {'id': '89d1f4c6-ae0f-11ed-9bd8-0242ac110002', 'invitationType': {'id': 'e871403c-a79c-11ed-b76e-0242ac110002', 'name': 'přijal'}}, {'id': '89d1f520-ae0f-11ed-9bd8-0242ac110002', 'invitationType': {'id': 'e871403c-a79c-11ed-b76e-0242ac110002', 'name': 'přijal'}}, {'id': '89d1f570-ae0f-11ed-9bd8-0242ac110002', 'invitationType': {'id': 'e871403c-a79c-11ed-b76e-0242ac110002', 'name': 'přijal'}}, {'id': '89d1f5ca-ae0f-11ed-9bd8-0242ac110002', 'invitationType': {'id': 'e871403c-a79c-11ed-b76e-0242ac110002', 'name': 'přijal'}}, {'id': '89d1f624-ae0f-11ed-9bd8-0242ac110002', 'invitationType': {'id': 'e871403c-a79c-11ed-b76e-0242ac110002', 'name': 'přijal'}}]}]}}, {'group': {'id': '2d9dd1c8-a4a2-11ed-b9df-0242ac120003', 'name': 'Dep'}, 'user': {'id': '89d1f48a-ae0f-11ed-9bd8-0242ac110002', 'fullname': 'Lada Newbie', 'events': [{'id': '45b2df80-ae0f-11ed-9bd8-0242ac110002', 'name': 'Zkouška', 'startdate': '2023-04-19T08:00:00', 'enddate': '2023-04-19T09:00:00', 'presences': [{'id': '89d1e684-ae0f-11ed-9bd8-0242ac110002', 'invitationType': {'id': 'e871403c-a79c-11ed-b76e-0242ac110002', 'name': 'přijal'}}, {'id': '89d1f2d2-ae0f-11ed-9bd8-0242ac110002', 'invitationType': {'id': 'e871403c-a79c-11ed-b76e-0242ac110002', 'name': 'přijal'}}, {'id': '89d1f3ae-ae0f-11ed-9bd8-0242ac110002', 'invitationType': {'id': 'e871403c-a79c-11ed-b76e-0242ac110002', 'name': 'přijal'}}, {'id': '89d1f412-ae0f-11ed-9bd8-0242ac110002', 'invitationType': {'id': 'e871403c-a79c-11ed-b76e-0242ac110002', 'name': 'přijal'}}, {'id': '89d1f46c-ae0f-11ed-9bd8-0242ac110002', 'invitationType': {'id': 'e871403c-a79c-11ed-b76e-0242ac110002', 'name': 'přijal'}}, {'id': '89d1f4c6-ae0f-11ed-9bd8-0242ac110002', 'invitationType': {'id': 'e871403c-a79c-11ed-b76e-0242ac110002', 'name': 'přijal'}}, {'id': '89d1f520-ae0f-11ed-9bd8-0242ac110002', 'invitationType': {'id': 'e871403c-a79c-11ed-b76e-0242ac110002', 'name': 'přijal'}}, {'id': '89d1f570-ae0f-11ed-9bd8-0242ac110002', 'invitationType': {'id': 'e871403c-a79c-11ed-b76e-0242ac110002', 'name': 'přijal'}}, {'id': '89d1f5ca-ae0f-11ed-9bd8-0242ac110002', 'invitationType': {'id': 'e871403c-a79c-11ed-b76e-0242ac110002', 'name': 'přijal'}}, {'id': '89d1f624-ae0f-11ed-9bd8-0242ac110002', 'invitationType': {'id': 'e871403c-a79c-11ed-b76e-0242ac110002', 'name': 'přijal'}}]}]}}, {'group': {'id': '2d9dd1c8-a4a2-11ed-b9df-0242ac120003', 'name': 'Dep'}, 'user': {'id': '89d1f4e4-ae0f-11ed-9bd8-0242ac110002', 'fullname': 'Ludmila Newbie', 'events': [{'id': '45b2df80-ae0f-11ed-9bd8-0242ac110002', 'name': 'Zkouška', 'startdate': '2023-04-19T08:00:00', 'enddate': '2023-04-19T09:00:00', 'presences': [{'id': '89d1e684-ae0f-11ed-9bd8-0242ac110002', 'invitationType': {'id': 'e871403c-a79c-11ed-b76e-0242ac110002', 'name': 'přijal'}}, {'id': '89d1f2d2-ae0f-11ed-9bd8-0242ac110002', 'invitationType': {'id': 'e871403c-a79c-11ed-b76e-0242ac110002', 'name': 'přijal'}}, {'id': '89d1f3ae-ae0f-11ed-9bd8-0242ac110002', 'invitationType': {'id': 'e871403c-a79c-11ed-b76e-0242ac110002', 'name': 'přijal'}}, {'id': '89d1f412-ae0f-11ed-9bd8-0242ac110002', 'invitationType': {'id': 'e871403c-a79c-11ed-b76e-0242ac110002', 'name': 'přijal'}}, {'id': '89d1f46c-ae0f-11ed-9bd8-0242ac110002', 'invitationType': {'id': 'e871403c-a79c-11ed-b76e-0242ac110002', 'name': 'přijal'}}, {'id': '89d1f4c6-ae0f-11ed-9bd8-0242ac110002', 'invitationType': {'id': 'e871403c-a79c-11ed-b76e-0242ac110002', 'name': 'přijal'}}, {'id': '89d1f520-ae0f-11ed-9bd8-0242ac110002', 'invitationType': {'id': 'e871403c-a79c-11ed-b76e-0242ac110002', 'name': 'přijal'}}, {'id': '89d1f570-ae0f-11ed-9bd8-0242ac110002', 'invitationType': {'id': 'e871403c-a79c-11ed-b76e-0242ac110002', 'name': 'přijal'}}, {'id': '89d1f5ca-ae0f-11ed-9bd8-0242ac110002', 'invitationType': {'id': 'e871403c-a79c-11ed-b76e-0242ac110002', 'name': 'přijal'}}, {'id': '89d1f624-ae0f-11ed-9bd8-0242ac110002', 'invitationType': {'id': 'e871403c-a79c-11ed-b76e-0242ac110002', 'name': 'přijal'}}]}]}}, {'group': {'id': '2d9dd1c8-a4a2-11ed-b9df-0242ac120003', 'name': 'Dep'}, 'user': {'id': '89d1f534-ae0f-11ed-9bd8-0242ac110002', 'fullname': 'Lucie Newbie', 'events': [{'id': '45b2df80-ae0f-11ed-9bd8-0242ac110002', 'name': 'Zkouška', 'startdate': '2023-04-19T08:00:00', 'enddate': '2023-04-19T09:00:00', 'presences': [{'id': '89d1e684-ae0f-11ed-9bd8-0242ac110002', 'invitationType': {'id': 'e871403c-a79c-11ed-b76e-0242ac110002', 'name': 'přijal'}}, {'id': '89d1f2d2-ae0f-11ed-9bd8-0242ac110002', 'invitationType': {'id': 'e871403c-a79c-11ed-b76e-0242ac110002', 'name': 'přijal'}}, {'id': '89d1f3ae-ae0f-11ed-9bd8-0242ac110002', 'invitationType': {'id': 'e871403c-a79c-11ed-b76e-0242ac110002', 'name': 'přijal'}}, {'id': '89d1f412-ae0f-11ed-9bd8-0242ac110002', 'invitationType': {'id': 'e871403c-a79c-11ed-b76e-0242ac110002', 'name': 'přijal'}}, {'id': '89d1f46c-ae0f-11ed-9bd8-0242ac110002', 'invitationType': {'id': 'e871403c-a79c-11ed-b76e-0242ac110002', 'name': 'přijal'}}, {'id': '89d1f4c6-ae0f-11ed-9bd8-0242ac110002', 'invitationType': {'id': 'e871403c-a79c-11ed-b76e-0242ac110002', 'name': 'přijal'}}, {'id': '89d1f520-ae0f-11ed-9bd8-0242ac110002', 'invitationType': {'id': 'e871403c-a79c-11ed-b76e-0242ac110002', 'name': 'přijal'}}, {'id': '89d1f570-ae0f-11ed-9bd8-0242ac110002', 'invitationType': {'id': 'e871403c-a79c-11ed-b76e-0242ac110002', 'name': 'přijal'}}, {'id': '89d1f5ca-ae0f-11ed-9bd8-0242ac110002', 'invitationType': {'id': 'e871403c-a79c-11ed-b76e-0242ac110002', 'name': 'přijal'}}, {'id': '89d1f624-ae0f-11ed-9bd8-0242ac110002', 'invitationType': {'id': 'e871403c-a79c-11ed-b76e-0242ac110002', 'name': 'přijal'}}]}]}}, {'group': {'id': '2d9dd1c8-a4a2-11ed-b9df-0242ac120003', 'name': 'Dep'}, 'user': {'id': '89d1f58e-ae0f-11ed-9bd8-0242ac110002', 'fullname': 'Nola Newbie', 'events': [{'id': '45b2df80-ae0f-11ed-9bd8-0242ac110002', 'name': 'Zkouška', 'startdate': '2023-04-19T08:00:00', 'enddate': '2023-04-19T09:00:00', 'presences': [{'id': '89d1e684-ae0f-11ed-9bd8-0242ac110002', 'invitationType': {'id': 'e871403c-a79c-11ed-b76e-0242ac110002', 'name': 'přijal'}}, {'id': '89d1f2d2-ae0f-11ed-9bd8-0242ac110002', 'invitationType': {'id': 'e871403c-a79c-11ed-b76e-0242ac110002', 'name': 'přijal'}}, {'id': '89d1f3ae-ae0f-11ed-9bd8-0242ac110002', 'invitationType': {'id': 'e871403c-a79c-11ed-b76e-0242ac110002', 'name': 'přijal'}}, {'id': '89d1f412-ae0f-11ed-9bd8-0242ac110002', 'invitationType': {'id': 'e871403c-a79c-11ed-b76e-0242ac110002', 'name': 'přijal'}}, {'id': '89d1f46c-ae0f-11ed-9bd8-0242ac110002', 'invitationType': {'id': 'e871403c-a79c-11ed-b76e-0242ac110002', 'name': 'přijal'}}, {'id': '89d1f4c6-ae0f-11ed-9bd8-0242ac110002', 'invitationType': {'id': 'e871403c-a79c-11ed-b76e-0242ac110002', 'name': 'přijal'}}, {'id': '89d1f520-ae0f-11ed-9bd8-0242ac110002', 'invitationType': {'id': 'e871403c-a79c-11ed-b76e-0242ac110002', 'name': 'přijal'}}, {'id': '89d1f570-ae0f-11ed-9bd8-0242ac110002', 'invitationType': {'id': 'e871403c-a79c-11ed-b76e-0242ac110002', 'name': 'přijal'}}, {'id': '89d1f5ca-ae0f-11ed-9bd8-0242ac110002', 'invitationType': {'id': 'e871403c-a79c-11ed-b76e-0242ac110002', 'name': 'přijal'}}, {'id': '89d1f624-ae0f-11ed-9bd8-0242ac110002', 'invitationType': {'id': 'e871403c-a79c-11ed-b76e-0242ac110002', 'name': 'přijal'}}]}]}}, {'group': {'id': '2d9dd1c8-a4a2-11ed-b9df-0242ac120003', 'name': 'Dep'}, 'user': {'id': '89d1f5de-ae0f-11ed-9bd8-0242ac110002', 'fullname': 'Neva Newbie', 'events': [{'id': '45b2df80-ae0f-11ed-9bd8-0242ac110002', 'name': 'Zkouška', 'startdate': '2023-04-19T08:00:00', 'enddate': '2023-04-19T09:00:00', 'presences': [{'id': '89d1e684-ae0f-11ed-9bd8-0242ac110002', 'invitationType': {'id': 'e871403c-a79c-11ed-b76e-0242ac110002', 'name': 'přijal'}}, {'id': '89d1f2d2-ae0f-11ed-9bd8-0242ac110002', 'invitationType': {'id': 'e871403c-a79c-11ed-b76e-0242ac110002', 'name': 'přijal'}}, {'id': '89d1f3ae-ae0f-11ed-9bd8-0242ac110002', 'invitationType': {'id': 'e871403c-a79c-11ed-b76e-0242ac110002', 'name': 'přijal'}}, {'id': '89d1f412-ae0f-11ed-9bd8-0242ac110002', 'invitationType': {'id': 'e871403c-a79c-11ed-b76e-0242ac110002', 'name': 'přijal'}}, {'id': '89d1f46c-ae0f-11ed-9bd8-0242ac110002', 'invitationType': {'id': 'e871403c-a79c-11ed-b76e-0242ac110002', 'name': 'přijal'}}, {'id': '89d1f4c6-ae0f-11ed-9bd8-0242ac110002', 'invitationType': {'id': 'e871403c-a79c-11ed-b76e-0242ac110002', 'name': 'přijal'}}, {'id': '89d1f520-ae0f-11ed-9bd8-0242ac110002', 'invitationType': {'id': 'e871403c-a79c-11ed-b76e-0242ac110002', 'name': 'přijal'}}, {'id': '89d1f570-ae0f-11ed-9bd8-0242ac110002', 'invitationType': {'id': 'e871403c-a79c-11ed-b76e-0242ac110002', 'name': 'přijal'}}, {'id': '89d1f5ca-ae0f-11ed-9bd8-0242ac110002', 'invitationType': {'id': 'e871403c-a79c-11ed-b76e-0242ac110002', 'name': 'přijal'}}, {'id': '89d1f624-ae0f-11ed-9bd8-0242ac110002', 'invitationType': {'id': 'e871403c-a79c-11ed-b76e-0242ac110002', 'name': 'přijal'}}]}]}}, {'group': {'id': '2d9dd1c8-a4a2-11ed-b9df-0242ac120003', 'name': 'Dep'}, 'user': {'id': '89d1f638-ae0f-11ed-9bd8-0242ac110002', 'fullname': 'Nora Newbie', 'events': [{'id': '45b2df80-ae0f-11ed-9bd8-0242ac110002', 'name': 'Zkouška', 'startdate': '2023-04-19T08:00:00', 'enddate': '2023-04-19T09:00:00', 'presences': [{'id': '89d1e684-ae0f-11ed-9bd8-0242ac110002', 'invitationType': {'id': 'e871403c-a79c-11ed-b76e-0242ac110002', 'name': 'přijal'}}, {'id': '89d1f2d2-ae0f-11ed-9bd8-0242ac110002', 'invitationType': {'id': 'e871403c-a79c-11ed-b76e-0242ac110002', 'name': 'přijal'}}, {'id': '89d1f3ae-ae0f-11ed-9bd8-0242ac110002', 'invitationType': {'id': 'e871403c-a79c-11ed-b76e-0242ac110002', 'name': 'přijal'}}, {'id': '89d1f412-ae0f-11ed-9bd8-0242ac110002', 'invitationType': {'id': 'e871403c-a79c-11ed-b76e-0242ac110002', 'name': 'přijal'}}, {'id': '89d1f46c-ae0f-11ed-9bd8-0242ac110002', 'invitationType': {'id': 'e871403c-a79c-11ed-b76e-0242ac110002', 'name': 'přijal'}}, {'id': '89d1f4c6-ae0f-11ed-9bd8-0242ac110002', 'invitationType': {'id': 'e871403c-a79c-11ed-b76e-0242ac110002', 'name': 'přijal'}}, {'id': '89d1f520-ae0f-11ed-9bd8-0242ac110002', 'invitationType': {'id': 'e871403c-a79c-11ed-b76e-0242ac110002', 'name': 'přijal'}}, {'id': '89d1f570-ae0f-11ed-9bd8-0242ac110002', 'invitationType': {'id': 'e871403c-a79c-11ed-b76e-0242ac110002', 'name': 'přijal'}}, {'id': '89d1f5ca-ae0f-11ed-9bd8-0242ac110002', 'invitationType': {'id': 'e871403c-a79c-11ed-b76e-0242ac110002', 'name': 'přijal'}}, {'id': '89d1f624-ae0f-11ed-9bd8-0242ac110002', 'invitationType': {'id': 'e871403c-a79c-11ed-b76e-0242ac110002', 'name': 'přijal'}}]}]}}]}, {'memberships': []}, {'memberships': []}, {'memberships': []}, {'memberships': []}, {'memberships': []}, {'memberships': []}, {'memberships': []}]}\n",
      "[{'groupID': '2d9dcd22-a4a2-11ed-b9df-0242ac120003', 'groupName': 'Uni', 'userID': '89d1e724-ae0f-11ed-9bd8-0242ac110002', 'userFullname': 'Jana Newbie', 'eventID': '45b2df80-ae0f-11ed-9bd8-0242ac110002', 'eventName': 'Zkouška', 'startdate': '2023-04-19T08:00:00', 'eventEndDate': '2023-04-19T09:00:00', 'presenceID': '89d1e684-ae0f-11ed-9bd8-0242ac110002', 'invitationTypeID': 'e871403c-a79c-11ed-b76e-0242ac110002', 'invitationTypeName': 'přijal', 'presencesCount': 10}, {'groupID': '2d9dcd22-a4a2-11ed-b9df-0242ac120003', 'groupName': 'Uni', 'userID': '89d1e724-ae0f-11ed-9bd8-0242ac110002', 'userFullname': 'Jana Newbie', 'eventID': '45b2df80-ae0f-11ed-9bd8-0242ac110002', 'eventName': 'Zkouška', 'startdate': '2023-04-19T08:00:00', 'eventEndDate': '2023-04-19T09:00:00', 'presenceID': '89d1f2d2-ae0f-11ed-9bd8-0242ac110002', 'invitationTypeID': 'e871403c-a79c-11ed-b76e-0242ac110002', 'invitationTypeName': 'přijal', 'presencesCount': 10}, {'groupID': '2d9dcd22-a4a2-11ed-b9df-0242ac120003', 'groupName': 'Uni', 'userID': '89d1e724-ae0f-11ed-9bd8-0242ac110002', 'userFullname': 'Jana Newbie', 'eventID': '45b2df80-ae0f-11ed-9bd8-0242ac110002', 'eventName': 'Zkouška', 'startdate': '2023-04-19T08:00:00', 'eventEndDate': '2023-04-19T09:00:00', 'presenceID': '89d1f3ae-ae0f-11ed-9bd8-0242ac110002', 'invitationTypeID': 'e871403c-a79c-11ed-b76e-0242ac110002', 'invitationTypeName': 'přijal', 'presencesCount': 10}, {'groupID': '2d9dcd22-a4a2-11ed-b9df-0242ac120003', 'groupName': 'Uni', 'userID': '89d1e724-ae0f-11ed-9bd8-0242ac110002', 'userFullname': 'Jana Newbie', 'eventID': '45b2df80-ae0f-11ed-9bd8-0242ac110002', 'eventName': 'Zkouška', 'startdate': '2023-04-19T08:00:00', 'eventEndDate': '2023-04-19T09:00:00', 'presenceID': '89d1f412-ae0f-11ed-9bd8-0242ac110002', 'invitationTypeID': 'e871403c-a79c-11ed-b76e-0242ac110002', 'invitationTypeName': 'přijal', 'presencesCount': 10}, {'groupID': '2d9dcd22-a4a2-11ed-b9df-0242ac120003', 'groupName': 'Uni', 'userID': '89d1e724-ae0f-11ed-9bd8-0242ac110002', 'userFullname': 'Jana Newbie', 'eventID': '45b2df80-ae0f-11ed-9bd8-0242ac110002', 'eventName': 'Zkouška', 'startdate': '2023-04-19T08:00:00', 'eventEndDate': '2023-04-19T09:00:00', 'presenceID': '89d1f46c-ae0f-11ed-9bd8-0242ac110002', 'invitationTypeID': 'e871403c-a79c-11ed-b76e-0242ac110002', 'invitationTypeName': 'přijal', 'presencesCount': 10}, {'groupID': '2d9dcd22-a4a2-11ed-b9df-0242ac120003', 'groupName': 'Uni', 'userID': '89d1e724-ae0f-11ed-9bd8-0242ac110002', 'userFullname': 'Jana Newbie', 'eventID': '45b2df80-ae0f-11ed-9bd8-0242ac110002', 'eventName': 'Zkouška', 'startdate': '2023-04-19T08:00:00', 'eventEndDate': '2023-04-19T09:00:00', 'presenceID': '89d1f4c6-ae0f-11ed-9bd8-0242ac110002', 'invitationTypeID': 'e871403c-a79c-11ed-b76e-0242ac110002', 'invitationTypeName': 'přijal', 'presencesCount': 10}, {'groupID': '2d9dcd22-a4a2-11ed-b9df-0242ac120003', 'groupName': 'Uni', 'userID': '89d1e724-ae0f-11ed-9bd8-0242ac110002', 'userFullname': 'Jana Newbie', 'eventID': '45b2df80-ae0f-11ed-9bd8-0242ac110002', 'eventName': 'Zkouška', 'startdate': '2023-04-19T08:00:00', 'eventEndDate': '2023-04-19T09:00:00', 'presenceID': '89d1f520-ae0f-11ed-9bd8-0242ac110002', 'invitationTypeID': 'e871403c-a79c-11ed-b76e-0242ac110002', 'invitationTypeName': 'přijal', 'presencesCount': 10}, {'groupID': '2d9dcd22-a4a2-11ed-b9df-0242ac120003', 'groupName': 'Uni', 'userID': '89d1e724-ae0f-11ed-9bd8-0242ac110002', 'userFullname': 'Jana Newbie', 'eventID': '45b2df80-ae0f-11ed-9bd8-0242ac110002', 'eventName': 'Zkouška', 'startdate': '2023-04-19T08:00:00', 'eventEndDate': '2023-04-19T09:00:00', 'presenceID': '89d1f570-ae0f-11ed-9bd8-0242ac110002', 'invitationTypeID': 'e871403c-a79c-11ed-b76e-0242ac110002', 'invitationTypeName': 'přijal', 'presencesCount': 10}, {'groupID': '2d9dcd22-a4a2-11ed-b9df-0242ac120003', 'groupName': 'Uni', 'userID': '89d1e724-ae0f-11ed-9bd8-0242ac110002', 'userFullname': 'Jana Newbie', 'eventID': '45b2df80-ae0f-11ed-9bd8-0242ac110002', 'eventName': 'Zkouška', 'startdate': '2023-04-19T08:00:00', 'eventEndDate': '2023-04-19T09:00:00', 'presenceID': '89d1f5ca-ae0f-11ed-9bd8-0242ac110002', 'invitationTypeID': 'e871403c-a79c-11ed-b76e-0242ac110002', 'invitationTypeName': 'přijal', 'presencesCount': 10}, {'groupID': '2d9dcd22-a4a2-11ed-b9df-0242ac120003', 'groupName': 'Uni', 'userID': '89d1e724-ae0f-11ed-9bd8-0242ac110002', 'userFullname': 'Jana Newbie', 'eventID': '45b2df80-ae0f-11ed-9bd8-0242ac110002', 'eventName': 'Zkouška', 'startdate': '2023-04-19T08:00:00', 'eventEndDate': '2023-04-19T09:00:00', 'presenceID': '89d1f624-ae0f-11ed-9bd8-0242ac110002', 'invitationTypeID': 'e871403c-a79c-11ed-b76e-0242ac110002', 'invitationTypeName': 'přijal', 'presencesCount': 10}, {'groupID': '2d9dcd22-a4a2-11ed-b9df-0242ac120003', 'groupName': 'Uni', 'userID': '89d1f34a-ae0f-11ed-9bd8-0242ac110002', 'userFullname': 'Jolana Newbie', 'eventID': '45b2df80-ae0f-11ed-9bd8-0242ac110002', 'eventName': 'Zkouška', 'startdate': '2023-04-19T08:00:00', 'eventEndDate': '2023-04-19T09:00:00', 'presenceID': '89d1e684-ae0f-11ed-9bd8-0242ac110002', 'invitationTypeID': 'e871403c-a79c-11ed-b76e-0242ac110002', 'invitationTypeName': 'přijal', 'presencesCount': 10}, {'groupID': '2d9dcd22-a4a2-11ed-b9df-0242ac120003', 'groupName': 'Uni', 'userID': '89d1f34a-ae0f-11ed-9bd8-0242ac110002', 'userFullname': 'Jolana Newbie', 'eventID': '45b2df80-ae0f-11ed-9bd8-0242ac110002', 'eventName': 'Zkouška', 'startdate': '2023-04-19T08:00:00', 'eventEndDate': '2023-04-19T09:00:00', 'presenceID': '89d1f2d2-ae0f-11ed-9bd8-0242ac110002', 'invitationTypeID': 'e871403c-a79c-11ed-b76e-0242ac110002', 'invitationTypeName': 'přijal', 'presencesCount': 10}, {'groupID': '2d9dcd22-a4a2-11ed-b9df-0242ac120003', 'groupName': 'Uni', 'userID': '89d1f34a-ae0f-11ed-9bd8-0242ac110002', 'userFullname': 'Jolana Newbie', 'eventID': '45b2df80-ae0f-11ed-9bd8-0242ac110002', 'eventName': 'Zkouška', 'startdate': '2023-04-19T08:00:00', 'eventEndDate': '2023-04-19T09:00:00', 'presenceID': '89d1f3ae-ae0f-11ed-9bd8-0242ac110002', 'invitationTypeID': 'e871403c-a79c-11ed-b76e-0242ac110002', 'invitationTypeName': 'přijal', 'presencesCount': 10}, {'groupID': '2d9dcd22-a4a2-11ed-b9df-0242ac120003', 'groupName': 'Uni', 'userID': '89d1f34a-ae0f-11ed-9bd8-0242ac110002', 'userFullname': 'Jolana Newbie', 'eventID': '45b2df80-ae0f-11ed-9bd8-0242ac110002', 'eventName': 'Zkouška', 'startdate': '2023-04-19T08:00:00', 'eventEndDate': '2023-04-19T09:00:00', 'presenceID': '89d1f412-ae0f-11ed-9bd8-0242ac110002', 'invitationTypeID': 'e871403c-a79c-11ed-b76e-0242ac110002', 'invitationTypeName': 'přijal', 'presencesCount': 10}, {'groupID': '2d9dcd22-a4a2-11ed-b9df-0242ac120003', 'groupName': 'Uni', 'userID': '89d1f34a-ae0f-11ed-9bd8-0242ac110002', 'userFullname': 'Jolana Newbie', 'eventID': '45b2df80-ae0f-11ed-9bd8-0242ac110002', 'eventName': 'Zkouška', 'startdate': '2023-04-19T08:00:00', 'eventEndDate': '2023-04-19T09:00:00', 'presenceID': '89d1f46c-ae0f-11ed-9bd8-0242ac110002', 'invitationTypeID': 'e871403c-a79c-11ed-b76e-0242ac110002', 'invitationTypeName': 'přijal', 'presencesCount': 10}, {'groupID': '2d9dcd22-a4a2-11ed-b9df-0242ac120003', 'groupName': 'Uni', 'userID': '89d1f34a-ae0f-11ed-9bd8-0242ac110002', 'userFullname': 'Jolana Newbie', 'eventID': '45b2df80-ae0f-11ed-9bd8-0242ac110002', 'eventName': 'Zkouška', 'startdate': '2023-04-19T08:00:00', 'eventEndDate': '2023-04-19T09:00:00', 'presenceID': '89d1f4c6-ae0f-11ed-9bd8-0242ac110002', 'invitationTypeID': 'e871403c-a79c-11ed-b76e-0242ac110002', 'invitationTypeName': 'přijal', 'presencesCount': 10}, {'groupID': '2d9dcd22-a4a2-11ed-b9df-0242ac120003', 'groupName': 'Uni', 'userID': '89d1f34a-ae0f-11ed-9bd8-0242ac110002', 'userFullname': 'Jolana Newbie', 'eventID': '45b2df80-ae0f-11ed-9bd8-0242ac110002', 'eventName': 'Zkouška', 'startdate': '2023-04-19T08:00:00', 'eventEndDate': '2023-04-19T09:00:00', 'presenceID': '89d1f520-ae0f-11ed-9bd8-0242ac110002', 'invitationTypeID': 'e871403c-a79c-11ed-b76e-0242ac110002', 'invitationTypeName': 'přijal', 'presencesCount': 10}, {'groupID': '2d9dcd22-a4a2-11ed-b9df-0242ac120003', 'groupName': 'Uni', 'userID': '89d1f34a-ae0f-11ed-9bd8-0242ac110002', 'userFullname': 'Jolana Newbie', 'eventID': '45b2df80-ae0f-11ed-9bd8-0242ac110002', 'eventName': 'Zkouška', 'startdate': '2023-04-19T08:00:00', 'eventEndDate': '2023-04-19T09:00:00', 'presenceID': '89d1f570-ae0f-11ed-9bd8-0242ac110002', 'invitationTypeID': 'e871403c-a79c-11ed-b76e-0242ac110002', 'invitationTypeName': 'přijal', 'presencesCount': 10}, {'groupID': '2d9dcd22-a4a2-11ed-b9df-0242ac120003', 'groupName': 'Uni', 'userID': '89d1f34a-ae0f-11ed-9bd8-0242ac110002', 'userFullname': 'Jolana Newbie', 'eventID': '45b2df80-ae0f-11ed-9bd8-0242ac110002', 'eventName': 'Zkouška', 'startdate': '2023-04-19T08:00:00', 'eventEndDate': '2023-04-19T09:00:00', 'presenceID': '89d1f5ca-ae0f-11ed-9bd8-0242ac110002', 'invitationTypeID': 'e871403c-a79c-11ed-b76e-0242ac110002', 'invitationTypeName': 'přijal', 'presencesCount': 10}, {'groupID': '2d9dcd22-a4a2-11ed-b9df-0242ac120003', 'groupName': 'Uni', 'userID': '89d1f34a-ae0f-11ed-9bd8-0242ac110002', 'userFullname': 'Jolana Newbie', 'eventID': '45b2df80-ae0f-11ed-9bd8-0242ac110002', 'eventName': 'Zkouška', 'startdate': '2023-04-19T08:00:00', 'eventEndDate': '2023-04-19T09:00:00', 'presenceID': '89d1f624-ae0f-11ed-9bd8-0242ac110002', 'invitationTypeID': 'e871403c-a79c-11ed-b76e-0242ac110002', 'invitationTypeName': 'přijal', 'presencesCount': 10}, {'groupID': '2d9dcd22-a4a2-11ed-b9df-0242ac120003', 'groupName': 'Uni', 'userID': '89d1f3cc-ae0f-11ed-9bd8-0242ac110002', 'userFullname': 'Jitka Newbie', 'eventID': '45b2df80-ae0f-11ed-9bd8-0242ac110002', 'eventName': 'Zkouška', 'startdate': '2023-04-19T08:00:00', 'eventEndDate': '2023-04-19T09:00:00', 'presenceID': '89d1e684-ae0f-11ed-9bd8-0242ac110002', 'invitationTypeID': 'e871403c-a79c-11ed-b76e-0242ac110002', 'invitationTypeName': 'přijal', 'presencesCount': 10}, {'groupID': '2d9dcd22-a4a2-11ed-b9df-0242ac120003', 'groupName': 'Uni', 'userID': '89d1f3cc-ae0f-11ed-9bd8-0242ac110002', 'userFullname': 'Jitka Newbie', 'eventID': '45b2df80-ae0f-11ed-9bd8-0242ac110002', 'eventName': 'Zkouška', 'startdate': '2023-04-19T08:00:00', 'eventEndDate': '2023-04-19T09:00:00', 'presenceID': '89d1f2d2-ae0f-11ed-9bd8-0242ac110002', 'invitationTypeID': 'e871403c-a79c-11ed-b76e-0242ac110002', 'invitationTypeName': 'přijal', 'presencesCount': 10}, {'groupID': '2d9dcd22-a4a2-11ed-b9df-0242ac120003', 'groupName': 'Uni', 'userID': '89d1f3cc-ae0f-11ed-9bd8-0242ac110002', 'userFullname': 'Jitka Newbie', 'eventID': '45b2df80-ae0f-11ed-9bd8-0242ac110002', 'eventName': 'Zkouška', 'startdate': '2023-04-19T08:00:00', 'eventEndDate': '2023-04-19T09:00:00', 'presenceID': '89d1f3ae-ae0f-11ed-9bd8-0242ac110002', 'invitationTypeID': 'e871403c-a79c-11ed-b76e-0242ac110002', 'invitationTypeName': 'přijal', 'presencesCount': 10}, {'groupID': '2d9dcd22-a4a2-11ed-b9df-0242ac120003', 'groupName': 'Uni', 'userID': '89d1f3cc-ae0f-11ed-9bd8-0242ac110002', 'userFullname': 'Jitka Newbie', 'eventID': '45b2df80-ae0f-11ed-9bd8-0242ac110002', 'eventName': 'Zkouška', 'startdate': '2023-04-19T08:00:00', 'eventEndDate': '2023-04-19T09:00:00', 'presenceID': '89d1f412-ae0f-11ed-9bd8-0242ac110002', 'invitationTypeID': 'e871403c-a79c-11ed-b76e-0242ac110002', 'invitationTypeName': 'přijal', 'presencesCount': 10}, {'groupID': '2d9dcd22-a4a2-11ed-b9df-0242ac120003', 'groupName': 'Uni', 'userID': '89d1f3cc-ae0f-11ed-9bd8-0242ac110002', 'userFullname': 'Jitka Newbie', 'eventID': '45b2df80-ae0f-11ed-9bd8-0242ac110002', 'eventName': 'Zkouška', 'startdate': '2023-04-19T08:00:00', 'eventEndDate': '2023-04-19T09:00:00', 'presenceID': '89d1f46c-ae0f-11ed-9bd8-0242ac110002', 'invitationTypeID': 'e871403c-a79c-11ed-b76e-0242ac110002', 'invitationTypeName': 'přijal', 'presencesCount': 10}, {'groupID': '2d9dcd22-a4a2-11ed-b9df-0242ac120003', 'groupName': 'Uni', 'userID': '89d1f3cc-ae0f-11ed-9bd8-0242ac110002', 'userFullname': 'Jitka Newbie', 'eventID': '45b2df80-ae0f-11ed-9bd8-0242ac110002', 'eventName': 'Zkouška', 'startdate': '2023-04-19T08:00:00', 'eventEndDate': '2023-04-19T09:00:00', 'presenceID': '89d1f4c6-ae0f-11ed-9bd8-0242ac110002', 'invitationTypeID': 'e871403c-a79c-11ed-b76e-0242ac110002', 'invitationTypeName': 'přijal', 'presencesCount': 10}, {'groupID': '2d9dcd22-a4a2-11ed-b9df-0242ac120003', 'groupName': 'Uni', 'userID': '89d1f3cc-ae0f-11ed-9bd8-0242ac110002', 'userFullname': 'Jitka Newbie', 'eventID': '45b2df80-ae0f-11ed-9bd8-0242ac110002', 'eventName': 'Zkouška', 'startdate': '2023-04-19T08:00:00', 'eventEndDate': '2023-04-19T09:00:00', 'presenceID': '89d1f520-ae0f-11ed-9bd8-0242ac110002', 'invitationTypeID': 'e871403c-a79c-11ed-b76e-0242ac110002', 'invitationTypeName': 'přijal', 'presencesCount': 10}, {'groupID': '2d9dcd22-a4a2-11ed-b9df-0242ac120003', 'groupName': 'Uni', 'userID': '89d1f3cc-ae0f-11ed-9bd8-0242ac110002', 'userFullname': 'Jitka Newbie', 'eventID': '45b2df80-ae0f-11ed-9bd8-0242ac110002', 'eventName': 'Zkouška', 'startdate': '2023-04-19T08:00:00', 'eventEndDate': '2023-04-19T09:00:00', 'presenceID': '89d1f570-ae0f-11ed-9bd8-0242ac110002', 'invitationTypeID': 'e871403c-a79c-11ed-b76e-0242ac110002', 'invitationTypeName': 'přijal', 'presencesCount': 10}, {'groupID': '2d9dcd22-a4a2-11ed-b9df-0242ac120003', 'groupName': 'Uni', 'userID': '89d1f3cc-ae0f-11ed-9bd8-0242ac110002', 'userFullname': 'Jitka Newbie', 'eventID': '45b2df80-ae0f-11ed-9bd8-0242ac110002', 'eventName': 'Zkouška', 'startdate': '2023-04-19T08:00:00', 'eventEndDate': '2023-04-19T09:00:00', 'presenceID': '89d1f5ca-ae0f-11ed-9bd8-0242ac110002', 'invitationTypeID': 'e871403c-a79c-11ed-b76e-0242ac110002', 'invitationTypeName': 'přijal', 'presencesCount': 10}, {'groupID': '2d9dcd22-a4a2-11ed-b9df-0242ac120003', 'groupName': 'Uni', 'userID': '89d1f3cc-ae0f-11ed-9bd8-0242ac110002', 'userFullname': 'Jitka Newbie', 'eventID': '45b2df80-ae0f-11ed-9bd8-0242ac110002', 'eventName': 'Zkouška', 'startdate': '2023-04-19T08:00:00', 'eventEndDate': '2023-04-19T09:00:00', 'presenceID': '89d1f624-ae0f-11ed-9bd8-0242ac110002', 'invitationTypeID': 'e871403c-a79c-11ed-b76e-0242ac110002', 'invitationTypeName': 'přijal', 'presencesCount': 10}, {'groupID': '2d9dcd22-a4a2-11ed-b9df-0242ac120003', 'groupName': 'Uni', 'userID': '89d1f430-ae0f-11ed-9bd8-0242ac110002', 'userFullname': 'Jaroslava Newbie', 'eventID': '45b2df80-ae0f-11ed-9bd8-0242ac110002', 'eventName': 'Zkouška', 'startdate': '2023-04-19T08:00:00', 'eventEndDate': '2023-04-19T09:00:00', 'presenceID': '89d1e684-ae0f-11ed-9bd8-0242ac110002', 'invitationTypeID': 'e871403c-a79c-11ed-b76e-0242ac110002', 'invitationTypeName': 'přijal', 'presencesCount': 10}, {'groupID': '2d9dcd22-a4a2-11ed-b9df-0242ac120003', 'groupName': 'Uni', 'userID': '89d1f430-ae0f-11ed-9bd8-0242ac110002', 'userFullname': 'Jaroslava Newbie', 'eventID': '45b2df80-ae0f-11ed-9bd8-0242ac110002', 'eventName': 'Zkouška', 'startdate': '2023-04-19T08:00:00', 'eventEndDate': '2023-04-19T09:00:00', 'presenceID': '89d1f2d2-ae0f-11ed-9bd8-0242ac110002', 'invitationTypeID': 'e871403c-a79c-11ed-b76e-0242ac110002', 'invitationTypeName': 'přijal', 'presencesCount': 10}, {'groupID': '2d9dcd22-a4a2-11ed-b9df-0242ac120003', 'groupName': 'Uni', 'userID': '89d1f430-ae0f-11ed-9bd8-0242ac110002', 'userFullname': 'Jaroslava Newbie', 'eventID': '45b2df80-ae0f-11ed-9bd8-0242ac110002', 'eventName': 'Zkouška', 'startdate': '2023-04-19T08:00:00', 'eventEndDate': '2023-04-19T09:00:00', 'presenceID': '89d1f3ae-ae0f-11ed-9bd8-0242ac110002', 'invitationTypeID': 'e871403c-a79c-11ed-b76e-0242ac110002', 'invitationTypeName': 'přijal', 'presencesCount': 10}, {'groupID': '2d9dcd22-a4a2-11ed-b9df-0242ac120003', 'groupName': 'Uni', 'userID': '89d1f430-ae0f-11ed-9bd8-0242ac110002', 'userFullname': 'Jaroslava Newbie', 'eventID': '45b2df80-ae0f-11ed-9bd8-0242ac110002', 'eventName': 'Zkouška', 'startdate': '2023-04-19T08:00:00', 'eventEndDate': '2023-04-19T09:00:00', 'presenceID': '89d1f412-ae0f-11ed-9bd8-0242ac110002', 'invitationTypeID': 'e871403c-a79c-11ed-b76e-0242ac110002', 'invitationTypeName': 'přijal', 'presencesCount': 10}, {'groupID': '2d9dcd22-a4a2-11ed-b9df-0242ac120003', 'groupName': 'Uni', 'userID': '89d1f430-ae0f-11ed-9bd8-0242ac110002', 'userFullname': 'Jaroslava Newbie', 'eventID': '45b2df80-ae0f-11ed-9bd8-0242ac110002', 'eventName': 'Zkouška', 'startdate': '2023-04-19T08:00:00', 'eventEndDate': '2023-04-19T09:00:00', 'presenceID': '89d1f46c-ae0f-11ed-9bd8-0242ac110002', 'invitationTypeID': 'e871403c-a79c-11ed-b76e-0242ac110002', 'invitationTypeName': 'přijal', 'presencesCount': 10}, {'groupID': '2d9dcd22-a4a2-11ed-b9df-0242ac120003', 'groupName': 'Uni', 'userID': '89d1f430-ae0f-11ed-9bd8-0242ac110002', 'userFullname': 'Jaroslava Newbie', 'eventID': '45b2df80-ae0f-11ed-9bd8-0242ac110002', 'eventName': 'Zkouška', 'startdate': '2023-04-19T08:00:00', 'eventEndDate': '2023-04-19T09:00:00', 'presenceID': '89d1f4c6-ae0f-11ed-9bd8-0242ac110002', 'invitationTypeID': 'e871403c-a79c-11ed-b76e-0242ac110002', 'invitationTypeName': 'přijal', 'presencesCount': 10}, {'groupID': '2d9dcd22-a4a2-11ed-b9df-0242ac120003', 'groupName': 'Uni', 'userID': '89d1f430-ae0f-11ed-9bd8-0242ac110002', 'userFullname': 'Jaroslava Newbie', 'eventID': '45b2df80-ae0f-11ed-9bd8-0242ac110002', 'eventName': 'Zkouška', 'startdate': '2023-04-19T08:00:00', 'eventEndDate': '2023-04-19T09:00:00', 'presenceID': '89d1f520-ae0f-11ed-9bd8-0242ac110002', 'invitationTypeID': 'e871403c-a79c-11ed-b76e-0242ac110002', 'invitationTypeName': 'přijal', 'presencesCount': 10}, {'groupID': '2d9dcd22-a4a2-11ed-b9df-0242ac120003', 'groupName': 'Uni', 'userID': '89d1f430-ae0f-11ed-9bd8-0242ac110002', 'userFullname': 'Jaroslava Newbie', 'eventID': '45b2df80-ae0f-11ed-9bd8-0242ac110002', 'eventName': 'Zkouška', 'startdate': '2023-04-19T08:00:00', 'eventEndDate': '2023-04-19T09:00:00', 'presenceID': '89d1f570-ae0f-11ed-9bd8-0242ac110002', 'invitationTypeID': 'e871403c-a79c-11ed-b76e-0242ac110002', 'invitationTypeName': 'přijal', 'presencesCount': 10}, {'groupID': '2d9dcd22-a4a2-11ed-b9df-0242ac120003', 'groupName': 'Uni', 'userID': '89d1f430-ae0f-11ed-9bd8-0242ac110002', 'userFullname': 'Jaroslava Newbie', 'eventID': '45b2df80-ae0f-11ed-9bd8-0242ac110002', 'eventName': 'Zkouška', 'startdate': '2023-04-19T08:00:00', 'eventEndDate': '2023-04-19T09:00:00', 'presenceID': '89d1f5ca-ae0f-11ed-9bd8-0242ac110002', 'invitationTypeID': 'e871403c-a79c-11ed-b76e-0242ac110002', 'invitationTypeName': 'přijal', 'presencesCount': 10}, {'groupID': '2d9dcd22-a4a2-11ed-b9df-0242ac120003', 'groupName': 'Uni', 'userID': '89d1f430-ae0f-11ed-9bd8-0242ac110002', 'userFullname': 'Jaroslava Newbie', 'eventID': '45b2df80-ae0f-11ed-9bd8-0242ac110002', 'eventName': 'Zkouška', 'startdate': '2023-04-19T08:00:00', 'eventEndDate': '2023-04-19T09:00:00', 'presenceID': '89d1f624-ae0f-11ed-9bd8-0242ac110002', 'invitationTypeID': 'e871403c-a79c-11ed-b76e-0242ac110002', 'invitationTypeName': 'přijal', 'presencesCount': 10}, {'groupID': '2d9dcd22-a4a2-11ed-b9df-0242ac120003', 'groupName': 'Uni', 'userID': '89d1f48a-ae0f-11ed-9bd8-0242ac110002', 'userFullname': 'Lada Newbie', 'eventID': '45b2df80-ae0f-11ed-9bd8-0242ac110002', 'eventName': 'Zkouška', 'startdate': '2023-04-19T08:00:00', 'eventEndDate': '2023-04-19T09:00:00', 'presenceID': '89d1e684-ae0f-11ed-9bd8-0242ac110002', 'invitationTypeID': 'e871403c-a79c-11ed-b76e-0242ac110002', 'invitationTypeName': 'přijal', 'presencesCount': 10}, {'groupID': '2d9dcd22-a4a2-11ed-b9df-0242ac120003', 'groupName': 'Uni', 'userID': '89d1f48a-ae0f-11ed-9bd8-0242ac110002', 'userFullname': 'Lada Newbie', 'eventID': '45b2df80-ae0f-11ed-9bd8-0242ac110002', 'eventName': 'Zkouška', 'startdate': '2023-04-19T08:00:00', 'eventEndDate': '2023-04-19T09:00:00', 'presenceID': '89d1f2d2-ae0f-11ed-9bd8-0242ac110002', 'invitationTypeID': 'e871403c-a79c-11ed-b76e-0242ac110002', 'invitationTypeName': 'přijal', 'presencesCount': 10}, {'groupID': '2d9dcd22-a4a2-11ed-b9df-0242ac120003', 'groupName': 'Uni', 'userID': '89d1f48a-ae0f-11ed-9bd8-0242ac110002', 'userFullname': 'Lada Newbie', 'eventID': '45b2df80-ae0f-11ed-9bd8-0242ac110002', 'eventName': 'Zkouška', 'startdate': '2023-04-19T08:00:00', 'eventEndDate': '2023-04-19T09:00:00', 'presenceID': '89d1f3ae-ae0f-11ed-9bd8-0242ac110002', 'invitationTypeID': 'e871403c-a79c-11ed-b76e-0242ac110002', 'invitationTypeName': 'přijal', 'presencesCount': 10}, {'groupID': '2d9dcd22-a4a2-11ed-b9df-0242ac120003', 'groupName': 'Uni', 'userID': '89d1f48a-ae0f-11ed-9bd8-0242ac110002', 'userFullname': 'Lada Newbie', 'eventID': '45b2df80-ae0f-11ed-9bd8-0242ac110002', 'eventName': 'Zkouška', 'startdate': '2023-04-19T08:00:00', 'eventEndDate': '2023-04-19T09:00:00', 'presenceID': '89d1f412-ae0f-11ed-9bd8-0242ac110002', 'invitationTypeID': 'e871403c-a79c-11ed-b76e-0242ac110002', 'invitationTypeName': 'přijal', 'presencesCount': 10}, {'groupID': '2d9dcd22-a4a2-11ed-b9df-0242ac120003', 'groupName': 'Uni', 'userID': '89d1f48a-ae0f-11ed-9bd8-0242ac110002', 'userFullname': 'Lada Newbie', 'eventID': '45b2df80-ae0f-11ed-9bd8-0242ac110002', 'eventName': 'Zkouška', 'startdate': '2023-04-19T08:00:00', 'eventEndDate': '2023-04-19T09:00:00', 'presenceID': '89d1f46c-ae0f-11ed-9bd8-0242ac110002', 'invitationTypeID': 'e871403c-a79c-11ed-b76e-0242ac110002', 'invitationTypeName': 'přijal', 'presencesCount': 10}, {'groupID': '2d9dcd22-a4a2-11ed-b9df-0242ac120003', 'groupName': 'Uni', 'userID': '89d1f48a-ae0f-11ed-9bd8-0242ac110002', 'userFullname': 'Lada Newbie', 'eventID': '45b2df80-ae0f-11ed-9bd8-0242ac110002', 'eventName': 'Zkouška', 'startdate': '2023-04-19T08:00:00', 'eventEndDate': '2023-04-19T09:00:00', 'presenceID': '89d1f4c6-ae0f-11ed-9bd8-0242ac110002', 'invitationTypeID': 'e871403c-a79c-11ed-b76e-0242ac110002', 'invitationTypeName': 'přijal', 'presencesCount': 10}, {'groupID': '2d9dcd22-a4a2-11ed-b9df-0242ac120003', 'groupName': 'Uni', 'userID': '89d1f48a-ae0f-11ed-9bd8-0242ac110002', 'userFullname': 'Lada Newbie', 'eventID': '45b2df80-ae0f-11ed-9bd8-0242ac110002', 'eventName': 'Zkouška', 'startdate': '2023-04-19T08:00:00', 'eventEndDate': '2023-04-19T09:00:00', 'presenceID': '89d1f520-ae0f-11ed-9bd8-0242ac110002', 'invitationTypeID': 'e871403c-a79c-11ed-b76e-0242ac110002', 'invitationTypeName': 'přijal', 'presencesCount': 10}, {'groupID': '2d9dcd22-a4a2-11ed-b9df-0242ac120003', 'groupName': 'Uni', 'userID': '89d1f48a-ae0f-11ed-9bd8-0242ac110002', 'userFullname': 'Lada Newbie', 'eventID': '45b2df80-ae0f-11ed-9bd8-0242ac110002', 'eventName': 'Zkouška', 'startdate': '2023-04-19T08:00:00', 'eventEndDate': '2023-04-19T09:00:00', 'presenceID': '89d1f570-ae0f-11ed-9bd8-0242ac110002', 'invitationTypeID': 'e871403c-a79c-11ed-b76e-0242ac110002', 'invitationTypeName': 'přijal', 'presencesCount': 10}, {'groupID': '2d9dcd22-a4a2-11ed-b9df-0242ac120003', 'groupName': 'Uni', 'userID': '89d1f48a-ae0f-11ed-9bd8-0242ac110002', 'userFullname': 'Lada Newbie', 'eventID': '45b2df80-ae0f-11ed-9bd8-0242ac110002', 'eventName': 'Zkouška', 'startdate': '2023-04-19T08:00:00', 'eventEndDate': '2023-04-19T09:00:00', 'presenceID': '89d1f5ca-ae0f-11ed-9bd8-0242ac110002', 'invitationTypeID': 'e871403c-a79c-11ed-b76e-0242ac110002', 'invitationTypeName': 'přijal', 'presencesCount': 10}, {'groupID': '2d9dcd22-a4a2-11ed-b9df-0242ac120003', 'groupName': 'Uni', 'userID': '89d1f48a-ae0f-11ed-9bd8-0242ac110002', 'userFullname': 'Lada Newbie', 'eventID': '45b2df80-ae0f-11ed-9bd8-0242ac110002', 'eventName': 'Zkouška', 'startdate': '2023-04-19T08:00:00', 'eventEndDate': '2023-04-19T09:00:00', 'presenceID': '89d1f624-ae0f-11ed-9bd8-0242ac110002', 'invitationTypeID': 'e871403c-a79c-11ed-b76e-0242ac110002', 'invitationTypeName': 'přijal', 'presencesCount': 10}, {'groupID': '2d9dcd22-a4a2-11ed-b9df-0242ac120003', 'groupName': 'Uni', 'userID': '89d1f4e4-ae0f-11ed-9bd8-0242ac110002', 'userFullname': 'Ludmila Newbie', 'eventID': '45b2df80-ae0f-11ed-9bd8-0242ac110002', 'eventName': 'Zkouška', 'startdate': '2023-04-19T08:00:00', 'eventEndDate': '2023-04-19T09:00:00', 'presenceID': '89d1e684-ae0f-11ed-9bd8-0242ac110002', 'invitationTypeID': 'e871403c-a79c-11ed-b76e-0242ac110002', 'invitationTypeName': 'přijal', 'presencesCount': 10}, {'groupID': '2d9dcd22-a4a2-11ed-b9df-0242ac120003', 'groupName': 'Uni', 'userID': '89d1f4e4-ae0f-11ed-9bd8-0242ac110002', 'userFullname': 'Ludmila Newbie', 'eventID': '45b2df80-ae0f-11ed-9bd8-0242ac110002', 'eventName': 'Zkouška', 'startdate': '2023-04-19T08:00:00', 'eventEndDate': '2023-04-19T09:00:00', 'presenceID': '89d1f2d2-ae0f-11ed-9bd8-0242ac110002', 'invitationTypeID': 'e871403c-a79c-11ed-b76e-0242ac110002', 'invitationTypeName': 'přijal', 'presencesCount': 10}, {'groupID': '2d9dcd22-a4a2-11ed-b9df-0242ac120003', 'groupName': 'Uni', 'userID': '89d1f4e4-ae0f-11ed-9bd8-0242ac110002', 'userFullname': 'Ludmila Newbie', 'eventID': '45b2df80-ae0f-11ed-9bd8-0242ac110002', 'eventName': 'Zkouška', 'startdate': '2023-04-19T08:00:00', 'eventEndDate': '2023-04-19T09:00:00', 'presenceID': '89d1f3ae-ae0f-11ed-9bd8-0242ac110002', 'invitationTypeID': 'e871403c-a79c-11ed-b76e-0242ac110002', 'invitationTypeName': 'přijal', 'presencesCount': 10}, {'groupID': '2d9dcd22-a4a2-11ed-b9df-0242ac120003', 'groupName': 'Uni', 'userID': '89d1f4e4-ae0f-11ed-9bd8-0242ac110002', 'userFullname': 'Ludmila Newbie', 'eventID': '45b2df80-ae0f-11ed-9bd8-0242ac110002', 'eventName': 'Zkouška', 'startdate': '2023-04-19T08:00:00', 'eventEndDate': '2023-04-19T09:00:00', 'presenceID': '89d1f412-ae0f-11ed-9bd8-0242ac110002', 'invitationTypeID': 'e871403c-a79c-11ed-b76e-0242ac110002', 'invitationTypeName': 'přijal', 'presencesCount': 10}, {'groupID': '2d9dcd22-a4a2-11ed-b9df-0242ac120003', 'groupName': 'Uni', 'userID': '89d1f4e4-ae0f-11ed-9bd8-0242ac110002', 'userFullname': 'Ludmila Newbie', 'eventID': '45b2df80-ae0f-11ed-9bd8-0242ac110002', 'eventName': 'Zkouška', 'startdate': '2023-04-19T08:00:00', 'eventEndDate': '2023-04-19T09:00:00', 'presenceID': '89d1f46c-ae0f-11ed-9bd8-0242ac110002', 'invitationTypeID': 'e871403c-a79c-11ed-b76e-0242ac110002', 'invitationTypeName': 'přijal', 'presencesCount': 10}, {'groupID': '2d9dcd22-a4a2-11ed-b9df-0242ac120003', 'groupName': 'Uni', 'userID': '89d1f4e4-ae0f-11ed-9bd8-0242ac110002', 'userFullname': 'Ludmila Newbie', 'eventID': '45b2df80-ae0f-11ed-9bd8-0242ac110002', 'eventName': 'Zkouška', 'startdate': '2023-04-19T08:00:00', 'eventEndDate': '2023-04-19T09:00:00', 'presenceID': '89d1f4c6-ae0f-11ed-9bd8-0242ac110002', 'invitationTypeID': 'e871403c-a79c-11ed-b76e-0242ac110002', 'invitationTypeName': 'přijal', 'presencesCount': 10}, {'groupID': '2d9dcd22-a4a2-11ed-b9df-0242ac120003', 'groupName': 'Uni', 'userID': '89d1f4e4-ae0f-11ed-9bd8-0242ac110002', 'userFullname': 'Ludmila Newbie', 'eventID': '45b2df80-ae0f-11ed-9bd8-0242ac110002', 'eventName': 'Zkouška', 'startdate': '2023-04-19T08:00:00', 'eventEndDate': '2023-04-19T09:00:00', 'presenceID': '89d1f520-ae0f-11ed-9bd8-0242ac110002', 'invitationTypeID': 'e871403c-a79c-11ed-b76e-0242ac110002', 'invitationTypeName': 'přijal', 'presencesCount': 10}, {'groupID': '2d9dcd22-a4a2-11ed-b9df-0242ac120003', 'groupName': 'Uni', 'userID': '89d1f4e4-ae0f-11ed-9bd8-0242ac110002', 'userFullname': 'Ludmila Newbie', 'eventID': '45b2df80-ae0f-11ed-9bd8-0242ac110002', 'eventName': 'Zkouška', 'startdate': '2023-04-19T08:00:00', 'eventEndDate': '2023-04-19T09:00:00', 'presenceID': '89d1f570-ae0f-11ed-9bd8-0242ac110002', 'invitationTypeID': 'e871403c-a79c-11ed-b76e-0242ac110002', 'invitationTypeName': 'přijal', 'presencesCount': 10}, {'groupID': '2d9dcd22-a4a2-11ed-b9df-0242ac120003', 'groupName': 'Uni', 'userID': '89d1f4e4-ae0f-11ed-9bd8-0242ac110002', 'userFullname': 'Ludmila Newbie', 'eventID': '45b2df80-ae0f-11ed-9bd8-0242ac110002', 'eventName': 'Zkouška', 'startdate': '2023-04-19T08:00:00', 'eventEndDate': '2023-04-19T09:00:00', 'presenceID': '89d1f5ca-ae0f-11ed-9bd8-0242ac110002', 'invitationTypeID': 'e871403c-a79c-11ed-b76e-0242ac110002', 'invitationTypeName': 'přijal', 'presencesCount': 10}, {'groupID': '2d9dcd22-a4a2-11ed-b9df-0242ac120003', 'groupName': 'Uni', 'userID': '89d1f4e4-ae0f-11ed-9bd8-0242ac110002', 'userFullname': 'Ludmila Newbie', 'eventID': '45b2df80-ae0f-11ed-9bd8-0242ac110002', 'eventName': 'Zkouška', 'startdate': '2023-04-19T08:00:00', 'eventEndDate': '2023-04-19T09:00:00', 'presenceID': '89d1f624-ae0f-11ed-9bd8-0242ac110002', 'invitationTypeID': 'e871403c-a79c-11ed-b76e-0242ac110002', 'invitationTypeName': 'přijal', 'presencesCount': 10}, {'groupID': '2d9dcd22-a4a2-11ed-b9df-0242ac120003', 'groupName': 'Uni', 'userID': '89d1f534-ae0f-11ed-9bd8-0242ac110002', 'userFullname': 'Lucie Newbie', 'eventID': '45b2df80-ae0f-11ed-9bd8-0242ac110002', 'eventName': 'Zkouška', 'startdate': '2023-04-19T08:00:00', 'eventEndDate': '2023-04-19T09:00:00', 'presenceID': '89d1e684-ae0f-11ed-9bd8-0242ac110002', 'invitationTypeID': 'e871403c-a79c-11ed-b76e-0242ac110002', 'invitationTypeName': 'přijal', 'presencesCount': 10}, {'groupID': '2d9dcd22-a4a2-11ed-b9df-0242ac120003', 'groupName': 'Uni', 'userID': '89d1f534-ae0f-11ed-9bd8-0242ac110002', 'userFullname': 'Lucie Newbie', 'eventID': '45b2df80-ae0f-11ed-9bd8-0242ac110002', 'eventName': 'Zkouška', 'startdate': '2023-04-19T08:00:00', 'eventEndDate': '2023-04-19T09:00:00', 'presenceID': '89d1f2d2-ae0f-11ed-9bd8-0242ac110002', 'invitationTypeID': 'e871403c-a79c-11ed-b76e-0242ac110002', 'invitationTypeName': 'přijal', 'presencesCount': 10}, {'groupID': '2d9dcd22-a4a2-11ed-b9df-0242ac120003', 'groupName': 'Uni', 'userID': '89d1f534-ae0f-11ed-9bd8-0242ac110002', 'userFullname': 'Lucie Newbie', 'eventID': '45b2df80-ae0f-11ed-9bd8-0242ac110002', 'eventName': 'Zkouška', 'startdate': '2023-04-19T08:00:00', 'eventEndDate': '2023-04-19T09:00:00', 'presenceID': '89d1f3ae-ae0f-11ed-9bd8-0242ac110002', 'invitationTypeID': 'e871403c-a79c-11ed-b76e-0242ac110002', 'invitationTypeName': 'přijal', 'presencesCount': 10}, {'groupID': '2d9dcd22-a4a2-11ed-b9df-0242ac120003', 'groupName': 'Uni', 'userID': '89d1f534-ae0f-11ed-9bd8-0242ac110002', 'userFullname': 'Lucie Newbie', 'eventID': '45b2df80-ae0f-11ed-9bd8-0242ac110002', 'eventName': 'Zkouška', 'startdate': '2023-04-19T08:00:00', 'eventEndDate': '2023-04-19T09:00:00', 'presenceID': '89d1f412-ae0f-11ed-9bd8-0242ac110002', 'invitationTypeID': 'e871403c-a79c-11ed-b76e-0242ac110002', 'invitationTypeName': 'přijal', 'presencesCount': 10}, {'groupID': '2d9dcd22-a4a2-11ed-b9df-0242ac120003', 'groupName': 'Uni', 'userID': '89d1f534-ae0f-11ed-9bd8-0242ac110002', 'userFullname': 'Lucie Newbie', 'eventID': '45b2df80-ae0f-11ed-9bd8-0242ac110002', 'eventName': 'Zkouška', 'startdate': '2023-04-19T08:00:00', 'eventEndDate': '2023-04-19T09:00:00', 'presenceID': '89d1f46c-ae0f-11ed-9bd8-0242ac110002', 'invitationTypeID': 'e871403c-a79c-11ed-b76e-0242ac110002', 'invitationTypeName': 'přijal', 'presencesCount': 10}, {'groupID': '2d9dcd22-a4a2-11ed-b9df-0242ac120003', 'groupName': 'Uni', 'userID': '89d1f534-ae0f-11ed-9bd8-0242ac110002', 'userFullname': 'Lucie Newbie', 'eventID': '45b2df80-ae0f-11ed-9bd8-0242ac110002', 'eventName': 'Zkouška', 'startdate': '2023-04-19T08:00:00', 'eventEndDate': '2023-04-19T09:00:00', 'presenceID': '89d1f4c6-ae0f-11ed-9bd8-0242ac110002', 'invitationTypeID': 'e871403c-a79c-11ed-b76e-0242ac110002', 'invitationTypeName': 'přijal', 'presencesCount': 10}, {'groupID': '2d9dcd22-a4a2-11ed-b9df-0242ac120003', 'groupName': 'Uni', 'userID': '89d1f534-ae0f-11ed-9bd8-0242ac110002', 'userFullname': 'Lucie Newbie', 'eventID': '45b2df80-ae0f-11ed-9bd8-0242ac110002', 'eventName': 'Zkouška', 'startdate': '2023-04-19T08:00:00', 'eventEndDate': '2023-04-19T09:00:00', 'presenceID': '89d1f520-ae0f-11ed-9bd8-0242ac110002', 'invitationTypeID': 'e871403c-a79c-11ed-b76e-0242ac110002', 'invitationTypeName': 'přijal', 'presencesCount': 10}, {'groupID': '2d9dcd22-a4a2-11ed-b9df-0242ac120003', 'groupName': 'Uni', 'userID': '89d1f534-ae0f-11ed-9bd8-0242ac110002', 'userFullname': 'Lucie Newbie', 'eventID': '45b2df80-ae0f-11ed-9bd8-0242ac110002', 'eventName': 'Zkouška', 'startdate': '2023-04-19T08:00:00', 'eventEndDate': '2023-04-19T09:00:00', 'presenceID': '89d1f570-ae0f-11ed-9bd8-0242ac110002', 'invitationTypeID': 'e871403c-a79c-11ed-b76e-0242ac110002', 'invitationTypeName': 'přijal', 'presencesCount': 10}, {'groupID': '2d9dcd22-a4a2-11ed-b9df-0242ac120003', 'groupName': 'Uni', 'userID': '89d1f534-ae0f-11ed-9bd8-0242ac110002', 'userFullname': 'Lucie Newbie', 'eventID': '45b2df80-ae0f-11ed-9bd8-0242ac110002', 'eventName': 'Zkouška', 'startdate': '2023-04-19T08:00:00', 'eventEndDate': '2023-04-19T09:00:00', 'presenceID': '89d1f5ca-ae0f-11ed-9bd8-0242ac110002', 'invitationTypeID': 'e871403c-a79c-11ed-b76e-0242ac110002', 'invitationTypeName': 'přijal', 'presencesCount': 10}, {'groupID': '2d9dcd22-a4a2-11ed-b9df-0242ac120003', 'groupName': 'Uni', 'userID': '89d1f534-ae0f-11ed-9bd8-0242ac110002', 'userFullname': 'Lucie Newbie', 'eventID': '45b2df80-ae0f-11ed-9bd8-0242ac110002', 'eventName': 'Zkouška', 'startdate': '2023-04-19T08:00:00', 'eventEndDate': '2023-04-19T09:00:00', 'presenceID': '89d1f624-ae0f-11ed-9bd8-0242ac110002', 'invitationTypeID': 'e871403c-a79c-11ed-b76e-0242ac110002', 'invitationTypeName': 'přijal', 'presencesCount': 10}, {'groupID': '2d9dcd22-a4a2-11ed-b9df-0242ac120003', 'groupName': 'Uni', 'userID': '89d1f58e-ae0f-11ed-9bd8-0242ac110002', 'userFullname': 'Nola Newbie', 'eventID': '45b2df80-ae0f-11ed-9bd8-0242ac110002', 'eventName': 'Zkouška', 'startdate': '2023-04-19T08:00:00', 'eventEndDate': '2023-04-19T09:00:00', 'presenceID': '89d1e684-ae0f-11ed-9bd8-0242ac110002', 'invitationTypeID': 'e871403c-a79c-11ed-b76e-0242ac110002', 'invitationTypeName': 'přijal', 'presencesCount': 10}, {'groupID': '2d9dcd22-a4a2-11ed-b9df-0242ac120003', 'groupName': 'Uni', 'userID': '89d1f58e-ae0f-11ed-9bd8-0242ac110002', 'userFullname': 'Nola Newbie', 'eventID': '45b2df80-ae0f-11ed-9bd8-0242ac110002', 'eventName': 'Zkouška', 'startdate': '2023-04-19T08:00:00', 'eventEndDate': '2023-04-19T09:00:00', 'presenceID': '89d1f2d2-ae0f-11ed-9bd8-0242ac110002', 'invitationTypeID': 'e871403c-a79c-11ed-b76e-0242ac110002', 'invitationTypeName': 'přijal', 'presencesCount': 10}, {'groupID': '2d9dcd22-a4a2-11ed-b9df-0242ac120003', 'groupName': 'Uni', 'userID': '89d1f58e-ae0f-11ed-9bd8-0242ac110002', 'userFullname': 'Nola Newbie', 'eventID': '45b2df80-ae0f-11ed-9bd8-0242ac110002', 'eventName': 'Zkouška', 'startdate': '2023-04-19T08:00:00', 'eventEndDate': '2023-04-19T09:00:00', 'presenceID': '89d1f3ae-ae0f-11ed-9bd8-0242ac110002', 'invitationTypeID': 'e871403c-a79c-11ed-b76e-0242ac110002', 'invitationTypeName': 'přijal', 'presencesCount': 10}, {'groupID': '2d9dcd22-a4a2-11ed-b9df-0242ac120003', 'groupName': 'Uni', 'userID': '89d1f58e-ae0f-11ed-9bd8-0242ac110002', 'userFullname': 'Nola Newbie', 'eventID': '45b2df80-ae0f-11ed-9bd8-0242ac110002', 'eventName': 'Zkouška', 'startdate': '2023-04-19T08:00:00', 'eventEndDate': '2023-04-19T09:00:00', 'presenceID': '89d1f412-ae0f-11ed-9bd8-0242ac110002', 'invitationTypeID': 'e871403c-a79c-11ed-b76e-0242ac110002', 'invitationTypeName': 'přijal', 'presencesCount': 10}, {'groupID': '2d9dcd22-a4a2-11ed-b9df-0242ac120003', 'groupName': 'Uni', 'userID': '89d1f58e-ae0f-11ed-9bd8-0242ac110002', 'userFullname': 'Nola Newbie', 'eventID': '45b2df80-ae0f-11ed-9bd8-0242ac110002', 'eventName': 'Zkouška', 'startdate': '2023-04-19T08:00:00', 'eventEndDate': '2023-04-19T09:00:00', 'presenceID': '89d1f46c-ae0f-11ed-9bd8-0242ac110002', 'invitationTypeID': 'e871403c-a79c-11ed-b76e-0242ac110002', 'invitationTypeName': 'přijal', 'presencesCount': 10}, {'groupID': '2d9dcd22-a4a2-11ed-b9df-0242ac120003', 'groupName': 'Uni', 'userID': '89d1f58e-ae0f-11ed-9bd8-0242ac110002', 'userFullname': 'Nola Newbie', 'eventID': '45b2df80-ae0f-11ed-9bd8-0242ac110002', 'eventName': 'Zkouška', 'startdate': '2023-04-19T08:00:00', 'eventEndDate': '2023-04-19T09:00:00', 'presenceID': '89d1f4c6-ae0f-11ed-9bd8-0242ac110002', 'invitationTypeID': 'e871403c-a79c-11ed-b76e-0242ac110002', 'invitationTypeName': 'přijal', 'presencesCount': 10}, {'groupID': '2d9dcd22-a4a2-11ed-b9df-0242ac120003', 'groupName': 'Uni', 'userID': '89d1f58e-ae0f-11ed-9bd8-0242ac110002', 'userFullname': 'Nola Newbie', 'eventID': '45b2df80-ae0f-11ed-9bd8-0242ac110002', 'eventName': 'Zkouška', 'startdate': '2023-04-19T08:00:00', 'eventEndDate': '2023-04-19T09:00:00', 'presenceID': '89d1f520-ae0f-11ed-9bd8-0242ac110002', 'invitationTypeID': 'e871403c-a79c-11ed-b76e-0242ac110002', 'invitationTypeName': 'přijal', 'presencesCount': 10}, {'groupID': '2d9dcd22-a4a2-11ed-b9df-0242ac120003', 'groupName': 'Uni', 'userID': '89d1f58e-ae0f-11ed-9bd8-0242ac110002', 'userFullname': 'Nola Newbie', 'eventID': '45b2df80-ae0f-11ed-9bd8-0242ac110002', 'eventName': 'Zkouška', 'startdate': '2023-04-19T08:00:00', 'eventEndDate': '2023-04-19T09:00:00', 'presenceID': '89d1f570-ae0f-11ed-9bd8-0242ac110002', 'invitationTypeID': 'e871403c-a79c-11ed-b76e-0242ac110002', 'invitationTypeName': 'přijal', 'presencesCount': 10}, {'groupID': '2d9dcd22-a4a2-11ed-b9df-0242ac120003', 'groupName': 'Uni', 'userID': '89d1f58e-ae0f-11ed-9bd8-0242ac110002', 'userFullname': 'Nola Newbie', 'eventID': '45b2df80-ae0f-11ed-9bd8-0242ac110002', 'eventName': 'Zkouška', 'startdate': '2023-04-19T08:00:00', 'eventEndDate': '2023-04-19T09:00:00', 'presenceID': '89d1f5ca-ae0f-11ed-9bd8-0242ac110002', 'invitationTypeID': 'e871403c-a79c-11ed-b76e-0242ac110002', 'invitationTypeName': 'přijal', 'presencesCount': 10}, {'groupID': '2d9dcd22-a4a2-11ed-b9df-0242ac120003', 'groupName': 'Uni', 'userID': '89d1f58e-ae0f-11ed-9bd8-0242ac110002', 'userFullname': 'Nola Newbie', 'eventID': '45b2df80-ae0f-11ed-9bd8-0242ac110002', 'eventName': 'Zkouška', 'startdate': '2023-04-19T08:00:00', 'eventEndDate': '2023-04-19T09:00:00', 'presenceID': '89d1f624-ae0f-11ed-9bd8-0242ac110002', 'invitationTypeID': 'e871403c-a79c-11ed-b76e-0242ac110002', 'invitationTypeName': 'přijal', 'presencesCount': 10}, {'groupID': '2d9dcd22-a4a2-11ed-b9df-0242ac120003', 'groupName': 'Uni', 'userID': '89d1f5de-ae0f-11ed-9bd8-0242ac110002', 'userFullname': 'Neva Newbie', 'eventID': '45b2df80-ae0f-11ed-9bd8-0242ac110002', 'eventName': 'Zkouška', 'startdate': '2023-04-19T08:00:00', 'eventEndDate': '2023-04-19T09:00:00', 'presenceID': '89d1e684-ae0f-11ed-9bd8-0242ac110002', 'invitationTypeID': 'e871403c-a79c-11ed-b76e-0242ac110002', 'invitationTypeName': 'přijal', 'presencesCount': 10}, {'groupID': '2d9dcd22-a4a2-11ed-b9df-0242ac120003', 'groupName': 'Uni', 'userID': '89d1f5de-ae0f-11ed-9bd8-0242ac110002', 'userFullname': 'Neva Newbie', 'eventID': '45b2df80-ae0f-11ed-9bd8-0242ac110002', 'eventName': 'Zkouška', 'startdate': '2023-04-19T08:00:00', 'eventEndDate': '2023-04-19T09:00:00', 'presenceID': '89d1f2d2-ae0f-11ed-9bd8-0242ac110002', 'invitationTypeID': 'e871403c-a79c-11ed-b76e-0242ac110002', 'invitationTypeName': 'přijal', 'presencesCount': 10}, {'groupID': '2d9dcd22-a4a2-11ed-b9df-0242ac120003', 'groupName': 'Uni', 'userID': '89d1f5de-ae0f-11ed-9bd8-0242ac110002', 'userFullname': 'Neva Newbie', 'eventID': '45b2df80-ae0f-11ed-9bd8-0242ac110002', 'eventName': 'Zkouška', 'startdate': '2023-04-19T08:00:00', 'eventEndDate': '2023-04-19T09:00:00', 'presenceID': '89d1f3ae-ae0f-11ed-9bd8-0242ac110002', 'invitationTypeID': 'e871403c-a79c-11ed-b76e-0242ac110002', 'invitationTypeName': 'přijal', 'presencesCount': 10}, {'groupID': '2d9dcd22-a4a2-11ed-b9df-0242ac120003', 'groupName': 'Uni', 'userID': '89d1f5de-ae0f-11ed-9bd8-0242ac110002', 'userFullname': 'Neva Newbie', 'eventID': '45b2df80-ae0f-11ed-9bd8-0242ac110002', 'eventName': 'Zkouška', 'startdate': '2023-04-19T08:00:00', 'eventEndDate': '2023-04-19T09:00:00', 'presenceID': '89d1f412-ae0f-11ed-9bd8-0242ac110002', 'invitationTypeID': 'e871403c-a79c-11ed-b76e-0242ac110002', 'invitationTypeName': 'přijal', 'presencesCount': 10}, {'groupID': '2d9dcd22-a4a2-11ed-b9df-0242ac120003', 'groupName': 'Uni', 'userID': '89d1f5de-ae0f-11ed-9bd8-0242ac110002', 'userFullname': 'Neva Newbie', 'eventID': '45b2df80-ae0f-11ed-9bd8-0242ac110002', 'eventName': 'Zkouška', 'startdate': '2023-04-19T08:00:00', 'eventEndDate': '2023-04-19T09:00:00', 'presenceID': '89d1f46c-ae0f-11ed-9bd8-0242ac110002', 'invitationTypeID': 'e871403c-a79c-11ed-b76e-0242ac110002', 'invitationTypeName': 'přijal', 'presencesCount': 10}, {'groupID': '2d9dcd22-a4a2-11ed-b9df-0242ac120003', 'groupName': 'Uni', 'userID': '89d1f5de-ae0f-11ed-9bd8-0242ac110002', 'userFullname': 'Neva Newbie', 'eventID': '45b2df80-ae0f-11ed-9bd8-0242ac110002', 'eventName': 'Zkouška', 'startdate': '2023-04-19T08:00:00', 'eventEndDate': '2023-04-19T09:00:00', 'presenceID': '89d1f4c6-ae0f-11ed-9bd8-0242ac110002', 'invitationTypeID': 'e871403c-a79c-11ed-b76e-0242ac110002', 'invitationTypeName': 'přijal', 'presencesCount': 10}, {'groupID': '2d9dcd22-a4a2-11ed-b9df-0242ac120003', 'groupName': 'Uni', 'userID': '89d1f5de-ae0f-11ed-9bd8-0242ac110002', 'userFullname': 'Neva Newbie', 'eventID': '45b2df80-ae0f-11ed-9bd8-0242ac110002', 'eventName': 'Zkouška', 'startdate': '2023-04-19T08:00:00', 'eventEndDate': '2023-04-19T09:00:00', 'presenceID': '89d1f520-ae0f-11ed-9bd8-0242ac110002', 'invitationTypeID': 'e871403c-a79c-11ed-b76e-0242ac110002', 'invitationTypeName': 'přijal', 'presencesCount': 10}, {'groupID': '2d9dcd22-a4a2-11ed-b9df-0242ac120003', 'groupName': 'Uni', 'userID': '89d1f5de-ae0f-11ed-9bd8-0242ac110002', 'userFullname': 'Neva Newbie', 'eventID': '45b2df80-ae0f-11ed-9bd8-0242ac110002', 'eventName': 'Zkouška', 'startdate': '2023-04-19T08:00:00', 'eventEndDate': '2023-04-19T09:00:00', 'presenceID': '89d1f570-ae0f-11ed-9bd8-0242ac110002', 'invitationTypeID': 'e871403c-a79c-11ed-b76e-0242ac110002', 'invitationTypeName': 'přijal', 'presencesCount': 10}, {'groupID': '2d9dcd22-a4a2-11ed-b9df-0242ac120003', 'groupName': 'Uni', 'userID': '89d1f5de-ae0f-11ed-9bd8-0242ac110002', 'userFullname': 'Neva Newbie', 'eventID': '45b2df80-ae0f-11ed-9bd8-0242ac110002', 'eventName': 'Zkouška', 'startdate': '2023-04-19T08:00:00', 'eventEndDate': '2023-04-19T09:00:00', 'presenceID': '89d1f5ca-ae0f-11ed-9bd8-0242ac110002', 'invitationTypeID': 'e871403c-a79c-11ed-b76e-0242ac110002', 'invitationTypeName': 'přijal', 'presencesCount': 10}, {'groupID': '2d9dcd22-a4a2-11ed-b9df-0242ac120003', 'groupName': 'Uni', 'userID': '89d1f5de-ae0f-11ed-9bd8-0242ac110002', 'userFullname': 'Neva Newbie', 'eventID': '45b2df80-ae0f-11ed-9bd8-0242ac110002', 'eventName': 'Zkouška', 'startdate': '2023-04-19T08:00:00', 'eventEndDate': '2023-04-19T09:00:00', 'presenceID': '89d1f624-ae0f-11ed-9bd8-0242ac110002', 'invitationTypeID': 'e871403c-a79c-11ed-b76e-0242ac110002', 'invitationTypeName': 'přijal', 'presencesCount': 10}, {'groupID': '2d9dcd22-a4a2-11ed-b9df-0242ac120003', 'groupName': 'Uni', 'userID': '89d1f638-ae0f-11ed-9bd8-0242ac110002', 'userFullname': 'Nora Newbie', 'eventID': '45b2df80-ae0f-11ed-9bd8-0242ac110002', 'eventName': 'Zkouška', 'startdate': '2023-04-19T08:00:00', 'eventEndDate': '2023-04-19T09:00:00', 'presenceID': '89d1e684-ae0f-11ed-9bd8-0242ac110002', 'invitationTypeID': 'e871403c-a79c-11ed-b76e-0242ac110002', 'invitationTypeName': 'přijal', 'presencesCount': 10}, {'groupID': '2d9dcd22-a4a2-11ed-b9df-0242ac120003', 'groupName': 'Uni', 'userID': '89d1f638-ae0f-11ed-9bd8-0242ac110002', 'userFullname': 'Nora Newbie', 'eventID': '45b2df80-ae0f-11ed-9bd8-0242ac110002', 'eventName': 'Zkouška', 'startdate': '2023-04-19T08:00:00', 'eventEndDate': '2023-04-19T09:00:00', 'presenceID': '89d1f2d2-ae0f-11ed-9bd8-0242ac110002', 'invitationTypeID': 'e871403c-a79c-11ed-b76e-0242ac110002', 'invitationTypeName': 'přijal', 'presencesCount': 10}, {'groupID': '2d9dcd22-a4a2-11ed-b9df-0242ac120003', 'groupName': 'Uni', 'userID': '89d1f638-ae0f-11ed-9bd8-0242ac110002', 'userFullname': 'Nora Newbie', 'eventID': '45b2df80-ae0f-11ed-9bd8-0242ac110002', 'eventName': 'Zkouška', 'startdate': '2023-04-19T08:00:00', 'eventEndDate': '2023-04-19T09:00:00', 'presenceID': '89d1f3ae-ae0f-11ed-9bd8-0242ac110002', 'invitationTypeID': 'e871403c-a79c-11ed-b76e-0242ac110002', 'invitationTypeName': 'přijal', 'presencesCount': 10}, {'groupID': '2d9dcd22-a4a2-11ed-b9df-0242ac120003', 'groupName': 'Uni', 'userID': '89d1f638-ae0f-11ed-9bd8-0242ac110002', 'userFullname': 'Nora Newbie', 'eventID': '45b2df80-ae0f-11ed-9bd8-0242ac110002', 'eventName': 'Zkouška', 'startdate': '2023-04-19T08:00:00', 'eventEndDate': '2023-04-19T09:00:00', 'presenceID': '89d1f412-ae0f-11ed-9bd8-0242ac110002', 'invitationTypeID': 'e871403c-a79c-11ed-b76e-0242ac110002', 'invitationTypeName': 'přijal', 'presencesCount': 10}, {'groupID': '2d9dcd22-a4a2-11ed-b9df-0242ac120003', 'groupName': 'Uni', 'userID': '89d1f638-ae0f-11ed-9bd8-0242ac110002', 'userFullname': 'Nora Newbie', 'eventID': '45b2df80-ae0f-11ed-9bd8-0242ac110002', 'eventName': 'Zkouška', 'startdate': '2023-04-19T08:00:00', 'eventEndDate': '2023-04-19T09:00:00', 'presenceID': '89d1f46c-ae0f-11ed-9bd8-0242ac110002', 'invitationTypeID': 'e871403c-a79c-11ed-b76e-0242ac110002', 'invitationTypeName': 'přijal', 'presencesCount': 10}, {'groupID': '2d9dcd22-a4a2-11ed-b9df-0242ac120003', 'groupName': 'Uni', 'userID': '89d1f638-ae0f-11ed-9bd8-0242ac110002', 'userFullname': 'Nora Newbie', 'eventID': '45b2df80-ae0f-11ed-9bd8-0242ac110002', 'eventName': 'Zkouška', 'startdate': '2023-04-19T08:00:00', 'eventEndDate': '2023-04-19T09:00:00', 'presenceID': '89d1f4c6-ae0f-11ed-9bd8-0242ac110002', 'invitationTypeID': 'e871403c-a79c-11ed-b76e-0242ac110002', 'invitationTypeName': 'přijal', 'presencesCount': 10}, {'groupID': '2d9dcd22-a4a2-11ed-b9df-0242ac120003', 'groupName': 'Uni', 'userID': '89d1f638-ae0f-11ed-9bd8-0242ac110002', 'userFullname': 'Nora Newbie', 'eventID': '45b2df80-ae0f-11ed-9bd8-0242ac110002', 'eventName': 'Zkouška', 'startdate': '2023-04-19T08:00:00', 'eventEndDate': '2023-04-19T09:00:00', 'presenceID': '89d1f520-ae0f-11ed-9bd8-0242ac110002', 'invitationTypeID': 'e871403c-a79c-11ed-b76e-0242ac110002', 'invitationTypeName': 'přijal', 'presencesCount': 10}, {'groupID': '2d9dcd22-a4a2-11ed-b9df-0242ac120003', 'groupName': 'Uni', 'userID': '89d1f638-ae0f-11ed-9bd8-0242ac110002', 'userFullname': 'Nora Newbie', 'eventID': '45b2df80-ae0f-11ed-9bd8-0242ac110002', 'eventName': 'Zkouška', 'startdate': '2023-04-19T08:00:00', 'eventEndDate': '2023-04-19T09:00:00', 'presenceID': '89d1f570-ae0f-11ed-9bd8-0242ac110002', 'invitationTypeID': 'e871403c-a79c-11ed-b76e-0242ac110002', 'invitationTypeName': 'přijal', 'presencesCount': 10}, {'groupID': '2d9dcd22-a4a2-11ed-b9df-0242ac120003', 'groupName': 'Uni', 'userID': '89d1f638-ae0f-11ed-9bd8-0242ac110002', 'userFullname': 'Nora Newbie', 'eventID': '45b2df80-ae0f-11ed-9bd8-0242ac110002', 'eventName': 'Zkouška', 'startdate': '2023-04-19T08:00:00', 'eventEndDate': '2023-04-19T09:00:00', 'presenceID': '89d1f5ca-ae0f-11ed-9bd8-0242ac110002', 'invitationTypeID': 'e871403c-a79c-11ed-b76e-0242ac110002', 'invitationTypeName': 'přijal', 'presencesCount': 10}, {'groupID': '2d9dcd22-a4a2-11ed-b9df-0242ac120003', 'groupName': 'Uni', 'userID': '89d1f638-ae0f-11ed-9bd8-0242ac110002', 'userFullname': 'Nora Newbie', 'eventID': '45b2df80-ae0f-11ed-9bd8-0242ac110002', 'eventName': 'Zkouška', 'startdate': '2023-04-19T08:00:00', 'eventEndDate': '2023-04-19T09:00:00', 'presenceID': '89d1f624-ae0f-11ed-9bd8-0242ac110002', 'invitationTypeID': 'e871403c-a79c-11ed-b76e-0242ac110002', 'invitationTypeName': 'přijal', 'presencesCount': 10}]\n",
      "json Dumped\n"
     ]
    }
   ],
   "source": [
    "async def fullPipe():\n",
    "    token = await getToken(username, password)\n",
    "    qfunc = query(queryStr, token)\n",
    "    response = await qfunc({})\n",
    "    print(response)\n",
    "    data = response.get(\"data\", None)\n",
    "    \n",
    "    # Debugging statement to inspect the structure\n",
    "    print(\"Data:\", data)\n",
    "    \n",
    "    # Check if data is not None and is a dictionary\n",
    "    if not data or not isinstance(data, dict):\n",
    "        raise ValueError(\"Invalid response data structure\")\n",
    "    \n",
    "    groupPage = data.get(\"groupPage\")\n",
    "    \n",
    "    # Ensure groupPage is a dictionary and extract memberships\n",
    "    memberships = []\n",
    "    if isinstance(groupPage, list) and len(groupPage) > 0:\n",
    "        memberships = groupPage[0].get(\"memberships\", [])\n",
    "    elif isinstance(groupPage, dict):\n",
    "        memberships = groupPage.get(\"memberships\", [])\n",
    "\n",
    "    # Flatten and map the data using list comprehensions\n",
    "    resultMapped = []\n",
    "    for membership in memberships:\n",
    "        group = membership.get(\"group\", {})\n",
    "        user = membership.get(\"user\", {})\n",
    "        events = user.get(\"events\", [])\n",
    "        for event in events:\n",
    "            presences = event.get(\"presences\", [])\n",
    "            for presence in presences:\n",
    "                resultMapped.append({\n",
    "                    \"groupID\": group.get(\"id\"),\n",
    "                    \"groupName\": group.get(\"name\"),\n",
    "                    \"userID\": user.get(\"id\"),\n",
    "                    \"userFullname\": user.get(\"fullname\"),\n",
    "                    \"eventID\": event.get(\"id\"),\n",
    "                    \"eventName\": event.get(\"name\"),\n",
    "                    \"startdate\": event.get(\"startdate\"),\n",
    "                    \"eventEndDate\": event.get(\"enddate\"),\n",
    "                    \"presenceID\": presence.get(\"id\"),\n",
    "                    \"invitationTypeID\": presence.get(\"invitationType\", {}).get(\"id\"),\n",
    "                    \"invitationTypeName\": presence.get(\"invitationType\", {}).get(\"name\"),\n",
    "                    \"presencesCount\": len(presences)\n",
    "                })\n",
    "\n",
    "    return resultMapped\n",
    "\n",
    "async def main():\n",
    "    flatData = await fullPipe()\n",
    "    print(flatData)\n",
    "    with open('resultNotebook.json', \"w\", encoding='utf-8') as outputFile:\n",
    "        json.dump(flatData, outputFile)\n",
    "        print(\"json Dumped\")\n",
    "\n",
    "await main()\n"
   ]
  },
  {
   "cell_type": "markdown",
   "metadata": {},
   "source": [
    "<h2>Tvorba tabulky</h2>"
   ]
  },
  {
   "cell_type": "code",
   "execution_count": 29,
   "metadata": {},
   "outputs": [
    {
     "name": "stdout",
     "output_type": "stream",
     "text": [
      "                                 groupID groupName                                userID userFullname                               eventID eventName            startdate         eventEndDate                            presenceID                      invitationTypeID invitationTypeName  presencesCount\n",
      "0   2d9dcd22-a4a2-11ed-b9df-0242ac120003       Uni  89d1e724-ae0f-11ed-9bd8-0242ac110002  Jana Newbie  45b2df80-ae0f-11ed-9bd8-0242ac110002   Zkouška  2023-04-19T08:00:00  2023-04-19T09:00:00  89d1e684-ae0f-11ed-9bd8-0242ac110002  e871403c-a79c-11ed-b76e-0242ac110002             přijal              10\n",
      "1   2d9dcd22-a4a2-11ed-b9df-0242ac120003       Uni  89d1e724-ae0f-11ed-9bd8-0242ac110002  Jana Newbie  45b2df80-ae0f-11ed-9bd8-0242ac110002   Zkouška  2023-04-19T08:00:00  2023-04-19T09:00:00  89d1f2d2-ae0f-11ed-9bd8-0242ac110002  e871403c-a79c-11ed-b76e-0242ac110002             přijal              10\n",
      "2   2d9dcd22-a4a2-11ed-b9df-0242ac120003       Uni  89d1e724-ae0f-11ed-9bd8-0242ac110002  Jana Newbie  45b2df80-ae0f-11ed-9bd8-0242ac110002   Zkouška  2023-04-19T08:00:00  2023-04-19T09:00:00  89d1f3ae-ae0f-11ed-9bd8-0242ac110002  e871403c-a79c-11ed-b76e-0242ac110002             přijal              10\n",
      "3   2d9dcd22-a4a2-11ed-b9df-0242ac120003       Uni  89d1e724-ae0f-11ed-9bd8-0242ac110002  Jana Newbie  45b2df80-ae0f-11ed-9bd8-0242ac110002   Zkouška  2023-04-19T08:00:00  2023-04-19T09:00:00  89d1f412-ae0f-11ed-9bd8-0242ac110002  e871403c-a79c-11ed-b76e-0242ac110002             přijal              10\n",
      "4   2d9dcd22-a4a2-11ed-b9df-0242ac120003       Uni  89d1e724-ae0f-11ed-9bd8-0242ac110002  Jana Newbie  45b2df80-ae0f-11ed-9bd8-0242ac110002   Zkouška  2023-04-19T08:00:00  2023-04-19T09:00:00  89d1f46c-ae0f-11ed-9bd8-0242ac110002  e871403c-a79c-11ed-b76e-0242ac110002             přijal              10\n",
      "..                                   ...       ...                                   ...          ...                                   ...       ...                  ...                  ...                                   ...                                   ...                ...             ...\n",
      "95  2d9dcd22-a4a2-11ed-b9df-0242ac120003       Uni  89d1f638-ae0f-11ed-9bd8-0242ac110002  Nora Newbie  45b2df80-ae0f-11ed-9bd8-0242ac110002   Zkouška  2023-04-19T08:00:00  2023-04-19T09:00:00  89d1f4c6-ae0f-11ed-9bd8-0242ac110002  e871403c-a79c-11ed-b76e-0242ac110002             přijal              10\n",
      "96  2d9dcd22-a4a2-11ed-b9df-0242ac120003       Uni  89d1f638-ae0f-11ed-9bd8-0242ac110002  Nora Newbie  45b2df80-ae0f-11ed-9bd8-0242ac110002   Zkouška  2023-04-19T08:00:00  2023-04-19T09:00:00  89d1f520-ae0f-11ed-9bd8-0242ac110002  e871403c-a79c-11ed-b76e-0242ac110002             přijal              10\n",
      "97  2d9dcd22-a4a2-11ed-b9df-0242ac120003       Uni  89d1f638-ae0f-11ed-9bd8-0242ac110002  Nora Newbie  45b2df80-ae0f-11ed-9bd8-0242ac110002   Zkouška  2023-04-19T08:00:00  2023-04-19T09:00:00  89d1f570-ae0f-11ed-9bd8-0242ac110002  e871403c-a79c-11ed-b76e-0242ac110002             přijal              10\n",
      "98  2d9dcd22-a4a2-11ed-b9df-0242ac120003       Uni  89d1f638-ae0f-11ed-9bd8-0242ac110002  Nora Newbie  45b2df80-ae0f-11ed-9bd8-0242ac110002   Zkouška  2023-04-19T08:00:00  2023-04-19T09:00:00  89d1f5ca-ae0f-11ed-9bd8-0242ac110002  e871403c-a79c-11ed-b76e-0242ac110002             přijal              10\n",
      "99  2d9dcd22-a4a2-11ed-b9df-0242ac120003       Uni  89d1f638-ae0f-11ed-9bd8-0242ac110002  Nora Newbie  45b2df80-ae0f-11ed-9bd8-0242ac110002   Zkouška  2023-04-19T08:00:00  2023-04-19T09:00:00  89d1f624-ae0f-11ed-9bd8-0242ac110002  e871403c-a79c-11ed-b76e-0242ac110002             přijal              10\n",
      "\n",
      "[100 rows x 12 columns]\n"
     ]
    }
   ],
   "source": [
    "with open(\"resultNotebook.json\", \"r\") as file: #pro reálné data nahradit resultNotebook.json\n",
    "    data = json.load(file)\n",
    "\n",
    "pd.set_option('display.max_columns', None)\n",
    "pd.set_option('display.expand_frame_repr', False)\n",
    "df = pd.DataFrame(data)\n",
    "\n",
    "print(df)"
   ]
  },
  {
   "cell_type": "markdown",
   "metadata": {},
   "source": [
    "<h2>Tvorba grafů</h2>"
   ]
  },
  {
   "cell_type": "code",
   "execution_count": 30,
   "metadata": {},
   "outputs": [
    {
     "name": "stdout",
     "output_type": "stream",
     "text": [
      "[{'userID': '89d1e724-ae0f-11ed-9bd8-0242ac110002', 'userFullname': 'Jana Newbie', 'eventID': '45b2df80-ae0f-11ed-9bd8-0242ac110002', 'eventName': 'ABT', 'invitationTypeID': 'e8713b6e-a79c-11ed-b76e-0242ac110002', 'invitationTypeName': 'organizator', 'lessonLength': 900}, {'userID': '89d1e724-ae0f-11ed-9bd8-0242ac110002', 'userFullname': 'Jana Newbie', 'eventID': '45b2df80-ae0f-11ed-9bd8-0242ac110002', 'eventName': 'AIZ', 'invitationTypeID': 'e8713b6e-a79c-11ed-b76e-0242ac110002', 'invitationTypeName': 'organizator', 'lessonLength': 900}, {'userID': '29d1e724-ae0f-11ed-9bd8-0242ac110002', 'userFullname': 'Karel Nekarel', 'eventID': '45b2df80-ae0f-11ed-9bd8-0242ac110002', 'eventName': 'INF', 'invitationTypeID': 'e8713b6e-a79c-11ed-b76e-0242ac110002', 'invitationTypeName': 'organizator', 'lessonLength': 1350}, {'userID': '29d1e724-ae0f-11ed-9bd8-0242ac110002', 'userFullname': 'Ivan Pytel', 'eventID': '45b2df80-ae0f-11ed-9bd8-0242ac110002', 'eventName': 'ZaP', 'invitationTypeID': 'e8713b6e-a79c-11ed-b76e-0242ac110002', 'invitationTypeName': 'organizator', 'lessonLength': 360}]\n"
     ]
    }
   ],
   "source": [
    "import json\n",
    "import aiofiles\n",
    "from typing import List, Union, Dict\n",
    "import asyncio\n",
    "\n",
    "async def load_json_data(path: str) -> Union[List, None]:\n",
    "    try:\n",
    "        async with aiofiles.open(path, 'r', encoding='utf-8') as file:\n",
    "            data = await file.read()\n",
    "            return json.loads(data)\n",
    "    except FileNotFoundError:\n",
    "        print(f\"Provided file path does not exist.\")\n",
    "        return None\n",
    "    except Exception as e:\n",
    "        print(f\"Error {e}\")\n",
    "        return None\n",
    "\n",
    "async def user_attendance(data: List[Dict]) -> List[Dict]:\n",
    "    source_table = []\n",
    "    is_teacher = \"e8713b6e-a79c-11ed-b76e-0242ac110002\"  # Replace with your specific user ID if needed\n",
    "    is_specific_group =\"groupIdOfK209\"\n",
    "\n",
    "    for item in data:\n",
    "            if item['invitationTypeID'] == is_teacher:\n",
    "                if item['groupID'] == is_specific_group:\n",
    "                    row = {\n",
    "                        \"userID\": item['userID'],\n",
    "                        \"userFullname\": item['userFullname'],\n",
    "                        \"eventID\": item['eventID'],\n",
    "                        \"eventName\": item['eventName'],\n",
    "                        \"invitationTypeID\": item['invitationTypeID'],\n",
    "                        \"invitationTypeName\": item['invitationTypeName'],\n",
    "                        \"lessonLength\": item['presencesCount'] * 90,  # in minutes\n",
    "                    }\n",
    "                    source_table.append(row)\n",
    "\n",
    "    print(source_table)\n",
    "\n",
    "    async with aiofiles.open('resultpokus.json', \"w\", encoding='utf-8') as output_file:\n",
    "        await output_file.write(json.dumps(source_table, ensure_ascii=False, indent=4))\n",
    "\n",
    "async def main():\n",
    "    data = await load_json_data('resultFake.json')\n",
    "    if data:\n",
    "        await user_attendance(data)\n",
    "\n",
    "# If running in an environment that already has an event loop\n",
    "try:\n",
    "    loop = asyncio.get_event_loop()\n",
    "    if loop.is_running():\n",
    "        await main()  # Directly await main if the event loop is already running\n",
    "    else:\n",
    "        loop.run_until_complete(main())\n",
    "except RuntimeError as e:\n",
    "    if \"This event loop is already running\" in str(e):\n",
    "        await main()  # Directly await main if the event loop is already running\n",
    "    else:\n",
    "        raise\n"
   ]
  },
  {
   "cell_type": "code",
   "execution_count": 31,
   "metadata": {},
   "outputs": [
    {
     "data": {
      "application/vnd.plotly.v1+json": {
       "config": {
        "plotlyServerURL": "https://plot.ly"
       },
       "data": [
        {
         "domain": {
          "x": [
           0,
           1
          ],
          "y": [
           0,
           1
          ]
         },
         "hovertemplate": "label=%{label}<br>value=%{value}<extra></extra>",
         "labels": [
          "Jana Newbie - ABT",
          "Jana Newbie - AIZ",
          "Karel Nekarel - INF",
          "Ivan Pytel - ZaP"
         ],
         "legendgroup": "",
         "name": "",
         "showlegend": true,
         "type": "pie",
         "values": [
          900,
          900,
          1350,
          360
         ]
        }
       ],
       "layout": {
        "legend": {
         "tracegroupgap": 0
        },
        "template": {
         "data": {
          "bar": [
           {
            "error_x": {
             "color": "#2a3f5f"
            },
            "error_y": {
             "color": "#2a3f5f"
            },
            "marker": {
             "line": {
              "color": "#E5ECF6",
              "width": 0.5
             },
             "pattern": {
              "fillmode": "overlay",
              "size": 10,
              "solidity": 0.2
             }
            },
            "type": "bar"
           }
          ],
          "barpolar": [
           {
            "marker": {
             "line": {
              "color": "#E5ECF6",
              "width": 0.5
             },
             "pattern": {
              "fillmode": "overlay",
              "size": 10,
              "solidity": 0.2
             }
            },
            "type": "barpolar"
           }
          ],
          "carpet": [
           {
            "aaxis": {
             "endlinecolor": "#2a3f5f",
             "gridcolor": "white",
             "linecolor": "white",
             "minorgridcolor": "white",
             "startlinecolor": "#2a3f5f"
            },
            "baxis": {
             "endlinecolor": "#2a3f5f",
             "gridcolor": "white",
             "linecolor": "white",
             "minorgridcolor": "white",
             "startlinecolor": "#2a3f5f"
            },
            "type": "carpet"
           }
          ],
          "choropleth": [
           {
            "colorbar": {
             "outlinewidth": 0,
             "ticks": ""
            },
            "type": "choropleth"
           }
          ],
          "contour": [
           {
            "colorbar": {
             "outlinewidth": 0,
             "ticks": ""
            },
            "colorscale": [
             [
              0,
              "#0d0887"
             ],
             [
              0.1111111111111111,
              "#46039f"
             ],
             [
              0.2222222222222222,
              "#7201a8"
             ],
             [
              0.3333333333333333,
              "#9c179e"
             ],
             [
              0.4444444444444444,
              "#bd3786"
             ],
             [
              0.5555555555555556,
              "#d8576b"
             ],
             [
              0.6666666666666666,
              "#ed7953"
             ],
             [
              0.7777777777777778,
              "#fb9f3a"
             ],
             [
              0.8888888888888888,
              "#fdca26"
             ],
             [
              1,
              "#f0f921"
             ]
            ],
            "type": "contour"
           }
          ],
          "contourcarpet": [
           {
            "colorbar": {
             "outlinewidth": 0,
             "ticks": ""
            },
            "type": "contourcarpet"
           }
          ],
          "heatmap": [
           {
            "colorbar": {
             "outlinewidth": 0,
             "ticks": ""
            },
            "colorscale": [
             [
              0,
              "#0d0887"
             ],
             [
              0.1111111111111111,
              "#46039f"
             ],
             [
              0.2222222222222222,
              "#7201a8"
             ],
             [
              0.3333333333333333,
              "#9c179e"
             ],
             [
              0.4444444444444444,
              "#bd3786"
             ],
             [
              0.5555555555555556,
              "#d8576b"
             ],
             [
              0.6666666666666666,
              "#ed7953"
             ],
             [
              0.7777777777777778,
              "#fb9f3a"
             ],
             [
              0.8888888888888888,
              "#fdca26"
             ],
             [
              1,
              "#f0f921"
             ]
            ],
            "type": "heatmap"
           }
          ],
          "heatmapgl": [
           {
            "colorbar": {
             "outlinewidth": 0,
             "ticks": ""
            },
            "colorscale": [
             [
              0,
              "#0d0887"
             ],
             [
              0.1111111111111111,
              "#46039f"
             ],
             [
              0.2222222222222222,
              "#7201a8"
             ],
             [
              0.3333333333333333,
              "#9c179e"
             ],
             [
              0.4444444444444444,
              "#bd3786"
             ],
             [
              0.5555555555555556,
              "#d8576b"
             ],
             [
              0.6666666666666666,
              "#ed7953"
             ],
             [
              0.7777777777777778,
              "#fb9f3a"
             ],
             [
              0.8888888888888888,
              "#fdca26"
             ],
             [
              1,
              "#f0f921"
             ]
            ],
            "type": "heatmapgl"
           }
          ],
          "histogram": [
           {
            "marker": {
             "pattern": {
              "fillmode": "overlay",
              "size": 10,
              "solidity": 0.2
             }
            },
            "type": "histogram"
           }
          ],
          "histogram2d": [
           {
            "colorbar": {
             "outlinewidth": 0,
             "ticks": ""
            },
            "colorscale": [
             [
              0,
              "#0d0887"
             ],
             [
              0.1111111111111111,
              "#46039f"
             ],
             [
              0.2222222222222222,
              "#7201a8"
             ],
             [
              0.3333333333333333,
              "#9c179e"
             ],
             [
              0.4444444444444444,
              "#bd3786"
             ],
             [
              0.5555555555555556,
              "#d8576b"
             ],
             [
              0.6666666666666666,
              "#ed7953"
             ],
             [
              0.7777777777777778,
              "#fb9f3a"
             ],
             [
              0.8888888888888888,
              "#fdca26"
             ],
             [
              1,
              "#f0f921"
             ]
            ],
            "type": "histogram2d"
           }
          ],
          "histogram2dcontour": [
           {
            "colorbar": {
             "outlinewidth": 0,
             "ticks": ""
            },
            "colorscale": [
             [
              0,
              "#0d0887"
             ],
             [
              0.1111111111111111,
              "#46039f"
             ],
             [
              0.2222222222222222,
              "#7201a8"
             ],
             [
              0.3333333333333333,
              "#9c179e"
             ],
             [
              0.4444444444444444,
              "#bd3786"
             ],
             [
              0.5555555555555556,
              "#d8576b"
             ],
             [
              0.6666666666666666,
              "#ed7953"
             ],
             [
              0.7777777777777778,
              "#fb9f3a"
             ],
             [
              0.8888888888888888,
              "#fdca26"
             ],
             [
              1,
              "#f0f921"
             ]
            ],
            "type": "histogram2dcontour"
           }
          ],
          "mesh3d": [
           {
            "colorbar": {
             "outlinewidth": 0,
             "ticks": ""
            },
            "type": "mesh3d"
           }
          ],
          "parcoords": [
           {
            "line": {
             "colorbar": {
              "outlinewidth": 0,
              "ticks": ""
             }
            },
            "type": "parcoords"
           }
          ],
          "pie": [
           {
            "automargin": true,
            "type": "pie"
           }
          ],
          "scatter": [
           {
            "fillpattern": {
             "fillmode": "overlay",
             "size": 10,
             "solidity": 0.2
            },
            "type": "scatter"
           }
          ],
          "scatter3d": [
           {
            "line": {
             "colorbar": {
              "outlinewidth": 0,
              "ticks": ""
             }
            },
            "marker": {
             "colorbar": {
              "outlinewidth": 0,
              "ticks": ""
             }
            },
            "type": "scatter3d"
           }
          ],
          "scattercarpet": [
           {
            "marker": {
             "colorbar": {
              "outlinewidth": 0,
              "ticks": ""
             }
            },
            "type": "scattercarpet"
           }
          ],
          "scattergeo": [
           {
            "marker": {
             "colorbar": {
              "outlinewidth": 0,
              "ticks": ""
             }
            },
            "type": "scattergeo"
           }
          ],
          "scattergl": [
           {
            "marker": {
             "colorbar": {
              "outlinewidth": 0,
              "ticks": ""
             }
            },
            "type": "scattergl"
           }
          ],
          "scattermapbox": [
           {
            "marker": {
             "colorbar": {
              "outlinewidth": 0,
              "ticks": ""
             }
            },
            "type": "scattermapbox"
           }
          ],
          "scatterpolar": [
           {
            "marker": {
             "colorbar": {
              "outlinewidth": 0,
              "ticks": ""
             }
            },
            "type": "scatterpolar"
           }
          ],
          "scatterpolargl": [
           {
            "marker": {
             "colorbar": {
              "outlinewidth": 0,
              "ticks": ""
             }
            },
            "type": "scatterpolargl"
           }
          ],
          "scatterternary": [
           {
            "marker": {
             "colorbar": {
              "outlinewidth": 0,
              "ticks": ""
             }
            },
            "type": "scatterternary"
           }
          ],
          "surface": [
           {
            "colorbar": {
             "outlinewidth": 0,
             "ticks": ""
            },
            "colorscale": [
             [
              0,
              "#0d0887"
             ],
             [
              0.1111111111111111,
              "#46039f"
             ],
             [
              0.2222222222222222,
              "#7201a8"
             ],
             [
              0.3333333333333333,
              "#9c179e"
             ],
             [
              0.4444444444444444,
              "#bd3786"
             ],
             [
              0.5555555555555556,
              "#d8576b"
             ],
             [
              0.6666666666666666,
              "#ed7953"
             ],
             [
              0.7777777777777778,
              "#fb9f3a"
             ],
             [
              0.8888888888888888,
              "#fdca26"
             ],
             [
              1,
              "#f0f921"
             ]
            ],
            "type": "surface"
           }
          ],
          "table": [
           {
            "cells": {
             "fill": {
              "color": "#EBF0F8"
             },
             "line": {
              "color": "white"
             }
            },
            "header": {
             "fill": {
              "color": "#C8D4E3"
             },
             "line": {
              "color": "white"
             }
            },
            "type": "table"
           }
          ]
         },
         "layout": {
          "annotationdefaults": {
           "arrowcolor": "#2a3f5f",
           "arrowhead": 0,
           "arrowwidth": 1
          },
          "autotypenumbers": "strict",
          "coloraxis": {
           "colorbar": {
            "outlinewidth": 0,
            "ticks": ""
           }
          },
          "colorscale": {
           "diverging": [
            [
             0,
             "#8e0152"
            ],
            [
             0.1,
             "#c51b7d"
            ],
            [
             0.2,
             "#de77ae"
            ],
            [
             0.3,
             "#f1b6da"
            ],
            [
             0.4,
             "#fde0ef"
            ],
            [
             0.5,
             "#f7f7f7"
            ],
            [
             0.6,
             "#e6f5d0"
            ],
            [
             0.7,
             "#b8e186"
            ],
            [
             0.8,
             "#7fbc41"
            ],
            [
             0.9,
             "#4d9221"
            ],
            [
             1,
             "#276419"
            ]
           ],
           "sequential": [
            [
             0,
             "#0d0887"
            ],
            [
             0.1111111111111111,
             "#46039f"
            ],
            [
             0.2222222222222222,
             "#7201a8"
            ],
            [
             0.3333333333333333,
             "#9c179e"
            ],
            [
             0.4444444444444444,
             "#bd3786"
            ],
            [
             0.5555555555555556,
             "#d8576b"
            ],
            [
             0.6666666666666666,
             "#ed7953"
            ],
            [
             0.7777777777777778,
             "#fb9f3a"
            ],
            [
             0.8888888888888888,
             "#fdca26"
            ],
            [
             1,
             "#f0f921"
            ]
           ],
           "sequentialminus": [
            [
             0,
             "#0d0887"
            ],
            [
             0.1111111111111111,
             "#46039f"
            ],
            [
             0.2222222222222222,
             "#7201a8"
            ],
            [
             0.3333333333333333,
             "#9c179e"
            ],
            [
             0.4444444444444444,
             "#bd3786"
            ],
            [
             0.5555555555555556,
             "#d8576b"
            ],
            [
             0.6666666666666666,
             "#ed7953"
            ],
            [
             0.7777777777777778,
             "#fb9f3a"
            ],
            [
             0.8888888888888888,
             "#fdca26"
            ],
            [
             1,
             "#f0f921"
            ]
           ]
          },
          "colorway": [
           "#636efa",
           "#EF553B",
           "#00cc96",
           "#ab63fa",
           "#FFA15A",
           "#19d3f3",
           "#FF6692",
           "#B6E880",
           "#FF97FF",
           "#FECB52"
          ],
          "font": {
           "color": "#2a3f5f"
          },
          "geo": {
           "bgcolor": "white",
           "lakecolor": "white",
           "landcolor": "#E5ECF6",
           "showlakes": true,
           "showland": true,
           "subunitcolor": "white"
          },
          "hoverlabel": {
           "align": "left"
          },
          "hovermode": "closest",
          "mapbox": {
           "style": "light"
          },
          "paper_bgcolor": "white",
          "plot_bgcolor": "#E5ECF6",
          "polar": {
           "angularaxis": {
            "gridcolor": "white",
            "linecolor": "white",
            "ticks": ""
           },
           "bgcolor": "#E5ECF6",
           "radialaxis": {
            "gridcolor": "white",
            "linecolor": "white",
            "ticks": ""
           }
          },
          "scene": {
           "xaxis": {
            "backgroundcolor": "#E5ECF6",
            "gridcolor": "white",
            "gridwidth": 2,
            "linecolor": "white",
            "showbackground": true,
            "ticks": "",
            "zerolinecolor": "white"
           },
           "yaxis": {
            "backgroundcolor": "#E5ECF6",
            "gridcolor": "white",
            "gridwidth": 2,
            "linecolor": "white",
            "showbackground": true,
            "ticks": "",
            "zerolinecolor": "white"
           },
           "zaxis": {
            "backgroundcolor": "#E5ECF6",
            "gridcolor": "white",
            "gridwidth": 2,
            "linecolor": "white",
            "showbackground": true,
            "ticks": "",
            "zerolinecolor": "white"
           }
          },
          "shapedefaults": {
           "line": {
            "color": "#2a3f5f"
           }
          },
          "ternary": {
           "aaxis": {
            "gridcolor": "white",
            "linecolor": "white",
            "ticks": ""
           },
           "baxis": {
            "gridcolor": "white",
            "linecolor": "white",
            "ticks": ""
           },
           "bgcolor": "#E5ECF6",
           "caxis": {
            "gridcolor": "white",
            "linecolor": "white",
            "ticks": ""
           }
          },
          "title": {
           "x": 0.05
          },
          "xaxis": {
           "automargin": true,
           "gridcolor": "white",
           "linecolor": "white",
           "ticks": "",
           "title": {
            "standoff": 15
           },
           "zerolinecolor": "white",
           "zerolinewidth": 2
          },
          "yaxis": {
           "automargin": true,
           "gridcolor": "white",
           "linecolor": "white",
           "ticks": "",
           "title": {
            "standoff": 15
           },
           "zerolinecolor": "white",
           "zerolinewidth": 2
          }
         }
        },
        "title": {
         "text": "Lesson Length Distribution by User and Event"
        }
       }
      }
     },
     "metadata": {},
     "output_type": "display_data"
    }
   ],
   "source": [
    "import json\n",
    "import plotly.express as px\n",
    "\n",
    "# JSON data\n",
    "# TODOresult a fakedata upravit\n",
    "with open('resultpokus.json', 'r') as file:\n",
    "    data = json.load(file)\n",
    "\n",
    "# Extract information for the pie chart\n",
    "labels = [f\"{item['userFullname']} - {item['eventName']}\" for item in data]\n",
    "sizes = [item['lessonLength'] for item in data]\n",
    "\n",
    "# Create a pie chart using Plotly\n",
    "fig = px.pie(values=sizes, names=labels, title='Lesson Length Distribution by User and Event')\n",
    "\n",
    "# Show the pie chart\n",
    "fig.show()\n"
   ]
  },
  {
   "cell_type": "code",
   "execution_count": 39,
   "metadata": {},
   "outputs": [
    {
     "ename": "ValueError",
     "evalue": "Value of 'path_0' is not the name of a column in 'data_frame'. Expected one of ['groupName', 'userFullname', 'presencesCount'] but received: groupID",
     "output_type": "error",
     "traceback": [
      "\u001b[1;31m---------------------------------------------------------------------------\u001b[0m",
      "\u001b[1;31mValueError\u001b[0m                                Traceback (most recent call last)",
      "Cell \u001b[1;32mIn[39], line 12\u001b[0m\n\u001b[0;32m      9\u001b[0m df_aggregated \u001b[38;5;241m=\u001b[39m df\u001b[38;5;241m.\u001b[39mgroupby([\u001b[38;5;124m'\u001b[39m\u001b[38;5;124mgroupName\u001b[39m\u001b[38;5;124m'\u001b[39m, \u001b[38;5;124m'\u001b[39m\u001b[38;5;124muserFullname\u001b[39m\u001b[38;5;124m'\u001b[39m])\u001b[38;5;241m.\u001b[39magg({\u001b[38;5;124m'\u001b[39m\u001b[38;5;124mpresencesCount\u001b[39m\u001b[38;5;124m'\u001b[39m: \u001b[38;5;124m'\u001b[39m\u001b[38;5;124msum\u001b[39m\u001b[38;5;124m'\u001b[39m})\u001b[38;5;241m.\u001b[39mreset_index()\n\u001b[0;32m     11\u001b[0m \u001b[38;5;66;03m# Vytvoření sunburst grafu\u001b[39;00m\n\u001b[1;32m---> 12\u001b[0m fig_sunburst \u001b[38;5;241m=\u001b[39m \u001b[43mpx\u001b[49m\u001b[38;5;241;43m.\u001b[39;49m\u001b[43msunburst\u001b[49m\u001b[43m(\u001b[49m\n\u001b[0;32m     13\u001b[0m \u001b[43m    \u001b[49m\u001b[43mdf_aggregated\u001b[49m\u001b[43m,\u001b[49m\n\u001b[0;32m     14\u001b[0m \u001b[43m    \u001b[49m\u001b[43mpath\u001b[49m\u001b[38;5;241;43m=\u001b[39;49m\u001b[43m[\u001b[49m\u001b[38;5;124;43m'\u001b[39;49m\u001b[38;5;124;43mgroupID\u001b[39;49m\u001b[38;5;124;43m'\u001b[39;49m\u001b[43m,\u001b[49m\u001b[43m \u001b[49m\u001b[38;5;124;43m'\u001b[39;49m\u001b[38;5;124;43muserFullname\u001b[39;49m\u001b[38;5;124;43m'\u001b[39;49m\u001b[43m,\u001b[49m\u001b[43m \u001b[49m\u001b[38;5;124;43m'\u001b[39;49m\u001b[38;5;124;43mpresencesCount\u001b[39;49m\u001b[38;5;124;43m'\u001b[39;49m\u001b[43m]\u001b[49m\u001b[43m,\u001b[49m\n\u001b[0;32m     15\u001b[0m \u001b[43m    \u001b[49m\u001b[43mvalues\u001b[49m\u001b[38;5;241;43m=\u001b[39;49m\u001b[38;5;124;43m'\u001b[39;49m\u001b[38;5;124;43mpresencesCount\u001b[39;49m\u001b[38;5;124;43m'\u001b[39;49m\u001b[43m,\u001b[49m\u001b[43m \u001b[49m\n\u001b[0;32m     16\u001b[0m \u001b[43m    \u001b[49m\u001b[43mtitle\u001b[49m\u001b[38;5;241;43m=\u001b[39;49m\u001b[38;5;124;43m'\u001b[39;49m\u001b[38;5;124;43mPřehled přítomnosti podle skupin a uživatelů\u001b[39;49m\u001b[38;5;124;43m'\u001b[39;49m\n\u001b[0;32m     17\u001b[0m \u001b[43m)\u001b[49m\n\u001b[0;32m     19\u001b[0m \u001b[38;5;66;03m# Aktualizace layoutu grafu\u001b[39;00m\n\u001b[0;32m     20\u001b[0m fig_sunburst\u001b[38;5;241m.\u001b[39mupdate_layout(\n\u001b[0;32m     21\u001b[0m     width\u001b[38;5;241m=\u001b[39m\u001b[38;5;241m800\u001b[39m,  \n\u001b[0;32m     22\u001b[0m     height\u001b[38;5;241m=\u001b[39m\u001b[38;5;241m800\u001b[39m \n\u001b[0;32m     23\u001b[0m )\n",
      "File \u001b[1;32mc:\\Users\\Freedom\\AppData\\Local\\Programs\\Python\\Python312\\Lib\\site-packages\\plotly\\express\\_chart_types.py:1541\u001b[0m, in \u001b[0;36msunburst\u001b[1;34m(data_frame, names, values, parents, path, ids, color, color_continuous_scale, range_color, color_continuous_midpoint, color_discrete_sequence, color_discrete_map, hover_name, hover_data, custom_data, labels, title, template, width, height, branchvalues, maxdepth)\u001b[0m\n\u001b[0;32m   1539\u001b[0m \u001b[38;5;28;01mif\u001b[39;00m path \u001b[38;5;129;01mis\u001b[39;00m \u001b[38;5;129;01mnot\u001b[39;00m \u001b[38;5;28;01mNone\u001b[39;00m \u001b[38;5;129;01mand\u001b[39;00m branchvalues \u001b[38;5;129;01mis\u001b[39;00m \u001b[38;5;28;01mNone\u001b[39;00m:\n\u001b[0;32m   1540\u001b[0m     branchvalues \u001b[38;5;241m=\u001b[39m \u001b[38;5;124m\"\u001b[39m\u001b[38;5;124mtotal\u001b[39m\u001b[38;5;124m\"\u001b[39m\n\u001b[1;32m-> 1541\u001b[0m \u001b[38;5;28;01mreturn\u001b[39;00m \u001b[43mmake_figure\u001b[49m\u001b[43m(\u001b[49m\n\u001b[0;32m   1542\u001b[0m \u001b[43m    \u001b[49m\u001b[43margs\u001b[49m\u001b[38;5;241;43m=\u001b[39;49m\u001b[38;5;28;43mlocals\u001b[39;49m\u001b[43m(\u001b[49m\u001b[43m)\u001b[49m\u001b[43m,\u001b[49m\n\u001b[0;32m   1543\u001b[0m \u001b[43m    \u001b[49m\u001b[43mconstructor\u001b[49m\u001b[38;5;241;43m=\u001b[39;49m\u001b[43mgo\u001b[49m\u001b[38;5;241;43m.\u001b[39;49m\u001b[43mSunburst\u001b[49m\u001b[43m,\u001b[49m\n\u001b[0;32m   1544\u001b[0m \u001b[43m    \u001b[49m\u001b[43mtrace_patch\u001b[49m\u001b[38;5;241;43m=\u001b[39;49m\u001b[38;5;28;43mdict\u001b[39;49m\u001b[43m(\u001b[49m\u001b[43mbranchvalues\u001b[49m\u001b[38;5;241;43m=\u001b[39;49m\u001b[43mbranchvalues\u001b[49m\u001b[43m,\u001b[49m\u001b[43m \u001b[49m\u001b[43mmaxdepth\u001b[49m\u001b[38;5;241;43m=\u001b[39;49m\u001b[43mmaxdepth\u001b[49m\u001b[43m)\u001b[49m\u001b[43m,\u001b[49m\n\u001b[0;32m   1545\u001b[0m \u001b[43m    \u001b[49m\u001b[43mlayout_patch\u001b[49m\u001b[38;5;241;43m=\u001b[39;49m\u001b[43mlayout_patch\u001b[49m\u001b[43m,\u001b[49m\n\u001b[0;32m   1546\u001b[0m \u001b[43m\u001b[49m\u001b[43m)\u001b[49m\n",
      "File \u001b[1;32mc:\\Users\\Freedom\\AppData\\Local\\Programs\\Python\\Python312\\Lib\\site-packages\\plotly\\express\\_core.py:2090\u001b[0m, in \u001b[0;36mmake_figure\u001b[1;34m(args, constructor, trace_patch, layout_patch)\u001b[0m\n\u001b[0;32m   2087\u001b[0m layout_patch \u001b[38;5;241m=\u001b[39m layout_patch \u001b[38;5;129;01mor\u001b[39;00m {}\n\u001b[0;32m   2088\u001b[0m apply_default_cascade(args)\n\u001b[1;32m-> 2090\u001b[0m args \u001b[38;5;241m=\u001b[39m \u001b[43mbuild_dataframe\u001b[49m\u001b[43m(\u001b[49m\u001b[43margs\u001b[49m\u001b[43m,\u001b[49m\u001b[43m \u001b[49m\u001b[43mconstructor\u001b[49m\u001b[43m)\u001b[49m\n\u001b[0;32m   2091\u001b[0m \u001b[38;5;28;01mif\u001b[39;00m constructor \u001b[38;5;129;01min\u001b[39;00m [go\u001b[38;5;241m.\u001b[39mTreemap, go\u001b[38;5;241m.\u001b[39mSunburst, go\u001b[38;5;241m.\u001b[39mIcicle] \u001b[38;5;129;01mand\u001b[39;00m args[\u001b[38;5;124m\"\u001b[39m\u001b[38;5;124mpath\u001b[39m\u001b[38;5;124m\"\u001b[39m] \u001b[38;5;129;01mis\u001b[39;00m \u001b[38;5;129;01mnot\u001b[39;00m \u001b[38;5;28;01mNone\u001b[39;00m:\n\u001b[0;32m   2092\u001b[0m     args \u001b[38;5;241m=\u001b[39m process_dataframe_hierarchy(args)\n",
      "File \u001b[1;32mc:\\Users\\Freedom\\AppData\\Local\\Programs\\Python\\Python312\\Lib\\site-packages\\plotly\\express\\_core.py:1492\u001b[0m, in \u001b[0;36mbuild_dataframe\u001b[1;34m(args, constructor)\u001b[0m\n\u001b[0;32m   1489\u001b[0m     args[\u001b[38;5;124m\"\u001b[39m\u001b[38;5;124mcolor\u001b[39m\u001b[38;5;124m\"\u001b[39m] \u001b[38;5;241m=\u001b[39m \u001b[38;5;28;01mNone\u001b[39;00m\n\u001b[0;32m   1490\u001b[0m \u001b[38;5;66;03m# now that things have been prepped, we do the systematic rewriting of `args`\u001b[39;00m\n\u001b[1;32m-> 1492\u001b[0m df_output, wide_id_vars \u001b[38;5;241m=\u001b[39m \u001b[43mprocess_args_into_dataframe\u001b[49m\u001b[43m(\u001b[49m\n\u001b[0;32m   1493\u001b[0m \u001b[43m    \u001b[49m\u001b[43margs\u001b[49m\u001b[43m,\u001b[49m\u001b[43m \u001b[49m\u001b[43mwide_mode\u001b[49m\u001b[43m,\u001b[49m\u001b[43m \u001b[49m\u001b[43mvar_name\u001b[49m\u001b[43m,\u001b[49m\u001b[43m \u001b[49m\u001b[43mvalue_name\u001b[49m\n\u001b[0;32m   1494\u001b[0m \u001b[43m\u001b[49m\u001b[43m)\u001b[49m\n\u001b[0;32m   1496\u001b[0m \u001b[38;5;66;03m# now that `df_output` exists and `args` contains only references, we complete\u001b[39;00m\n\u001b[0;32m   1497\u001b[0m \u001b[38;5;66;03m# the special-case and wide-mode handling by further rewriting args and/or mutating\u001b[39;00m\n\u001b[0;32m   1498\u001b[0m \u001b[38;5;66;03m# df_output\u001b[39;00m\n\u001b[0;32m   1500\u001b[0m count_name \u001b[38;5;241m=\u001b[39m _escape_col_name(df_output, \u001b[38;5;124m\"\u001b[39m\u001b[38;5;124mcount\u001b[39m\u001b[38;5;124m\"\u001b[39m, [var_name, value_name])\n",
      "File \u001b[1;32mc:\\Users\\Freedom\\AppData\\Local\\Programs\\Python\\Python312\\Lib\\site-packages\\plotly\\express\\_core.py:1213\u001b[0m, in \u001b[0;36mprocess_args_into_dataframe\u001b[1;34m(args, wide_mode, var_name, value_name)\u001b[0m\n\u001b[0;32m   1211\u001b[0m         \u001b[38;5;28;01mif\u001b[39;00m argument \u001b[38;5;241m==\u001b[39m \u001b[38;5;124m\"\u001b[39m\u001b[38;5;124mindex\u001b[39m\u001b[38;5;124m\"\u001b[39m:\n\u001b[0;32m   1212\u001b[0m             err_msg \u001b[38;5;241m+\u001b[39m\u001b[38;5;241m=\u001b[39m \u001b[38;5;124m\"\u001b[39m\u001b[38;5;130;01m\\n\u001b[39;00m\u001b[38;5;124m To use the index, pass it in directly as `df.index`.\u001b[39m\u001b[38;5;124m\"\u001b[39m\n\u001b[1;32m-> 1213\u001b[0m         \u001b[38;5;28;01mraise\u001b[39;00m \u001b[38;5;167;01mValueError\u001b[39;00m(err_msg)\n\u001b[0;32m   1214\u001b[0m \u001b[38;5;28;01melif\u001b[39;00m length \u001b[38;5;129;01mand\u001b[39;00m \u001b[38;5;28mlen\u001b[39m(df_input[argument]) \u001b[38;5;241m!=\u001b[39m length:\n\u001b[0;32m   1215\u001b[0m     \u001b[38;5;28;01mraise\u001b[39;00m \u001b[38;5;167;01mValueError\u001b[39;00m(\n\u001b[0;32m   1216\u001b[0m         \u001b[38;5;124m\"\u001b[39m\u001b[38;5;124mAll arguments should have the same length. \u001b[39m\u001b[38;5;124m\"\u001b[39m\n\u001b[0;32m   1217\u001b[0m         \u001b[38;5;124m\"\u001b[39m\u001b[38;5;124mThe length of column argument `df[\u001b[39m\u001b[38;5;132;01m%s\u001b[39;00m\u001b[38;5;124m]` is \u001b[39m\u001b[38;5;132;01m%d\u001b[39;00m\u001b[38;5;124m, whereas the \u001b[39m\u001b[38;5;124m\"\u001b[39m\n\u001b[1;32m   (...)\u001b[0m\n\u001b[0;32m   1224\u001b[0m         )\n\u001b[0;32m   1225\u001b[0m     )\n",
      "\u001b[1;31mValueError\u001b[0m: Value of 'path_0' is not the name of a column in 'data_frame'. Expected one of ['groupName', 'userFullname', 'presencesCount'] but received: groupID"
     ]
    }
   ],
   "source": [
    "# JSON data\n",
    "with open('resultFake.json', 'r') as file:\n",
    "    data = json.load(file)\n",
    "\n",
    "# Převod dat do pandas DataFrame\n",
    "df = pd.DataFrame(data)\n",
    "\n",
    "# Agregace dat pro získání celkového počtu 'presencesCount' podle 'groupID' a 'userFullname'\n",
    "df_aggregated = df.groupby(['groupName', 'userFullname']).agg({'presencesCount': 'sum'}).reset_index()\n",
    "\n",
    "# Vytvoření sunburst grafu\n",
    "fig_sunburst = px.sunburst(\n",
    "    df_aggregated,\n",
    "    path=['groupName', 'userFullname', 'presencesCount'],\n",
    "    values='presencesCount', \n",
    "    title='Přehled přítomnosti podle skupin a uživatelů'\n",
    ")\n",
    "\n",
    "# Aktualizace layoutu grafu\n",
    "fig_sunburst.update_layout(\n",
    "    width=800,  \n",
    "    height=800 \n",
    ")\n",
    "\n",
    "fig_sunburst.show()"
   ]
  },
  {
   "cell_type": "code",
   "execution_count": null,
   "metadata": {},
   "outputs": [],
   "source": []
  }
 ],
 "metadata": {
  "kernelspec": {
   "display_name": "Python 3 (ipykernel)",
   "language": "python",
   "name": "python3"
  },
  "language_info": {
   "codemirror_mode": {
    "name": "ipython",
    "version": 3
   },
   "file_extension": ".py",
   "mimetype": "text/x-python",
   "name": "python",
   "nbconvert_exporter": "python",
   "pygments_lexer": "ipython3",
   "version": "3.12.2"
  }
 },
 "nbformat": 4,
 "nbformat_minor": 4
}
